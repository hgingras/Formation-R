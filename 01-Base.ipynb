{
 "cells": [
  {
   "cell_type": "markdown",
   "id": "485a5bbe-ac26-4bae-8c20-6e6d5f5c63ba",
   "metadata": {
    "editable": true,
    "slideshow": {
     "slide_type": ""
    },
    "tags": []
   },
   "source": [
    "# **Bases du langage R**\n",
    "## Objectifs\n",
    "- Expression en ligne de commande.\n",
    "- Affectation d'une valeur à une variable.\n",
    "- Convention pour les noms d'objets.\n",
    "- Types de données.\n",
    "- Structure de données.\n",
    "\n",
    "---\n",
    "Toute commande R est soit une **expression**, soit une **affectation**.\n",
    "\n",
    "**Une expression:**\n",
    "\n",
    "Normalement, une expression est immédiatement évaluée et le résultat est affiché à l’écran.\n",
    "\n",
    "\n",
    "On peut utiliser les opérateurs arithmétiques avec lesquels tout le monde est familier : `+`, `-`, `*` et `/` pour les quatre opérations de base. \n",
    "\n",
    "\n",
    "Il existe aussi `^` pour l’exponentiation, `%%` pour le reste et `%/%` pour la division entière."
   ]
  },
  {
   "cell_type": "code",
   "execution_count": null,
   "id": "b8357592-a6c5-4e4d-b4fc-778fb772e00e",
   "metadata": {
    "editable": true,
    "jp-MarkdownHeadingCollapsed": true,
    "slideshow": {
     "slide_type": ""
    },
    "tags": [
     "empty"
    ]
   },
   "outputs": [],
   "source": []
  },
  {
   "cell_type": "code",
   "execution_count": null,
   "id": "64f91228-f1b9-4a74-8df3-51d5042e797e",
   "metadata": {
    "editable": true,
    "slideshow": {
     "slide_type": ""
    },
    "tags": [
     "empty"
    ]
   },
   "outputs": [],
   "source": []
  },
  {
   "cell_type": "markdown",
   "id": "20da70a7-6a67-4373-ac5e-102234be84a6",
   "metadata": {
    "editable": true,
    "slideshow": {
     "slide_type": ""
    },
    "tags": []
   },
   "source": [
    "R peut reconnaitre certaines constantes intégrées. `pi`, `LETTERS`, `letters`, `month.abb`."
   ]
  },
  {
   "cell_type": "code",
   "execution_count": null,
   "id": "98f54171-42a5-4c63-96b9-2b08fe44c62e",
   "metadata": {
    "editable": true,
    "slideshow": {
     "slide_type": ""
    },
    "tags": [
     "empty"
    ]
   },
   "outputs": [],
   "source": []
  },
  {
   "cell_type": "markdown",
   "id": "6425437b-d74d-4f55-9c73-b56fcd07c693",
   "metadata": {
    "editable": true,
    "slideshow": {
     "slide_type": ""
    },
    "tags": []
   },
   "source": [
    "---\n",
    "\n",
    "**Une affectation:**\n",
    "Deux signes sont acceptés en R pour affecter une valeur à une variable : `=` et `<-`\n",
    "\n",
    "\n",
    "Lors d’une affectation, une expression est évaluée, le résultat est enregistré dans un objet (variable) `a = 5` et rien n’est affiché à l’écran. \n",
    "\n",
    "Pour afficher ce que contient la variable à l'écran on a simplement à écrire le nom de la variable avec la fonction `print()`."
   ]
  },
  {
   "cell_type": "code",
   "execution_count": null,
   "id": "5892cab5-fcac-4378-9c7a-fa0537a4de34",
   "metadata": {
    "editable": true,
    "slideshow": {
     "slide_type": ""
    },
    "tags": []
   },
   "outputs": [],
   "source": [
    "a = 5 + 2"
   ]
  },
  {
   "cell_type": "code",
   "execution_count": null,
   "id": "092c44b1-6a23-4c3c-b6a0-531951ae90c6",
   "metadata": {
    "editable": true,
    "slideshow": {
     "slide_type": ""
    },
    "tags": []
   },
   "outputs": [],
   "source": [
    "print(a)"
   ]
  },
  {
   "cell_type": "code",
   "execution_count": null,
   "id": "327c2bae-d988-4aee-a6a1-aca28491a622",
   "metadata": {
    "editable": true,
    "slideshow": {
     "slide_type": ""
    },
    "tags": [
     "empty"
    ]
   },
   "outputs": [],
   "source": []
  },
  {
   "cell_type": "code",
   "execution_count": null,
   "id": "5f0f1972-90c0-458c-be39-766fd75da3c7",
   "metadata": {
    "editable": true,
    "slideshow": {
     "slide_type": ""
    },
    "tags": [
     "empty"
    ]
   },
   "outputs": [],
   "source": []
  },
  {
   "cell_type": "markdown",
   "id": "4e71be15-5088-4fa7-a1a7-e559655049fb",
   "metadata": {
    "editable": true,
    "slideshow": {
     "slide_type": ""
    },
    "tags": []
   },
   "source": [
    "## Autres techniques pour afficher le résultat:\n",
    "1. On peut utiliser print(paste()) pour lier du texte et des variables.\n",
    "2. Pour afficher simultanément le résultat d'une affectation, on met le tout entre parenthèses.\n",
    "3. On peut aussi simplement écrire la variable.\n",
    "   \n",
    "Pour écrire un commentaire, on ajoute un #."
   ]
  },
  {
   "cell_type": "code",
   "execution_count": null,
   "id": "2b63ccff-8c94-4a6a-b435-ef4c22553750",
   "metadata": {
    "editable": true,
    "slideshow": {
     "slide_type": ""
    },
    "tags": []
   },
   "outputs": [],
   "source": [
    "print(paste(\"La valeur de a est:\", a)) # Exemple avec print(paste).\n",
    "(a = 2 + 3)\n",
    "a"
   ]
  },
  {
   "cell_type": "markdown",
   "id": "7877287b-742e-42dd-a1ab-f61d8ddce9a9",
   "metadata": {
    "editable": true,
    "slideshow": {
     "slide_type": ""
    },
    "tags": []
   },
   "source": [
    "---\n",
    "## Conventions pour les noms d’objets (variables).\n",
    "\n",
    "- On commence par une **lettre minuscule**.\n",
    "- On sépare les mots d'une variable avec un `_`.\n",
    "- On utilise seulement des lettres minuscules, le `_` et des chiffes.\n",
    "- Les noms d’objets ne peuvent commencer par un chiffre. \n",
    "- S’ils commencent par un point, le second caractère ne peut être un chiffre.\n",
    "\n",
    "Le R est sensible à la casse, ce qui signifie que `foo`, `Foo` et `FOO` sont trois objets distincts.\n",
    "\n",
    "\n",
    "Certains noms et mots sont utilisés par le système R, mais aussi vaut-il mieux éviter de les utiliser.\n",
    "\n",
    "\n",
    " `c`, `q`, `t`, `C`, `D`, `I`, `diff`, `length`, `mean`, `pi`, `range`, `var`, `break`, `else`, `for`, `function`, `if`, `in`, `next`, `repeat`, `return`, `while`, `TRUE`, `FALSE`, `Inf`, `NA`, `NaN`, `NULL`, `NA_integer_`, `NA_real_`, `NA_complex_`, `NA_character_`, `...`, `..1`, `..2`, etc."
   ]
  },
  {
   "cell_type": "code",
   "execution_count": null,
   "id": "04118e35-75c4-4772-8dfc-a4575de67873",
   "metadata": {
    "editable": true,
    "slideshow": {
     "slide_type": ""
    },
    "tags": []
   },
   "outputs": [],
   "source": [
    "weight0 = 0  # valide\n",
    "0weight = 1  # invalide"
   ]
  },
  {
   "cell_type": "markdown",
   "id": "fc5d59ca-42d5-46b3-afc2-bcd0214b1fc4",
   "metadata": {
    "editable": true,
    "slideshow": {
     "slide_type": ""
    },
    "tags": []
   },
   "source": [
    "---\n",
    "\n",
    "## **Exercice-1**: \n",
    "Affectez une opération numérique à une variable et l'afficher."
   ]
  },
  {
   "cell_type": "code",
   "execution_count": null,
   "id": "8470e8af-ec1f-4674-aac7-7e170b19c5c9",
   "metadata": {
    "editable": true,
    "slideshow": {
     "slide_type": ""
    },
    "tags": [
     "empty"
    ]
   },
   "outputs": [],
   "source": []
  },
  {
   "cell_type": "markdown",
   "id": "b14181f4-c762-4885-864a-2446e09a4b74",
   "metadata": {
    "editable": true,
    "slideshow": {
     "slide_type": ""
    },
    "tags": []
   },
   "source": [
    "---\n",
    "\n",
    "## **Exercice-2**: \n",
    "Après avoir exécuté les 4 lignes suivantes. Quelle valeur sera associée à `mass` et `âge`?"
   ]
  },
  {
   "cell_type": "code",
   "execution_count": null,
   "id": "6200ff12-d4a0-4a2a-ab29-8afa49f509c6",
   "metadata": {
    "editable": true,
    "slideshow": {
     "slide_type": ""
    },
    "tags": []
   },
   "outputs": [],
   "source": [
    "mass = 47.5\n",
    "age = 122\n",
    "mass = mass * 2.0\n",
    "age = age - 20"
   ]
  },
  {
   "cell_type": "markdown",
   "id": "a1287c06-120b-4fa2-acbd-9ddda85a5d18",
   "metadata": {
    "editable": true,
    "slideshow": {
     "slide_type": ""
    },
    "tags": []
   },
   "source": [
    "---\n",
    "## **Les types de données.**\n",
    "Tout dans le langage R est un objet.\n",
    "R a 6 types de base. (Le type raw ne sera pas couvert ici.)\n",
    "- *character*: \"a\", 'swc'\n",
    "- *numeric*: 2, 15.5\n",
    "- *integer*: 2L (Le L indique à R de sauvegarder à titre de nombre entier (*integer*))\n",
    "- *logical*: TRUE, FALSE (booléen)\n",
    "- *complex*: 1+4i "
   ]
  },
  {
   "cell_type": "code",
   "execution_count": null,
   "id": "de62f77e-8ea3-4323-8746-20516e97c3bf",
   "metadata": {
    "editable": true,
    "slideshow": {
     "slide_type": ""
    },
    "tags": [
     "empty"
    ]
   },
   "outputs": [],
   "source": []
  },
  {
   "cell_type": "code",
   "execution_count": null,
   "id": "9e73fd41-3a83-4478-aa36-b3b4a5e8e006",
   "metadata": {
    "editable": true,
    "slideshow": {
     "slide_type": ""
    },
    "tags": [
     "empty"
    ]
   },
   "outputs": [],
   "source": []
  },
  {
   "cell_type": "code",
   "execution_count": null,
   "id": "73d1fd05-c8b8-4518-8f78-23bdab1fad01",
   "metadata": {
    "editable": true,
    "slideshow": {
     "slide_type": ""
    },
    "tags": [
     "empty"
    ]
   },
   "outputs": [],
   "source": []
  },
  {
   "cell_type": "markdown",
   "id": "9beea79c-7bab-471d-b7b4-6310be71f356",
   "metadata": {
    "editable": true,
    "slideshow": {
     "slide_type": ""
    },
    "tags": []
   },
   "source": [
    "Le R possède plusieurs fonctions pour examiner les caractéristiques des vecteurs ou autres objets. \n",
    "\n",
    "- `class()` - quel est la classe de l'objet ?\n",
    "\n",
    "Catégorie de l'objet pour les fonctions génériques (ex. \"data.frame\", \"matrix\").\n",
    "  \n",
    "- `typeof()` - quel est le type interne de l'objet ?\n",
    "\n",
    "Structure interne de l'objet (ex. \"integer\", \"double\").\n",
    "\n",
    "- `length()` - quelle est la longueur?\n",
    "- `attributes()` - retourne la liste des attributs, NULL si aucun."
   ]
  },
  {
   "cell_type": "code",
   "execution_count": null,
   "id": "189c2d64-feb1-4673-b667-e3367421c6a3",
   "metadata": {
    "editable": true,
    "slideshow": {
     "slide_type": ""
    },
    "tags": [
     "empty"
    ]
   },
   "outputs": [],
   "source": []
  },
  {
   "cell_type": "markdown",
   "id": "aeac6172-93b2-449e-9aba-ee930f2dd211",
   "metadata": {
    "editable": true,
    "slideshow": {
     "slide_type": ""
    },
    "tags": []
   },
   "source": [
    "---\n",
    "\n",
    "## **Exercice-3:** \n",
    "Affichez le type de la variable x."
   ]
  },
  {
   "cell_type": "code",
   "execution_count": null,
   "id": "4e7a215b-82b9-4b22-9566-1d67c5597a39",
   "metadata": {
    "editable": true,
    "slideshow": {
     "slide_type": ""
    },
    "tags": [
     "empty"
    ]
   },
   "outputs": [],
   "source": []
  },
  {
   "cell_type": "markdown",
   "id": "c0446a8e-d52c-4226-b23a-2834e9226bc5",
   "metadata": {
    "editable": true,
    "slideshow": {
     "slide_type": ""
    },
    "tags": []
   },
   "source": [
    "---\n",
    "## **Les structures de données.**\n",
    "\n",
    "- *atomic vector* (vecteur)\n",
    "- *list* (vecteur)\n",
    "- *matrix*\n",
    "- *data frame*\n",
    "- *factors* (pour les valeurs catégorielles (masculin, féminin), (type sanguin))"
   ]
  },
  {
   "cell_type": "markdown",
   "id": "45fdab24-493f-4218-b70e-70a8f0ed2fe7",
   "metadata": {
    "editable": true,
    "slideshow": {
     "slide_type": ""
    },
    "tags": []
   },
   "source": [
    "## **Deux types de vecteurs**:\n",
    "1. **Vecteurs atomiques** (*character*, *logical*, *integer* ou *numeric*)."
   ]
  },
  {
   "cell_type": "markdown",
   "id": "679d7278-b7e7-485c-80ad-f529724c98fa",
   "metadata": {
    "editable": true,
    "slideshow": {
     "slide_type": ""
    },
    "tags": []
   },
   "source": [
    "On peut créer un vecteur en spécifiant directement son contenu.\n",
    "\n",
    "On utilise la fonction `c()` pour \"*combine*\" ou combiner."
   ]
  },
  {
   "cell_type": "code",
   "execution_count": null,
   "id": "de5671e3-217e-4970-8821-03b263b40999",
   "metadata": {
    "editable": true,
    "slideshow": {
     "slide_type": ""
    },
    "tags": []
   },
   "outputs": [],
   "source": [
    "nombres1 = c(0, 1, 2, 3)"
   ]
  },
  {
   "cell_type": "code",
   "execution_count": null,
   "id": "f6160c9b-cbbd-49a2-b110-3c342a747463",
   "metadata": {
    "editable": true,
    "slideshow": {
     "slide_type": ""
    },
    "tags": [
     "empty"
    ]
   },
   "outputs": [],
   "source": []
  },
  {
   "cell_type": "code",
   "execution_count": null,
   "id": "f786084e-40be-4c16-9754-84fa936ff8e0",
   "metadata": {
    "editable": true,
    "slideshow": {
     "slide_type": ""
    },
    "tags": [
     "empty"
    ]
   },
   "outputs": [],
   "source": []
  },
  {
   "cell_type": "markdown",
   "id": "f7ac2750-8a71-4fa2-860f-9b42c9bbbf71",
   "metadata": {
    "editable": true,
    "slideshow": {
     "slide_type": ""
    },
    "tags": []
   },
   "source": [
    "On peut utiliser la fonction `vector()`:"
   ]
  },
  {
   "cell_type": "code",
   "execution_count": null,
   "id": "991a8cfe-bc6a-465d-b827-98cb656a5ef2",
   "metadata": {
    "editable": true,
    "slideshow": {
     "slide_type": ""
    },
    "tags": []
   },
   "outputs": [],
   "source": [
    "vecteur = (vector(\"character\", length = 5))"
   ]
  },
  {
   "cell_type": "code",
   "execution_count": null,
   "id": "62a6bd1f-0deb-4e1f-82ab-4b77d4a70534",
   "metadata": {
    "editable": true,
    "slideshow": {
     "slide_type": ""
    },
    "tags": [
     "empty"
    ]
   },
   "outputs": [],
   "source": []
  },
  {
   "cell_type": "code",
   "execution_count": null,
   "id": "faaec733-a094-43d7-93eb-53b201c9929a",
   "metadata": {
    "editable": true,
    "slideshow": {
     "slide_type": ""
    },
    "tags": [
     "empty"
    ]
   },
   "outputs": [],
   "source": []
  },
  {
   "cell_type": "markdown",
   "id": "b8d9b900-4040-4188-a47e-40074a874ee4",
   "metadata": {
    "editable": true,
    "slideshow": {
     "slide_type": ""
    },
    "tags": []
   },
   "source": [
    "Créer vecteur numérique avec la fonction `numeric()`:"
   ]
  },
  {
   "cell_type": "code",
   "execution_count": null,
   "id": "0b3dd0a6-d2c2-4a59-936d-27bcf1376242",
   "metadata": {
    "editable": true,
    "slideshow": {
     "slide_type": ""
    },
    "tags": []
   },
   "outputs": [],
   "source": [
    "x = numeric(5) # Un vecteur numérique"
   ]
  },
  {
   "cell_type": "code",
   "execution_count": null,
   "id": "91199355-2634-4b6a-a239-a5bc5b96f122",
   "metadata": {
    "editable": true,
    "slideshow": {
     "slide_type": ""
    },
    "tags": [
     "empty"
    ]
   },
   "outputs": [],
   "source": []
  },
  {
   "cell_type": "code",
   "execution_count": null,
   "id": "9cc8aa18-546f-42fe-aa37-053ab78d10bd",
   "metadata": {
    "editable": true,
    "slideshow": {
     "slide_type": ""
    },
    "tags": [
     "empty"
    ]
   },
   "outputs": [],
   "source": []
  },
  {
   "cell_type": "markdown",
   "id": "3f765b5c-36c9-4af9-83c6-a04f8155b0a2",
   "metadata": {
    "editable": true,
    "slideshow": {
     "slide_type": ""
    },
    "tags": []
   },
   "source": [
    "On peut ajouter un élément à notre vecteur."
   ]
  },
  {
   "cell_type": "code",
   "execution_count": null,
   "id": "9c0ff833-4086-4b63-8fd0-3edd5d3d9f58",
   "metadata": {
    "editable": true,
    "slideshow": {
     "slide_type": ""
    },
    "tags": []
   },
   "outputs": [],
   "source": [
    "nombres1 = c(nombres1, 4)"
   ]
  },
  {
   "cell_type": "code",
   "execution_count": null,
   "id": "a4e5c6ba-14da-4390-8fd0-3ece2d3bc438",
   "metadata": {
    "editable": true,
    "slideshow": {
     "slide_type": ""
    },
    "tags": [
     "empty"
    ]
   },
   "outputs": [],
   "source": []
  },
  {
   "cell_type": "code",
   "execution_count": null,
   "id": "b18c4406-f498-487b-8367-9a84731debaf",
   "metadata": {
    "editable": true,
    "slideshow": {
     "slide_type": ""
    },
    "tags": []
   },
   "outputs": [],
   "source": [
    "nombres1 = append(nombres1, 5, after=3) # En R on commence à compter à partir de 1. "
   ]
  },
  {
   "cell_type": "code",
   "execution_count": null,
   "id": "1785d9fd-132b-48bb-add2-5c38ed90c581",
   "metadata": {
    "editable": true,
    "slideshow": {
     "slide_type": ""
    },
    "tags": [
     "empty"
    ]
   },
   "outputs": [],
   "source": []
  },
  {
   "cell_type": "markdown",
   "id": "efea264b-e709-46ce-893b-f8926203b23f",
   "metadata": {
    "editable": true,
    "slideshow": {
     "slide_type": ""
    },
    "tags": []
   },
   "source": [
    "On peut trouver le maximum, le minimum et la moyenne."
   ]
  },
  {
   "cell_type": "code",
   "execution_count": null,
   "id": "dd2ca7d9-23ae-498c-a7e8-bf3286d180af",
   "metadata": {
    "editable": true,
    "slideshow": {
     "slide_type": ""
    },
    "tags": [
     "empty"
    ]
   },
   "outputs": [],
   "source": []
  },
  {
   "cell_type": "markdown",
   "id": "60806930-8b67-41d3-89b6-fc015af62ecc",
   "metadata": {
    "editable": true,
    "slideshow": {
     "slide_type": ""
    },
    "tags": []
   },
   "source": [
    "On peut utiliser des opérations arithmétiques: doubler les valeurs, additionner, multiplier..."
   ]
  },
  {
   "cell_type": "code",
   "execution_count": null,
   "id": "afa908a6-c869-452c-b2d0-5d6da00e8974",
   "metadata": {
    "editable": true,
    "slideshow": {
     "slide_type": ""
    },
    "tags": [
     "empty"
    ]
   },
   "outputs": [],
   "source": []
  },
  {
   "cell_type": "markdown",
   "id": "8bcc8da0-57d4-4fa3-b8b2-981c25ee09cd",
   "metadata": {
    "editable": true,
    "slideshow": {
     "slide_type": ""
    },
    "tags": []
   },
   "source": [
    "On peut créer un vecteur avec des séquences de nombres:"
   ]
  },
  {
   "cell_type": "code",
   "execution_count": null,
   "id": "2b63507b-8acb-4655-b883-49c904f9b810",
   "metadata": {
    "editable": true,
    "slideshow": {
     "slide_type": ""
    },
    "tags": []
   },
   "outputs": [],
   "source": [
    "series = 1:10"
   ]
  },
  {
   "cell_type": "code",
   "execution_count": null,
   "id": "52b9c00b-f333-4308-a52e-881959aa8c56",
   "metadata": {
    "editable": true,
    "slideshow": {
     "slide_type": ""
    },
    "tags": [
     "empty"
    ]
   },
   "outputs": [],
   "source": []
  },
  {
   "cell_type": "code",
   "execution_count": null,
   "id": "9b7bd86c-217b-4f69-b413-ffc974888efe",
   "metadata": {
    "editable": true,
    "slideshow": {
     "slide_type": ""
    },
    "tags": [
     "empty"
    ]
   },
   "outputs": [],
   "source": []
  },
  {
   "cell_type": "code",
   "execution_count": null,
   "id": "fd8a67d7-4edc-4f8c-a5f0-8759f5a90fda",
   "metadata": {
    "editable": true,
    "slideshow": {
     "slide_type": ""
    },
    "tags": [
     "empty"
    ]
   },
   "outputs": [],
   "source": []
  },
  {
   "cell_type": "markdown",
   "id": "895e5054-10ae-479b-989b-bfb25a796b5d",
   "metadata": {
    "editable": true,
    "slideshow": {
     "slide_type": ""
    },
    "tags": []
   },
   "source": [
    "On peut vérifier si on a un vecteur avec la fonction `is.vector()`:"
   ]
  },
  {
   "cell_type": "code",
   "execution_count": null,
   "id": "3c2e5d46-6c86-4d3d-8860-e9bdfadf12e9",
   "metadata": {
    "editable": true,
    "slideshow": {
     "slide_type": ""
    },
    "tags": []
   },
   "outputs": [],
   "source": [
    "print(is.vector(series))"
   ]
  },
  {
   "cell_type": "markdown",
   "id": "22241fed-4d49-4e59-8757-fdcc562ec363",
   "metadata": {
    "editable": true,
    "slideshow": {
     "slide_type": ""
    },
    "tags": []
   },
   "source": [
    "Autre façon de créer un vecteur avec un séquence, la fonction `seq()`:"
   ]
  },
  {
   "cell_type": "code",
   "execution_count": null,
   "id": "bcc53c6f-0966-4f76-a956-030375bdc20a",
   "metadata": {
    "editable": true,
    "slideshow": {
     "slide_type": ""
    },
    "tags": []
   },
   "outputs": [],
   "source": [
    "sequence = seq(10)"
   ]
  },
  {
   "cell_type": "code",
   "execution_count": null,
   "id": "29ae1da1-0c72-4a21-951f-cb0177dbf5e9",
   "metadata": {
    "editable": true,
    "slideshow": {
     "slide_type": ""
    },
    "tags": [
     "empty"
    ]
   },
   "outputs": [],
   "source": []
  },
  {
   "cell_type": "markdown",
   "id": "aa0456b8-8a37-4787-8620-ff88f8e13337",
   "metadata": {
    "editable": true,
    "slideshow": {
     "slide_type": ""
    },
    "tags": []
   },
   "source": [
    "On peut aussi demander une séquence avec des bons:"
   ]
  },
  {
   "cell_type": "code",
   "execution_count": null,
   "id": "aef3690d-4b80-47af-9f25-5a326368b0ed",
   "metadata": {
    "editable": true,
    "slideshow": {
     "slide_type": ""
    },
    "tags": []
   },
   "outputs": [],
   "source": [
    "sequence2 = seq(1, 10, by = 0.1)"
   ]
  },
  {
   "cell_type": "code",
   "execution_count": null,
   "id": "c034eeb0-8733-4982-ae06-55c78274e0be",
   "metadata": {
    "editable": true,
    "slideshow": {
     "slide_type": ""
    },
    "tags": [
     "empty"
    ]
   },
   "outputs": [],
   "source": []
  },
  {
   "cell_type": "markdown",
   "id": "d595a2c0-50f9-4076-b922-b25ec274391b",
   "metadata": {
    "editable": true,
    "raw_mimetype": "",
    "slideshow": {
     "slide_type": ""
    },
    "tags": []
   },
   "source": [
    "---\n",
    "\n",
    "## **Exercice-4:**  \n",
    "Créez un vecteur avec des données entre 0 et 100 avec un bon de 0.5."
   ]
  },
  {
   "cell_type": "code",
   "execution_count": null,
   "id": "f110e833-f545-48c9-b621-e04026919fd7",
   "metadata": {
    "editable": true,
    "slideshow": {
     "slide_type": ""
    },
    "tags": [
     "empty"
    ]
   },
   "outputs": [],
   "source": []
  },
  {
   "cell_type": "markdown",
   "id": "e92bbfff-05dd-4810-8c62-848c80b81a52",
   "metadata": {
    "editable": true,
    "slideshow": {
     "slide_type": ""
    },
    "tags": []
   },
   "source": [
    "---\n",
    "2. **Les listes**"
   ]
  },
  {
   "cell_type": "markdown",
   "id": "c61a7d1d-1237-45af-8995-a8231b87cf2a",
   "metadata": {
    "editable": true,
    "slideshow": {
     "slide_type": ""
    },
    "tags": []
   },
   "source": [
    "Contrairement aux vecteurs atomiques, les listes ne sont pas restreintes à un seul mode."
   ]
  },
  {
   "cell_type": "code",
   "execution_count": null,
   "id": "67a0e422-d06a-4664-8e5b-6e7266804c12",
   "metadata": {
    "editable": true,
    "slideshow": {
     "slide_type": ""
    },
    "tags": []
   },
   "outputs": [],
   "source": [
    "liste1 = list(1, \"a\", TRUE, 1+4i)"
   ]
  },
  {
   "cell_type": "code",
   "execution_count": null,
   "id": "d040daff-167f-456c-bac5-f836b5b1f520",
   "metadata": {
    "editable": true,
    "slideshow": {
     "slide_type": ""
    },
    "tags": [
     "empty"
    ]
   },
   "outputs": [],
   "source": []
  },
  {
   "cell_type": "markdown",
   "id": "d77afb70-d9f8-4565-bf8d-8fae9ae8d69a",
   "metadata": {
    "editable": true,
    "slideshow": {
     "slide_type": ""
    },
    "tags": []
   },
   "source": [
    "On peut créer une liste vide avec la fonction `vector()`."
   ]
  },
  {
   "cell_type": "code",
   "execution_count": null,
   "id": "db92a8b2-550c-46fe-98a6-fbe56ded0139",
   "metadata": {
    "editable": true,
    "slideshow": {
     "slide_type": ""
    },
    "tags": []
   },
   "outputs": [],
   "source": [
    "liste2 = vector(\"list\", length = 5) # La liste sera vide."
   ]
  },
  {
   "cell_type": "code",
   "execution_count": null,
   "id": "10dd5d72-9345-479c-b6a6-04e630e4c6b9",
   "metadata": {
    "editable": true,
    "slideshow": {
     "slide_type": ""
    },
    "tags": [
     "empty"
    ]
   },
   "outputs": [],
   "source": []
  },
  {
   "cell_type": "markdown",
   "id": "0a9c6109-a84b-4aea-b739-e6421aaa483c",
   "metadata": {
    "editable": true,
    "slideshow": {
     "slide_type": ""
    },
    "tags": []
   },
   "source": [
    "On peut aller chercher le contenu d'un élément de la liste."
   ]
  },
  {
   "cell_type": "code",
   "execution_count": null,
   "id": "b2a32d2a-bce8-4f01-8533-c3118731c794",
   "metadata": {
    "editable": true,
    "slideshow": {
     "slide_type": ""
    },
    "tags": [
     "empty"
    ]
   },
   "outputs": [],
   "source": []
  },
  {
   "cell_type": "code",
   "execution_count": null,
   "id": "435d7949-eb18-4ae3-8480-dafca2b05b16",
   "metadata": {
    "editable": true,
    "slideshow": {
     "slide_type": ""
    },
    "tags": [
     "empty"
    ]
   },
   "outputs": [],
   "source": []
  },
  {
   "cell_type": "markdown",
   "id": "0ee82f65-0a2b-49c4-9c2a-d61cce57001b",
   "metadata": {
    "editable": true,
    "slideshow": {
     "slide_type": ""
    },
    "tags": []
   },
   "source": [
    "Je peux accéder à un ou plusieurs éléments avec un index:"
   ]
  },
  {
   "cell_type": "code",
   "execution_count": null,
   "id": "fc65a9c0-901c-4dda-acdb-d5802a1e5845",
   "metadata": {
    "editable": true,
    "slideshow": {
     "slide_type": ""
    },
    "tags": []
   },
   "outputs": [],
   "source": [
    "print(liste1[c(1,2)])"
   ]
  },
  {
   "cell_type": "markdown",
   "id": "7a8b73f4-4fa2-41fc-b7e8-0a279bada65c",
   "metadata": {
    "editable": true,
    "slideshow": {
     "slide_type": ""
    },
    "tags": []
   },
   "source": [
    "---\n",
    "\n",
    "## **Exercice-5:** \n",
    "Créez une liste avec 3 types de données: un intervalle, un character et un booléen.\n",
    "\n",
    "Imprimez l'index de la postition 3."
   ]
  },
  {
   "cell_type": "code",
   "execution_count": null,
   "id": "55495a3b-8b1d-42eb-8fad-93be215f8337",
   "metadata": {
    "editable": true,
    "slideshow": {
     "slide_type": ""
    },
    "tags": [
     "empty"
    ]
   },
   "outputs": [],
   "source": []
  },
  {
   "cell_type": "markdown",
   "id": "74064cf3-cf91-4d1a-be85-1c1deee66440",
   "metadata": {
    "editable": true,
    "slideshow": {
     "slide_type": ""
    },
    "tags": []
   },
   "source": [
    "---\n",
    "## **La matrice**\n",
    "Le R étant un langage spécialisé pour les calculs mathématiques, il supporte tout naturellement et de manière intuitive les matrices et, plus généralement, les tableaux à plusieurs dimensions.\n",
    "\n",
    "C'est simplement un vecteur atomic avec dimensions (rangées et colonnes).\n",
    "\n",
    "Les éléments doivent être de même type.\n",
    "\n",
    "Ces objets sont donc stockés, et peuvent être manipulés, exactement comme des vecteurs simples."
   ]
  },
  {
   "cell_type": "code",
   "execution_count": null,
   "id": "d147833a-13f5-4b8f-8fb0-57f26a39ec52",
   "metadata": {
    "editable": true,
    "slideshow": {
     "slide_type": ""
    },
    "tags": []
   },
   "outputs": [],
   "source": [
    "v = 1:10\n",
    "\n",
    "print(v)\n",
    "print(class(v))"
   ]
  },
  {
   "cell_type": "code",
   "execution_count": null,
   "id": "babeb528-f9fa-4d6d-a807-c27e1d2026a0",
   "metadata": {
    "editable": true,
    "slideshow": {
     "slide_type": ""
    },
    "tags": []
   },
   "outputs": [],
   "source": [
    "dim(v) = c(2, 5) # On prend le vecteur v, on distribue les valeurs en 2 rangées, 5 colonnes.\n",
    "\n",
    "print(v)"
   ]
  },
  {
   "cell_type": "code",
   "execution_count": null,
   "id": "093ebf39-e468-4673-bb72-81588d79d162",
   "metadata": {
    "editable": true,
    "slideshow": {
     "slide_type": ""
    },
    "tags": [
     "empty"
    ]
   },
   "outputs": [],
   "source": []
  },
  {
   "cell_type": "code",
   "execution_count": null,
   "id": "221df5d4-c170-47aa-88c8-4d7cc2b7d912",
   "metadata": {
    "editable": true,
    "slideshow": {
     "slide_type": ""
    },
    "tags": [
     "empty"
    ]
   },
   "outputs": [],
   "source": []
  },
  {
   "cell_type": "code",
   "execution_count": null,
   "id": "e3a1af47-a777-4ad3-a88e-8a7b3769e343",
   "metadata": {
    "editable": true,
    "slideshow": {
     "slide_type": ""
    },
    "tags": []
   },
   "outputs": [],
   "source": [
    "n = matrix(c(1:4),2,2) # deux dimensions avec un intervalle 1 à 4.\n",
    "print(class(n))\n",
    "print(n)"
   ]
  },
  {
   "cell_type": "code",
   "execution_count": null,
   "id": "2055120c-4aa3-4569-aee6-1f47924e52b2",
   "metadata": {
    "editable": true,
    "slideshow": {
     "slide_type": ""
    },
    "tags": [
     "empty"
    ]
   },
   "outputs": [],
   "source": []
  },
  {
   "cell_type": "markdown",
   "id": "5781ed79-fc9a-4023-beef-6246194e24da",
   "metadata": {
    "editable": true,
    "slideshow": {
     "slide_type": ""
    },
    "tags": []
   },
   "source": [
    "On peut aller chercher un élément de la matrice: nom[rangée, colonne]"
   ]
  },
  {
   "cell_type": "code",
   "execution_count": null,
   "id": "3d9c3db9-09e4-4353-a397-4a9dabab7fa2",
   "metadata": {
    "editable": true,
    "slideshow": {
     "slide_type": ""
    },
    "tags": [
     "empty"
    ]
   },
   "outputs": [],
   "source": []
  },
  {
   "cell_type": "markdown",
   "id": "8891040a-1bf6-4ad9-afad-ad5cfb0eba3c",
   "metadata": {
    "editable": true,
    "slideshow": {
     "slide_type": ""
    },
    "tags": []
   },
   "source": [
    "Une matrice de plus de 2 dimensions est appelée tableau (*array*)."
   ]
  },
  {
   "cell_type": "code",
   "execution_count": null,
   "id": "acbbd6b1-3386-4986-a7d7-b0412326431c",
   "metadata": {
    "editable": true,
    "slideshow": {
     "slide_type": ""
    },
    "tags": []
   },
   "outputs": [],
   "source": [
    "vector1 = c(5, 9, 3, 4)\n",
    "vector2 = c(10, 11, 12, 13, 14, 15)\n",
    "resultat = array(c(vector1, vector2), dim = c(2, 3, 4)) # rangée, colonne, dimension\n",
    "print(resultat)"
   ]
  },
  {
   "cell_type": "markdown",
   "id": "84d53d92-74ea-4f81-8534-2f6c9a0a7dad",
   "metadata": {
    "editable": true,
    "slideshow": {
     "slide_type": ""
    },
    "tags": []
   },
   "source": [
    "On peut aller chercher un élément dans un tableau.\n",
    "\n",
    "nom[rangée, colonne, dimension]"
   ]
  },
  {
   "cell_type": "code",
   "execution_count": null,
   "id": "c8e60bb6-be11-4efa-9c1b-bd846f9def17",
   "metadata": {
    "editable": true,
    "slideshow": {
     "slide_type": ""
    },
    "tags": [
     "empty"
    ]
   },
   "outputs": [],
   "source": []
  },
  {
   "cell_type": "markdown",
   "id": "7e019803-78ba-4055-b964-3517e2280fe5",
   "metadata": {
    "editable": true,
    "slideshow": {
     "slide_type": ""
    },
    "tags": []
   },
   "source": [
    "---\n",
    "\n",
    "## **Exercice-6:** \n",
    "Que doit-on modifier pour avoir une matrice en trois dimensions?"
   ]
  },
  {
   "cell_type": "code",
   "execution_count": null,
   "id": "e267792b-9c4f-43f7-87f8-f48d9a2c6c05",
   "metadata": {
    "editable": true,
    "slideshow": {
     "slide_type": ""
    },
    "tags": []
   },
   "outputs": [],
   "source": [
    "vector1 = c(5, 9, 3, 4)\n",
    "vector2 = c(10, 11, 12, 13, 14, 15)\n",
    "resultat = array(c(vector1, vector2), dim = c(3, 3, 2))\n",
    "print(resultat)"
   ]
  },
  {
   "cell_type": "markdown",
   "id": "67be94d3-e557-480f-9166-4576a2c1fa9c",
   "metadata": {
    "editable": true,
    "slideshow": {
     "slide_type": ""
    },
    "tags": []
   },
   "source": [
    "---\n",
    "## ***Data frame***\n",
    "Le *data frame* est une importante structure de donnée pour le R.\n",
    "\n",
    "C'est le type de structure pour la plupart des données tabulées utilisées en statistique.\n",
    "\n",
    "On peut créer un *data frame* avec les fonctions `read.csv()` ou `read.table()` quand on importe des données.\n",
    "\n",
    "On peur créer un *data frame* avec la fonction `data.frame()`."
   ]
  },
  {
   "cell_type": "code",
   "execution_count": null,
   "id": "b1c88c5c-0f32-49de-9322-dacd45f35f75",
   "metadata": {
    "editable": true,
    "slideshow": {
     "slide_type": ""
    },
    "tags": []
   },
   "outputs": [],
   "source": [
    "dat = data.frame(id = letters[1:10], x = 1:10, y = 11:20) # letters => constante vue plus haut.\n",
    "print(dat)"
   ]
  },
  {
   "cell_type": "markdown",
   "id": "3a22bd16-d325-489e-b058-96418baaf808",
   "metadata": {
    "editable": true,
    "slideshow": {
     "slide_type": ""
    },
    "tags": []
   },
   "source": [
    "### Fonctions utiles pour le *data frame*.\n",
    "- `head()` - Retourne les 6 premières rangées.\n",
    "- `tail()` - Retourne les 6 dernières rangées.\n",
    "- `dim()` - Retourne les dimensions du *data frame* (le nombre de rangées et de colonnes).\n",
    "- `nrow()` - Retourne le nombre de rangées.\n",
    "- `ncol()` - Retourne le nombre de colonnes.\n",
    "- `str()` - Retourne le nom et type de donnée avec un résumé de chaque colonne.\n",
    "- `summary()` - Résume avec mean, max, median sur les colonnes.\n",
    "- `names()` or `colnames()` - Retourne les noms des attributs pour le *data frame*.\n",
    "- `sapply(dataframe, class)` - Retourne la classe de chaque colonne dans le *data frame*."
   ]
  },
  {
   "cell_type": "code",
   "execution_count": null,
   "id": "c92d8a6c-ba6f-4239-bed0-c16d5f36bbf5",
   "metadata": {
    "editable": true,
    "slideshow": {
     "slide_type": ""
    },
    "tags": [
     "empty"
    ]
   },
   "outputs": [],
   "source": []
  },
  {
   "cell_type": "code",
   "execution_count": null,
   "id": "88f94249-ae4f-46b5-946d-904b33eeedb4",
   "metadata": {
    "editable": true,
    "slideshow": {
     "slide_type": ""
    },
    "tags": [
     "empty"
    ]
   },
   "outputs": [],
   "source": []
  },
  {
   "cell_type": "code",
   "execution_count": null,
   "id": "d5b38b20-e0b2-4bae-932a-5143ca91371e",
   "metadata": {
    "editable": true,
    "slideshow": {
     "slide_type": ""
    },
    "tags": [
     "empty"
    ]
   },
   "outputs": [],
   "source": []
  },
  {
   "cell_type": "markdown",
   "id": "36813a71-500e-416a-9a09-decd0298a46f",
   "metadata": {
    "editable": true,
    "slideshow": {
     "slide_type": ""
    },
    "tags": []
   },
   "source": [
    "---\n",
    "\n",
    "## **Exercice-7:** \n",
    "Construire un *data frame* de 2 colonnes."
   ]
  },
  {
   "cell_type": "code",
   "execution_count": null,
   "id": "5974c067-2b55-4f1a-b65c-19ca9a3a4806",
   "metadata": {
    "editable": true,
    "slideshow": {
     "slide_type": ""
    },
    "tags": [
     "empty"
    ]
   },
   "outputs": [],
   "source": []
  },
  {
   "cell_type": "markdown",
   "id": "71d82e1d-1580-4ddc-adc3-9b26654aef58",
   "metadata": {
    "editable": true,
    "slideshow": {
     "slide_type": ""
    },
    "tags": []
   },
   "source": [
    "---\n",
    "## En Résumé :\n",
    "\n",
    "- Expression en ligne de commande.\n",
    "- Affectation d'une valeur à une variable.\n",
    "- Convention pour les noms d'objets.\n",
    "  \n",
    "Les types de données de base sont:\n",
    "- *character*, *numeric*, *integer*, *logical*, *complex*\n",
    "\n",
    "Les structures de donnée sont:\n",
    "\n",
    "\n",
    "| Dimensions  | Homogène  |  Hétérogène |   \n",
    "|---|---|---|\n",
    "| 1-D\t|  atomic vector | list  |     \n",
    "|  2-D\t | matrix  | data frame |\n",
    "\n",
    " Les objets ont des attributs:\n",
    "-  *name*, *dimension*, *class*"
   ]
  },
  {
   "cell_type": "markdown",
   "id": "c2bda4ce-6078-463e-9622-71d392e7ab83",
   "metadata": {
    "editable": true,
    "slideshow": {
     "slide_type": ""
    },
    "tags": []
   },
   "source": [
    "Fonctions pour aller chercher de l'information sur les vecteurs ou objets: \n",
    "\n",
    "-  `class()` , `typeof()`, `length()`, `attributes()`.\n",
    "\n",
    "---"
   ]
  },
  {
   "cell_type": "markdown",
   "id": "398249bd-7e63-486e-aa0c-542b6f6ea889",
   "metadata": {},
   "source": [
    "## **Exercices supplémentaires :**\n",
    "\n",
    "**Les expressions.**\n",
    "\n",
    "Entrez 3 différentes expressions en utilisant l’exponentiation, le reste et la division entière."
   ]
  },
  {
   "cell_type": "code",
   "execution_count": null,
   "id": "5b604b6f-5d56-49df-9706-ef9c4a04318c",
   "metadata": {
    "editable": true,
    "slideshow": {
     "slide_type": ""
    },
    "tags": [
     "empty"
    ]
   },
   "outputs": [],
   "source": []
  },
  {
   "cell_type": "code",
   "execution_count": null,
   "id": "138644d1-8f29-436d-8042-32929345da7e",
   "metadata": {
    "editable": true,
    "slideshow": {
     "slide_type": ""
    },
    "tags": [
     "empty"
    ]
   },
   "outputs": [],
   "source": []
  },
  {
   "cell_type": "code",
   "execution_count": null,
   "id": "ebb66f02-4e98-4ed7-aa82-8bc981db688e",
   "metadata": {
    "editable": true,
    "slideshow": {
     "slide_type": ""
    },
    "tags": [
     "empty"
    ]
   },
   "outputs": [],
   "source": []
  },
  {
   "cell_type": "markdown",
   "id": "05e8b133-27c5-44d3-8048-706813863343",
   "metadata": {},
   "source": [
    "**Les affectations.**\n",
    "\n",
    "Entrez 3 différentes affectations avec des expressions différentes et afficher le résultat avec les 3 façons que nous avons vu."
   ]
  },
  {
   "cell_type": "code",
   "execution_count": null,
   "id": "ec5c2adb-728e-419e-bcf2-fa9e3ccf9b58",
   "metadata": {
    "editable": true,
    "slideshow": {
     "slide_type": ""
    },
    "tags": [
     "empty"
    ]
   },
   "outputs": [],
   "source": []
  },
  {
   "cell_type": "code",
   "execution_count": null,
   "id": "aa68d676-1e48-4d8b-a5fc-142e456250fb",
   "metadata": {
    "editable": true,
    "slideshow": {
     "slide_type": ""
    },
    "tags": [
     "empty"
    ]
   },
   "outputs": [],
   "source": []
  },
  {
   "cell_type": "code",
   "execution_count": null,
   "id": "c467f448-c18b-43ea-9a08-3cf43bbb4477",
   "metadata": {
    "editable": true,
    "slideshow": {
     "slide_type": ""
    },
    "tags": [
     "empty"
    ]
   },
   "outputs": [],
   "source": []
  },
  {
   "cell_type": "code",
   "execution_count": null,
   "id": "f5409812-4d9c-4ac9-8a66-f7f436883e5a",
   "metadata": {
    "editable": true,
    "slideshow": {
     "slide_type": ""
    },
    "tags": [
     "empty"
    ]
   },
   "outputs": [],
   "source": []
  },
  {
   "cell_type": "code",
   "execution_count": null,
   "id": "99cafad0-89f4-4bcf-aa40-8d48e8e5d5f8",
   "metadata": {
    "editable": true,
    "slideshow": {
     "slide_type": ""
    },
    "tags": [
     "empty"
    ]
   },
   "outputs": [],
   "source": []
  },
  {
   "cell_type": "code",
   "execution_count": null,
   "id": "c3304c74-8335-44c6-b77a-6cac9ad301cd",
   "metadata": {
    "editable": true,
    "slideshow": {
     "slide_type": ""
    },
    "tags": [
     "empty"
    ]
   },
   "outputs": [],
   "source": []
  },
  {
   "cell_type": "markdown",
   "id": "d4caeb03-3611-40e8-aa21-87981ae553c2",
   "metadata": {},
   "source": [
    "**Type de données**\n",
    "\n",
    "Entrez 5 affectations avec les types de données suivant:\n",
    "\n",
    "- *character*\n",
    "- *numeric*\n",
    "- *integer*\n",
    "- *logical*\n",
    "- *complex*"
   ]
  },
  {
   "cell_type": "code",
   "execution_count": null,
   "id": "72602205-df90-49d6-a85f-c4837f9bab7e",
   "metadata": {
    "editable": true,
    "slideshow": {
     "slide_type": ""
    },
    "tags": [
     "empty"
    ]
   },
   "outputs": [],
   "source": []
  },
  {
   "cell_type": "code",
   "execution_count": null,
   "id": "3dd7e848-502b-443f-bf81-dc0590d1324a",
   "metadata": {
    "editable": true,
    "slideshow": {
     "slide_type": ""
    },
    "tags": [
     "empty"
    ]
   },
   "outputs": [],
   "source": []
  },
  {
   "cell_type": "code",
   "execution_count": null,
   "id": "ba768e5a-5c54-43d3-85c9-bd3cdca8f2e7",
   "metadata": {
    "editable": true,
    "slideshow": {
     "slide_type": ""
    },
    "tags": [
     "empty"
    ]
   },
   "outputs": [],
   "source": []
  },
  {
   "cell_type": "code",
   "execution_count": null,
   "id": "6f892de9-d3b1-41cf-a4b5-3a4613471f80",
   "metadata": {
    "editable": true,
    "slideshow": {
     "slide_type": ""
    },
    "tags": [
     "empty"
    ]
   },
   "outputs": [],
   "source": []
  },
  {
   "cell_type": "code",
   "execution_count": null,
   "id": "d4437cd4-6c00-4cdc-a18e-f22166de2925",
   "metadata": {
    "editable": true,
    "slideshow": {
     "slide_type": ""
    },
    "tags": [
     "empty"
    ]
   },
   "outputs": [],
   "source": []
  },
  {
   "cell_type": "markdown",
   "id": "cfd56a33-0d86-4b8e-a01e-2303dcba5a47",
   "metadata": {},
   "source": [
    "**Vecteur numérique**\n",
    "\n",
    "Créez un vecteur contenant les nombres de 1 à 10.\n",
    "\n",
    "Calculez la somme de tous les éléments du vecteur."
   ]
  },
  {
   "cell_type": "code",
   "execution_count": null,
   "id": "27030889-d491-49fc-a165-db074f03775f",
   "metadata": {
    "editable": true,
    "slideshow": {
     "slide_type": ""
    },
    "tags": [
     "empty"
    ]
   },
   "outputs": [],
   "source": []
  },
  {
   "cell_type": "markdown",
   "id": "69c9ac33-08f2-4dcc-ae5d-48d78c6d5141",
   "metadata": {},
   "source": [
    "**Vecteur de caractères**\n",
    "\n",
    "Créez un vecteur contenant les noms de cinq fruits.\n",
    "\n",
    "Affichez le troisième fruit du vecteur."
   ]
  },
  {
   "cell_type": "code",
   "execution_count": null,
   "id": "171efc8b-4043-409d-8bc0-d5e03a53c4bd",
   "metadata": {
    "editable": true,
    "slideshow": {
     "slide_type": ""
    },
    "tags": [
     "empty"
    ]
   },
   "outputs": [],
   "source": []
  },
  {
   "cell_type": "markdown",
   "id": "44db0f71-daa5-497b-9863-6874a484c1eb",
   "metadata": {},
   "source": [
    "Ajoutez un fruit après la position 4."
   ]
  },
  {
   "cell_type": "code",
   "execution_count": null,
   "id": "2988a0ce-4172-4f9b-9dfe-a16fb88e24aa",
   "metadata": {
    "editable": true,
    "slideshow": {
     "slide_type": ""
    },
    "tags": [
     "empty"
    ]
   },
   "outputs": [],
   "source": []
  },
  {
   "cell_type": "markdown",
   "id": "de06abba-b79d-4613-97c2-338d9cfb06ea",
   "metadata": {},
   "source": [
    "**Les listes**\n",
    "\n",
    "Création d'une liste simple :\n",
    "\n",
    "Créez une liste contenant un vecteur numérique, un vecteur de caractères et un vecteur logique.\n",
    "\n",
    "Affichez la liste. Affichez chaque élément de la liste."
   ]
  },
  {
   "cell_type": "code",
   "execution_count": null,
   "id": "287a876e-5bef-49e0-83ea-b3469034dc97",
   "metadata": {
    "editable": true,
    "slideshow": {
     "slide_type": ""
    },
    "tags": [
     "empty"
    ]
   },
   "outputs": [],
   "source": []
  },
  {
   "cell_type": "code",
   "execution_count": null,
   "id": "68a9eb29-a6cc-4e8e-a9e7-209562544d90",
   "metadata": {
    "editable": true,
    "slideshow": {
     "slide_type": ""
    },
    "tags": [
     "empty"
    ]
   },
   "outputs": [],
   "source": []
  },
  {
   "cell_type": "code",
   "execution_count": null,
   "id": "fcfa5a7a-b37a-435a-beb6-e9a3d7aadc95",
   "metadata": {
    "editable": true,
    "slideshow": {
     "slide_type": ""
    },
    "tags": [
     "empty"
    ]
   },
   "outputs": [],
   "source": []
  },
  {
   "cell_type": "markdown",
   "id": "b745f2d8-e14d-440e-8305-f1ab9b673a75",
   "metadata": {},
   "source": [
    "Modification d'un élément d'une liste :\n",
    "\n",
    "Créez une liste contenant un vecteur numérique et un vecteur de caractères.\n",
    "\n",
    "Modifiez le premier élément du vecteur numérique.\n",
    "\n",
    "Affichez la liste."
   ]
  },
  {
   "cell_type": "code",
   "execution_count": null,
   "id": "1f176e49-57ec-4622-b2fb-1768da80af93",
   "metadata": {
    "editable": true,
    "slideshow": {
     "slide_type": ""
    },
    "tags": [
     "empty"
    ]
   },
   "outputs": [],
   "source": []
  },
  {
   "cell_type": "code",
   "execution_count": null,
   "id": "59920006-040f-4b4e-b234-ec205f7e78fa",
   "metadata": {
    "editable": true,
    "slideshow": {
     "slide_type": ""
    },
    "tags": [
     "empty"
    ]
   },
   "outputs": [],
   "source": []
  },
  {
   "cell_type": "code",
   "execution_count": null,
   "id": "fbbe22ab-1ccd-4c6c-bd9b-10fe866f6cca",
   "metadata": {
    "editable": true,
    "slideshow": {
     "slide_type": ""
    },
    "tags": [
     "empty"
    ]
   },
   "outputs": [],
   "source": []
  },
  {
   "cell_type": "markdown",
   "id": "4876fa41-9c18-4729-b5f9-6622cccaf3ef",
   "metadata": {},
   "source": [
    "**Les matrices**\n",
    "\n",
    "Création et affichage d'une matrice :\n",
    "\n",
    "Créez une matrice 3x3 contenant les nombres de 1 à 9.\n",
    "\n",
    "Affichez la matrice."
   ]
  },
  {
   "cell_type": "code",
   "execution_count": null,
   "id": "79aa083f-08ee-476f-96d8-c68b19455bea",
   "metadata": {
    "editable": true,
    "slideshow": {
     "slide_type": ""
    },
    "tags": [
     "empty"
    ]
   },
   "outputs": [],
   "source": []
  },
  {
   "cell_type": "markdown",
   "id": "d55790cb-c395-4dc7-8796-2571f4e468d9",
   "metadata": {},
   "source": [
    "Accès aux éléments d'une matrice :\n",
    "\n",
    "Créez une matrice 2x4 contenant les nombres de 1 à 8.\n",
    "\n",
    "Affichez l'élément de la deuxième ligne et troisième colonne."
   ]
  },
  {
   "cell_type": "code",
   "execution_count": null,
   "id": "47fb538d-eb47-4ddb-acf7-d395e975423f",
   "metadata": {
    "editable": true,
    "slideshow": {
     "slide_type": ""
    },
    "tags": [
     "empty"
    ]
   },
   "outputs": [],
   "source": []
  },
  {
   "cell_type": "markdown",
   "id": "b4fd181e-cb90-4bcb-bcaa-c1b034bcfeaa",
   "metadata": {},
   "source": [
    "**Les tableaux (array)**\n",
    "\n",
    "Créez un tableau 3x3x2 contenant les nombres de 1 à 18.\n",
    "\n",
    "Affichez le tableau."
   ]
  },
  {
   "cell_type": "code",
   "execution_count": null,
   "id": "1852edb4-c41f-4583-b1aa-8d178c43137a",
   "metadata": {
    "editable": true,
    "slideshow": {
     "slide_type": ""
    },
    "tags": [
     "empty"
    ]
   },
   "outputs": [],
   "source": []
  },
  {
   "cell_type": "markdown",
   "id": "4b9bd5c6-5fe6-4cc6-936e-cd52301e283b",
   "metadata": {},
   "source": [
    "Accès aux éléments d'un tableau :\n",
    "\n",
    "Utilisez le tableau créé dans l'exercice précédant.\n",
    "\n",
    "Affichez l'élément de la première ligne, deuxième colonne, et première couche.\n",
    "\n",
    "Affichez la deuxième couche entière du tableau."
   ]
  },
  {
   "cell_type": "code",
   "execution_count": null,
   "id": "48b6041d-879a-48eb-9347-4a7d98990ebd",
   "metadata": {
    "editable": true,
    "slideshow": {
     "slide_type": ""
    },
    "tags": [
     "empty"
    ]
   },
   "outputs": [],
   "source": []
  },
  {
   "cell_type": "code",
   "execution_count": null,
   "id": "72b7c115-7eb2-4d0c-aa67-b878f54a5e9e",
   "metadata": {
    "editable": true,
    "slideshow": {
     "slide_type": ""
    },
    "tags": [
     "empty"
    ]
   },
   "outputs": [],
   "source": []
  },
  {
   "cell_type": "markdown",
   "id": "6db01470-0d6d-411c-920c-4872c662366d",
   "metadata": {},
   "source": [
    "**Le data frame**\n",
    "\n",
    "Création et affichage d'un data frame :\n",
    "\n",
    "Créez un data frame avec trois colonnes : \"Nom\" (caractères), \"Âge\" (numérique) et \"Ville\" (caractères).\n",
    "\n",
    "Ajoutez trois lignes de données.\n",
    "\n",
    "Affichez le data frame."
   ]
  },
  {
   "cell_type": "code",
   "execution_count": null,
   "id": "4248f60c-3a9d-4839-a060-5ebe5e5e0a6f",
   "metadata": {
    "editable": true,
    "slideshow": {
     "slide_type": ""
    },
    "tags": [
     "empty"
    ]
   },
   "outputs": [],
   "source": []
  },
  {
   "cell_type": "code",
   "execution_count": null,
   "id": "91bf1439-bb86-485a-bccc-0891ebe9f305",
   "metadata": {
    "editable": true,
    "slideshow": {
     "slide_type": ""
    },
    "tags": [
     "empty"
    ]
   },
   "outputs": [],
   "source": []
  },
  {
   "cell_type": "markdown",
   "id": "cd5742a3-604c-4525-a357-b5a1703d70ed",
   "metadata": {},
   "source": [
    "Accès aux éléments d'un data frame :\n",
    "\n",
    "Utilisez le data frame créé dans l'exercice précédent.\n",
    "\n",
    "Affichez la colonne \"Âge\".\n",
    "\n",
    "Affichez la deuxième ligne du data frame."
   ]
  },
  {
   "cell_type": "code",
   "execution_count": null,
   "id": "bb81e354-efb4-439b-b0aa-53bee245bcd7",
   "metadata": {
    "editable": true,
    "slideshow": {
     "slide_type": ""
    },
    "tags": [
     "empty"
    ]
   },
   "outputs": [],
   "source": []
  },
  {
   "cell_type": "code",
   "execution_count": null,
   "id": "f2296821-d2dc-4005-a5e2-f60c2ef82d8e",
   "metadata": {
    "editable": true,
    "slideshow": {
     "slide_type": ""
    },
    "tags": [
     "empty"
    ]
   },
   "outputs": [],
   "source": []
  },
  {
   "cell_type": "markdown",
   "id": "004578fe-bead-4a40-bfa9-9889b6cbfbb7",
   "metadata": {},
   "source": [
    "Ajout d'une nouvelle colonne :\n",
    "\n",
    "Utilisez le data frame créé dans l'exercice précédant.\n",
    "\n",
    "Ajoutez une nouvelle colonne \"Profession\" avec les valeurs \"Ingénieur\", \"Médecin\" et \"Artiste\".\n",
    "\n",
    "Affichez le data frame mis à jour."
   ]
  },
  {
   "cell_type": "code",
   "execution_count": null,
   "id": "95c3dab9-e6fc-4dfc-88a1-478412bf5034",
   "metadata": {
    "editable": true,
    "slideshow": {
     "slide_type": ""
    },
    "tags": [
     "empty"
    ]
   },
   "outputs": [],
   "source": []
  },
  {
   "cell_type": "code",
   "execution_count": null,
   "id": "b0bacd74-6658-4102-841c-eae6bf4d34af",
   "metadata": {
    "editable": true,
    "slideshow": {
     "slide_type": ""
    },
    "tags": [
     "empty"
    ]
   },
   "outputs": [],
   "source": []
  }
 ],
 "metadata": {
  "kernelspec": {
   "display_name": "R",
   "language": "R",
   "name": "ir"
  },
  "language_info": {
   "codemirror_mode": "r",
   "file_extension": ".r",
   "mimetype": "text/x-r-source",
   "name": "R",
   "pygments_lexer": "r",
   "version": "4.2.3"
  },
  "widgets": {
   "application/vnd.jupyter.widget-state+json": {
    "state": {},
    "version_major": 2,
    "version_minor": 0
   }
  }
 },
 "nbformat": 4,
 "nbformat_minor": 5
}
