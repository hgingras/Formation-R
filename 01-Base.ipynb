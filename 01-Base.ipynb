{
 "cells": [
  {
   "cell_type": "markdown",
   "id": "485a5bbe-ac26-4bae-8c20-6e6d5f5c63ba",
   "metadata": {},
   "source": [
    "# **Bases du langage R**\n",
    "## Objectifs\n",
    "- #### Expression en ligne de commande.\n",
    "- #### Affectation d'une valeur à une variable.\n",
    "- #### Convention pour les noms d'objets.\n",
    "- #### Types de données.\n",
    "- #### Structure de donnés.\n",
    "####\n",
    "---\n",
    "## Toute commande R est soit une **expression**, soit une **affectation**.\n",
    "### Normalement, une expression est immédiatement évaluée et le résultat est affiché à l’écran.\n",
    "### Opérateurs arithmétiques avec lesquels tout le monde est familier : `+`, `-`, `*` et `/` pour les quatre opérations de base. \n",
    "### Il existe aussi `^` pour l’exponentiation, `%%` pour le reste et `%/%` pour la division entière."
   ]
  },
  {
   "cell_type": "code",
   "execution_count": 63,
   "id": "b8357592-a6c5-4e4d-b4fc-778fb772e00e",
   "metadata": {
    "jp-MarkdownHeadingCollapsed": true
   },
   "outputs": [
    {
     "data": {
      "text/html": [
       "5"
      ],
      "text/latex": [
       "5"
      ],
      "text/markdown": [
       "5"
      ],
      "text/plain": [
       "[1] 5"
      ]
     },
     "metadata": {},
     "output_type": "display_data"
    }
   ],
   "source": [
    "2 + 3"
   ]
  },
  {
   "cell_type": "code",
   "execution_count": 64,
   "id": "64f91228-f1b9-4a74-8df3-51d5042e797e",
   "metadata": {},
   "outputs": [
    {
     "data": {
      "text/html": [
       "18"
      ],
      "text/latex": [
       "18"
      ],
      "text/markdown": [
       "18"
      ],
      "text/plain": [
       "[1] 18"
      ]
     },
     "metadata": {},
     "output_type": "display_data"
    }
   ],
   "source": [
    "3 * 6"
   ]
  },
  {
   "cell_type": "code",
   "execution_count": 1,
   "id": "408f68cf-e6d1-4435-a769-e9db01e3f461",
   "metadata": {},
   "outputs": [
    {
     "data": {
      "text/html": [
       "0"
      ],
      "text/latex": [
       "0"
      ],
      "text/markdown": [
       "0"
      ],
      "text/plain": [
       "[1] 0"
      ]
     },
     "metadata": {},
     "output_type": "display_data"
    }
   ],
   "source": [
    "10 %% 2"
   ]
  },
  {
   "cell_type": "code",
   "execution_count": 11,
   "id": "d9a50db3-e0fe-4b60-bb03-46c2d0ab012b",
   "metadata": {},
   "outputs": [
    {
     "data": {
      "text/html": [
       "28"
      ],
      "text/latex": [
       "28"
      ],
      "text/markdown": [
       "28"
      ],
      "text/plain": [
       "[1] 28"
      ]
     },
     "metadata": {},
     "output_type": "display_data"
    }
   ],
   "source": [
    "57 %/% 2"
   ]
  },
  {
   "cell_type": "markdown",
   "id": "20da70a7-6a67-4373-ac5e-102234be84a6",
   "metadata": {},
   "source": [
    "### R peut reconnaitre certaines constantes intégrées. `pi`, `LETTERS`, `letters`, `month.abb`."
   ]
  },
  {
   "cell_type": "code",
   "execution_count": 1,
   "id": "98f54171-42a5-4c63-96b9-2b08fe44c62e",
   "metadata": {},
   "outputs": [
    {
     "data": {
      "text/html": [
       "3.14159265358979"
      ],
      "text/latex": [
       "3.14159265358979"
      ],
      "text/markdown": [
       "3.14159265358979"
      ],
      "text/plain": [
       "[1] 3.141593"
      ]
     },
     "metadata": {},
     "output_type": "display_data"
    },
    {
     "data": {
      "text/html": [
       "<style>\n",
       ".list-inline {list-style: none; margin:0; padding: 0}\n",
       ".list-inline>li {display: inline-block}\n",
       ".list-inline>li:not(:last-child)::after {content: \"\\00b7\"; padding: 0 .5ex}\n",
       "</style>\n",
       "<ol class=list-inline><li>'A'</li><li>'B'</li><li>'C'</li><li>'D'</li><li>'E'</li><li>'F'</li><li>'G'</li><li>'H'</li><li>'I'</li><li>'J'</li><li>'K'</li><li>'L'</li><li>'M'</li><li>'N'</li><li>'O'</li><li>'P'</li><li>'Q'</li><li>'R'</li><li>'S'</li><li>'T'</li><li>'U'</li><li>'V'</li><li>'W'</li><li>'X'</li><li>'Y'</li><li>'Z'</li></ol>\n"
      ],
      "text/latex": [
       "\\begin{enumerate*}\n",
       "\\item 'A'\n",
       "\\item 'B'\n",
       "\\item 'C'\n",
       "\\item 'D'\n",
       "\\item 'E'\n",
       "\\item 'F'\n",
       "\\item 'G'\n",
       "\\item 'H'\n",
       "\\item 'I'\n",
       "\\item 'J'\n",
       "\\item 'K'\n",
       "\\item 'L'\n",
       "\\item 'M'\n",
       "\\item 'N'\n",
       "\\item 'O'\n",
       "\\item 'P'\n",
       "\\item 'Q'\n",
       "\\item 'R'\n",
       "\\item 'S'\n",
       "\\item 'T'\n",
       "\\item 'U'\n",
       "\\item 'V'\n",
       "\\item 'W'\n",
       "\\item 'X'\n",
       "\\item 'Y'\n",
       "\\item 'Z'\n",
       "\\end{enumerate*}\n"
      ],
      "text/markdown": [
       "1. 'A'\n",
       "2. 'B'\n",
       "3. 'C'\n",
       "4. 'D'\n",
       "5. 'E'\n",
       "6. 'F'\n",
       "7. 'G'\n",
       "8. 'H'\n",
       "9. 'I'\n",
       "10. 'J'\n",
       "11. 'K'\n",
       "12. 'L'\n",
       "13. 'M'\n",
       "14. 'N'\n",
       "15. 'O'\n",
       "16. 'P'\n",
       "17. 'Q'\n",
       "18. 'R'\n",
       "19. 'S'\n",
       "20. 'T'\n",
       "21. 'U'\n",
       "22. 'V'\n",
       "23. 'W'\n",
       "24. 'X'\n",
       "25. 'Y'\n",
       "26. 'Z'\n",
       "\n",
       "\n"
      ],
      "text/plain": [
       " [1] \"A\" \"B\" \"C\" \"D\" \"E\" \"F\" \"G\" \"H\" \"I\" \"J\" \"K\" \"L\" \"M\" \"N\" \"O\" \"P\" \"Q\" \"R\" \"S\"\n",
       "[20] \"T\" \"U\" \"V\" \"W\" \"X\" \"Y\" \"Z\""
      ]
     },
     "metadata": {},
     "output_type": "display_data"
    },
    {
     "data": {
      "text/html": [
       "<style>\n",
       ".list-inline {list-style: none; margin:0; padding: 0}\n",
       ".list-inline>li {display: inline-block}\n",
       ".list-inline>li:not(:last-child)::after {content: \"\\00b7\"; padding: 0 .5ex}\n",
       "</style>\n",
       "<ol class=list-inline><li>'a'</li><li>'b'</li><li>'c'</li><li>'d'</li><li>'e'</li><li>'f'</li><li>'g'</li><li>'h'</li><li>'i'</li><li>'j'</li><li>'k'</li><li>'l'</li><li>'m'</li><li>'n'</li><li>'o'</li><li>'p'</li><li>'q'</li><li>'r'</li><li>'s'</li><li>'t'</li><li>'u'</li><li>'v'</li><li>'w'</li><li>'x'</li><li>'y'</li><li>'z'</li></ol>\n"
      ],
      "text/latex": [
       "\\begin{enumerate*}\n",
       "\\item 'a'\n",
       "\\item 'b'\n",
       "\\item 'c'\n",
       "\\item 'd'\n",
       "\\item 'e'\n",
       "\\item 'f'\n",
       "\\item 'g'\n",
       "\\item 'h'\n",
       "\\item 'i'\n",
       "\\item 'j'\n",
       "\\item 'k'\n",
       "\\item 'l'\n",
       "\\item 'm'\n",
       "\\item 'n'\n",
       "\\item 'o'\n",
       "\\item 'p'\n",
       "\\item 'q'\n",
       "\\item 'r'\n",
       "\\item 's'\n",
       "\\item 't'\n",
       "\\item 'u'\n",
       "\\item 'v'\n",
       "\\item 'w'\n",
       "\\item 'x'\n",
       "\\item 'y'\n",
       "\\item 'z'\n",
       "\\end{enumerate*}\n"
      ],
      "text/markdown": [
       "1. 'a'\n",
       "2. 'b'\n",
       "3. 'c'\n",
       "4. 'd'\n",
       "5. 'e'\n",
       "6. 'f'\n",
       "7. 'g'\n",
       "8. 'h'\n",
       "9. 'i'\n",
       "10. 'j'\n",
       "11. 'k'\n",
       "12. 'l'\n",
       "13. 'm'\n",
       "14. 'n'\n",
       "15. 'o'\n",
       "16. 'p'\n",
       "17. 'q'\n",
       "18. 'r'\n",
       "19. 's'\n",
       "20. 't'\n",
       "21. 'u'\n",
       "22. 'v'\n",
       "23. 'w'\n",
       "24. 'x'\n",
       "25. 'y'\n",
       "26. 'z'\n",
       "\n",
       "\n"
      ],
      "text/plain": [
       " [1] \"a\" \"b\" \"c\" \"d\" \"e\" \"f\" \"g\" \"h\" \"i\" \"j\" \"k\" \"l\" \"m\" \"n\" \"o\" \"p\" \"q\" \"r\" \"s\"\n",
       "[20] \"t\" \"u\" \"v\" \"w\" \"x\" \"y\" \"z\""
      ]
     },
     "metadata": {},
     "output_type": "display_data"
    },
    {
     "data": {
      "text/html": [
       "<style>\n",
       ".list-inline {list-style: none; margin:0; padding: 0}\n",
       ".list-inline>li {display: inline-block}\n",
       ".list-inline>li:not(:last-child)::after {content: \"\\00b7\"; padding: 0 .5ex}\n",
       "</style>\n",
       "<ol class=list-inline><li>'Jan'</li><li>'Feb'</li><li>'Mar'</li><li>'Apr'</li><li>'May'</li><li>'Jun'</li><li>'Jul'</li><li>'Aug'</li><li>'Sep'</li><li>'Oct'</li><li>'Nov'</li><li>'Dec'</li></ol>\n"
      ],
      "text/latex": [
       "\\begin{enumerate*}\n",
       "\\item 'Jan'\n",
       "\\item 'Feb'\n",
       "\\item 'Mar'\n",
       "\\item 'Apr'\n",
       "\\item 'May'\n",
       "\\item 'Jun'\n",
       "\\item 'Jul'\n",
       "\\item 'Aug'\n",
       "\\item 'Sep'\n",
       "\\item 'Oct'\n",
       "\\item 'Nov'\n",
       "\\item 'Dec'\n",
       "\\end{enumerate*}\n"
      ],
      "text/markdown": [
       "1. 'Jan'\n",
       "2. 'Feb'\n",
       "3. 'Mar'\n",
       "4. 'Apr'\n",
       "5. 'May'\n",
       "6. 'Jun'\n",
       "7. 'Jul'\n",
       "8. 'Aug'\n",
       "9. 'Sep'\n",
       "10. 'Oct'\n",
       "11. 'Nov'\n",
       "12. 'Dec'\n",
       "\n",
       "\n"
      ],
      "text/plain": [
       " [1] \"Jan\" \"Feb\" \"Mar\" \"Apr\" \"May\" \"Jun\" \"Jul\" \"Aug\" \"Sep\" \"Oct\" \"Nov\" \"Dec\""
      ]
     },
     "metadata": {},
     "output_type": "display_data"
    }
   ],
   "source": [
    "pi ; LETTERS ; letters ; month.abb"
   ]
  },
  {
   "cell_type": "markdown",
   "id": "6425437b-d74d-4f55-9c73-b56fcd07c693",
   "metadata": {},
   "source": [
    "### Deux signes sont accepté en R pour affecter une valeur à une variable : `=` et `<-`\n",
    "### Lors d’une affectation, une expression est évaluée, le résultat est stocké dans un objet (variable) `a = 5` et rien n’est affiché à l’écran."
   ]
  },
  {
   "cell_type": "code",
   "execution_count": 1,
   "id": "5892cab5-fcac-4378-9c7a-fa0537a4de34",
   "metadata": {},
   "outputs": [],
   "source": [
    "a = 5 + 2"
   ]
  },
  {
   "cell_type": "code",
   "execution_count": 2,
   "id": "092c44b1-6a23-4c3c-b6a0-531951ae90c6",
   "metadata": {},
   "outputs": [
    {
     "data": {
      "text/html": [
       "7"
      ],
      "text/latex": [
       "7"
      ],
      "text/markdown": [
       "7"
      ],
      "text/plain": [
       "[1] 7"
      ]
     },
     "metadata": {},
     "output_type": "display_data"
    }
   ],
   "source": [
    "a"
   ]
  },
  {
   "cell_type": "code",
   "execution_count": 3,
   "id": "327c2bae-d988-4aee-a6a1-aca28491a622",
   "metadata": {},
   "outputs": [],
   "source": [
    "b = a"
   ]
  },
  {
   "cell_type": "code",
   "execution_count": 4,
   "id": "5f0f1972-90c0-458c-be39-766fd75da3c7",
   "metadata": {},
   "outputs": [
    {
     "data": {
      "text/html": [
       "7"
      ],
      "text/latex": [
       "7"
      ],
      "text/markdown": [
       "7"
      ],
      "text/plain": [
       "[1] 7"
      ]
     },
     "metadata": {},
     "output_type": "display_data"
    }
   ],
   "source": [
    "b"
   ]
  },
  {
   "cell_type": "markdown",
   "id": "bfe6df6d-43c3-402f-ad18-a988bedff064",
   "metadata": {},
   "source": [
    "### Pour affecter le résultat d’un calcul dans un objet et simultanément afficher ce résultat, il suffit de placer l’affectation entre parenthèses pour ainsi créer une nouvelle expression:"
   ]
  },
  {
   "cell_type": "code",
   "execution_count": 5,
   "id": "2b63ccff-8c94-4a6a-b435-ef4c22553750",
   "metadata": {},
   "outputs": [
    {
     "data": {
      "text/html": [
       "5"
      ],
      "text/latex": [
       "5"
      ],
      "text/markdown": [
       "5"
      ],
      "text/plain": [
       "[1] 5"
      ]
     },
     "metadata": {},
     "output_type": "display_data"
    }
   ],
   "source": [
    "(a = 2 + 3)"
   ]
  },
  {
   "cell_type": "markdown",
   "id": "0a57021d-8cdd-4188-8579-b0bb9a5edc42",
   "metadata": {},
   "source": [
    "---\n",
    "### Conventions pour les noms d’objets (variables)."
   ]
  },
  {
   "cell_type": "markdown",
   "id": "7877287b-742e-42dd-a1ab-f61d8ddce9a9",
   "metadata": {},
   "source": [
    "#### - On commence par une **lettre minuscule**.\n",
    "#### - On sépare les mots d'une variable avec un `_`.\n",
    "#### - On utilise seulement des lettres minuscule, le `_` et des chiffes.\n",
    "####\n",
    "#### - Les noms d’objets ne peuvent commencer par un chiffre. \n",
    "#### - S’ils commencent par un point, le second caractère ne peut être un chiffre.\n",
    "####\n",
    "#### Le R est sensible à la casse, ce qui signifie que `foo`, `Foo` et `FOO` sont trois objets distincts.\n",
    "#### Certains noms et mots sont utilisés par le système R, aussi vaut-il mieux éviter de les utiliser.\n",
    "#### `c`, `q`, `t`, `C`, `D`, `I`, `diff`, `length`, `mean`, `pi`, `range`, `var`, `break`, `else`, `for`, `function`, `if`, `in`, `next`, `repeat`, `return`, `while`, `TRUE`, `FALSE`, `Inf`, `NA`, `NaN`, `NULL`, `NA_integer_`, `NA_real_`, `NA_complex_`, `NA_character_`, `...`, `..1`, `..2`, etc."
   ]
  },
  {
   "cell_type": "code",
   "execution_count": 20,
   "id": "04118e35-75c4-4772-8dfc-a4575de67873",
   "metadata": {},
   "outputs": [
    {
     "ename": "ERROR",
     "evalue": "Error in parse(text = x, srcfile = src): <text>:2:2: symbole inattendu\n1: weight0 = 0  # valid\n2: 0weight\n    ^\n",
     "output_type": "error",
     "traceback": [
      "Error in parse(text = x, srcfile = src): <text>:2:2: symbole inattendu\n1: weight0 = 0  # valid\n2: 0weight\n    ^\nTraceback:\n"
     ]
    }
   ],
   "source": [
    "weight0 = 0  # valid\n",
    "0weight = 1  # invalid"
   ]
  },
  {
   "cell_type": "markdown",
   "id": "fc5d59ca-42d5-46b3-afc2-bcd0214b1fc4",
   "metadata": {},
   "source": [
    "## **Exercice**: \n",
    "### Affectez une opération numérique à une variable et l'afficher."
   ]
  },
  {
   "cell_type": "code",
   "execution_count": 121,
   "id": "8470e8af-ec1f-4674-aac7-7e170b19c5c9",
   "metadata": {},
   "outputs": [
    {
     "data": {
      "text/html": [
       "18"
      ],
      "text/latex": [
       "18"
      ],
      "text/markdown": [
       "18"
      ],
      "text/plain": [
       "[1] 18"
      ]
     },
     "metadata": {},
     "output_type": "display_data"
    }
   ],
   "source": [
    "resultat = 2 * 9\n",
    "resultat"
   ]
  },
  {
   "cell_type": "markdown",
   "id": "a95a330a-8403-4acc-8eec-1116481ecd5c",
   "metadata": {},
   "source": [
    "## **Exercice**: \n",
    "### Affectez une constante à une variable  et l'afficher."
   ]
  },
  {
   "cell_type": "code",
   "execution_count": 122,
   "id": "ab58a330-9f3f-4ca4-8936-596498a2d701",
   "metadata": {},
   "outputs": [
    {
     "data": {
      "text/html": [
       "3.14159265358979"
      ],
      "text/latex": [
       "3.14159265358979"
      ],
      "text/markdown": [
       "3.14159265358979"
      ],
      "text/plain": [
       "[1] 3.141593"
      ]
     },
     "metadata": {},
     "output_type": "display_data"
    }
   ],
   "source": [
    "constante = pi\n",
    "constante"
   ]
  },
  {
   "cell_type": "markdown",
   "id": "a1287c06-120b-4fa2-acbd-9ddda85a5d18",
   "metadata": {},
   "source": [
    "---\n",
    "## Type de données."
   ]
  },
  {
   "cell_type": "markdown",
   "id": "208743ea-deff-443f-832a-713fb7e8aebd",
   "metadata": {},
   "source": [
    "### **Tout** dans le langage R est un objet."
   ]
  },
  {
   "cell_type": "markdown",
   "id": "8f39fd12-c09e-4b69-a7a1-f342791c9152",
   "metadata": {},
   "source": [
    "### R a 6 types de base. (Le type raw ne sera pas couvert ici.)"
   ]
  },
  {
   "cell_type": "markdown",
   "id": "b2cb6823-02b5-46e8-a707-c7bb86f8bde4",
   "metadata": {},
   "source": [
    "- #### *character*: \"a\", 'swc'\n",
    "- #### *numeric*: 2, 15.5\n",
    "- #### *integer*: 2L (Le L indique à R de sauvegarder à titre de nombre entier (*integer*))\n",
    "- #### *logical*: TRUE, FALSE (booléen)\n",
    "- #### *complex*: 1+4i "
   ]
  },
  {
   "cell_type": "code",
   "execution_count": 7,
   "id": "de62f77e-8ea3-4323-8746-20516e97c3bf",
   "metadata": {},
   "outputs": [],
   "source": [
    "x = 'dataset'"
   ]
  },
  {
   "cell_type": "code",
   "execution_count": 8,
   "id": "9e73fd41-3a83-4478-aa36-b3b4a5e8e006",
   "metadata": {},
   "outputs": [],
   "source": [
    "y = 2L"
   ]
  },
  {
   "cell_type": "code",
   "execution_count": 9,
   "id": "73d1fd05-c8b8-4518-8f78-23bdab1fad01",
   "metadata": {},
   "outputs": [],
   "source": [
    "z = TRUE"
   ]
  },
  {
   "cell_type": "markdown",
   "id": "9beea79c-7bab-471d-b7b4-6310be71f356",
   "metadata": {},
   "source": [
    "### Le R possède plusieurs fonctions pour examiner les caractéristique des vecteurs ou autre objets. \n",
    "\n",
    "- #### `class()` - quel est le type de l'objet ?\n",
    "- #### `typeof()` - quel type de donnée ?\n",
    "- #### `length()` - quel est la longeur?\n",
    "- #### `attributes()` - contient-il des metadata?"
   ]
  },
  {
   "cell_type": "code",
   "execution_count": 10,
   "id": "189c2d64-feb1-4673-b667-e3367421c6a3",
   "metadata": {},
   "outputs": [
    {
     "data": {
      "text/html": [
       "'character'"
      ],
      "text/latex": [
       "'character'"
      ],
      "text/markdown": [
       "'character'"
      ],
      "text/plain": [
       "[1] \"character\""
      ]
     },
     "metadata": {},
     "output_type": "display_data"
    },
    {
     "data": {
      "text/html": [
       "'integer'"
      ],
      "text/latex": [
       "'integer'"
      ],
      "text/markdown": [
       "'integer'"
      ],
      "text/plain": [
       "[1] \"integer\""
      ]
     },
     "metadata": {},
     "output_type": "display_data"
    },
    {
     "data": {
      "text/html": [
       "1"
      ],
      "text/latex": [
       "1"
      ],
      "text/markdown": [
       "1"
      ],
      "text/plain": [
       "[1] 1"
      ]
     },
     "metadata": {},
     "output_type": "display_data"
    },
    {
     "data": {
      "text/plain": [
       "NULL"
      ]
     },
     "metadata": {},
     "output_type": "display_data"
    }
   ],
   "source": [
    "class(x) ; typeof(y) ; length(z) ; attributes(x)"
   ]
  },
  {
   "cell_type": "markdown",
   "id": "aeac6172-93b2-449e-9aba-ee930f2dd211",
   "metadata": {},
   "source": [
    "## **Exercice:** \n",
    "### Afficher le type de la variable x."
   ]
  },
  {
   "cell_type": "code",
   "execution_count": 128,
   "id": "4e7a215b-82b9-4b22-9566-1d67c5597a39",
   "metadata": {},
   "outputs": [
    {
     "data": {
      "text/html": [
       "'character'"
      ],
      "text/latex": [
       "'character'"
      ],
      "text/markdown": [
       "'character'"
      ],
      "text/plain": [
       "[1] \"character\""
      ]
     },
     "metadata": {},
     "output_type": "display_data"
    }
   ],
   "source": [
    "typeof(x)"
   ]
  },
  {
   "cell_type": "markdown",
   "id": "c0446a8e-d52c-4226-b23a-2834e9226bc5",
   "metadata": {},
   "source": [
    "---\n",
    "### Le R a plusieurs structure de données.\n",
    "\n",
    "- #### *atomic vector*\n",
    "- #### *list*\n",
    "- #### *matrix*\n",
    "- #### *data frame*\n",
    "- #### *factors*"
   ]
  },
  {
   "cell_type": "markdown",
   "id": "45fdab24-493f-4218-b70e-70a8f0ed2fe7",
   "metadata": {},
   "source": [
    "## Deux type de vecteurs "
   ]
  },
  {
   "cell_type": "markdown",
   "id": "67b45c2e-11fa-4344-b78b-077bcbd60194",
   "metadata": {},
   "source": [
    "- #### Vecteurs atomiques (*character*, *logical*, *integer* ou *numeric*).\n",
    "- #### Listes"
   ]
  },
  {
   "cell_type": "code",
   "execution_count": 9,
   "id": "bb6405e9-1c26-4904-b4b1-fe996c30a206",
   "metadata": {},
   "outputs": [
    {
     "data": {
      "text/html": [],
      "text/latex": [],
      "text/markdown": [],
      "text/plain": [
       "logical(0)"
      ]
     },
     "metadata": {},
     "output_type": "display_data"
    }
   ],
   "source": [
    "vector() # Un vecteur vide 'logical' (par défaut)"
   ]
  },
  {
   "cell_type": "code",
   "execution_count": 1,
   "id": "991a8cfe-bc6a-465d-b827-98cb656a5ef2",
   "metadata": {},
   "outputs": [
    {
     "data": {
      "text/html": [
       "<style>\n",
       ".list-inline {list-style: none; margin:0; padding: 0}\n",
       ".list-inline>li {display: inline-block}\n",
       ".list-inline>li:not(:last-child)::after {content: \"\\00b7\"; padding: 0 .5ex}\n",
       "</style>\n",
       "<ol class=list-inline><li>''</li><li>''</li><li>''</li><li>''</li><li>''</li></ol>\n"
      ],
      "text/latex": [
       "\\begin{enumerate*}\n",
       "\\item ''\n",
       "\\item ''\n",
       "\\item ''\n",
       "\\item ''\n",
       "\\item ''\n",
       "\\end{enumerate*}\n"
      ],
      "text/markdown": [
       "1. ''\n",
       "2. ''\n",
       "3. ''\n",
       "4. ''\n",
       "5. ''\n",
       "\n",
       "\n"
      ],
      "text/plain": [
       "[1] \"\" \"\" \"\" \"\" \"\""
      ]
     },
     "metadata": {},
     "output_type": "display_data"
    }
   ],
   "source": [
    "vector(\"character\", length = 5)"
   ]
  },
  {
   "cell_type": "code",
   "execution_count": null,
   "id": "7e8b98ef-33ca-44b7-97ae-67c79f6e7be9",
   "metadata": {},
   "outputs": [],
   "source": [
    "character(5) # En utilisant le constructeur directement"
   ]
  },
  {
   "cell_type": "code",
   "execution_count": 14,
   "id": "0b3dd0a6-d2c2-4a59-936d-27bcf1376242",
   "metadata": {},
   "outputs": [
    {
     "data": {
      "text/html": [
       "<style>\n",
       ".list-inline {list-style: none; margin:0; padding: 0}\n",
       ".list-inline>li {display: inline-block}\n",
       ".list-inline>li:not(:last-child)::after {content: \"\\00b7\"; padding: 0 .5ex}\n",
       "</style>\n",
       "<ol class=list-inline><li>0</li><li>0</li><li>0</li><li>0</li><li>0</li></ol>\n"
      ],
      "text/latex": [
       "\\begin{enumerate*}\n",
       "\\item 0\n",
       "\\item 0\n",
       "\\item 0\n",
       "\\item 0\n",
       "\\item 0\n",
       "\\end{enumerate*}\n"
      ],
      "text/markdown": [
       "1. 0\n",
       "2. 0\n",
       "3. 0\n",
       "4. 0\n",
       "5. 0\n",
       "\n",
       "\n"
      ],
      "text/plain": [
       "[1] 0 0 0 0 0"
      ]
     },
     "metadata": {},
     "output_type": "display_data"
    },
    {
     "data": {
      "text/html": [
       "'numeric'"
      ],
      "text/latex": [
       "'numeric'"
      ],
      "text/markdown": [
       "'numeric'"
      ],
      "text/plain": [
       "[1] \"numeric\""
      ]
     },
     "metadata": {},
     "output_type": "display_data"
    }
   ],
   "source": [
    "x = numeric(5) # Un vecteur numérique\n",
    "x\n",
    "class(x)"
   ]
  },
  {
   "cell_type": "code",
   "execution_count": 22,
   "id": "6f34d1a2-13eb-4077-8263-29001bedda03",
   "metadata": {},
   "outputs": [
    {
     "data": {
      "text/html": [
       "<style>\n",
       ".list-inline {list-style: none; margin:0; padding: 0}\n",
       ".list-inline>li {display: inline-block}\n",
       ".list-inline>li:not(:last-child)::after {content: \"\\00b7\"; padding: 0 .5ex}\n",
       "</style>\n",
       "<ol class=list-inline><li>FALSE</li><li>FALSE</li><li>FALSE</li><li>FALSE</li><li>FALSE</li></ol>\n"
      ],
      "text/latex": [
       "\\begin{enumerate*}\n",
       "\\item FALSE\n",
       "\\item FALSE\n",
       "\\item FALSE\n",
       "\\item FALSE\n",
       "\\item FALSE\n",
       "\\end{enumerate*}\n"
      ],
      "text/markdown": [
       "1. FALSE\n",
       "2. FALSE\n",
       "3. FALSE\n",
       "4. FALSE\n",
       "5. FALSE\n",
       "\n",
       "\n"
      ],
      "text/plain": [
       "[1] FALSE FALSE FALSE FALSE FALSE"
      ]
     },
     "metadata": {},
     "output_type": "display_data"
    }
   ],
   "source": [
    "logical(5) # Un vecteur logique"
   ]
  },
  {
   "cell_type": "markdown",
   "id": "679d7278-b7e7-485c-80ad-f529724c98fa",
   "metadata": {},
   "source": [
    "### On peut aussi créer un vecteur en spécifiant directement son contenu."
   ]
  },
  {
   "cell_type": "markdown",
   "id": "489c3e75-f1f4-44c5-ba06-1c6d006e3c9f",
   "metadata": {},
   "source": [
    "### On utilise la fonction c() pour \"*combine*\" ou combiner."
   ]
  },
  {
   "cell_type": "code",
   "execution_count": 14,
   "id": "de5671e3-217e-4970-8821-03b263b40999",
   "metadata": {},
   "outputs": [],
   "source": [
    "nombres = c(0, 1, 2, 3)"
   ]
  },
  {
   "cell_type": "code",
   "execution_count": 15,
   "id": "f6160c9b-cbbd-49a2-b110-3c342a747463",
   "metadata": {},
   "outputs": [
    {
     "data": {
      "text/html": [
       "<style>\n",
       ".list-inline {list-style: none; margin:0; padding: 0}\n",
       ".list-inline>li {display: inline-block}\n",
       ".list-inline>li:not(:last-child)::after {content: \"\\00b7\"; padding: 0 .5ex}\n",
       "</style>\n",
       "<ol class=list-inline><li>0</li><li>1</li><li>2</li><li>3</li></ol>\n"
      ],
      "text/latex": [
       "\\begin{enumerate*}\n",
       "\\item 0\n",
       "\\item 1\n",
       "\\item 2\n",
       "\\item 3\n",
       "\\end{enumerate*}\n"
      ],
      "text/markdown": [
       "1. 0\n",
       "2. 1\n",
       "3. 2\n",
       "4. 3\n",
       "\n",
       "\n"
      ],
      "text/plain": [
       "[1] 0 1 2 3"
      ]
     },
     "metadata": {},
     "output_type": "display_data"
    },
    {
     "data": {
      "text/html": [
       "4"
      ],
      "text/latex": [
       "4"
      ],
      "text/markdown": [
       "4"
      ],
      "text/plain": [
       "[1] 4"
      ]
     },
     "metadata": {},
     "output_type": "display_data"
    }
   ],
   "source": [
    "nombres\n",
    "length(nombres)"
   ]
  },
  {
   "cell_type": "code",
   "execution_count": 16,
   "id": "cfa79db2-325d-4d76-8e89-961ccf2420fd",
   "metadata": {},
   "outputs": [
    {
     "data": {
      "text/html": [
       "'numeric'"
      ],
      "text/latex": [
       "'numeric'"
      ],
      "text/markdown": [
       "'numeric'"
      ],
      "text/plain": [
       "[1] \"numeric\""
      ]
     },
     "metadata": {},
     "output_type": "display_data"
    },
    {
     "data": {
      "text/html": [
       "'double'"
      ],
      "text/latex": [
       "'double'"
      ],
      "text/markdown": [
       "'double'"
      ],
      "text/plain": [
       "[1] \"double\""
      ]
     },
     "metadata": {},
     "output_type": "display_data"
    },
    {
     "data": {
      "text/html": [
       "4"
      ],
      "text/latex": [
       "4"
      ],
      "text/markdown": [
       "4"
      ],
      "text/plain": [
       "[1] 4"
      ]
     },
     "metadata": {},
     "output_type": "display_data"
    },
    {
     "data": {
      "text/plain": [
       "NULL"
      ]
     },
     "metadata": {},
     "output_type": "display_data"
    }
   ],
   "source": [
    "class(nombres) ; typeof(nombres) ; length(nombres) ; attributes(nombres) "
   ]
  },
  {
   "cell_type": "markdown",
   "id": "8bcc8da0-57d4-4fa3-b8b2-981c25ee09cd",
   "metadata": {},
   "source": [
    "### On peut créer un vecteur avec des séquences de nombres:"
   ]
  },
  {
   "cell_type": "code",
   "execution_count": 10,
   "id": "2b63507b-8acb-4655-b883-49c904f9b810",
   "metadata": {},
   "outputs": [
    {
     "data": {
      "text/html": [
       "<style>\n",
       ".list-inline {list-style: none; margin:0; padding: 0}\n",
       ".list-inline>li {display: inline-block}\n",
       ".list-inline>li:not(:last-child)::after {content: \"\\00b7\"; padding: 0 .5ex}\n",
       "</style>\n",
       "<ol class=list-inline><li>1</li><li>2</li><li>3</li><li>4</li><li>5</li><li>6</li><li>7</li><li>8</li><li>9</li><li>10</li></ol>\n"
      ],
      "text/latex": [
       "\\begin{enumerate*}\n",
       "\\item 1\n",
       "\\item 2\n",
       "\\item 3\n",
       "\\item 4\n",
       "\\item 5\n",
       "\\item 6\n",
       "\\item 7\n",
       "\\item 8\n",
       "\\item 9\n",
       "\\item 10\n",
       "\\end{enumerate*}\n"
      ],
      "text/markdown": [
       "1. 1\n",
       "2. 2\n",
       "3. 3\n",
       "4. 4\n",
       "5. 5\n",
       "6. 6\n",
       "7. 7\n",
       "8. 8\n",
       "9. 9\n",
       "10. 10\n",
       "\n",
       "\n"
      ],
      "text/plain": [
       " [1]  1  2  3  4  5  6  7  8  9 10"
      ]
     },
     "metadata": {},
     "output_type": "display_data"
    },
    {
     "data": {
      "text/html": [
       "<style>\n",
       ".list-inline {list-style: none; margin:0; padding: 0}\n",
       ".list-inline>li {display: inline-block}\n",
       ".list-inline>li:not(:last-child)::after {content: \"\\00b7\"; padding: 0 .5ex}\n",
       "</style>\n",
       "<ol class=list-inline><li>1</li><li>2</li><li>3</li><li>4</li><li>5</li><li>6</li><li>7</li><li>8</li><li>9</li><li>10</li></ol>\n"
      ],
      "text/latex": [
       "\\begin{enumerate*}\n",
       "\\item 1\n",
       "\\item 2\n",
       "\\item 3\n",
       "\\item 4\n",
       "\\item 5\n",
       "\\item 6\n",
       "\\item 7\n",
       "\\item 8\n",
       "\\item 9\n",
       "\\item 10\n",
       "\\end{enumerate*}\n"
      ],
      "text/markdown": [
       "1. 1\n",
       "2. 2\n",
       "3. 3\n",
       "4. 4\n",
       "5. 5\n",
       "6. 6\n",
       "7. 7\n",
       "8. 8\n",
       "9. 9\n",
       "10. 10\n",
       "\n",
       "\n"
      ],
      "text/plain": [
       " [1]  1  2  3  4  5  6  7  8  9 10"
      ]
     },
     "metadata": {},
     "output_type": "display_data"
    },
    {
     "data": {
      "text/html": [
       "<style>\n",
       ".list-inline {list-style: none; margin:0; padding: 0}\n",
       ".list-inline>li {display: inline-block}\n",
       ".list-inline>li:not(:last-child)::after {content: \"\\00b7\"; padding: 0 .5ex}\n",
       "</style>\n",
       "<ol class=list-inline><li>1</li><li>1.1</li><li>1.2</li><li>1.3</li><li>1.4</li><li>1.5</li><li>1.6</li><li>1.7</li><li>1.8</li><li>1.9</li><li>2</li><li>2.1</li><li>2.2</li><li>2.3</li><li>2.4</li><li>2.5</li><li>2.6</li><li>2.7</li><li>2.8</li><li>2.9</li><li>3</li><li>3.1</li><li>3.2</li><li>3.3</li><li>3.4</li><li>3.5</li><li>3.6</li><li>3.7</li><li>3.8</li><li>3.9</li><li>4</li><li>4.1</li><li>4.2</li><li>4.3</li><li>4.4</li><li>4.5</li><li>4.6</li><li>4.7</li><li>4.8</li><li>4.9</li><li>5</li><li>5.1</li><li>5.2</li><li>5.3</li><li>5.4</li><li>5.5</li><li>5.6</li><li>5.7</li><li>5.8</li><li>5.9</li><li>6</li><li>6.1</li><li>6.2</li><li>6.3</li><li>6.4</li><li>6.5</li><li>6.6</li><li>6.7</li><li>6.8</li><li>6.9</li><li>7</li><li>7.1</li><li>7.2</li><li>7.3</li><li>7.4</li><li>7.5</li><li>7.6</li><li>7.7</li><li>7.8</li><li>7.9</li><li>8</li><li>8.1</li><li>8.2</li><li>8.3</li><li>8.4</li><li>8.5</li><li>8.6</li><li>8.7</li><li>8.8</li><li>8.9</li><li>9</li><li>9.1</li><li>9.2</li><li>9.3</li><li>9.4</li><li>9.5</li><li>9.6</li><li>9.7</li><li>9.8</li><li>9.9</li><li>10</li></ol>\n"
      ],
      "text/latex": [
       "\\begin{enumerate*}\n",
       "\\item 1\n",
       "\\item 1.1\n",
       "\\item 1.2\n",
       "\\item 1.3\n",
       "\\item 1.4\n",
       "\\item 1.5\n",
       "\\item 1.6\n",
       "\\item 1.7\n",
       "\\item 1.8\n",
       "\\item 1.9\n",
       "\\item 2\n",
       "\\item 2.1\n",
       "\\item 2.2\n",
       "\\item 2.3\n",
       "\\item 2.4\n",
       "\\item 2.5\n",
       "\\item 2.6\n",
       "\\item 2.7\n",
       "\\item 2.8\n",
       "\\item 2.9\n",
       "\\item 3\n",
       "\\item 3.1\n",
       "\\item 3.2\n",
       "\\item 3.3\n",
       "\\item 3.4\n",
       "\\item 3.5\n",
       "\\item 3.6\n",
       "\\item 3.7\n",
       "\\item 3.8\n",
       "\\item 3.9\n",
       "\\item 4\n",
       "\\item 4.1\n",
       "\\item 4.2\n",
       "\\item 4.3\n",
       "\\item 4.4\n",
       "\\item 4.5\n",
       "\\item 4.6\n",
       "\\item 4.7\n",
       "\\item 4.8\n",
       "\\item 4.9\n",
       "\\item 5\n",
       "\\item 5.1\n",
       "\\item 5.2\n",
       "\\item 5.3\n",
       "\\item 5.4\n",
       "\\item 5.5\n",
       "\\item 5.6\n",
       "\\item 5.7\n",
       "\\item 5.8\n",
       "\\item 5.9\n",
       "\\item 6\n",
       "\\item 6.1\n",
       "\\item 6.2\n",
       "\\item 6.3\n",
       "\\item 6.4\n",
       "\\item 6.5\n",
       "\\item 6.6\n",
       "\\item 6.7\n",
       "\\item 6.8\n",
       "\\item 6.9\n",
       "\\item 7\n",
       "\\item 7.1\n",
       "\\item 7.2\n",
       "\\item 7.3\n",
       "\\item 7.4\n",
       "\\item 7.5\n",
       "\\item 7.6\n",
       "\\item 7.7\n",
       "\\item 7.8\n",
       "\\item 7.9\n",
       "\\item 8\n",
       "\\item 8.1\n",
       "\\item 8.2\n",
       "\\item 8.3\n",
       "\\item 8.4\n",
       "\\item 8.5\n",
       "\\item 8.6\n",
       "\\item 8.7\n",
       "\\item 8.8\n",
       "\\item 8.9\n",
       "\\item 9\n",
       "\\item 9.1\n",
       "\\item 9.2\n",
       "\\item 9.3\n",
       "\\item 9.4\n",
       "\\item 9.5\n",
       "\\item 9.6\n",
       "\\item 9.7\n",
       "\\item 9.8\n",
       "\\item 9.9\n",
       "\\item 10\n",
       "\\end{enumerate*}\n"
      ],
      "text/markdown": [
       "1. 1\n",
       "2. 1.1\n",
       "3. 1.2\n",
       "4. 1.3\n",
       "5. 1.4\n",
       "6. 1.5\n",
       "7. 1.6\n",
       "8. 1.7\n",
       "9. 1.8\n",
       "10. 1.9\n",
       "11. 2\n",
       "12. 2.1\n",
       "13. 2.2\n",
       "14. 2.3\n",
       "15. 2.4\n",
       "16. 2.5\n",
       "17. 2.6\n",
       "18. 2.7\n",
       "19. 2.8\n",
       "20. 2.9\n",
       "21. 3\n",
       "22. 3.1\n",
       "23. 3.2\n",
       "24. 3.3\n",
       "25. 3.4\n",
       "26. 3.5\n",
       "27. 3.6\n",
       "28. 3.7\n",
       "29. 3.8\n",
       "30. 3.9\n",
       "31. 4\n",
       "32. 4.1\n",
       "33. 4.2\n",
       "34. 4.3\n",
       "35. 4.4\n",
       "36. 4.5\n",
       "37. 4.6\n",
       "38. 4.7\n",
       "39. 4.8\n",
       "40. 4.9\n",
       "41. 5\n",
       "42. 5.1\n",
       "43. 5.2\n",
       "44. 5.3\n",
       "45. 5.4\n",
       "46. 5.5\n",
       "47. 5.6\n",
       "48. 5.7\n",
       "49. 5.8\n",
       "50. 5.9\n",
       "51. 6\n",
       "52. 6.1\n",
       "53. 6.2\n",
       "54. 6.3\n",
       "55. 6.4\n",
       "56. 6.5\n",
       "57. 6.6\n",
       "58. 6.7\n",
       "59. 6.8\n",
       "60. 6.9\n",
       "61. 7\n",
       "62. 7.1\n",
       "63. 7.2\n",
       "64. 7.3\n",
       "65. 7.4\n",
       "66. 7.5\n",
       "67. 7.6\n",
       "68. 7.7\n",
       "69. 7.8\n",
       "70. 7.9\n",
       "71. 8\n",
       "72. 8.1\n",
       "73. 8.2\n",
       "74. 8.3\n",
       "75. 8.4\n",
       "76. 8.5\n",
       "77. 8.6\n",
       "78. 8.7\n",
       "79. 8.8\n",
       "80. 8.9\n",
       "81. 9\n",
       "82. 9.1\n",
       "83. 9.2\n",
       "84. 9.3\n",
       "85. 9.4\n",
       "86. 9.5\n",
       "87. 9.6\n",
       "88. 9.7\n",
       "89. 9.8\n",
       "90. 9.9\n",
       "91. 10\n",
       "\n",
       "\n"
      ],
      "text/plain": [
       " [1]  1.0  1.1  1.2  1.3  1.4  1.5  1.6  1.7  1.8  1.9  2.0  2.1  2.2  2.3  2.4\n",
       "[16]  2.5  2.6  2.7  2.8  2.9  3.0  3.1  3.2  3.3  3.4  3.5  3.6  3.7  3.8  3.9\n",
       "[31]  4.0  4.1  4.2  4.3  4.4  4.5  4.6  4.7  4.8  4.9  5.0  5.1  5.2  5.3  5.4\n",
       "[46]  5.5  5.6  5.7  5.8  5.9  6.0  6.1  6.2  6.3  6.4  6.5  6.6  6.7  6.8  6.9\n",
       "[61]  7.0  7.1  7.2  7.3  7.4  7.5  7.6  7.7  7.8  7.9  8.0  8.1  8.2  8.3  8.4\n",
       "[76]  8.5  8.6  8.7  8.8  8.9  9.0  9.1  9.2  9.3  9.4  9.5  9.6  9.7  9.8  9.9\n",
       "[91] 10.0"
      ]
     },
     "metadata": {},
     "output_type": "display_data"
    }
   ],
   "source": [
    "(series = 1:10)\n",
    "\n",
    "seq(10)\n",
    "\n",
    "seq(1, 10, by = 0.1)"
   ]
  },
  {
   "cell_type": "markdown",
   "id": "3f765b5c-36c9-4af9-83c6-a04f8155b0a2",
   "metadata": {},
   "source": [
    "### On peut ajouter un élément à notre vecteur."
   ]
  },
  {
   "cell_type": "code",
   "execution_count": 17,
   "id": "9c0ff833-4086-4b63-8fd0-3edd5d3d9f58",
   "metadata": {},
   "outputs": [
    {
     "data": {
      "text/html": [
       "<style>\n",
       ".list-inline {list-style: none; margin:0; padding: 0}\n",
       ".list-inline>li {display: inline-block}\n",
       ".list-inline>li:not(:last-child)::after {content: \"\\00b7\"; padding: 0 .5ex}\n",
       "</style>\n",
       "<ol class=list-inline><li>0</li><li>1</li><li>2</li><li>3</li><li>4</li></ol>\n"
      ],
      "text/latex": [
       "\\begin{enumerate*}\n",
       "\\item 0\n",
       "\\item 1\n",
       "\\item 2\n",
       "\\item 3\n",
       "\\item 4\n",
       "\\end{enumerate*}\n"
      ],
      "text/markdown": [
       "1. 0\n",
       "2. 1\n",
       "3. 2\n",
       "4. 3\n",
       "5. 4\n",
       "\n",
       "\n"
      ],
      "text/plain": [
       "[1] 0 1 2 3 4"
      ]
     },
     "metadata": {},
     "output_type": "display_data"
    }
   ],
   "source": [
    "nombres = c(nombres, 4)\n",
    "nombres"
   ]
  },
  {
   "cell_type": "code",
   "execution_count": 19,
   "id": "b18c4406-f498-487b-8367-9a84731debaf",
   "metadata": {},
   "outputs": [
    {
     "data": {
      "text/html": [
       "<style>\n",
       ".list-inline {list-style: none; margin:0; padding: 0}\n",
       ".list-inline>li {display: inline-block}\n",
       ".list-inline>li:not(:last-child)::after {content: \"\\00b7\"; padding: 0 .5ex}\n",
       "</style>\n",
       "<ol class=list-inline><li>0</li><li>1</li><li>2</li><li>5</li><li>5</li><li>3</li><li>4</li></ol>\n"
      ],
      "text/latex": [
       "\\begin{enumerate*}\n",
       "\\item 0\n",
       "\\item 1\n",
       "\\item 2\n",
       "\\item 5\n",
       "\\item 5\n",
       "\\item 3\n",
       "\\item 4\n",
       "\\end{enumerate*}\n"
      ],
      "text/markdown": [
       "1. 0\n",
       "2. 1\n",
       "3. 2\n",
       "4. 5\n",
       "5. 5\n",
       "6. 3\n",
       "7. 4\n",
       "\n",
       "\n"
      ],
      "text/plain": [
       "[1] 0 1 2 5 5 3 4"
      ]
     },
     "metadata": {},
     "output_type": "display_data"
    }
   ],
   "source": [
    "nombres = append(nombres, 5, after=3) # En R on commence à compter à partir de 1. \n",
    "nombres"
   ]
  },
  {
   "cell_type": "markdown",
   "id": "efea264b-e709-46ce-893b-f8926203b23f",
   "metadata": {},
   "source": [
    "### On peut doubler les valeurs, trouver le maximum, le minimum et la moyenne."
   ]
  },
  {
   "cell_type": "code",
   "execution_count": 20,
   "id": "dd2ca7d9-23ae-498c-a7e8-bf3286d180af",
   "metadata": {},
   "outputs": [
    {
     "data": {
      "text/html": [
       "<style>\n",
       ".list-inline {list-style: none; margin:0; padding: 0}\n",
       ".list-inline>li {display: inline-block}\n",
       ".list-inline>li:not(:last-child)::after {content: \"\\00b7\"; padding: 0 .5ex}\n",
       "</style>\n",
       "<ol class=list-inline><li>0</li><li>2</li><li>4</li><li>10</li><li>10</li><li>6</li><li>8</li></ol>\n"
      ],
      "text/latex": [
       "\\begin{enumerate*}\n",
       "\\item 0\n",
       "\\item 2\n",
       "\\item 4\n",
       "\\item 10\n",
       "\\item 10\n",
       "\\item 6\n",
       "\\item 8\n",
       "\\end{enumerate*}\n"
      ],
      "text/markdown": [
       "1. 0\n",
       "2. 2\n",
       "3. 4\n",
       "4. 10\n",
       "5. 10\n",
       "6. 6\n",
       "7. 8\n",
       "\n",
       "\n"
      ],
      "text/plain": [
       "[1]  0  2  4 10 10  6  8"
      ]
     },
     "metadata": {},
     "output_type": "display_data"
    },
    {
     "data": {
      "text/html": [
       "5"
      ],
      "text/latex": [
       "5"
      ],
      "text/markdown": [
       "5"
      ],
      "text/plain": [
       "[1] 5"
      ]
     },
     "metadata": {},
     "output_type": "display_data"
    },
    {
     "data": {
      "text/html": [
       "0"
      ],
      "text/latex": [
       "0"
      ],
      "text/markdown": [
       "0"
      ],
      "text/plain": [
       "[1] 0"
      ]
     },
     "metadata": {},
     "output_type": "display_data"
    },
    {
     "data": {
      "text/html": [
       "2.85714285714286"
      ],
      "text/latex": [
       "2.85714285714286"
      ],
      "text/markdown": [
       "2.85714285714286"
      ],
      "text/plain": [
       "[1] 2.857143"
      ]
     },
     "metadata": {},
     "output_type": "display_data"
    }
   ],
   "source": [
    "2 * nombres ; max(nombres) ; min(nombres) ; mean(nombres)"
   ]
  },
  {
   "cell_type": "markdown",
   "id": "4c170420-10f2-4430-8430-f743042aa099",
   "metadata": {},
   "source": [
    "## **Exercice:**  \n",
    "### Créer un vecteur avec des données entre 0 et 100 avec un bon de 0.5."
   ]
  },
  {
   "cell_type": "code",
   "execution_count": 57,
   "id": "f110e833-f545-48c9-b621-e04026919fd7",
   "metadata": {},
   "outputs": [
    {
     "data": {
      "text/html": [
       "<style>\n",
       ".list-inline {list-style: none; margin:0; padding: 0}\n",
       ".list-inline>li {display: inline-block}\n",
       ".list-inline>li:not(:last-child)::after {content: \"\\00b7\"; padding: 0 .5ex}\n",
       "</style>\n",
       "<ol class=list-inline><li>0</li><li>0.5</li><li>1</li><li>1.5</li><li>2</li><li>2.5</li><li>3</li><li>3.5</li><li>4</li><li>4.5</li><li>5</li><li>5.5</li><li>6</li><li>6.5</li><li>7</li><li>7.5</li><li>8</li><li>8.5</li><li>9</li><li>9.5</li><li>10</li><li>10.5</li><li>11</li><li>11.5</li><li>12</li><li>12.5</li><li>13</li><li>13.5</li><li>14</li><li>14.5</li><li>15</li><li>15.5</li><li>16</li><li>16.5</li><li>17</li><li>17.5</li><li>18</li><li>18.5</li><li>19</li><li>19.5</li><li>20</li><li>20.5</li><li>21</li><li>21.5</li><li>22</li><li>22.5</li><li>23</li><li>23.5</li><li>24</li><li>24.5</li><li>25</li><li>25.5</li><li>26</li><li>26.5</li><li>27</li><li>27.5</li><li>28</li><li>28.5</li><li>29</li><li>29.5</li><li>30</li><li>30.5</li><li>31</li><li>31.5</li><li>32</li><li>32.5</li><li>33</li><li>33.5</li><li>34</li><li>34.5</li><li>35</li><li>35.5</li><li>36</li><li>36.5</li><li>37</li><li>37.5</li><li>38</li><li>38.5</li><li>39</li><li>39.5</li><li>40</li><li>40.5</li><li>41</li><li>41.5</li><li>42</li><li>42.5</li><li>43</li><li>43.5</li><li>44</li><li>44.5</li><li>45</li><li>45.5</li><li>46</li><li>46.5</li><li>47</li><li>47.5</li><li>48</li><li>48.5</li><li>49</li><li>49.5</li><li>50</li><li>50.5</li><li>51</li><li>51.5</li><li>52</li><li>52.5</li><li>53</li><li>53.5</li><li>54</li><li>54.5</li><li>55</li><li>55.5</li><li>56</li><li>56.5</li><li>57</li><li>57.5</li><li>58</li><li>58.5</li><li>59</li><li>59.5</li><li>60</li><li>60.5</li><li>61</li><li>61.5</li><li>62</li><li>62.5</li><li>63</li><li>63.5</li><li>64</li><li>64.5</li><li>65</li><li>65.5</li><li>66</li><li>66.5</li><li>67</li><li>67.5</li><li>68</li><li>68.5</li><li>69</li><li>69.5</li><li>70</li><li>70.5</li><li>71</li><li>71.5</li><li>72</li><li>72.5</li><li>73</li><li>73.5</li><li>74</li><li>74.5</li><li>75</li><li>75.5</li><li>76</li><li>76.5</li><li>77</li><li>77.5</li><li>78</li><li>78.5</li><li>79</li><li>79.5</li><li>80</li><li>80.5</li><li>81</li><li>81.5</li><li>82</li><li>82.5</li><li>83</li><li>83.5</li><li>84</li><li>84.5</li><li>85</li><li>85.5</li><li>86</li><li>86.5</li><li>87</li><li>87.5</li><li>88</li><li>88.5</li><li>89</li><li>89.5</li><li>90</li><li>90.5</li><li>91</li><li>91.5</li><li>92</li><li>92.5</li><li>93</li><li>93.5</li><li>94</li><li>94.5</li><li>95</li><li>95.5</li><li>96</li><li>96.5</li><li>97</li><li>97.5</li><li>98</li><li>98.5</li><li>99</li><li>99.5</li><li>100</li></ol>\n"
      ],
      "text/latex": [
       "\\begin{enumerate*}\n",
       "\\item 0\n",
       "\\item 0.5\n",
       "\\item 1\n",
       "\\item 1.5\n",
       "\\item 2\n",
       "\\item 2.5\n",
       "\\item 3\n",
       "\\item 3.5\n",
       "\\item 4\n",
       "\\item 4.5\n",
       "\\item 5\n",
       "\\item 5.5\n",
       "\\item 6\n",
       "\\item 6.5\n",
       "\\item 7\n",
       "\\item 7.5\n",
       "\\item 8\n",
       "\\item 8.5\n",
       "\\item 9\n",
       "\\item 9.5\n",
       "\\item 10\n",
       "\\item 10.5\n",
       "\\item 11\n",
       "\\item 11.5\n",
       "\\item 12\n",
       "\\item 12.5\n",
       "\\item 13\n",
       "\\item 13.5\n",
       "\\item 14\n",
       "\\item 14.5\n",
       "\\item 15\n",
       "\\item 15.5\n",
       "\\item 16\n",
       "\\item 16.5\n",
       "\\item 17\n",
       "\\item 17.5\n",
       "\\item 18\n",
       "\\item 18.5\n",
       "\\item 19\n",
       "\\item 19.5\n",
       "\\item 20\n",
       "\\item 20.5\n",
       "\\item 21\n",
       "\\item 21.5\n",
       "\\item 22\n",
       "\\item 22.5\n",
       "\\item 23\n",
       "\\item 23.5\n",
       "\\item 24\n",
       "\\item 24.5\n",
       "\\item 25\n",
       "\\item 25.5\n",
       "\\item 26\n",
       "\\item 26.5\n",
       "\\item 27\n",
       "\\item 27.5\n",
       "\\item 28\n",
       "\\item 28.5\n",
       "\\item 29\n",
       "\\item 29.5\n",
       "\\item 30\n",
       "\\item 30.5\n",
       "\\item 31\n",
       "\\item 31.5\n",
       "\\item 32\n",
       "\\item 32.5\n",
       "\\item 33\n",
       "\\item 33.5\n",
       "\\item 34\n",
       "\\item 34.5\n",
       "\\item 35\n",
       "\\item 35.5\n",
       "\\item 36\n",
       "\\item 36.5\n",
       "\\item 37\n",
       "\\item 37.5\n",
       "\\item 38\n",
       "\\item 38.5\n",
       "\\item 39\n",
       "\\item 39.5\n",
       "\\item 40\n",
       "\\item 40.5\n",
       "\\item 41\n",
       "\\item 41.5\n",
       "\\item 42\n",
       "\\item 42.5\n",
       "\\item 43\n",
       "\\item 43.5\n",
       "\\item 44\n",
       "\\item 44.5\n",
       "\\item 45\n",
       "\\item 45.5\n",
       "\\item 46\n",
       "\\item 46.5\n",
       "\\item 47\n",
       "\\item 47.5\n",
       "\\item 48\n",
       "\\item 48.5\n",
       "\\item 49\n",
       "\\item 49.5\n",
       "\\item 50\n",
       "\\item 50.5\n",
       "\\item 51\n",
       "\\item 51.5\n",
       "\\item 52\n",
       "\\item 52.5\n",
       "\\item 53\n",
       "\\item 53.5\n",
       "\\item 54\n",
       "\\item 54.5\n",
       "\\item 55\n",
       "\\item 55.5\n",
       "\\item 56\n",
       "\\item 56.5\n",
       "\\item 57\n",
       "\\item 57.5\n",
       "\\item 58\n",
       "\\item 58.5\n",
       "\\item 59\n",
       "\\item 59.5\n",
       "\\item 60\n",
       "\\item 60.5\n",
       "\\item 61\n",
       "\\item 61.5\n",
       "\\item 62\n",
       "\\item 62.5\n",
       "\\item 63\n",
       "\\item 63.5\n",
       "\\item 64\n",
       "\\item 64.5\n",
       "\\item 65\n",
       "\\item 65.5\n",
       "\\item 66\n",
       "\\item 66.5\n",
       "\\item 67\n",
       "\\item 67.5\n",
       "\\item 68\n",
       "\\item 68.5\n",
       "\\item 69\n",
       "\\item 69.5\n",
       "\\item 70\n",
       "\\item 70.5\n",
       "\\item 71\n",
       "\\item 71.5\n",
       "\\item 72\n",
       "\\item 72.5\n",
       "\\item 73\n",
       "\\item 73.5\n",
       "\\item 74\n",
       "\\item 74.5\n",
       "\\item 75\n",
       "\\item 75.5\n",
       "\\item 76\n",
       "\\item 76.5\n",
       "\\item 77\n",
       "\\item 77.5\n",
       "\\item 78\n",
       "\\item 78.5\n",
       "\\item 79\n",
       "\\item 79.5\n",
       "\\item 80\n",
       "\\item 80.5\n",
       "\\item 81\n",
       "\\item 81.5\n",
       "\\item 82\n",
       "\\item 82.5\n",
       "\\item 83\n",
       "\\item 83.5\n",
       "\\item 84\n",
       "\\item 84.5\n",
       "\\item 85\n",
       "\\item 85.5\n",
       "\\item 86\n",
       "\\item 86.5\n",
       "\\item 87\n",
       "\\item 87.5\n",
       "\\item 88\n",
       "\\item 88.5\n",
       "\\item 89\n",
       "\\item 89.5\n",
       "\\item 90\n",
       "\\item 90.5\n",
       "\\item 91\n",
       "\\item 91.5\n",
       "\\item 92\n",
       "\\item 92.5\n",
       "\\item 93\n",
       "\\item 93.5\n",
       "\\item 94\n",
       "\\item 94.5\n",
       "\\item 95\n",
       "\\item 95.5\n",
       "\\item 96\n",
       "\\item 96.5\n",
       "\\item 97\n",
       "\\item 97.5\n",
       "\\item 98\n",
       "\\item 98.5\n",
       "\\item 99\n",
       "\\item 99.5\n",
       "\\item 100\n",
       "\\end{enumerate*}\n"
      ],
      "text/markdown": [
       "1. 0\n",
       "2. 0.5\n",
       "3. 1\n",
       "4. 1.5\n",
       "5. 2\n",
       "6. 2.5\n",
       "7. 3\n",
       "8. 3.5\n",
       "9. 4\n",
       "10. 4.5\n",
       "11. 5\n",
       "12. 5.5\n",
       "13. 6\n",
       "14. 6.5\n",
       "15. 7\n",
       "16. 7.5\n",
       "17. 8\n",
       "18. 8.5\n",
       "19. 9\n",
       "20. 9.5\n",
       "21. 10\n",
       "22. 10.5\n",
       "23. 11\n",
       "24. 11.5\n",
       "25. 12\n",
       "26. 12.5\n",
       "27. 13\n",
       "28. 13.5\n",
       "29. 14\n",
       "30. 14.5\n",
       "31. 15\n",
       "32. 15.5\n",
       "33. 16\n",
       "34. 16.5\n",
       "35. 17\n",
       "36. 17.5\n",
       "37. 18\n",
       "38. 18.5\n",
       "39. 19\n",
       "40. 19.5\n",
       "41. 20\n",
       "42. 20.5\n",
       "43. 21\n",
       "44. 21.5\n",
       "45. 22\n",
       "46. 22.5\n",
       "47. 23\n",
       "48. 23.5\n",
       "49. 24\n",
       "50. 24.5\n",
       "51. 25\n",
       "52. 25.5\n",
       "53. 26\n",
       "54. 26.5\n",
       "55. 27\n",
       "56. 27.5\n",
       "57. 28\n",
       "58. 28.5\n",
       "59. 29\n",
       "60. 29.5\n",
       "61. 30\n",
       "62. 30.5\n",
       "63. 31\n",
       "64. 31.5\n",
       "65. 32\n",
       "66. 32.5\n",
       "67. 33\n",
       "68. 33.5\n",
       "69. 34\n",
       "70. 34.5\n",
       "71. 35\n",
       "72. 35.5\n",
       "73. 36\n",
       "74. 36.5\n",
       "75. 37\n",
       "76. 37.5\n",
       "77. 38\n",
       "78. 38.5\n",
       "79. 39\n",
       "80. 39.5\n",
       "81. 40\n",
       "82. 40.5\n",
       "83. 41\n",
       "84. 41.5\n",
       "85. 42\n",
       "86. 42.5\n",
       "87. 43\n",
       "88. 43.5\n",
       "89. 44\n",
       "90. 44.5\n",
       "91. 45\n",
       "92. 45.5\n",
       "93. 46\n",
       "94. 46.5\n",
       "95. 47\n",
       "96. 47.5\n",
       "97. 48\n",
       "98. 48.5\n",
       "99. 49\n",
       "100. 49.5\n",
       "101. 50\n",
       "102. 50.5\n",
       "103. 51\n",
       "104. 51.5\n",
       "105. 52\n",
       "106. 52.5\n",
       "107. 53\n",
       "108. 53.5\n",
       "109. 54\n",
       "110. 54.5\n",
       "111. 55\n",
       "112. 55.5\n",
       "113. 56\n",
       "114. 56.5\n",
       "115. 57\n",
       "116. 57.5\n",
       "117. 58\n",
       "118. 58.5\n",
       "119. 59\n",
       "120. 59.5\n",
       "121. 60\n",
       "122. 60.5\n",
       "123. 61\n",
       "124. 61.5\n",
       "125. 62\n",
       "126. 62.5\n",
       "127. 63\n",
       "128. 63.5\n",
       "129. 64\n",
       "130. 64.5\n",
       "131. 65\n",
       "132. 65.5\n",
       "133. 66\n",
       "134. 66.5\n",
       "135. 67\n",
       "136. 67.5\n",
       "137. 68\n",
       "138. 68.5\n",
       "139. 69\n",
       "140. 69.5\n",
       "141. 70\n",
       "142. 70.5\n",
       "143. 71\n",
       "144. 71.5\n",
       "145. 72\n",
       "146. 72.5\n",
       "147. 73\n",
       "148. 73.5\n",
       "149. 74\n",
       "150. 74.5\n",
       "151. 75\n",
       "152. 75.5\n",
       "153. 76\n",
       "154. 76.5\n",
       "155. 77\n",
       "156. 77.5\n",
       "157. 78\n",
       "158. 78.5\n",
       "159. 79\n",
       "160. 79.5\n",
       "161. 80\n",
       "162. 80.5\n",
       "163. 81\n",
       "164. 81.5\n",
       "165. 82\n",
       "166. 82.5\n",
       "167. 83\n",
       "168. 83.5\n",
       "169. 84\n",
       "170. 84.5\n",
       "171. 85\n",
       "172. 85.5\n",
       "173. 86\n",
       "174. 86.5\n",
       "175. 87\n",
       "176. 87.5\n",
       "177. 88\n",
       "178. 88.5\n",
       "179. 89\n",
       "180. 89.5\n",
       "181. 90\n",
       "182. 90.5\n",
       "183. 91\n",
       "184. 91.5\n",
       "185. 92\n",
       "186. 92.5\n",
       "187. 93\n",
       "188. 93.5\n",
       "189. 94\n",
       "190. 94.5\n",
       "191. 95\n",
       "192. 95.5\n",
       "193. 96\n",
       "194. 96.5\n",
       "195. 97\n",
       "196. 97.5\n",
       "197. 98\n",
       "198. 98.5\n",
       "199. 99\n",
       "200. 99.5\n",
       "201. 100\n",
       "\n",
       "\n"
      ],
      "text/plain": [
       "  [1]   0.0   0.5   1.0   1.5   2.0   2.5   3.0   3.5   4.0   4.5   5.0   5.5\n",
       " [13]   6.0   6.5   7.0   7.5   8.0   8.5   9.0   9.5  10.0  10.5  11.0  11.5\n",
       " [25]  12.0  12.5  13.0  13.5  14.0  14.5  15.0  15.5  16.0  16.5  17.0  17.5\n",
       " [37]  18.0  18.5  19.0  19.5  20.0  20.5  21.0  21.5  22.0  22.5  23.0  23.5\n",
       " [49]  24.0  24.5  25.0  25.5  26.0  26.5  27.0  27.5  28.0  28.5  29.0  29.5\n",
       " [61]  30.0  30.5  31.0  31.5  32.0  32.5  33.0  33.5  34.0  34.5  35.0  35.5\n",
       " [73]  36.0  36.5  37.0  37.5  38.0  38.5  39.0  39.5  40.0  40.5  41.0  41.5\n",
       " [85]  42.0  42.5  43.0  43.5  44.0  44.5  45.0  45.5  46.0  46.5  47.0  47.5\n",
       " [97]  48.0  48.5  49.0  49.5  50.0  50.5  51.0  51.5  52.0  52.5  53.0  53.5\n",
       "[109]  54.0  54.5  55.0  55.5  56.0  56.5  57.0  57.5  58.0  58.5  59.0  59.5\n",
       "[121]  60.0  60.5  61.0  61.5  62.0  62.5  63.0  63.5  64.0  64.5  65.0  65.5\n",
       "[133]  66.0  66.5  67.0  67.5  68.0  68.5  69.0  69.5  70.0  70.5  71.0  71.5\n",
       "[145]  72.0  72.5  73.0  73.5  74.0  74.5  75.0  75.5  76.0  76.5  77.0  77.5\n",
       "[157]  78.0  78.5  79.0  79.5  80.0  80.5  81.0  81.5  82.0  82.5  83.0  83.5\n",
       "[169]  84.0  84.5  85.0  85.5  86.0  86.5  87.0  87.5  88.0  88.5  89.0  89.5\n",
       "[181]  90.0  90.5  91.0  91.5  92.0  92.5  93.0  93.5  94.0  94.5  95.0  95.5\n",
       "[193]  96.0  96.5  97.0  97.5  98.0  98.5  99.0  99.5 100.0"
      ]
     },
     "metadata": {},
     "output_type": "display_data"
    }
   ],
   "source": [
    "vecteur = seq(0, 100, by=0.5)\n",
    "vecteur"
   ]
  },
  {
   "cell_type": "markdown",
   "id": "e92bbfff-05dd-4810-8c62-848c80b81a52",
   "metadata": {},
   "source": [
    "---\n",
    "## Les listes"
   ]
  },
  {
   "cell_type": "markdown",
   "id": "c61a7d1d-1237-45af-8995-a8231b87cf2a",
   "metadata": {},
   "source": [
    "### Contrairement aux vecteurs atomiques, les listes ne sont pas restreintes à un seul mode."
   ]
  },
  {
   "cell_type": "code",
   "execution_count": 29,
   "id": "67a0e422-d06a-4664-8e5b-6e7266804c12",
   "metadata": {},
   "outputs": [],
   "source": [
    "liste1 = list(1, \"a\", TRUE, 1+4i)"
   ]
  },
  {
   "cell_type": "code",
   "execution_count": 30,
   "id": "d040daff-167f-456c-bac5-f836b5b1f520",
   "metadata": {},
   "outputs": [
    {
     "data": {
      "text/html": [
       "<ol>\n",
       "\t<li>1</li>\n",
       "\t<li>'a'</li>\n",
       "\t<li>TRUE</li>\n",
       "\t<li>1+4i</li>\n",
       "</ol>\n"
      ],
      "text/latex": [
       "\\begin{enumerate}\n",
       "\\item 1\n",
       "\\item 'a'\n",
       "\\item TRUE\n",
       "\\item 1+4i\n",
       "\\end{enumerate}\n"
      ],
      "text/markdown": [
       "1. 1\n",
       "2. 'a'\n",
       "3. TRUE\n",
       "4. 1+4i\n",
       "\n",
       "\n"
      ],
      "text/plain": [
       "[[1]]\n",
       "[1] 1\n",
       "\n",
       "[[2]]\n",
       "[1] \"a\"\n",
       "\n",
       "[[3]]\n",
       "[1] TRUE\n",
       "\n",
       "[[4]]\n",
       "[1] 1+4i\n"
      ]
     },
     "metadata": {},
     "output_type": "display_data"
    },
    {
     "data": {
      "text/html": [
       "'list'"
      ],
      "text/latex": [
       "'list'"
      ],
      "text/markdown": [
       "'list'"
      ],
      "text/plain": [
       "[1] \"list\""
      ]
     },
     "metadata": {},
     "output_type": "display_data"
    }
   ],
   "source": [
    "liste1\n",
    "class(liste1)"
   ]
  },
  {
   "cell_type": "markdown",
   "id": "d77afb70-d9f8-4565-bf8d-8fae9ae8d69a",
   "metadata": {},
   "source": [
    "### On peut créer une liste vide avec la fonction vector."
   ]
  },
  {
   "cell_type": "code",
   "execution_count": 31,
   "id": "db92a8b2-550c-46fe-98a6-fbe56ded0139",
   "metadata": {},
   "outputs": [
    {
     "data": {
      "text/html": [
       "5"
      ],
      "text/latex": [
       "5"
      ],
      "text/markdown": [
       "5"
      ],
      "text/plain": [
       "[1] 5"
      ]
     },
     "metadata": {},
     "output_type": "display_data"
    }
   ],
   "source": [
    "liste2 = vector(\"list\", length = 5) # empty list\n",
    "length(liste2)"
   ]
  },
  {
   "cell_type": "markdown",
   "id": "0a9c6109-a84b-4aea-b739-e6421aaa483c",
   "metadata": {},
   "source": [
    "### On peut aller chercher le contenu d'un élément de la liste."
   ]
  },
  {
   "cell_type": "code",
   "execution_count": 32,
   "id": "b2a32d2a-bce8-4f01-8533-c3118731c794",
   "metadata": {},
   "outputs": [
    {
     "data": {
      "text/html": [
       "'a'"
      ],
      "text/latex": [
       "'a'"
      ],
      "text/markdown": [
       "'a'"
      ],
      "text/plain": [
       "[1] \"a\""
      ]
     },
     "metadata": {},
     "output_type": "display_data"
    },
    {
     "data": {
      "text/plain": [
       "NULL"
      ]
     },
     "metadata": {},
     "output_type": "display_data"
    }
   ],
   "source": [
    "liste1[[2]] ; liste2[[1]]"
   ]
  },
  {
   "cell_type": "markdown",
   "id": "fb6944c8-54f7-4ba5-bb38-14e37784bda2",
   "metadata": {},
   "source": [
    "### On peut transformer un vecteur en liste."
   ]
  },
  {
   "cell_type": "code",
   "execution_count": 34,
   "id": "89f92319-d30a-41f2-b097-71b99eecba88",
   "metadata": {},
   "outputs": [
    {
     "data": {
      "text/html": [
       "'integer'"
      ],
      "text/latex": [
       "'integer'"
      ],
      "text/markdown": [
       "'integer'"
      ],
      "text/plain": [
       "[1] \"integer\""
      ]
     },
     "metadata": {},
     "output_type": "display_data"
    },
    {
     "data": {
      "text/html": [
       "'list'"
      ],
      "text/latex": [
       "'list'"
      ],
      "text/markdown": [
       "'list'"
      ],
      "text/plain": [
       "[1] \"list\""
      ]
     },
     "metadata": {},
     "output_type": "display_data"
    }
   ],
   "source": [
    "z = 1:10\n",
    "typeof(z)\n",
    "\n",
    "z = as.list(z)\n",
    "typeof(z)"
   ]
  },
  {
   "cell_type": "markdown",
   "id": "63245744-b4c1-4072-8811-7309c2587a37",
   "metadata": {},
   "source": [
    "### Les éléments d'une liste peuvent être nommés. Ce sont les attributs."
   ]
  },
  {
   "cell_type": "code",
   "execution_count": 36,
   "id": "597d9d9c-4b18-40b1-b1dd-a3c0a8adbf39",
   "metadata": {},
   "outputs": [
    {
     "data": {
      "text/html": [
       "<dl>\n",
       "\t<dt>$nom</dt>\n",
       "\t\t<dd>'Helene'</dd>\n",
       "\t<dt>$intervalle</dt>\n",
       "\t\t<dd><style>\n",
       ".list-inline {list-style: none; margin:0; padding: 0}\n",
       ".list-inline>li {display: inline-block}\n",
       ".list-inline>li:not(:last-child)::after {content: \"\\00b7\"; padding: 0 .5ex}\n",
       "</style>\n",
       "<ol class=list-inline><li>1</li><li>2</li><li>3</li><li>4</li><li>5</li><li>6</li><li>7</li><li>8</li><li>9</li><li>10</li></ol>\n",
       "</dd>\n",
       "\t<dt>$liste</dt>\n",
       "\t\t<dd><ol>\n",
       "\t<li>1</li>\n",
       "\t<li>2</li>\n",
       "\t<li>3</li>\n",
       "\t<li>4</li>\n",
       "\t<li>5</li>\n",
       "\t<li>6</li>\n",
       "\t<li>7</li>\n",
       "\t<li>8</li>\n",
       "\t<li>9</li>\n",
       "\t<li>10</li>\n",
       "</ol>\n",
       "</dd>\n",
       "</dl>\n"
      ],
      "text/latex": [
       "\\begin{description}\n",
       "\\item[\\$nom] 'Helene'\n",
       "\\item[\\$intervalle] \\begin{enumerate*}\n",
       "\\item 1\n",
       "\\item 2\n",
       "\\item 3\n",
       "\\item 4\n",
       "\\item 5\n",
       "\\item 6\n",
       "\\item 7\n",
       "\\item 8\n",
       "\\item 9\n",
       "\\item 10\n",
       "\\end{enumerate*}\n",
       "\n",
       "\\item[\\$liste] \\begin{enumerate}\n",
       "\\item 1\n",
       "\\item 2\n",
       "\\item 3\n",
       "\\item 4\n",
       "\\item 5\n",
       "\\item 6\n",
       "\\item 7\n",
       "\\item 8\n",
       "\\item 9\n",
       "\\item 10\n",
       "\\end{enumerate}\n",
       "\n",
       "\\end{description}\n"
      ],
      "text/markdown": [
       "$nom\n",
       ":   'Helene'\n",
       "$intervalle\n",
       ":   1. 1\n",
       "2. 2\n",
       "3. 3\n",
       "4. 4\n",
       "5. 5\n",
       "6. 6\n",
       "7. 7\n",
       "8. 8\n",
       "9. 9\n",
       "10. 10\n",
       "\n",
       "\n",
       "\n",
       "$liste\n",
       ":   1. 1\n",
       "2. 2\n",
       "3. 3\n",
       "4. 4\n",
       "5. 5\n",
       "6. 6\n",
       "7. 7\n",
       "8. 8\n",
       "9. 9\n",
       "10. 10\n",
       "\n",
       "\n",
       "\n",
       "\n",
       "\n"
      ],
      "text/plain": [
       "$nom\n",
       "[1] \"Helene\"\n",
       "\n",
       "$intervalle\n",
       " [1]  1  2  3  4  5  6  7  8  9 10\n",
       "\n",
       "$liste\n",
       "$liste[[1]]\n",
       "[1] 1\n",
       "\n",
       "$liste[[2]]\n",
       "[1] 2\n",
       "\n",
       "$liste[[3]]\n",
       "[1] 3\n",
       "\n",
       "$liste[[4]]\n",
       "[1] 4\n",
       "\n",
       "$liste[[5]]\n",
       "[1] 5\n",
       "\n",
       "$liste[[6]]\n",
       "[1] 6\n",
       "\n",
       "$liste[[7]]\n",
       "[1] 7\n",
       "\n",
       "$liste[[8]]\n",
       "[1] 8\n",
       "\n",
       "$liste[[9]]\n",
       "[1] 9\n",
       "\n",
       "$liste[[10]]\n",
       "[1] 10\n",
       "\n"
      ]
     },
     "metadata": {},
     "output_type": "display_data"
    }
   ],
   "source": [
    "ma_liste = list(\"Helene\", 1:10, z)\n",
    "ma_liste = list(nom = \"Helene\", intervalle = 1:10, liste = z)\n",
    "ma_liste"
   ]
  },
  {
   "cell_type": "code",
   "execution_count": 37,
   "id": "1c3fb0b7-7aaa-453d-b3f3-ba80383196e3",
   "metadata": {},
   "outputs": [
    {
     "data": {
      "text/html": [
       "<strong>$names</strong> = <style>\n",
       ".list-inline {list-style: none; margin:0; padding: 0}\n",
       ".list-inline>li {display: inline-block}\n",
       ".list-inline>li:not(:last-child)::after {content: \"\\00b7\"; padding: 0 .5ex}\n",
       "</style>\n",
       "<ol class=list-inline><li>'nom'</li><li>'intervalle'</li><li>'liste'</li></ol>\n"
      ],
      "text/latex": [
       "\\textbf{\\$names} = \\begin{enumerate*}\n",
       "\\item 'nom'\n",
       "\\item 'intervalle'\n",
       "\\item 'liste'\n",
       "\\end{enumerate*}\n"
      ],
      "text/markdown": [
       "**$names** = 1. 'nom'\n",
       "2. 'intervalle'\n",
       "3. 'liste'\n",
       "\n",
       "\n"
      ],
      "text/plain": [
       "$names\n",
       "[1] \"nom\"        \"intervalle\" \"liste\"     \n"
      ]
     },
     "metadata": {},
     "output_type": "display_data"
    },
    {
     "data": {
      "text/html": [
       "<style>\n",
       ".list-inline {list-style: none; margin:0; padding: 0}\n",
       ".list-inline>li {display: inline-block}\n",
       ".list-inline>li:not(:last-child)::after {content: \"\\00b7\"; padding: 0 .5ex}\n",
       "</style>\n",
       "<ol class=list-inline><li>'nom'</li><li>'intervalle'</li><li>'liste'</li></ol>\n"
      ],
      "text/latex": [
       "\\begin{enumerate*}\n",
       "\\item 'nom'\n",
       "\\item 'intervalle'\n",
       "\\item 'liste'\n",
       "\\end{enumerate*}\n"
      ],
      "text/markdown": [
       "1. 'nom'\n",
       "2. 'intervalle'\n",
       "3. 'liste'\n",
       "\n",
       "\n"
      ],
      "text/plain": [
       "[1] \"nom\"        \"intervalle\" \"liste\"     "
      ]
     },
     "metadata": {},
     "output_type": "display_data"
    },
    {
     "data": {
      "text/plain": [
       "NULL"
      ]
     },
     "metadata": {},
     "output_type": "display_data"
    }
   ],
   "source": [
    "attributes(ma_liste)\n",
    "\n",
    "names(ma_liste)\n",
    "\n",
    "dim(ma_liste)"
   ]
  },
  {
   "cell_type": "markdown",
   "id": "7a8b73f4-4fa2-41fc-b7e8-0a279bada65c",
   "metadata": {},
   "source": [
    "## **Exercice:** \n",
    "### Transformer le vecteur de l'exercice précédent en liste et affichier le type."
   ]
  },
  {
   "cell_type": "code",
   "execution_count": 59,
   "id": "55495a3b-8b1d-42eb-8fad-93be215f8337",
   "metadata": {},
   "outputs": [
    {
     "data": {
      "text/html": [
       "'list'"
      ],
      "text/latex": [
       "'list'"
      ],
      "text/markdown": [
       "'list'"
      ],
      "text/plain": [
       "[1] \"list\""
      ]
     },
     "metadata": {},
     "output_type": "display_data"
    }
   ],
   "source": [
    "vecteur = as.list(vecteur)\n",
    "typeof(vecteur)"
   ]
  },
  {
   "cell_type": "markdown",
   "id": "74064cf3-cf91-4d1a-be85-1c1deee66440",
   "metadata": {},
   "source": [
    "---\n",
    "## La matrice\n",
    "### Le R étant un langage spécialisé pour les calculs mathématiques, il supporte tout naturellement et de manière intuitive les matrices et, plus généralement, les tableaux à plusieurs dimensions.\n",
    "### C'est simplement un vecteur atomic avec dimentions (rangées et colonnes).\n",
    "### Les éléments doivent être de même type.\n",
    "### Les matrices et tableaux ne sont rien d’autre que des vecteurs dotés d’un attribut *dim*. \n",
    "### Ces objets sont donc stockés, et peuvent être manipulés, exactement comme des vecteurs simples."
   ]
  },
  {
   "cell_type": "code",
   "execution_count": 106,
   "id": "d147833a-13f5-4b8f-8fb0-57f26a39ec52",
   "metadata": {},
   "outputs": [
    {
     "name": "stdout",
     "output_type": "stream",
     "text": [
      "     [,1] [,2] [,3] [,4] [,5]\n",
      "[1,]    1    3    5    7    9\n",
      "[2,]    2    4    6    8   10\n"
     ]
    },
    {
     "data": {
      "text/html": [
       "<style>\n",
       ".list-inline {list-style: none; margin:0; padding: 0}\n",
       ".list-inline>li {display: inline-block}\n",
       ".list-inline>li:not(:last-child)::after {content: \"\\00b7\"; padding: 0 .5ex}\n",
       "</style>\n",
       "<ol class=list-inline><li>2</li><li>5</li></ol>\n"
      ],
      "text/latex": [
       "\\begin{enumerate*}\n",
       "\\item 2\n",
       "\\item 5\n",
       "\\end{enumerate*}\n"
      ],
      "text/markdown": [
       "1. 2\n",
       "2. 5\n",
       "\n",
       "\n"
      ],
      "text/plain": [
       "[1] 2 5"
      ]
     },
     "metadata": {},
     "output_type": "display_data"
    }
   ],
   "source": [
    "m = 1:10\n",
    "\n",
    "dim(m) = c(2, 5) # On prend le vecteur m, on distribue les valeurs en 2 rangées, 5 colonnes\n",
    "\n",
    "print(m)\n",
    "\n",
    "dim(m)"
   ]
  },
  {
   "cell_type": "code",
   "execution_count": 135,
   "id": "e3a1af47-a777-4ad3-a88e-8a7b3769e343",
   "metadata": {},
   "outputs": [
    {
     "data": {
      "text/html": [
       "<style>\n",
       ".list-inline {list-style: none; margin:0; padding: 0}\n",
       ".list-inline>li {display: inline-block}\n",
       ".list-inline>li:not(:last-child)::after {content: \"\\00b7\"; padding: 0 .5ex}\n",
       "</style>\n",
       "<ol class=list-inline><li>'matrix'</li><li>'array'</li></ol>\n"
      ],
      "text/latex": [
       "\\begin{enumerate*}\n",
       "\\item 'matrix'\n",
       "\\item 'array'\n",
       "\\end{enumerate*}\n"
      ],
      "text/markdown": [
       "1. 'matrix'\n",
       "2. 'array'\n",
       "\n",
       "\n"
      ],
      "text/plain": [
       "[1] \"matrix\" \"array\" "
      ]
     },
     "metadata": {},
     "output_type": "display_data"
    },
    {
     "name": "stdout",
     "output_type": "stream",
     "text": [
      "     [,1]\n",
      "[1,]    2\n",
      "[2,]    3\n",
      "[3,]    4\n"
     ]
    }
   ],
   "source": [
    "n = matrix(c(2:4)) # une dimention avec un interval 2 à 4.\n",
    "class(n)\n",
    "print(n)"
   ]
  },
  {
   "cell_type": "code",
   "execution_count": 100,
   "id": "2055120c-4aa3-4569-aee6-1f47924e52b2",
   "metadata": {},
   "outputs": [
    {
     "data": {
      "text/html": [
       "'integer'"
      ],
      "text/latex": [
       "'integer'"
      ],
      "text/markdown": [
       "'integer'"
      ],
      "text/plain": [
       "[1] \"integer\""
      ]
     },
     "metadata": {},
     "output_type": "display_data"
    }
   ],
   "source": [
    "typeof(n)"
   ]
  },
  {
   "cell_type": "markdown",
   "id": "5781ed79-fc9a-4023-beef-6246194e24da",
   "metadata": {},
   "source": [
    "### On peut aller chercher un élément de la matrice."
   ]
  },
  {
   "cell_type": "code",
   "execution_count": 137,
   "id": "3d9c3db9-09e4-4353-a397-4a9dabab7fa2",
   "metadata": {},
   "outputs": [
    {
     "data": {
      "text/html": [
       "6"
      ],
      "text/latex": [
       "6"
      ],
      "text/markdown": [
       "6"
      ],
      "text/plain": [
       "[1] 6"
      ]
     },
     "metadata": {},
     "output_type": "display_data"
    }
   ],
   "source": [
    "m[2,3] #rangée 2, colonne 3."
   ]
  },
  {
   "cell_type": "markdown",
   "id": "85e2ae33-a0ce-4c6a-b505-7a4ee08623ee",
   "metadata": {},
   "source": [
    "### Autre façon de construire une matrice, la fonction `cbind` ou `rbind`."
   ]
  },
  {
   "cell_type": "code",
   "execution_count": 48,
   "id": "367c7618-2fc1-48ec-8949-ee5af3132cfc",
   "metadata": {},
   "outputs": [],
   "source": [
    "x = 1:3\n",
    "y = 10:12"
   ]
  },
  {
   "cell_type": "code",
   "execution_count": 49,
   "id": "50286a2a-6840-4466-8e0a-00107e844dcf",
   "metadata": {},
   "outputs": [
    {
     "name": "stdout",
     "output_type": "stream",
     "text": [
      "     x  y\n",
      "[1,] 1 10\n",
      "[2,] 2 11\n",
      "[3,] 3 12\n"
     ]
    }
   ],
   "source": [
    "print(cbind(x, y))"
   ]
  },
  {
   "cell_type": "code",
   "execution_count": 50,
   "id": "58fc96ad-9c69-4f6a-b9a1-f371b29da3b8",
   "metadata": {},
   "outputs": [
    {
     "name": "stdout",
     "output_type": "stream",
     "text": [
      "  [,1] [,2] [,3]\n",
      "x    1    2    3\n",
      "y   10   11   12\n"
     ]
    }
   ],
   "source": [
    "print(rbind(x, y))"
   ]
  },
  {
   "cell_type": "markdown",
   "id": "8891040a-1bf6-4ad9-afad-ad5cfb0eba3c",
   "metadata": {},
   "source": [
    "### Une matrice de plus de 2 dimentions est appelé tableau (*array*)."
   ]
  },
  {
   "cell_type": "code",
   "execution_count": 53,
   "id": "acbbd6b1-3386-4986-a7d7-b0412326431c",
   "metadata": {},
   "outputs": [
    {
     "name": "stdout",
     "output_type": "stream",
     "text": [
      ", , 1\n",
      "\n",
      "     [,1] [,2] [,3]\n",
      "[1,]    5    3   10\n",
      "[2,]    9    4   11\n",
      "\n",
      ", , 2\n",
      "\n",
      "     [,1] [,2] [,3]\n",
      "[1,]   12   14    5\n",
      "[2,]   13   15    9\n",
      "\n",
      ", , 3\n",
      "\n",
      "     [,1] [,2] [,3]\n",
      "[1,]    3   10   12\n",
      "[2,]    4   11   13\n",
      "\n",
      ", , 4\n",
      "\n",
      "     [,1] [,2] [,3]\n",
      "[1,]   14    5    3\n",
      "[2,]   15    9    4\n",
      "\n"
     ]
    },
    {
     "data": {
      "text/html": [
       "<style>\n",
       ".list-inline {list-style: none; margin:0; padding: 0}\n",
       ".list-inline>li {display: inline-block}\n",
       ".list-inline>li:not(:last-child)::after {content: \"\\00b7\"; padding: 0 .5ex}\n",
       "</style>\n",
       "<ol class=list-inline><li>5</li><li>9</li><li>3</li><li>4</li><li>10</li><li>11</li><li>12</li><li>13</li><li>14</li><li>15</li><li>5</li><li>9</li><li>3</li><li>4</li><li>10</li><li>11</li><li>12</li><li>13</li><li>14</li><li>15</li><li>5</li><li>9</li><li>3</li><li>4</li></ol>\n"
      ],
      "text/latex": [
       "\\begin{enumerate*}\n",
       "\\item 5\n",
       "\\item 9\n",
       "\\item 3\n",
       "\\item 4\n",
       "\\item 10\n",
       "\\item 11\n",
       "\\item 12\n",
       "\\item 13\n",
       "\\item 14\n",
       "\\item 15\n",
       "\\item 5\n",
       "\\item 9\n",
       "\\item 3\n",
       "\\item 4\n",
       "\\item 10\n",
       "\\item 11\n",
       "\\item 12\n",
       "\\item 13\n",
       "\\item 14\n",
       "\\item 15\n",
       "\\item 5\n",
       "\\item 9\n",
       "\\item 3\n",
       "\\item 4\n",
       "\\end{enumerate*}\n"
      ],
      "text/markdown": [
       "1. 5\n",
       "2. 9\n",
       "3. 3\n",
       "4. 4\n",
       "5. 10\n",
       "6. 11\n",
       "7. 12\n",
       "8. 13\n",
       "9. 14\n",
       "10. 15\n",
       "11. 5\n",
       "12. 9\n",
       "13. 3\n",
       "14. 4\n",
       "15. 10\n",
       "16. 11\n",
       "17. 12\n",
       "18. 13\n",
       "19. 14\n",
       "20. 15\n",
       "21. 5\n",
       "22. 9\n",
       "23. 3\n",
       "24. 4\n",
       "\n",
       "\n"
      ],
      "text/plain": [
       ", , 1\n",
       "\n",
       "     [,1] [,2] [,3]\n",
       "[1,]    5    3   10\n",
       "[2,]    9    4   11\n",
       "\n",
       ", , 2\n",
       "\n",
       "     [,1] [,2] [,3]\n",
       "[1,]   12   14    5\n",
       "[2,]   13   15    9\n",
       "\n",
       ", , 3\n",
       "\n",
       "     [,1] [,2] [,3]\n",
       "[1,]    3   10   12\n",
       "[2,]    4   11   13\n",
       "\n",
       ", , 4\n",
       "\n",
       "     [,1] [,2] [,3]\n",
       "[1,]   14    5    3\n",
       "[2,]   15    9    4\n"
      ]
     },
     "metadata": {},
     "output_type": "display_data"
    }
   ],
   "source": [
    "vector1 = c(5, 9, 3, 4)\n",
    "vector2 = c(10, 11, 12, 13, 14, 15)\n",
    "resultat = array(c(vector1, vector2), dim = c(2, 3, 4)) # rangée, colonne, dimention\n",
    "print(resultat)\n",
    "resultat"
   ]
  },
  {
   "cell_type": "markdown",
   "id": "84d53d92-74ea-4f81-8534-2f6c9a0a7dad",
   "metadata": {},
   "source": [
    "### On peut aller chercher un élément dans un tableau."
   ]
  },
  {
   "cell_type": "code",
   "execution_count": 54,
   "id": "c8e60bb6-be11-4efa-9c1b-bd846f9def17",
   "metadata": {},
   "outputs": [
    {
     "data": {
      "text/html": [
       "3"
      ],
      "text/latex": [
       "3"
      ],
      "text/markdown": [
       "3"
      ],
      "text/plain": [
       "[1] 3"
      ]
     },
     "metadata": {},
     "output_type": "display_data"
    }
   ],
   "source": [
    "resultat[1, 2, 1] # première rangée, deuxième colonne, première dimention ; resultat[1, 2, 2]"
   ]
  },
  {
   "cell_type": "markdown",
   "id": "7e019803-78ba-4055-b964-3517e2280fe5",
   "metadata": {},
   "source": [
    "## **Exercice:** \n",
    "### Que doit-on modifier pour avoir une matrice en trois dimentions?"
   ]
  },
  {
   "cell_type": "code",
   "execution_count": null,
   "id": "e267792b-9c4f-43f7-87f8-f48d9a2c6c05",
   "metadata": {},
   "outputs": [],
   "source": [
    "vector1 = c(5, 9, 3, 4)\n",
    "vector2 = c(10, 11, 12, 13, 14, 15)\n",
    "resultat = array(c(vector1, vector2), dim = c(3, 3, 2))\n",
    "print(resultat)\n",
    "resultat"
   ]
  },
  {
   "cell_type": "markdown",
   "id": "67be94d3-e557-480f-9166-4576a2c1fa9c",
   "metadata": {},
   "source": [
    "---\n",
    "## *Data frame*\n",
    "### Le *Data frames* est une importante structure de donnée pour le R.\n",
    "### C'est le type de structure pour la plupart des données tabulées utilisées en statistique.\n",
    "### On peut créer un data frame avec les fonctions `read.csv()` ou `read.table()` quand on importe des données.\n",
    "### On peur créer un data frame avec la fonction `data.frame()`."
   ]
  },
  {
   "cell_type": "code",
   "execution_count": 112,
   "id": "b1c88c5c-0f32-49de-9322-dacd45f35f75",
   "metadata": {},
   "outputs": [
    {
     "name": "stdout",
     "output_type": "stream",
     "text": [
      "   id  x  y\n",
      "1   a  1 11\n",
      "2   b  2 12\n",
      "3   c  3 13\n",
      "4   d  4 14\n",
      "5   e  5 15\n",
      "6   f  6 16\n",
      "7   g  7 17\n",
      "8   h  8 18\n",
      "9   i  9 19\n",
      "10  j 10 20\n"
     ]
    }
   ],
   "source": [
    "dat = data.frame(id = letters[1:10], x = 1:10, y = 11:20) # letters => constante vue plus haut.\n",
    "print(dat)"
   ]
  },
  {
   "cell_type": "markdown",
   "id": "3a22bd16-d325-489e-b058-96418baaf808",
   "metadata": {},
   "source": [
    "### Fonctions utiles pour le *data frame*.\n",
    "- #### `head()` - retourne les 6 premières rangées\n",
    "- #### `tail()` - retourne les 6 dernières rangées\n",
    "- #### `dim()` - retourne les dimentions du *data frame* (le nombre de rangée et de colonne)\n",
    "- #### `nrow()` - retourne le nombre de rangée\n",
    "- #### `ncol()` - retourne le nombre de colonne\n",
    "- #### `str()` - *structure of data frame* - retourne le nom et type de donnée avec un résumé de chaque colonne.\n",
    "- #### `names()` or `colnames()` - retourne les noms des attributs pour le *data frame*\n",
    "- #### `sapply(dataframe, class)` - retourne la classe de chaque colonne dans le *data frame*"
   ]
  },
  {
   "cell_type": "code",
   "execution_count": 113,
   "id": "c92d8a6c-ba6f-4239-bed0-c16d5f36bbf5",
   "metadata": {},
   "outputs": [
    {
     "data": {
      "text/html": [
       "<table class=\"dataframe\">\n",
       "<caption>A data.frame: 6 × 3</caption>\n",
       "<thead>\n",
       "\t<tr><th></th><th scope=col>id</th><th scope=col>x</th><th scope=col>y</th></tr>\n",
       "\t<tr><th></th><th scope=col>&lt;chr&gt;</th><th scope=col>&lt;int&gt;</th><th scope=col>&lt;int&gt;</th></tr>\n",
       "</thead>\n",
       "<tbody>\n",
       "\t<tr><th scope=row>1</th><td>a</td><td>1</td><td>11</td></tr>\n",
       "\t<tr><th scope=row>2</th><td>b</td><td>2</td><td>12</td></tr>\n",
       "\t<tr><th scope=row>3</th><td>c</td><td>3</td><td>13</td></tr>\n",
       "\t<tr><th scope=row>4</th><td>d</td><td>4</td><td>14</td></tr>\n",
       "\t<tr><th scope=row>5</th><td>e</td><td>5</td><td>15</td></tr>\n",
       "\t<tr><th scope=row>6</th><td>f</td><td>6</td><td>16</td></tr>\n",
       "</tbody>\n",
       "</table>\n"
      ],
      "text/latex": [
       "A data.frame: 6 × 3\n",
       "\\begin{tabular}{r|lll}\n",
       "  & id & x & y\\\\\n",
       "  & <chr> & <int> & <int>\\\\\n",
       "\\hline\n",
       "\t1 & a & 1 & 11\\\\\n",
       "\t2 & b & 2 & 12\\\\\n",
       "\t3 & c & 3 & 13\\\\\n",
       "\t4 & d & 4 & 14\\\\\n",
       "\t5 & e & 5 & 15\\\\\n",
       "\t6 & f & 6 & 16\\\\\n",
       "\\end{tabular}\n"
      ],
      "text/markdown": [
       "\n",
       "A data.frame: 6 × 3\n",
       "\n",
       "| <!--/--> | id &lt;chr&gt; | x &lt;int&gt; | y &lt;int&gt; |\n",
       "|---|---|---|---|\n",
       "| 1 | a | 1 | 11 |\n",
       "| 2 | b | 2 | 12 |\n",
       "| 3 | c | 3 | 13 |\n",
       "| 4 | d | 4 | 14 |\n",
       "| 5 | e | 5 | 15 |\n",
       "| 6 | f | 6 | 16 |\n",
       "\n"
      ],
      "text/plain": [
       "  id x y \n",
       "1 a  1 11\n",
       "2 b  2 12\n",
       "3 c  3 13\n",
       "4 d  4 14\n",
       "5 e  5 15\n",
       "6 f  6 16"
      ]
     },
     "metadata": {},
     "output_type": "display_data"
    }
   ],
   "source": [
    "head(dat)"
   ]
  },
  {
   "cell_type": "code",
   "execution_count": 114,
   "id": "88f94249-ae4f-46b5-946d-904b33eeedb4",
   "metadata": {},
   "outputs": [
    {
     "name": "stdout",
     "output_type": "stream",
     "text": [
      "'data.frame':\t10 obs. of  3 variables:\n",
      " $ id: chr  \"a\" \"b\" \"c\" \"d\" ...\n",
      " $ x : int  1 2 3 4 5 6 7 8 9 10\n",
      " $ y : int  11 12 13 14 15 16 17 18 19 20\n"
     ]
    }
   ],
   "source": [
    "str(dat)"
   ]
  },
  {
   "cell_type": "code",
   "execution_count": 115,
   "id": "d5b38b20-e0b2-4bae-932a-5143ca91371e",
   "metadata": {},
   "outputs": [
    {
     "data": {
      "text/html": [
       "'data.frame'"
      ],
      "text/latex": [
       "'data.frame'"
      ],
      "text/markdown": [
       "'data.frame'"
      ],
      "text/plain": [
       "[1] \"data.frame\""
      ]
     },
     "metadata": {},
     "output_type": "display_data"
    }
   ],
   "source": [
    "class(dat)"
   ]
  },
  {
   "cell_type": "markdown",
   "id": "36813a71-500e-416a-9a09-decd0298a46f",
   "metadata": {},
   "source": [
    "## **Exercice:** \n",
    "### Construire un *data frame* de 2 colonnes"
   ]
  },
  {
   "cell_type": "code",
   "execution_count": 62,
   "id": "5974c067-2b55-4f1a-b65c-19ca9a3a4806",
   "metadata": {},
   "outputs": [
    {
     "data": {
      "text/html": [
       "<table class=\"dataframe\">\n",
       "<caption>A data.frame: 12 × 2</caption>\n",
       "<thead>\n",
       "\t<tr><th scope=col>id</th><th scope=col>numero</th></tr>\n",
       "\t<tr><th scope=col>&lt;chr&gt;</th><th scope=col>&lt;int&gt;</th></tr>\n",
       "</thead>\n",
       "<tbody>\n",
       "\t<tr><td>Jan</td><td> 1</td></tr>\n",
       "\t<tr><td>Feb</td><td> 2</td></tr>\n",
       "\t<tr><td>Mar</td><td> 3</td></tr>\n",
       "\t<tr><td>Apr</td><td> 4</td></tr>\n",
       "\t<tr><td>May</td><td> 5</td></tr>\n",
       "\t<tr><td>Jun</td><td> 6</td></tr>\n",
       "\t<tr><td>Jul</td><td> 7</td></tr>\n",
       "\t<tr><td>Aug</td><td> 8</td></tr>\n",
       "\t<tr><td>Sep</td><td> 9</td></tr>\n",
       "\t<tr><td>Oct</td><td>10</td></tr>\n",
       "\t<tr><td>Nov</td><td>11</td></tr>\n",
       "\t<tr><td>Dec</td><td>12</td></tr>\n",
       "</tbody>\n",
       "</table>\n"
      ],
      "text/latex": [
       "A data.frame: 12 × 2\n",
       "\\begin{tabular}{ll}\n",
       " id & numero\\\\\n",
       " <chr> & <int>\\\\\n",
       "\\hline\n",
       "\t Jan &  1\\\\\n",
       "\t Feb &  2\\\\\n",
       "\t Mar &  3\\\\\n",
       "\t Apr &  4\\\\\n",
       "\t May &  5\\\\\n",
       "\t Jun &  6\\\\\n",
       "\t Jul &  7\\\\\n",
       "\t Aug &  8\\\\\n",
       "\t Sep &  9\\\\\n",
       "\t Oct & 10\\\\\n",
       "\t Nov & 11\\\\\n",
       "\t Dec & 12\\\\\n",
       "\\end{tabular}\n"
      ],
      "text/markdown": [
       "\n",
       "A data.frame: 12 × 2\n",
       "\n",
       "| id &lt;chr&gt; | numero &lt;int&gt; |\n",
       "|---|---|\n",
       "| Jan |  1 |\n",
       "| Feb |  2 |\n",
       "| Mar |  3 |\n",
       "| Apr |  4 |\n",
       "| May |  5 |\n",
       "| Jun |  6 |\n",
       "| Jul |  7 |\n",
       "| Aug |  8 |\n",
       "| Sep |  9 |\n",
       "| Oct | 10 |\n",
       "| Nov | 11 |\n",
       "| Dec | 12 |\n",
       "\n"
      ],
      "text/plain": [
       "   id  numero\n",
       "1  Jan  1    \n",
       "2  Feb  2    \n",
       "3  Mar  3    \n",
       "4  Apr  4    \n",
       "5  May  5    \n",
       "6  Jun  6    \n",
       "7  Jul  7    \n",
       "8  Aug  8    \n",
       "9  Sep  9    \n",
       "10 Oct 10    \n",
       "11 Nov 11    \n",
       "12 Dec 12    "
      ]
     },
     "metadata": {},
     "output_type": "display_data"
    }
   ],
   "source": [
    "dat = data.frame(id = month.abb , numero = 1:12)\n",
    "dat"
   ]
  },
  {
   "cell_type": "markdown",
   "id": "71d82e1d-1580-4ddc-adc3-9b26654aef58",
   "metadata": {},
   "source": [
    "---\n",
    "## En Résumé :\n",
    "\n",
    "- #### Expression en ligne de commande.\n",
    "- #### Affectation d'une valeur à une variable.\n",
    "- #### Convention pour les noms d'objets.\n",
    "  \n",
    "#### Les types de donnée de base sont:\n",
    "- #### *character*, *numeric*, *integer*, *logical*, *complex*\n",
    "#### Les structures de donnée sont:\n",
    "\n",
    "\n",
    "| Dimensions  | Homogène  |  Hétérogène |   \n",
    "|---|---|---|\n",
    "| 1-D\t|  atomic vector | list  |     \n",
    "|  2-D\t | matrix  | data frame |\n",
    "\n",
    "#### Les objets ont des attributs:\n",
    "- #### *name*, *dimention*, *class*"
   ]
  },
  {
   "cell_type": "markdown",
   "id": "c2bda4ce-6078-463e-9622-71d392e7ab83",
   "metadata": {},
   "source": [
    "#### Fonctions pour aller chercher de l'information sur les vecteurs ou objets: \n",
    "- #### class() , typeof(), length(), attributes()."
   ]
  }
 ],
 "metadata": {
  "kernelspec": {
   "display_name": "R",
   "language": "R",
   "name": "ir"
  },
  "language_info": {
   "codemirror_mode": "r",
   "file_extension": ".r",
   "mimetype": "text/x-r-source",
   "name": "R",
   "pygments_lexer": "r",
   "version": "4.2.3"
  }
 },
 "nbformat": 4,
 "nbformat_minor": 5
}
