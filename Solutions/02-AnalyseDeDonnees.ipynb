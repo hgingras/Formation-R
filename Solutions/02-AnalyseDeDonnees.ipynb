{
 "cells": [
  {
   "cell_type": "markdown",
   "id": "485a5bbe-ac26-4bae-8c20-6e6d5f5c63ba",
   "metadata": {
    "editable": true,
    "slideshow": {
     "slide_type": ""
    },
    "tags": []
   },
   "source": [
    "# **Analyse de données**\n",
    "Objectifs\n",
    "- Importer des données.\n",
    "- Recherche d'éléments."
   ]
  },
  {
   "cell_type": "markdown",
   "id": "bf574eb6-2211-4cd7-a552-62beda7e7f63",
   "metadata": {},
   "source": [
    "---\n",
    "Comment importer nos données?\n",
    "![image](../images/lesson-overview.svg)"
   ]
  },
  {
   "cell_type": "markdown",
   "id": "a89f6d1c-6776-4f4a-9cb4-76a2906325c2",
   "metadata": {},
   "source": [
    "On va travailler avec un fichier CSV (*comma-separated values*)"
   ]
  },
  {
   "cell_type": "code",
   "execution_count": null,
   "id": "11bead24-406d-40a7-a3ea-34c87ac99339",
   "metadata": {
    "editable": true,
    "slideshow": {
     "slide_type": ""
    },
    "tags": []
   },
   "outputs": [],
   "source": [
    "dat = read.csv(file = '../data/inflammation-01.csv', header = FALSE, stringsAsFactors = FALSE)"
   ]
  },
  {
   "cell_type": "markdown",
   "id": "fd90b08c-51c8-44d6-a9f9-a67c60e95d8b",
   "metadata": {},
   "source": [
    "### Fonctions utiles pour le *data frame*.\n",
    "- `head()` - Retourne les 6 premières rangées.\n",
    "- `tail()` - Retourne les 6 dernières rangées.\n",
    "- `dim()` - Retourne les dimensions du *data frame* (le nombre de rangées et de colonnes).\n",
    "- `nrow()` - Retourne le nombre de rangées.\n",
    "- `ncol()` - Retourne le nombre de colonnes.\n",
    "- `str()` - Retourne le nom et type de donnée avec un résumé de chaque colonne.\n",
    "- `summary()` - Résume avec mean, max, median sur les colonnes.\n",
    "- `names()` or `colnames()` - Retourne les noms des attributs pour le *data frame*.\n",
    "- `sapply(dataframe, class)` - Retourne la classe de chaque colonne dans le *data frame*."
   ]
  },
  {
   "cell_type": "code",
   "execution_count": null,
   "id": "64f91228-f1b9-4a74-8df3-51d5042e797e",
   "metadata": {
    "editable": true,
    "slideshow": {
     "slide_type": ""
    },
    "tags": [
     "empty"
    ]
   },
   "outputs": [],
   "source": [
    "print(class(dat))"
   ]
  },
  {
   "cell_type": "code",
   "execution_count": null,
   "id": "e09c475c-9947-4f46-bae5-6fb9e1e79b24",
   "metadata": {
    "editable": true,
    "slideshow": {
     "slide_type": ""
    },
    "tags": [
     "empty"
    ]
   },
   "outputs": [],
   "source": [
    "print(head(dat))"
   ]
  },
  {
   "cell_type": "code",
   "execution_count": null,
   "id": "8287ef3f-afb4-4223-bd9a-ee59e769e37e",
   "metadata": {
    "editable": true,
    "slideshow": {
     "slide_type": ""
    },
    "tags": [
     "empty"
    ]
   },
   "outputs": [],
   "source": [
    "print(summary(dat[1:4]))"
   ]
  },
  {
   "cell_type": "markdown",
   "id": "c6cb2d32-abc1-4b32-b0bf-5393f68d3ea9",
   "metadata": {},
   "source": [
    "Recherche d'un élément par index (*slicing*)."
   ]
  },
  {
   "cell_type": "code",
   "execution_count": null,
   "id": "ecb8e95b-bfc4-4523-8e91-15265268e744",
   "metadata": {
    "editable": true,
    "slideshow": {
     "slide_type": ""
    },
    "tags": []
   },
   "outputs": [],
   "source": [
    "print(dat[1, 1]) # Quel élément on va chercher?"
   ]
  },
  {
   "cell_type": "markdown",
   "id": "c9511130-ba41-4e1e-b513-16736c2db296",
   "metadata": {},
   "source": [
    "On va chercher la colonne numéro 2."
   ]
  },
  {
   "cell_type": "code",
   "execution_count": null,
   "id": "7851e7f6-8b82-4a7c-abbe-f1ed18eff836",
   "metadata": {
    "editable": true,
    "slideshow": {
     "slide_type": ""
    },
    "tags": []
   },
   "outputs": [],
   "source": [
    "print(dat[, 2]) # Encore plus de valeurs."
   ]
  },
  {
   "cell_type": "markdown",
   "id": "4dc435bb-8960-4562-971e-e25efa2d646f",
   "metadata": {},
   "source": [
    "On va chercher les colonnes 6 à 9."
   ]
  },
  {
   "cell_type": "code",
   "execution_count": null,
   "id": "f52457a9-5567-42f6-9134-a1e78e31288d",
   "metadata": {
    "editable": true,
    "slideshow": {
     "slide_type": ""
    },
    "tags": []
   },
   "outputs": [],
   "source": [
    "print(head(dat[, 6:9]))"
   ]
  },
  {
   "cell_type": "markdown",
   "id": "b35a0dca-93be-4cb8-83da-7bc2035841fd",
   "metadata": {},
   "source": [
    "On utilise la fonction combine `c()` pour rechercher des éléments non continus, rangées et colonnes."
   ]
  },
  {
   "cell_type": "code",
   "execution_count": null,
   "id": "0d91e0d7-3f48-4226-8752-49ecea0878cd",
   "metadata": {},
   "outputs": [],
   "source": [
    "print(dat[c(1, 5, 7, 9), 1:5]) # dat[c(rangée, colonne)] Ici on aura les patients 1, 5, 7 et 9 pour les journées 1 à 5."
   ]
  },
  {
   "cell_type": "markdown",
   "id": "206958f1-1281-4faf-9308-cbacfd2e0bb0",
   "metadata": {},
   "source": [
    "On va chercher le nom des colonnes."
   ]
  },
  {
   "cell_type": "code",
   "execution_count": null,
   "id": "14a5f8b5-9e09-4b07-9034-cd2ecdfa38d9",
   "metadata": {
    "editable": true,
    "slideshow": {
     "slide_type": ""
    },
    "tags": [
     "empty"
    ]
   },
   "outputs": [],
   "source": [
    "print(colnames(dat))"
   ]
  },
  {
   "cell_type": "markdown",
   "id": "8c6033a6-3a53-4c6c-a76f-f0a4037ee644",
   "metadata": {},
   "source": [
    "Pour faire une recherche par colonne, on peut utiliser le signe $."
   ]
  },
  {
   "cell_type": "code",
   "execution_count": null,
   "id": "b0323537-abdc-421b-8d1a-91823ce20d91",
   "metadata": {
    "editable": true,
    "slideshow": {
     "slide_type": ""
    },
    "tags": [
     "empty"
    ]
   },
   "outputs": [],
   "source": [
    "print(dat$V1)"
   ]
  },
  {
   "cell_type": "markdown",
   "id": "994f41bb-92af-45d4-be34-0430987a7577",
   "metadata": {},
   "source": [
    "Savoir la classe d'une colonne."
   ]
  },
  {
   "cell_type": "code",
   "execution_count": null,
   "id": "ab12a882-5c1e-4fb6-bc7b-f2be45540a2d",
   "metadata": {
    "editable": true,
    "slideshow": {
     "slide_type": ""
    },
    "tags": []
   },
   "outputs": [],
   "source": [
    "print(class(dat$V1))\n",
    "print(class(dat$V30))"
   ]
  },
  {
   "cell_type": "markdown",
   "id": "e729e428-1b00-476d-ab72-0887a23cad6e",
   "metadata": {},
   "source": [
    "Autre terminologie pour chercher une ou des colonnes."
   ]
  },
  {
   "cell_type": "code",
   "execution_count": null,
   "id": "f130a2de-c271-44da-82cc-93062d644de9",
   "metadata": {
    "editable": true,
    "slideshow": {
     "slide_type": ""
    },
    "tags": []
   },
   "outputs": [],
   "source": [
    "print(head(dat[, c('V2', 'V13')]))"
   ]
  },
  {
   "cell_type": "markdown",
   "id": "216c696f-3541-4327-b7ef-2bf85ed5caa5",
   "metadata": {},
   "source": [
    "On peut faire une recherche par rangée."
   ]
  },
  {
   "cell_type": "code",
   "execution_count": null,
   "id": "22d00cf3-0c92-4d7b-bf4b-16006cbb29d3",
   "metadata": {
    "editable": true,
    "slideshow": {
     "slide_type": ""
    },
    "tags": [
     "empty"
    ]
   },
   "outputs": [],
   "source": [
    "print(rownames(dat))"
   ]
  },
  {
   "cell_type": "markdown",
   "id": "1a93ecc5-70a6-4935-a730-8b458606923b",
   "metadata": {},
   "source": [
    "Sélectionnez une rangée."
   ]
  },
  {
   "cell_type": "code",
   "execution_count": null,
   "id": "9abf107e-ceb3-4f07-acbf-105e191e79ce",
   "metadata": {
    "editable": true,
    "slideshow": {
     "slide_type": ""
    },
    "tags": [
     "empty"
    ]
   },
   "outputs": [],
   "source": [
    "print(dat[2, ])"
   ]
  },
  {
   "cell_type": "markdown",
   "id": "ba86128b-50d6-4b69-9465-82c917d410bf",
   "metadata": {
    "editable": true,
    "slideshow": {
     "slide_type": ""
    },
    "tags": []
   },
   "source": [
    "---\n",
    "\n",
    "## **Exercice-1:**\n",
    "Sélectionnez trois rangées spécifiques avec la fonction combine `c()` et l'afficher."
   ]
  },
  {
   "cell_type": "code",
   "execution_count": null,
   "id": "5e46e5ae-a363-4a7a-80ea-894310aa42bb",
   "metadata": {
    "editable": true,
    "slideshow": {
     "slide_type": ""
    },
    "tags": [
     "empty"
    ]
   },
   "outputs": [],
   "source": [
    "print(dat[c(15, 20, 30), ])"
   ]
  },
  {
   "cell_type": "markdown",
   "id": "78d774a9-73f0-44e2-a4b2-dfb300253ee3",
   "metadata": {
    "editable": true,
    "slideshow": {
     "slide_type": ""
    },
    "tags": []
   },
   "source": [
    "Recherchez pour les deux premières rangées la valeur des deux dernières colonnes et l'afficher."
   ]
  },
  {
   "cell_type": "code",
   "execution_count": null,
   "id": "825f5ddd-548c-4514-8e2b-40b08afb6104",
   "metadata": {
    "editable": true,
    "slideshow": {
     "slide_type": ""
    },
    "tags": [
     "empty"
    ]
   },
   "outputs": [],
   "source": [
    "print(dat[(c(1,2)),c(39,40)])"
   ]
  },
  {
   "cell_type": "markdown",
   "id": "ac4fbc7d-e22a-4c76-85d6-59c8ec972398",
   "metadata": {
    "editable": true,
    "slideshow": {
     "slide_type": ""
    },
    "tags": []
   },
   "source": [
    "---\n",
    "\n",
    "## **En résumé**:\n",
    "On importe nos données avec `read.csv()`."
   ]
  },
  {
   "cell_type": "markdown",
   "id": "493eefd9-ebe2-4036-83f9-1da967e07884",
   "metadata": {
    "editable": true,
    "slideshow": {
     "slide_type": ""
    },
    "tags": []
   },
   "source": [
    "---\n",
    "\n",
    "```R\n",
    "dat = read.csv(file = '../data/inflammation-01.csv', header = TRUE, stringsAsFactors = FALSE)\n",
    "```\n",
    "\n",
    "---"
   ]
  },
  {
   "cell_type": "markdown",
   "id": "f94562e5-72a9-4065-bda7-05a2592df415",
   "metadata": {
    "editable": true,
    "slideshow": {
     "slide_type": ""
    },
    "tags": []
   },
   "source": [
    "On peut rechercher dans un *data frame* en utilisant:\n",
    "\n",
    "Un index `[rangée, colonne]`:\n",
    "\n",
    "- `dat[1, 1]`\n",
    "- `dat[, 2]`\n",
    "- `dat[, 6:9]`\n",
    "\n",
    "On sélectionne avec un vecteur pour avoir des données non continues:\n",
    "\n",
    "- `dat[c(1, 5, 7, 9), 1:5]`\n",
    "\n",
    "\n",
    "On peut rechercher de l'information avec le nom de la colonne:\n",
    "\n",
    "- `colnames(dat)` ; `dat$Age`\n",
    "---"
   ]
  },
  {
   "cell_type": "markdown",
   "id": "50f36df6-7048-4bf0-aaf3-aee74e5d489e",
   "metadata": {},
   "source": [
    "## **Exercices supplémentaires:**\n",
    "\n",
    "Retournez le nombre de rangées et le nombre de colonnes du data frame."
   ]
  },
  {
   "cell_type": "code",
   "execution_count": null,
   "id": "4cc4fc83-904e-4232-895e-9a306ead15af",
   "metadata": {},
   "outputs": [],
   "source": [
    "nrow(dat) # Retourne le nombre de rangées."
   ]
  },
  {
   "cell_type": "code",
   "execution_count": null,
   "id": "5a8f7063-599a-486c-988c-f2eeaa459b4a",
   "metadata": {},
   "outputs": [],
   "source": [
    "ncol(dat) # Retourne le nombre de colonnes."
   ]
  },
  {
   "cell_type": "code",
   "execution_count": null,
   "id": "116161ff-eb13-4543-b12a-b030959e9008",
   "metadata": {},
   "outputs": [],
   "source": []
  },
  {
   "cell_type": "markdown",
   "id": "8ced2a7c-10c5-4fc7-877b-632ad71bb1b6",
   "metadata": {},
   "source": [
    "Calculez le résumé statistique de la colonne 15."
   ]
  },
  {
   "cell_type": "code",
   "execution_count": null,
   "id": "6413904b-7d06-4220-aac0-26aedf8aa19e",
   "metadata": {},
   "outputs": [],
   "source": [
    "print(colnames(dat)) # Pour se rappeler du nom des colonnes"
   ]
  },
  {
   "cell_type": "code",
   "execution_count": null,
   "id": "1874d6dc-dc35-47d6-8299-ce3f47273979",
   "metadata": {},
   "outputs": [],
   "source": [
    "summary(dat$V15)"
   ]
  },
  {
   "cell_type": "markdown",
   "id": "2400b3b7-40a4-43aa-949d-70139b583b9a",
   "metadata": {},
   "source": [
    "Touvez le maximum de la rangée numéro 10."
   ]
  },
  {
   "cell_type": "code",
   "execution_count": null,
   "id": "75f63e9a-fd72-4dc4-8e52-8c6f6264c812",
   "metadata": {},
   "outputs": [],
   "source": [
    "print(max(dat[10,]))"
   ]
  },
  {
   "cell_type": "code",
   "execution_count": null,
   "id": "27d86101-2a84-4a0e-b222-4495b052c0d0",
   "metadata": {},
   "outputs": [],
   "source": []
  }
 ],
 "metadata": {
  "kernelspec": {
   "display_name": "R",
   "language": "R",
   "name": "ir"
  },
  "language_info": {
   "codemirror_mode": "r",
   "file_extension": ".r",
   "mimetype": "text/x-r-source",
   "name": "R",
   "pygments_lexer": "r",
   "version": "4.2.3"
  },
  "widgets": {
   "application/vnd.jupyter.widget-state+json": {
    "state": {},
    "version_major": 2,
    "version_minor": 0
   }
  }
 },
 "nbformat": 4,
 "nbformat_minor": 5
}
