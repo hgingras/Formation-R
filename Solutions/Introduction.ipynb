{
 "cells": [
  {
   "cell_type": "markdown",
   "id": "7f5daa09-eba0-4115-967b-88f5859db2d1",
   "metadata": {},
   "source": [
    "![image](images/R-symbol.jpeg)\n",
    "# Programmer avec R\n",
    "- #### Merci au site software carpentry où une partie de la formation a été adaptée :\n",
    "  #### https://swcarpentry.github.io/r-novice-inflammation/index.html\n",
    "- #### Les notions de l'introduction proviennent notemment du livre de Vincent Goulet de l'École d’actuariat, Université Laval\n",
    "  #### https://cran.r-project.org/doc/contrib/Goulet_introduction_programmation_R.pdf"
   ]
  },
  {
   "cell_type": "markdown",
   "id": "e24fb6a3-2194-494e-8ec5-4ba183b15463",
   "metadata": {},
   "source": [
    "---\n",
    "## R\n",
    "\n",
    "### R est un logiciel libre et gratuit.\n",
    "### C'est sous le langage S et Scheme que dérive le R (language développé pour les statistiques). \n",
    "### Le S a été développé au milieu des années 70 pour donner naissance par la suite dans les années 90 au R. \n",
    "### Le R propose un langage pour l’analyse de données et les graphiques.\n",
    "###\n",
    "### Le R est un langage **interprété**, c’est-à-dire qu’il requiert un autre programme — l’interprète — pour que ses commandes soient exécutées. (Python, HTML, PHP)\n",
    "\n",
    "### Par opposition, les programmes de langages compilés, comme le C ou le C++, sont d’abord convertis en code machine par le compilateur puis directement exécutés par l’ordinateur.\n",
    "###\n",
    "### En résumé, le R est un environnement intégré pour faciliter :\n",
    "###\n",
    "- ## La manipulation de données,\n",
    "- ## La réalisation de calculs,\n",
    "- ## La préparation de graphiques.\n",
    "####"
   ]
  },
  {
   "cell_type": "markdown",
   "id": "85bda733-9773-465a-90f1-040b7a3a22fa",
   "metadata": {},
   "source": [
    "## Caractéristiques :\n",
    "- ### langage basé sur la notion de vecteur, ce qui simplifie les calculs mathématiques et réduit considérablement le recours aux structures itératives (boucles for, while, etc.),\n",
    "- ### pas de typage ni de déclaration obligatoire des variables,\n",
    "- ### programmes courts, en général quelques lignes de code seulement,\n",
    "- ### temps de développement très court.\n",
    "  ###"
   ]
  },
  {
   "cell_type": "markdown",
   "id": "839b317c-bea1-4c96-9e03-ee69219b89b4",
   "metadata": {},
   "source": [
    "---\n",
    "## Jupyter Notebook\n",
    "\n",
    "- ### Jupyter Notebook est un environnement de programmation interactif basé sur le Web permettant de créer des documents Jupyter Notebook. \n",
    "\n",
    "- ### Un document Jupyter Notebook est un document JSON.\n",
    "- ### Il suit un schéma contenant une liste ordonnée de cellules d'entrée/sortie.\n",
    "- ### Celles-ci peuvent contenir du code, du texte (à l'aide de Markdown), des formules mathématiques, des graphiques et des médias interactifs. Ce document se termine généralement par l'extension \".ipynb\"."
   ]
  },
  {
   "cell_type": "markdown",
   "id": "609479d2-f80b-419c-b936-3484486e5f00",
   "metadata": {},
   "source": [
    "---\n",
    "## Comment utiliser Jupyter\n",
    "\n",
    "#### Quand une cellule est en mode `edit`:\n",
    "\n",
    "  Raccourci  | Description\n",
    "----------- | -----------\n",
    "Shift+Enter | Roule la cellule et va à la prochaine \n",
    "Tab         | Saisie semi-automatique\n",
    "Esc         | Va en mode *command*\n",
    "\n",
    "#### Quand une cellule est en mode `command`:\n",
    "\n",
    "  Raccourci   | Description\n",
    "------------ | -----------\n",
    "Shift+Enter  | Roule la cellule et va à la prochaine \n",
    "Double-click | Va en mode *edit*\n",
    "Enter        | Va en mode *edit*\n",
    "\n",
    "  Raccourci   | Description\n",
    "------------ | -----------\n",
    "A            | Insertion d'une cellule en haut\n",
    "B            | Insertion d'une cellule en bas\n",
    "C            | Copie la cellule actuelle\n",
    "V            | Coller la cellule en dessous\n",
    "D D          | Efface la cellule actuelle\n",
    "M            | Changement pour une cellule *Markdown*\n",
    "Y            | Changement pour une cellule *Code*"
   ]
  },
  {
   "cell_type": "markdown",
   "id": "5b06f79d-083b-4283-99ba-52347df2bcc0",
   "metadata": {},
   "source": []
  },
  {
   "cell_type": "markdown",
   "id": "2a034ee9-8ae6-4438-a720-23aea1b43137",
   "metadata": {},
   "source": [
    "\n",
    "## Exécution:\n",
    "- ### Les crochets à droite représentent [le nombre d'exécutions](https://jupyter-client.readthedocs.io/en/latest/messaging.html#execution-counter-prompt-number) associé à la cellule. \n",
    "- ### La première exécution reçoit `[1]`, la deuxième `[2]`, etc. \n",
    "- ### Lorsque l'on roule une cellule qui a déjà été exécutée on modifie le ce nombre. \n",
    "- ### Pour réinitialiser toutes les cellules: du menu principal, on fait `Kernel -> Restart & Clear Output`\n",
    "\n",
    "---\n",
    "\n",
    "# **Scénario: Une cure miracle pour l'inflammation reliée à l'arthrite.**\n",
    "\n",
    "- ### On va travailler avec un fichier CVS *comma-separated values* (valeurs séparées par des virgules) qui contient les poussées d'inflammation par jour pour 60 patients d'une étude clinique de 40 jours.\n",
    "- ### Chaque rangée représente les données d'un patient. \n",
    "- ### Chaque colonne représente les journées qui se suivent.\n",
    "- ### Quand un patient démontre un premier signe d'inflammation, ils vont prendre une médication et vont attendre quelques semaines pour observer les effets.\n",
    "\n",
    "## Pour démontrer l'efficacité du traitement, on va vouloir:\n",
    "\n",
    "1. #### Calculer la moyenne de l'inflammation par jour pour tous les patients.\n",
    "2. #### Représenter les résultats sous forme de graphique.\n",
    "\n",
    "![image](images/lesson-overview.svg)\n",
    "\n",
    "## Format des données:\n",
    "\n",
    "### Les trois premières rangées ressemblent à:\n",
    "\n",
    "```text\n",
    "0,0,1,3,1,2,4,7,8,3,3,3,10,5,7,4,7,7,12,18,6,13,11,11,7,7,4,6,8,8,4,4,5,7,3,4,2,3,0,0\n",
    "0,1,2,1,2,1,3,2,2,6,10,11,5,9,4,4,7,16,8,6,18,4,12,5,12,7,11,5,11,3,3,5,4,4,5,5,1,1,0,1\n",
    "0,1,1,3,3,2,6,2,5,9,5,7,4,5,4,15,5,11,9,10,19,14,12,17,7,12,11,7,4,2,10,5,4,2,2,3,2,2,1,1\n",
    "```\n",
    "### Chaque chiffre représente la valeur d'inflammation la plus intense observée durant la journée. \n",
    "\n",
    "### Par exemple, la valeur `6` de la rangée`3` pour la colonne`7` démontre que le patient avait une donnée d'inflammation de 6 fois.\n",
    "\n",
    "### Pour analyser ces données avec le R, nous allons apprendre à **programmer**!\n",
    "---"
   ]
  },
  {
   "cell_type": "code",
   "execution_count": null,
   "id": "8a1e1ce6-6c4e-4b39-8413-956d4d0ff7a8",
   "metadata": {},
   "outputs": [],
   "source": []
  }
 ],
 "metadata": {
  "kernelspec": {
   "display_name": "R",
   "language": "R",
   "name": "ir"
  },
  "language_info": {
   "codemirror_mode": "r",
   "file_extension": ".r",
   "mimetype": "text/x-r-source",
   "name": "R",
   "pygments_lexer": "r",
   "version": "4.2.3"
  },
  "widgets": {
   "application/vnd.jupyter.widget-state+json": {
    "state": {},
    "version_major": 2,
    "version_minor": 0
   }
  }
 },
 "nbformat": 4,
 "nbformat_minor": 5
}