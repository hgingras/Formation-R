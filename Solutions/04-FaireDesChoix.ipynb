{
 "cells": [
  {
   "cell_type": "markdown",
   "id": "32fb1c7c-224d-4478-bca6-9da3bc0f2e6a",
   "metadata": {
    "editable": true,
    "slideshow": {
     "slide_type": ""
    },
    "tags": []
   },
   "source": [
    "# **Faire des choix**.\n",
    "## Objectifs\n",
    "- #### Utiliser les conditions `>`, `>=`, `<`, `<=` , `==` et `!=`\n",
    "- #### Écrire des évaluations conditionnelles avec `if`, `else`, `else if`\n",
    "- #### Combinaison de test : `&&` (et) ; `||` (ou)"
   ]
  },
  {
   "cell_type": "markdown",
   "id": "b97a5f41-0873-4846-8fbf-dd05f9b4e74e",
   "metadata": {},
   "source": [
    "---\n",
    "### Les conditions\n",
    "#### Dans la vie, on fait des choix. Ce n'est pas différent dans R.\n",
    "#### La syntaxe en R pour un conditionnel prend la forme suivante: "
   ]
  },
  {
   "cell_type": "code",
   "execution_count": 26,
   "id": "4838ffcf-4aad-45d6-a334-4574af4a3da3",
   "metadata": {
    "editable": true,
    "slideshow": {
     "slide_type": ""
    },
    "tags": []
   },
   "outputs": [
    {
     "ename": "ERROR",
     "evalue": "Error in eval(expr, envir, enclos): objet 'condition' introuvable\n",
     "output_type": "error",
     "traceback": [
      "Error in eval(expr, envir, enclos): objet 'condition' introuvable\nTraceback:\n"
     ]
    }
   ],
   "source": [
    " if (condition) {\n",
    "   # Action si la condition est vraie\n",
    " } else {\n",
    "   # Action si la condition est fausse\n",
    " }"
   ]
  },
  {
   "cell_type": "code",
   "execution_count": 28,
   "id": "5075a62e-13a7-4245-b087-5cf8895ac61e",
   "metadata": {
    "editable": true,
    "slideshow": {
     "slide_type": ""
    },
    "tags": []
   },
   "outputs": [
    {
     "name": "stdout",
     "output_type": "stream",
     "text": [
      "[1] \"Plus petit\"\n",
      "[1] \"Fin\"\n"
     ]
    }
   ],
   "source": [
    "numero = 37\n",
    "if (numero > 100) {  \n",
    "  print(\"Plus grand\") \n",
    "} else {\n",
    "  print(\"Plus petit\") \n",
    "}\n",
    "print(\"Fin\")"
   ]
  },
  {
   "cell_type": "markdown",
   "id": "3363c5fe-5d81-4286-8f47-b6c6868c4bf2",
   "metadata": {},
   "source": [
    "### La condition doit être une expression dont la valeur est ***TRUE*** ou ***FALSE***."
   ]
  },
  {
   "cell_type": "code",
   "execution_count": 29,
   "id": "be363623-9c1e-4422-95ee-4f67c4c8093a",
   "metadata": {},
   "outputs": [
    {
     "data": {
      "text/html": [
       "FALSE"
      ],
      "text/latex": [
       "FALSE"
      ],
      "text/markdown": [
       "FALSE"
      ],
      "text/plain": [
       "[1] FALSE"
      ]
     },
     "metadata": {},
     "output_type": "display_data"
    },
    {
     "data": {
      "text/html": [
       "TRUE"
      ],
      "text/latex": [
       "TRUE"
      ],
      "text/markdown": [
       "TRUE"
      ],
      "text/plain": [
       "[1] TRUE"
      ]
     },
     "metadata": {},
     "output_type": "display_data"
    }
   ],
   "source": [
    "numero > 100\n",
    "numero < 100"
   ]
  },
  {
   "cell_type": "markdown",
   "id": "545d119c-fba5-4094-a839-4d003324771e",
   "metadata": {},
   "source": [
    "### On peut enchaîner des tests."
   ]
  },
  {
   "cell_type": "code",
   "execution_count": 30,
   "id": "68ca9f76-e1ad-4278-9cdd-c6509beb1c00",
   "metadata": {
    "editable": true,
    "slideshow": {
     "slide_type": ""
    },
    "tags": []
   },
   "outputs": [
    {
     "name": "stdout",
     "output_type": "stream",
     "text": [
      "[1] \"Autre.\"\n"
     ]
    }
   ],
   "source": [
    "if (numero < 0) {\n",
    "    print(\"Plus petit que zero.\") \n",
    "} else if (numero < 1) {\n",
    "    print(\"Plus petit que 1 mais plus grand que 0.\") \n",
    "} else if (numero == 1) {\n",
    "    print(\"Egal a un.\") \n",
    "} else {\n",
    "    print(\"Autre.\") \n",
    "}"
   ]
  },
  {
   "cell_type": "markdown",
   "id": "2ce0bf18-f920-4ee2-943c-b3ac7acca7df",
   "metadata": {},
   "source": [
    "### On combine des tests avec les doubles esperluettes `&&` (**et**) ainsi que le double `||` (**ou**)."
   ]
  },
  {
   "cell_type": "code",
   "execution_count": 33,
   "id": "2f95384b-7bda-491e-818d-bcecee73c5cc",
   "metadata": {},
   "outputs": [
    {
     "name": "stdout",
     "output_type": "stream",
     "text": [
      "[1] \"Les deux cote sont vrai.\"\n"
     ]
    }
   ],
   "source": [
    "if (1 > 0 && -1 < 0) {\n",
    "    print(\"Les deux condition sont vrai.\")\n",
    "} else {\n",
    "  print(\"Au moins une condition n'est pas vrai.\")\n",
    "}"
   ]
  },
  {
   "cell_type": "markdown",
   "id": "66d73667-9c9b-4071-a496-9b18a5c5bbb0",
   "metadata": {},
   "source": [
    "### Avec le `||` , nous obtenons vrai si seulement une condition est vrai."
   ]
  },
  {
   "cell_type": "code",
   "execution_count": 35,
   "id": "cfe5d2fd-41b6-4866-91bb-df4aec9f9868",
   "metadata": {},
   "outputs": [
    {
     "name": "stdout",
     "output_type": "stream",
     "text": [
      "[1] \"Au moins une condition est vrai\"\n"
     ]
    }
   ],
   "source": [
    "if (1 > 0 || -1 > 0) {\n",
    "    print(\"Au moins une condition est vrai\")\n",
    "} else {\n",
    "  print(\"Aucune condition n'est vrai.\")\n",
    "}"
   ]
  },
  {
   "cell_type": "markdown",
   "id": "4a15dce6-0b70-4bde-a352-cc8cf21ab670",
   "metadata": {
    "editable": true,
    "slideshow": {
     "slide_type": ""
    },
    "tags": []
   },
   "source": [
    "## **Exercice:**\n",
    "### Écrire une condition qui retourne si le nombre donné en argument est pair ou impair.\n",
    "- #### Indice => pensez utiliser `%%` pour évaluer le reste."
   ]
  },
  {
   "cell_type": "code",
   "execution_count": 4,
   "id": "dfc81dd6-fc45-40d0-98be-a46c1f02227f",
   "metadata": {
    "editable": true,
    "slideshow": {
     "slide_type": ""
    },
    "tags": [
     "empty"
    ]
   },
   "outputs": [
    {
     "name": "stdout",
     "output_type": "stream",
     "text": [
      "[1] \"impair\"\n"
     ]
    }
   ],
   "source": [
    "x = 5\n",
    "  if(x %% 2 == 0){\n",
    "    print(\"pair\")\n",
    "  }else{\n",
    "    print(\"impair\")\n",
    "}"
   ]
  },
  {
   "cell_type": "markdown",
   "id": "a60fc554-2141-4861-b474-35d01609676a",
   "metadata": {},
   "source": [
    "---\n",
    "## En résumé:"
   ]
  },
  {
   "cell_type": "markdown",
   "id": "febc8e54-a9d6-4154-909e-6015dad95d35",
   "metadata": {},
   "source": [
    "- ### On utilise if pour débuter un test de condition, else if pour des tests additionnels et else pour la sortie par défaut.\n",
    "- ### Le corps de notre test de condition doit être entouré d'accolades.\n",
    "- ### On utilise == pour tester une égalité.\n",
    "- ### X && Y est vrai seulement si X et Y sont vrai.\n",
    "- ### X || Y est vrai si un de X ou Y ou les deux sont vrai."
   ]
  },
  {
   "cell_type": "code",
   "execution_count": null,
   "id": "7a84534b-4ce7-4cc0-aaa4-8eeaad98d5c9",
   "metadata": {},
   "outputs": [],
   "source": []
  }
 ],
 "metadata": {
  "kernelspec": {
   "display_name": "R",
   "language": "R",
   "name": "ir"
  },
  "language_info": {
   "codemirror_mode": "r",
   "file_extension": ".r",
   "mimetype": "text/x-r-source",
   "name": "R",
   "pygments_lexer": "r",
   "version": "4.2.3"
  },
  "widgets": {
   "application/vnd.jupyter.widget-state+json": {
    "state": {},
    "version_major": 2,
    "version_minor": 0
   }
  }
 },
 "nbformat": 4,
 "nbformat_minor": 5
}
