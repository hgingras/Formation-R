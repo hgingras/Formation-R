{
 "cells": [
  {
   "cell_type": "markdown",
   "id": "32fb1c7c-224d-4478-bca6-9da3bc0f2e6a",
   "metadata": {
    "editable": true,
    "slideshow": {
     "slide_type": ""
    },
    "tags": []
   },
   "source": [
    "# **Faire des choix**.\n",
    "## Objectifs\n",
    "- Comprendre les booléens : `TRUE`et `FALSE`.\n",
    "- Utiliser les opérateurs de relations: `>`, `>=`, `<`, `<=` , `==` et `!=`.\n",
    "- Écrire des évaluations conditionnelles avec `if`, `else`, `else if`.\n",
    "- Combinaison de test : `&&` (et) ; `||` (ou)."
   ]
  },
  {
   "cell_type": "markdown",
   "id": "b97a5f41-0873-4846-8fbf-dd05f9b4e74e",
   "metadata": {},
   "source": [
    "---\n",
    "## Les conditions\n",
    "Dans la vie, on fait des choix. Ce n'est pas différent dans R.\n",
    "\n",
    "On va exprimer notre condition avec le mot clé `if` qui va retourner soit `TRUE` soit `FALSE`.\n"
   ]
  },
  {
   "cell_type": "code",
   "execution_count": null,
   "id": "427ceda4-9253-4cd8-b057-11b1603e7244",
   "metadata": {},
   "outputs": [],
   "source": [
    "print(TRUE)"
   ]
  },
  {
   "cell_type": "code",
   "execution_count": null,
   "id": "7bb3a210-b467-4629-b537-7c6b913bd8b6",
   "metadata": {},
   "outputs": [],
   "source": [
    "print(FALSE)"
   ]
  },
  {
   "cell_type": "code",
   "execution_count": null,
   "id": "64237ff8-8fdb-4b7c-9dc7-9711ca584f50",
   "metadata": {
    "editable": true,
    "slideshow": {
     "slide_type": ""
    },
    "tags": [
     "empty"
    ]
   },
   "outputs": [],
   "source": [
    "print(class(FALSE))"
   ]
  },
  {
   "cell_type": "markdown",
   "id": "3363c5fe-5d81-4286-8f47-b6c6868c4bf2",
   "metadata": {},
   "source": [
    "La condition doit être une expression dont la valeur est `TRUE` ou `FALSE`."
   ]
  },
  {
   "cell_type": "code",
   "execution_count": null,
   "id": "be363623-9c1e-4422-95ee-4f67c4c8093a",
   "metadata": {
    "editable": true,
    "slideshow": {
     "slide_type": ""
    },
    "tags": []
   },
   "outputs": [],
   "source": [
    "chiffre = 50\n",
    "print(chiffre > 100)\n",
    "print(chiffre < 100)"
   ]
  },
  {
   "cell_type": "markdown",
   "id": "e00c76fc-fe25-4b65-a511-c2f51d11a1ad",
   "metadata": {},
   "source": [
    "On peut exprimer les conditions avec les opérateurs de relations:"
   ]
  },
  {
   "cell_type": "code",
   "execution_count": null,
   "id": "586622f0-69c2-4033-a123-573ab8cddb4a",
   "metadata": {
    "editable": true,
    "slideshow": {
     "slide_type": ""
    },
    "tags": []
   },
   "outputs": [],
   "source": [
    "print(1 == 1)\n",
    "print(2 != 1)\n",
    "print(1 < 0)\n",
    "print(1 > 2)\n",
    "print(1 >= 1)\n",
    "print(1 <= 2)"
   ]
  },
  {
   "cell_type": "markdown",
   "id": "d0bbc901-8151-456c-8042-e12a4c3ec58e",
   "metadata": {},
   "source": [
    "La syntaxe en R pour un conditionnel prend la forme suivante: "
   ]
  },
  {
   "cell_type": "markdown",
   "id": "55e3cc14-fbdc-4287-8c3e-359cdee58bc9",
   "metadata": {
    "editable": true,
    "slideshow": {
     "slide_type": ""
    },
    "tags": []
   },
   "source": [
    "---\n",
    "\n",
    "```R\n",
    "if (condition) {\n",
    "   # Action si la condition est vraie\n",
    " } else {\n",
    "   # Action si la condition est fausse\n",
    " }\n",
    "```\n",
    "\n",
    "___\n"
   ]
  },
  {
   "cell_type": "code",
   "execution_count": null,
   "id": "5075a62e-13a7-4245-b087-5cf8895ac61e",
   "metadata": {
    "editable": true,
    "slideshow": {
     "slide_type": ""
    },
    "tags": []
   },
   "outputs": [],
   "source": [
    "numero = 37\n",
    "if (numero > 100) {  \n",
    "  print(\"Plus grand\") \n",
    "} else {\n",
    "  print(\"Plus petit\") \n",
    "}\n",
    "print(\"Fin\")"
   ]
  },
  {
   "cell_type": "markdown",
   "id": "545d119c-fba5-4094-a839-4d003324771e",
   "metadata": {},
   "source": [
    "On peut enchaîner des tests."
   ]
  },
  {
   "cell_type": "code",
   "execution_count": null,
   "id": "68ca9f76-e1ad-4278-9cdd-c6509beb1c00",
   "metadata": {
    "editable": true,
    "slideshow": {
     "slide_type": ""
    },
    "tags": []
   },
   "outputs": [],
   "source": [
    "if (numero < 0) {\n",
    "    print(\"Plus petit que zero.\") \n",
    "} else if (numero < 1) {\n",
    "    print(\"Plus petit que 1 mais plus grand que 0.\") \n",
    "} else if (numero == 1) {\n",
    "    print(\"Egal a un.\") \n",
    "} else {\n",
    "    print(\"Autre.\") \n",
    "}"
   ]
  },
  {
   "cell_type": "markdown",
   "id": "2ce0bf18-f920-4ee2-943c-b3ac7acca7df",
   "metadata": {},
   "source": [
    "On combine des tests avec les doubles esperluettes `&&` (**et**) ainsi que le double `||` (**ou**)."
   ]
  },
  {
   "cell_type": "markdown",
   "id": "dcead8b6-cd16-4213-a899-441a17c462f6",
   "metadata": {},
   "source": [
    "\n",
    "\n",
    "- La condition `&&` va retourner `TRUE` quand toutes les expressions sont `TRUE` et va arrêter d'évaluer avec un `FALSE`. \n",
    "\n",
    "| A     | B     | A and B |\n",
    "|-------|-------|---------|\n",
    "| True  | True  | True    |\n",
    "| True  | False | False   |\n",
    "| False | True  | False   |\n",
    "| False | False | False   |\n",
    "\n",
    "- La condition `||` va retourner `TRUE` quand au moins une expression est `TRUE`, sinon on retourne `FALSE`.\n",
    "\n",
    "| A     | B     | A or B |\n",
    "|-------|-------|--------|\n",
    "| True  | True  | True   |\n",
    "| True  | False | True   |\n",
    "| False | True  | True   |\n",
    "| False | False | False  |\n",
    "\n",
    "On peut regrouper les expressions avec les `()`."
   ]
  },
  {
   "cell_type": "markdown",
   "id": "015db4d4-2165-4449-b1e4-ecbc4d532e8e",
   "metadata": {
    "editable": true,
    "slideshow": {
     "slide_type": ""
    },
    "tags": []
   },
   "source": [
    "---\n",
    "\n",
    "## **Exercice-1:**"
   ]
  },
  {
   "cell_type": "markdown",
   "id": "4da0d37c-9986-49e7-bd2b-486758abd34d",
   "metadata": {
    "editable": true,
    "slideshow": {
     "slide_type": ""
    },
    "tags": []
   },
   "source": [
    "Que retourne les expressions suivantes?:"
   ]
  },
  {
   "cell_type": "code",
   "execution_count": null,
   "id": "1f2869af-edba-4566-8dc5-5a8e4b16756e",
   "metadata": {
    "editable": true,
    "slideshow": {
     "slide_type": ""
    },
    "tags": []
   },
   "outputs": [],
   "source": [
    "TRUE && FALSE && TRUE"
   ]
  },
  {
   "cell_type": "code",
   "execution_count": null,
   "id": "28357622-d13b-4e32-a37f-fa366cf2cabc",
   "metadata": {
    "editable": true,
    "slideshow": {
     "slide_type": ""
    },
    "tags": []
   },
   "outputs": [],
   "source": [
    "TRUE || FALSE && TRUE"
   ]
  },
  {
   "cell_type": "code",
   "execution_count": null,
   "id": "52244c63-7052-4858-9264-e89ebc0e6b0e",
   "metadata": {
    "editable": true,
    "slideshow": {
     "slide_type": ""
    },
    "tags": []
   },
   "outputs": [],
   "source": [
    "(FALSE || FALSE) &&  TRUE"
   ]
  },
  {
   "cell_type": "code",
   "execution_count": null,
   "id": "3a39b3f2-34ea-4024-977f-e5430a23f4fe",
   "metadata": {
    "editable": true,
    "slideshow": {
     "slide_type": ""
    },
    "tags": []
   },
   "outputs": [],
   "source": [
    "print(1 == 1 && 1 != 2)"
   ]
  },
  {
   "cell_type": "code",
   "execution_count": null,
   "id": "2f95384b-7bda-491e-818d-bcecee73c5cc",
   "metadata": {
    "editable": true,
    "slideshow": {
     "slide_type": ""
    },
    "tags": []
   },
   "outputs": [],
   "source": [
    "if (1 > 0 && -1 < 0) {\n",
    "    print(\"Les deux condition sont vrai.\")\n",
    "} else {\n",
    "  print(\"Au moins une condition n'est pas vrai.\")\n",
    "}"
   ]
  },
  {
   "cell_type": "markdown",
   "id": "66d73667-9c9b-4071-a496-9b18a5c5bbb0",
   "metadata": {},
   "source": [
    "Avec le `||` , nous obtenons vrai si seulement une condition est vrai."
   ]
  },
  {
   "cell_type": "code",
   "execution_count": null,
   "id": "cfe5d2fd-41b6-4866-91bb-df4aec9f9868",
   "metadata": {
    "editable": true,
    "slideshow": {
     "slide_type": ""
    },
    "tags": []
   },
   "outputs": [],
   "source": [
    "if (1 > 0 || -1 > 0) {\n",
    "    print(\"Au moins une condition est vrai\")\n",
    "} else {\n",
    "  print(\"Aucune condition n'est vrai.\")\n",
    "}"
   ]
  },
  {
   "cell_type": "markdown",
   "id": "4a15dce6-0b70-4bde-a352-cc8cf21ab670",
   "metadata": {
    "editable": true,
    "slideshow": {
     "slide_type": ""
    },
    "tags": []
   },
   "source": [
    "---\n",
    "\n",
    "## **Exercice-2**\n",
    "Écrire une condition qui retourne si le nombre donné en argument est pair ou impair.\n",
    "- Indice => pensez utiliser `%%` pour évaluer le reste."
   ]
  },
  {
   "cell_type": "code",
   "execution_count": null,
   "id": "dfc81dd6-fc45-40d0-98be-a46c1f02227f",
   "metadata": {
    "editable": true,
    "slideshow": {
     "slide_type": ""
    },
    "tags": []
   },
   "outputs": [],
   "source": [
    "x = 5\n",
    "  if(x %% 2 == 0){\n",
    "    print(\"pair\")\n",
    "  }else{\n",
    "    print(\"impair\")\n",
    "}"
   ]
  },
  {
   "cell_type": "markdown",
   "id": "a60fc554-2141-4861-b474-35d01609676a",
   "metadata": {},
   "source": [
    "---\n",
    "## En résumé:"
   ]
  },
  {
   "cell_type": "markdown",
   "id": "febc8e54-a9d6-4154-909e-6015dad95d35",
   "metadata": {},
   "source": [
    "- On utilise `if` pour débuter un test de condition, `else if` pour des tests additionnels et `else` pour la sortie par défaut.\n",
    "- Le corps de notre test de condition doit être entouré d'accolades.\n",
    "- On utilise `==` pour tester une égalité.\n",
    "- `X && Y` est vrai seulement si `X` et `Y`sont vrai.\n",
    "- `X || Y` est vrai si un de `X` ou `Y` ou les deux sont vrai."
   ]
  },
  {
   "cell_type": "code",
   "execution_count": null,
   "id": "7a84534b-4ce7-4cc0-aaa4-8eeaad98d5c9",
   "metadata": {},
   "outputs": [],
   "source": []
  }
 ],
 "metadata": {
  "kernelspec": {
   "display_name": "R",
   "language": "R",
   "name": "ir"
  },
  "language_info": {
   "codemirror_mode": "r",
   "file_extension": ".r",
   "mimetype": "text/x-r-source",
   "name": "R",
   "pygments_lexer": "r",
   "version": "4.2.3"
  },
  "widgets": {
   "application/vnd.jupyter.widget-state+json": {
    "state": {},
    "version_major": 2,
    "version_minor": 0
   }
  }
 },
 "nbformat": 4,
 "nbformat_minor": 5
}
