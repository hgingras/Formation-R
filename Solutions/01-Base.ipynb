{
 "cells": [
  {
   "cell_type": "markdown",
   "id": "485a5bbe-ac26-4bae-8c20-6e6d5f5c63ba",
   "metadata": {
    "editable": true,
    "slideshow": {
     "slide_type": ""
    },
    "tags": []
   },
   "source": [
    "# **Bases du langage R**\n",
    "## Objectifs\n",
    "- #### Expression en ligne de commande.\n",
    "- #### Affectation d'une valeur à une variable.\n",
    "- #### Convention pour les noms d'objets.\n",
    "- #### Types de données.\n",
    "- #### Structure de données.\n",
    "####\n",
    "---\n",
    "## Toute commande R est soit une **expression**, soit une **affectation**.\n",
    "\n",
    "## **Une expression:**\n",
    "\n",
    "### Normalement, une expression est immédiatement évaluée et le résultat est affiché à l’écran.\n",
    "### Opérateurs arithmétiques avec lesquels tout le monde est familier : `+`, `-`, `*` et `/` pour les quatre opérations de base. \n",
    "### Il existe aussi `^` pour l’exponentiation, `%%` pour le reste et `%/%` pour la division entière."
   ]
  },
  {
   "cell_type": "code",
   "execution_count": null,
   "id": "b8357592-a6c5-4e4d-b4fc-778fb772e00e",
   "metadata": {
    "editable": true,
    "jp-MarkdownHeadingCollapsed": true,
    "slideshow": {
     "slide_type": ""
    },
    "tags": []
   },
   "outputs": [],
   "source": [
    "2 + 3"
   ]
  },
  {
   "cell_type": "code",
   "execution_count": null,
   "id": "64f91228-f1b9-4a74-8df3-51d5042e797e",
   "metadata": {
    "editable": true,
    "slideshow": {
     "slide_type": ""
    },
    "tags": []
   },
   "outputs": [],
   "source": [
    "3 * 6"
   ]
  },
  {
   "cell_type": "code",
   "execution_count": null,
   "id": "408f68cf-e6d1-4435-a769-e9db01e3f461",
   "metadata": {
    "editable": true,
    "slideshow": {
     "slide_type": ""
    },
    "tags": [
     "empty"
    ]
   },
   "outputs": [],
   "source": [
    "10 %% 2"
   ]
  },
  {
   "cell_type": "code",
   "execution_count": null,
   "id": "d9a50db3-e0fe-4b60-bb03-46c2d0ab012b",
   "metadata": {
    "editable": true,
    "slideshow": {
     "slide_type": ""
    },
    "tags": [
     "empty"
    ]
   },
   "outputs": [],
   "source": [
    "57 %/% 2"
   ]
  },
  {
   "cell_type": "markdown",
   "id": "20da70a7-6a67-4373-ac5e-102234be84a6",
   "metadata": {
    "editable": true,
    "slideshow": {
     "slide_type": ""
    },
    "tags": []
   },
   "source": [
    "### R peut reconnaitre certaines constantes intégrées. `pi`, `LETTERS`, `letters`, `month.abb`."
   ]
  },
  {
   "cell_type": "code",
   "execution_count": null,
   "id": "98f54171-42a5-4c63-96b9-2b08fe44c62e",
   "metadata": {
    "editable": true,
    "slideshow": {
     "slide_type": ""
    },
    "tags": []
   },
   "outputs": [],
   "source": [
    "pi ; LETTERS ; letters ; month.abb"
   ]
  },
  {
   "cell_type": "markdown",
   "id": "6425437b-d74d-4f55-9c73-b56fcd07c693",
   "metadata": {
    "editable": true,
    "slideshow": {
     "slide_type": ""
    },
    "tags": []
   },
   "source": [
    "\n",
    "## **Une affectation:**\n",
    "### Deux signes sont acceptés en R pour affecter une valeur à une variable : `=` et `<-`\n",
    "### Lors d’une affectation, une expression est évaluée, le résultat est stocké dans un objet (variable) `a = 5` et rien n’est affiché à l’écran."
   ]
  },
  {
   "cell_type": "code",
   "execution_count": 5,
   "id": "5892cab5-fcac-4378-9c7a-fa0537a4de34",
   "metadata": {
    "editable": true,
    "slideshow": {
     "slide_type": ""
    },
    "tags": []
   },
   "outputs": [],
   "source": [
    "a = 5 + 2"
   ]
  },
  {
   "cell_type": "code",
   "execution_count": 6,
   "id": "092c44b1-6a23-4c3c-b6a0-531951ae90c6",
   "metadata": {
    "editable": true,
    "slideshow": {
     "slide_type": ""
    },
    "tags": []
   },
   "outputs": [
    {
     "data": {
      "text/html": [
       "7"
      ],
      "text/latex": [
       "7"
      ],
      "text/markdown": [
       "7"
      ],
      "text/plain": [
       "[1] 7"
      ]
     },
     "metadata": {},
     "output_type": "display_data"
    }
   ],
   "source": [
    "a"
   ]
  },
  {
   "cell_type": "code",
   "execution_count": null,
   "id": "327c2bae-d988-4aee-a6a1-aca28491a622",
   "metadata": {
    "editable": true,
    "slideshow": {
     "slide_type": ""
    },
    "tags": []
   },
   "outputs": [],
   "source": [
    "b = a"
   ]
  },
  {
   "cell_type": "code",
   "execution_count": null,
   "id": "5f0f1972-90c0-458c-be39-766fd75da3c7",
   "metadata": {
    "editable": true,
    "slideshow": {
     "slide_type": ""
    },
    "tags": []
   },
   "outputs": [],
   "source": [
    "b"
   ]
  },
  {
   "cell_type": "markdown",
   "id": "4e71be15-5088-4fa7-a1a7-e559655049fb",
   "metadata": {},
   "source": [
    "### Pour afficher le résultat:\n",
    "- ### 1. On peut utiliser print().\n",
    "- ### 2. On peut utiliser print(paste()) pour lier du texte et des variables.\n",
    "- ### 3. Dans un notebook, simplement écrire la variable et exécuter la cellule.\n",
    "- ### 4. Pour afficher simultanément le résultat d'une affectation, on met le tout entre parenthèse."
   ]
  },
  {
   "cell_type": "code",
   "execution_count": 8,
   "id": "2b63ccff-8c94-4a6a-b435-ef4c22553750",
   "metadata": {},
   "outputs": [
    {
     "name": "stdout",
     "output_type": "stream",
     "text": [
      "[1] 5\n",
      "[1] \"La valeur de a est: 5\"\n"
     ]
    },
    {
     "data": {
      "text/html": [
       "5"
      ],
      "text/latex": [
       "5"
      ],
      "text/markdown": [
       "5"
      ],
      "text/plain": [
       "[1] 5"
      ]
     },
     "metadata": {},
     "output_type": "display_data"
    },
    {
     "data": {
      "text/html": [
       "5"
      ],
      "text/latex": [
       "5"
      ],
      "text/markdown": [
       "5"
      ],
      "text/plain": [
       "[1] 5"
      ]
     },
     "metadata": {},
     "output_type": "display_data"
    }
   ],
   "source": [
    "print(a)\n",
    "print(paste(\"La valeur de a est:\", a))\n",
    "a\n",
    "(a = 2 + 3)"
   ]
  },
  {
   "cell_type": "markdown",
   "id": "0a57021d-8cdd-4188-8579-b0bb9a5edc42",
   "metadata": {},
   "source": [
    "---\n",
    "### Conventions pour les noms d’objets (variables)."
   ]
  },
  {
   "cell_type": "markdown",
   "id": "7877287b-742e-42dd-a1ab-f61d8ddce9a9",
   "metadata": {},
   "source": [
    "#### - On commence par une **lettre minuscule**.\n",
    "#### - On sépare les mots d'une variable avec un `_`.\n",
    "#### - On utilise seulement des lettres minuscules, le `_` et des chiffes.\n",
    "#### - Les noms d’objets ne peuvent commencer par un chiffre. \n",
    "#### - S’ils commencent par un point, le second caractère ne peut être un chiffre.\n",
    "####\n",
    "#### Le R est sensible à la casse, ce qui signifie que `foo`, `Foo` et `FOO` sont trois objets distincts.\n",
    "#### Certains noms et mots sont utilisés par le système R, aussi vaut-il mieux éviter de les utiliser.\n",
    "#### `c`, `q`, `t`, `C`, `D`, `I`, `diff`, `length`, `mean`, `pi`, `range`, `var`, `break`, `else`, `for`, `function`, `if`, `in`, `next`, `repeat`, `return`, `while`, `TRUE`, `FALSE`, `Inf`, `NA`, `NaN`, `NULL`, `NA_integer_`, `NA_real_`, `NA_complex_`, `NA_character_`, `...`, `..1`, `..2`, etc."
   ]
  },
  {
   "cell_type": "code",
   "execution_count": null,
   "id": "04118e35-75c4-4772-8dfc-a4575de67873",
   "metadata": {},
   "outputs": [],
   "source": [
    "weight0 = 0  # valid\n",
    "0weight = 1  # invalid"
   ]
  },
  {
   "cell_type": "markdown",
   "id": "fc5d59ca-42d5-46b3-afc2-bcd0214b1fc4",
   "metadata": {},
   "source": [
    "## **Exercice**: \n",
    "### Affecter une opération numérique à une variable et l'afficher."
   ]
  },
  {
   "cell_type": "code",
   "execution_count": 1,
   "id": "8470e8af-ec1f-4674-aac7-7e170b19c5c9",
   "metadata": {
    "editable": true,
    "slideshow": {
     "slide_type": ""
    },
    "tags": [
     "empty"
    ]
   },
   "outputs": [
    {
     "name": "stdout",
     "output_type": "stream",
     "text": [
      "[1] 18\n"
     ]
    },
    {
     "data": {
      "text/html": [
       "18"
      ],
      "text/latex": [
       "18"
      ],
      "text/markdown": [
       "18"
      ],
      "text/plain": [
       "[1] 18"
      ]
     },
     "metadata": {},
     "output_type": "display_data"
    }
   ],
   "source": [
    "resultat = 2 * 9\n",
    "resultat"
   ]
  },
  {
   "cell_type": "markdown",
   "id": "a95a330a-8403-4acc-8eec-1116481ecd5c",
   "metadata": {},
   "source": [
    "## **Exercice**: \n",
    "### Affecter une constante à une variable  et l'afficher."
   ]
  },
  {
   "cell_type": "code",
   "execution_count": null,
   "id": "ab58a330-9f3f-4ca4-8936-596498a2d701",
   "metadata": {
    "editable": true,
    "slideshow": {
     "slide_type": ""
    },
    "tags": [
     "empty"
    ]
   },
   "outputs": [],
   "source": [
    "constante = pi\n",
    "constante"
   ]
  },
  {
   "cell_type": "markdown",
   "id": "a1287c06-120b-4fa2-acbd-9ddda85a5d18",
   "metadata": {
    "editable": true,
    "slideshow": {
     "slide_type": ""
    },
    "tags": []
   },
   "source": [
    "---\n",
    "## **Les types de données.**\n",
    "#### Tout dans le langage R est un objet.\n",
    "#### R a 6 types de base. (Le type raw ne sera pas couvert ici.)\n",
    "- #### *character*: \"a\", 'swc'\n",
    "- #### *numeric*: 2, 15.5\n",
    "- #### *integer*: 2L (Le L indique à R de sauvegarder à titre de nombre entier (*integer*))\n",
    "- #### *logical*: TRUE, FALSE (booléen)\n",
    "- #### *complex*: 1+4i "
   ]
  },
  {
   "cell_type": "code",
   "execution_count": null,
   "id": "de62f77e-8ea3-4323-8746-20516e97c3bf",
   "metadata": {
    "editable": true,
    "slideshow": {
     "slide_type": ""
    },
    "tags": []
   },
   "outputs": [],
   "source": [
    "x = 'dataset'"
   ]
  },
  {
   "cell_type": "code",
   "execution_count": null,
   "id": "9e73fd41-3a83-4478-aa36-b3b4a5e8e006",
   "metadata": {
    "editable": true,
    "slideshow": {
     "slide_type": ""
    },
    "tags": []
   },
   "outputs": [],
   "source": [
    "y = 2L"
   ]
  },
  {
   "cell_type": "code",
   "execution_count": null,
   "id": "73d1fd05-c8b8-4518-8f78-23bdab1fad01",
   "metadata": {
    "editable": true,
    "slideshow": {
     "slide_type": ""
    },
    "tags": []
   },
   "outputs": [],
   "source": [
    "z = TRUE"
   ]
  },
  {
   "cell_type": "markdown",
   "id": "9beea79c-7bab-471d-b7b4-6310be71f356",
   "metadata": {
    "editable": true,
    "slideshow": {
     "slide_type": ""
    },
    "tags": []
   },
   "source": [
    "### Le R possède plusieurs fonctions pour examiner les caractéristique des vecteurs ou autre objets. \n",
    "\n",
    "- #### `class()` - quel est le type de l'objet ?\n",
    "- #### `typeof()` - quel type de donnée ?\n",
    "- #### `length()` - quel est la longeur?\n",
    "- #### `attributes()` - retourne la liste des attributs, NULL si aucun."
   ]
  },
  {
   "cell_type": "code",
   "execution_count": null,
   "id": "189c2d64-feb1-4673-b667-e3367421c6a3",
   "metadata": {
    "editable": true,
    "slideshow": {
     "slide_type": ""
    },
    "tags": [
     "empty"
    ]
   },
   "outputs": [],
   "source": [
    "class(x) ; typeof(y) ; length(z) ; attributes(x)"
   ]
  },
  {
   "cell_type": "markdown",
   "id": "aeac6172-93b2-449e-9aba-ee930f2dd211",
   "metadata": {
    "editable": true,
    "slideshow": {
     "slide_type": ""
    },
    "tags": []
   },
   "source": [
    "## **Exercice:** \n",
    "### Afficher le type de la variable x."
   ]
  },
  {
   "cell_type": "code",
   "execution_count": null,
   "id": "4e7a215b-82b9-4b22-9566-1d67c5597a39",
   "metadata": {
    "editable": true,
    "slideshow": {
     "slide_type": ""
    },
    "tags": [
     "empty"
    ]
   },
   "outputs": [],
   "source": [
    "typeof(x)"
   ]
  },
  {
   "cell_type": "markdown",
   "id": "c0446a8e-d52c-4226-b23a-2834e9226bc5",
   "metadata": {
    "editable": true,
    "slideshow": {
     "slide_type": ""
    },
    "tags": []
   },
   "source": [
    "---\n",
    "## **Le R a plusieurs structures de données.**\n",
    "\n",
    "- #### *atomic vector* (vecteur)\n",
    "- #### *list* (verteur)\n",
    "- #### *matrix*\n",
    "- #### *data frame*\n",
    "- #### *factors*"
   ]
  },
  {
   "cell_type": "markdown",
   "id": "45fdab24-493f-4218-b70e-70a8f0ed2fe7",
   "metadata": {
    "editable": true,
    "slideshow": {
     "slide_type": ""
    },
    "tags": []
   },
   "source": [
    "## **Deux types de vecteurs**\n",
    "- #### Vecteurs atomiques (*character*, *logical*, *integer* ou *numeric*).\n",
    "- #### Listes"
   ]
  },
  {
   "cell_type": "code",
   "execution_count": null,
   "id": "bb6405e9-1c26-4904-b4b1-fe996c30a206",
   "metadata": {
    "editable": true,
    "slideshow": {
     "slide_type": ""
    },
    "tags": []
   },
   "outputs": [],
   "source": [
    "vector() # Un vecteur vide 'logical' (par défaut)"
   ]
  },
  {
   "cell_type": "code",
   "execution_count": null,
   "id": "991a8cfe-bc6a-465d-b827-98cb656a5ef2",
   "metadata": {
    "editable": true,
    "slideshow": {
     "slide_type": ""
    },
    "tags": []
   },
   "outputs": [],
   "source": [
    "vector(\"character\", length = 5)"
   ]
  },
  {
   "cell_type": "code",
   "execution_count": null,
   "id": "7e8b98ef-33ca-44b7-97ae-67c79f6e7be9",
   "metadata": {
    "editable": true,
    "slideshow": {
     "slide_type": ""
    },
    "tags": []
   },
   "outputs": [],
   "source": [
    "character(5) # En utilisant le constructeur directement"
   ]
  },
  {
   "cell_type": "code",
   "execution_count": null,
   "id": "0b3dd0a6-d2c2-4a59-936d-27bcf1376242",
   "metadata": {
    "editable": true,
    "slideshow": {
     "slide_type": ""
    },
    "tags": []
   },
   "outputs": [],
   "source": [
    "x = numeric(5) # Un vecteur numérique\n",
    "x\n",
    "class(x)"
   ]
  },
  {
   "cell_type": "code",
   "execution_count": null,
   "id": "6f34d1a2-13eb-4077-8263-29001bedda03",
   "metadata": {
    "editable": true,
    "slideshow": {
     "slide_type": ""
    },
    "tags": []
   },
   "outputs": [],
   "source": [
    "logical(5) # Un vecteur logique"
   ]
  },
  {
   "cell_type": "markdown",
   "id": "679d7278-b7e7-485c-80ad-f529724c98fa",
   "metadata": {
    "editable": true,
    "slideshow": {
     "slide_type": ""
    },
    "tags": []
   },
   "source": [
    "### On peut aussi créer un vecteur en spécifiant directement son contenu.\n",
    "### On utilise la fonction c() pour \"*combine*\" ou combiner."
   ]
  },
  {
   "cell_type": "code",
   "execution_count": 16,
   "id": "de5671e3-217e-4970-8821-03b263b40999",
   "metadata": {
    "editable": true,
    "slideshow": {
     "slide_type": ""
    },
    "tags": []
   },
   "outputs": [],
   "source": [
    "nombres1 = c(0, 1, 2, 3)\n",
    "nombres2 = c(10, 9, 8 ,7)"
   ]
  },
  {
   "cell_type": "code",
   "execution_count": 17,
   "id": "f6160c9b-cbbd-49a2-b110-3c342a747463",
   "metadata": {
    "editable": true,
    "slideshow": {
     "slide_type": ""
    },
    "tags": []
   },
   "outputs": [
    {
     "data": {
      "text/html": [
       "<style>\n",
       ".list-inline {list-style: none; margin:0; padding: 0}\n",
       ".list-inline>li {display: inline-block}\n",
       ".list-inline>li:not(:last-child)::after {content: \"\\00b7\"; padding: 0 .5ex}\n",
       "</style>\n",
       "<ol class=list-inline><li>0</li><li>1</li><li>2</li><li>3</li></ol>\n"
      ],
      "text/latex": [
       "\\begin{enumerate*}\n",
       "\\item 0\n",
       "\\item 1\n",
       "\\item 2\n",
       "\\item 3\n",
       "\\end{enumerate*}\n"
      ],
      "text/markdown": [
       "1. 0\n",
       "2. 1\n",
       "3. 2\n",
       "4. 3\n",
       "\n",
       "\n"
      ],
      "text/plain": [
       "[1] 0 1 2 3"
      ]
     },
     "metadata": {},
     "output_type": "display_data"
    },
    {
     "data": {
      "text/html": [
       "4"
      ],
      "text/latex": [
       "4"
      ],
      "text/markdown": [
       "4"
      ],
      "text/plain": [
       "[1] 4"
      ]
     },
     "metadata": {},
     "output_type": "display_data"
    }
   ],
   "source": [
    "nombres1\n",
    "length(nombres1)"
   ]
  },
  {
   "cell_type": "code",
   "execution_count": 18,
   "id": "cfa79db2-325d-4d76-8e89-961ccf2420fd",
   "metadata": {
    "editable": true,
    "slideshow": {
     "slide_type": ""
    },
    "tags": []
   },
   "outputs": [
    {
     "data": {
      "text/html": [
       "'numeric'"
      ],
      "text/latex": [
       "'numeric'"
      ],
      "text/markdown": [
       "'numeric'"
      ],
      "text/plain": [
       "[1] \"numeric\""
      ]
     },
     "metadata": {},
     "output_type": "display_data"
    },
    {
     "data": {
      "text/html": [
       "'double'"
      ],
      "text/latex": [
       "'double'"
      ],
      "text/markdown": [
       "'double'"
      ],
      "text/plain": [
       "[1] \"double\""
      ]
     },
     "metadata": {},
     "output_type": "display_data"
    },
    {
     "data": {
      "text/html": [
       "4"
      ],
      "text/latex": [
       "4"
      ],
      "text/markdown": [
       "4"
      ],
      "text/plain": [
       "[1] 4"
      ]
     },
     "metadata": {},
     "output_type": "display_data"
    },
    {
     "data": {
      "text/plain": [
       "NULL"
      ]
     },
     "metadata": {},
     "output_type": "display_data"
    }
   ],
   "source": [
    "class(nombres1) ; typeof(nombres1) ; length(nombres1) ; attributes(nombres1) "
   ]
  },
  {
   "cell_type": "markdown",
   "id": "8bcc8da0-57d4-4fa3-b8b2-981c25ee09cd",
   "metadata": {
    "editable": true,
    "slideshow": {
     "slide_type": ""
    },
    "tags": []
   },
   "source": [
    "### On peut créer un vecteur avec des séquences de nombres:"
   ]
  },
  {
   "cell_type": "code",
   "execution_count": 19,
   "id": "2b63507b-8acb-4655-b883-49c904f9b810",
   "metadata": {
    "editable": true,
    "slideshow": {
     "slide_type": ""
    },
    "tags": []
   },
   "outputs": [
    {
     "data": {
      "text/html": [
       "<style>\n",
       ".list-inline {list-style: none; margin:0; padding: 0}\n",
       ".list-inline>li {display: inline-block}\n",
       ".list-inline>li:not(:last-child)::after {content: \"\\00b7\"; padding: 0 .5ex}\n",
       "</style>\n",
       "<ol class=list-inline><li>1</li><li>2</li><li>3</li><li>4</li><li>5</li><li>6</li><li>7</li><li>8</li><li>9</li><li>10</li></ol>\n"
      ],
      "text/latex": [
       "\\begin{enumerate*}\n",
       "\\item 1\n",
       "\\item 2\n",
       "\\item 3\n",
       "\\item 4\n",
       "\\item 5\n",
       "\\item 6\n",
       "\\item 7\n",
       "\\item 8\n",
       "\\item 9\n",
       "\\item 10\n",
       "\\end{enumerate*}\n"
      ],
      "text/markdown": [
       "1. 1\n",
       "2. 2\n",
       "3. 3\n",
       "4. 4\n",
       "5. 5\n",
       "6. 6\n",
       "7. 7\n",
       "8. 8\n",
       "9. 9\n",
       "10. 10\n",
       "\n",
       "\n"
      ],
      "text/plain": [
       " [1]  1  2  3  4  5  6  7  8  9 10"
      ]
     },
     "metadata": {},
     "output_type": "display_data"
    },
    {
     "data": {
      "text/html": [
       "<style>\n",
       ".list-inline {list-style: none; margin:0; padding: 0}\n",
       ".list-inline>li {display: inline-block}\n",
       ".list-inline>li:not(:last-child)::after {content: \"\\00b7\"; padding: 0 .5ex}\n",
       "</style>\n",
       "<ol class=list-inline><li>1</li><li>2</li><li>3</li><li>4</li><li>5</li><li>6</li><li>7</li><li>8</li><li>9</li><li>10</li></ol>\n"
      ],
      "text/latex": [
       "\\begin{enumerate*}\n",
       "\\item 1\n",
       "\\item 2\n",
       "\\item 3\n",
       "\\item 4\n",
       "\\item 5\n",
       "\\item 6\n",
       "\\item 7\n",
       "\\item 8\n",
       "\\item 9\n",
       "\\item 10\n",
       "\\end{enumerate*}\n"
      ],
      "text/markdown": [
       "1. 1\n",
       "2. 2\n",
       "3. 3\n",
       "4. 4\n",
       "5. 5\n",
       "6. 6\n",
       "7. 7\n",
       "8. 8\n",
       "9. 9\n",
       "10. 10\n",
       "\n",
       "\n"
      ],
      "text/plain": [
       " [1]  1  2  3  4  5  6  7  8  9 10"
      ]
     },
     "metadata": {},
     "output_type": "display_data"
    },
    {
     "data": {
      "text/html": [
       "<style>\n",
       ".list-inline {list-style: none; margin:0; padding: 0}\n",
       ".list-inline>li {display: inline-block}\n",
       ".list-inline>li:not(:last-child)::after {content: \"\\00b7\"; padding: 0 .5ex}\n",
       "</style>\n",
       "<ol class=list-inline><li>1</li><li>1.1</li><li>1.2</li><li>1.3</li><li>1.4</li><li>1.5</li><li>1.6</li><li>1.7</li><li>1.8</li><li>1.9</li><li>2</li><li>2.1</li><li>2.2</li><li>2.3</li><li>2.4</li><li>2.5</li><li>2.6</li><li>2.7</li><li>2.8</li><li>2.9</li><li>3</li><li>3.1</li><li>3.2</li><li>3.3</li><li>3.4</li><li>3.5</li><li>3.6</li><li>3.7</li><li>3.8</li><li>3.9</li><li>4</li><li>4.1</li><li>4.2</li><li>4.3</li><li>4.4</li><li>4.5</li><li>4.6</li><li>4.7</li><li>4.8</li><li>4.9</li><li>5</li><li>5.1</li><li>5.2</li><li>5.3</li><li>5.4</li><li>5.5</li><li>5.6</li><li>5.7</li><li>5.8</li><li>5.9</li><li>6</li><li>6.1</li><li>6.2</li><li>6.3</li><li>6.4</li><li>6.5</li><li>6.6</li><li>6.7</li><li>6.8</li><li>6.9</li><li>7</li><li>7.1</li><li>7.2</li><li>7.3</li><li>7.4</li><li>7.5</li><li>7.6</li><li>7.7</li><li>7.8</li><li>7.9</li><li>8</li><li>8.1</li><li>8.2</li><li>8.3</li><li>8.4</li><li>8.5</li><li>8.6</li><li>8.7</li><li>8.8</li><li>8.9</li><li>9</li><li>9.1</li><li>9.2</li><li>9.3</li><li>9.4</li><li>9.5</li><li>9.6</li><li>9.7</li><li>9.8</li><li>9.9</li><li>10</li></ol>\n"
      ],
      "text/latex": [
       "\\begin{enumerate*}\n",
       "\\item 1\n",
       "\\item 1.1\n",
       "\\item 1.2\n",
       "\\item 1.3\n",
       "\\item 1.4\n",
       "\\item 1.5\n",
       "\\item 1.6\n",
       "\\item 1.7\n",
       "\\item 1.8\n",
       "\\item 1.9\n",
       "\\item 2\n",
       "\\item 2.1\n",
       "\\item 2.2\n",
       "\\item 2.3\n",
       "\\item 2.4\n",
       "\\item 2.5\n",
       "\\item 2.6\n",
       "\\item 2.7\n",
       "\\item 2.8\n",
       "\\item 2.9\n",
       "\\item 3\n",
       "\\item 3.1\n",
       "\\item 3.2\n",
       "\\item 3.3\n",
       "\\item 3.4\n",
       "\\item 3.5\n",
       "\\item 3.6\n",
       "\\item 3.7\n",
       "\\item 3.8\n",
       "\\item 3.9\n",
       "\\item 4\n",
       "\\item 4.1\n",
       "\\item 4.2\n",
       "\\item 4.3\n",
       "\\item 4.4\n",
       "\\item 4.5\n",
       "\\item 4.6\n",
       "\\item 4.7\n",
       "\\item 4.8\n",
       "\\item 4.9\n",
       "\\item 5\n",
       "\\item 5.1\n",
       "\\item 5.2\n",
       "\\item 5.3\n",
       "\\item 5.4\n",
       "\\item 5.5\n",
       "\\item 5.6\n",
       "\\item 5.7\n",
       "\\item 5.8\n",
       "\\item 5.9\n",
       "\\item 6\n",
       "\\item 6.1\n",
       "\\item 6.2\n",
       "\\item 6.3\n",
       "\\item 6.4\n",
       "\\item 6.5\n",
       "\\item 6.6\n",
       "\\item 6.7\n",
       "\\item 6.8\n",
       "\\item 6.9\n",
       "\\item 7\n",
       "\\item 7.1\n",
       "\\item 7.2\n",
       "\\item 7.3\n",
       "\\item 7.4\n",
       "\\item 7.5\n",
       "\\item 7.6\n",
       "\\item 7.7\n",
       "\\item 7.8\n",
       "\\item 7.9\n",
       "\\item 8\n",
       "\\item 8.1\n",
       "\\item 8.2\n",
       "\\item 8.3\n",
       "\\item 8.4\n",
       "\\item 8.5\n",
       "\\item 8.6\n",
       "\\item 8.7\n",
       "\\item 8.8\n",
       "\\item 8.9\n",
       "\\item 9\n",
       "\\item 9.1\n",
       "\\item 9.2\n",
       "\\item 9.3\n",
       "\\item 9.4\n",
       "\\item 9.5\n",
       "\\item 9.6\n",
       "\\item 9.7\n",
       "\\item 9.8\n",
       "\\item 9.9\n",
       "\\item 10\n",
       "\\end{enumerate*}\n"
      ],
      "text/markdown": [
       "1. 1\n",
       "2. 1.1\n",
       "3. 1.2\n",
       "4. 1.3\n",
       "5. 1.4\n",
       "6. 1.5\n",
       "7. 1.6\n",
       "8. 1.7\n",
       "9. 1.8\n",
       "10. 1.9\n",
       "11. 2\n",
       "12. 2.1\n",
       "13. 2.2\n",
       "14. 2.3\n",
       "15. 2.4\n",
       "16. 2.5\n",
       "17. 2.6\n",
       "18. 2.7\n",
       "19. 2.8\n",
       "20. 2.9\n",
       "21. 3\n",
       "22. 3.1\n",
       "23. 3.2\n",
       "24. 3.3\n",
       "25. 3.4\n",
       "26. 3.5\n",
       "27. 3.6\n",
       "28. 3.7\n",
       "29. 3.8\n",
       "30. 3.9\n",
       "31. 4\n",
       "32. 4.1\n",
       "33. 4.2\n",
       "34. 4.3\n",
       "35. 4.4\n",
       "36. 4.5\n",
       "37. 4.6\n",
       "38. 4.7\n",
       "39. 4.8\n",
       "40. 4.9\n",
       "41. 5\n",
       "42. 5.1\n",
       "43. 5.2\n",
       "44. 5.3\n",
       "45. 5.4\n",
       "46. 5.5\n",
       "47. 5.6\n",
       "48. 5.7\n",
       "49. 5.8\n",
       "50. 5.9\n",
       "51. 6\n",
       "52. 6.1\n",
       "53. 6.2\n",
       "54. 6.3\n",
       "55. 6.4\n",
       "56. 6.5\n",
       "57. 6.6\n",
       "58. 6.7\n",
       "59. 6.8\n",
       "60. 6.9\n",
       "61. 7\n",
       "62. 7.1\n",
       "63. 7.2\n",
       "64. 7.3\n",
       "65. 7.4\n",
       "66. 7.5\n",
       "67. 7.6\n",
       "68. 7.7\n",
       "69. 7.8\n",
       "70. 7.9\n",
       "71. 8\n",
       "72. 8.1\n",
       "73. 8.2\n",
       "74. 8.3\n",
       "75. 8.4\n",
       "76. 8.5\n",
       "77. 8.6\n",
       "78. 8.7\n",
       "79. 8.8\n",
       "80. 8.9\n",
       "81. 9\n",
       "82. 9.1\n",
       "83. 9.2\n",
       "84. 9.3\n",
       "85. 9.4\n",
       "86. 9.5\n",
       "87. 9.6\n",
       "88. 9.7\n",
       "89. 9.8\n",
       "90. 9.9\n",
       "91. 10\n",
       "\n",
       "\n"
      ],
      "text/plain": [
       " [1]  1.0  1.1  1.2  1.3  1.4  1.5  1.6  1.7  1.8  1.9  2.0  2.1  2.2  2.3  2.4\n",
       "[16]  2.5  2.6  2.7  2.8  2.9  3.0  3.1  3.2  3.3  3.4  3.5  3.6  3.7  3.8  3.9\n",
       "[31]  4.0  4.1  4.2  4.3  4.4  4.5  4.6  4.7  4.8  4.9  5.0  5.1  5.2  5.3  5.4\n",
       "[46]  5.5  5.6  5.7  5.8  5.9  6.0  6.1  6.2  6.3  6.4  6.5  6.6  6.7  6.8  6.9\n",
       "[61]  7.0  7.1  7.2  7.3  7.4  7.5  7.6  7.7  7.8  7.9  8.0  8.1  8.2  8.3  8.4\n",
       "[76]  8.5  8.6  8.7  8.8  8.9  9.0  9.1  9.2  9.3  9.4  9.5  9.6  9.7  9.8  9.9\n",
       "[91] 10.0"
      ]
     },
     "metadata": {},
     "output_type": "display_data"
    }
   ],
   "source": [
    "(series = 1:10)\n",
    "\n",
    "seq(10)\n",
    "\n",
    "seq(1, 10, by = 0.1)"
   ]
  },
  {
   "cell_type": "markdown",
   "id": "3f765b5c-36c9-4af9-83c6-a04f8155b0a2",
   "metadata": {
    "editable": true,
    "slideshow": {
     "slide_type": ""
    },
    "tags": []
   },
   "source": [
    "### On peut ajouter un élément à notre vecteur."
   ]
  },
  {
   "cell_type": "code",
   "execution_count": 20,
   "id": "9c0ff833-4086-4b63-8fd0-3edd5d3d9f58",
   "metadata": {
    "editable": true,
    "slideshow": {
     "slide_type": ""
    },
    "tags": []
   },
   "outputs": [
    {
     "data": {
      "text/html": [
       "<style>\n",
       ".list-inline {list-style: none; margin:0; padding: 0}\n",
       ".list-inline>li {display: inline-block}\n",
       ".list-inline>li:not(:last-child)::after {content: \"\\00b7\"; padding: 0 .5ex}\n",
       "</style>\n",
       "<ol class=list-inline><li>0</li><li>1</li><li>2</li><li>3</li><li>4</li></ol>\n"
      ],
      "text/latex": [
       "\\begin{enumerate*}\n",
       "\\item 0\n",
       "\\item 1\n",
       "\\item 2\n",
       "\\item 3\n",
       "\\item 4\n",
       "\\end{enumerate*}\n"
      ],
      "text/markdown": [
       "1. 0\n",
       "2. 1\n",
       "3. 2\n",
       "4. 3\n",
       "5. 4\n",
       "\n",
       "\n"
      ],
      "text/plain": [
       "[1] 0 1 2 3 4"
      ]
     },
     "metadata": {},
     "output_type": "display_data"
    }
   ],
   "source": [
    "nombres1 = c(nombres1, 4)\n",
    "nombres1"
   ]
  },
  {
   "cell_type": "code",
   "execution_count": 21,
   "id": "b18c4406-f498-487b-8367-9a84731debaf",
   "metadata": {
    "editable": true,
    "slideshow": {
     "slide_type": ""
    },
    "tags": []
   },
   "outputs": [
    {
     "data": {
      "text/html": [
       "<style>\n",
       ".list-inline {list-style: none; margin:0; padding: 0}\n",
       ".list-inline>li {display: inline-block}\n",
       ".list-inline>li:not(:last-child)::after {content: \"\\00b7\"; padding: 0 .5ex}\n",
       "</style>\n",
       "<ol class=list-inline><li>0</li><li>1</li><li>2</li><li>5</li><li>3</li><li>4</li></ol>\n"
      ],
      "text/latex": [
       "\\begin{enumerate*}\n",
       "\\item 0\n",
       "\\item 1\n",
       "\\item 2\n",
       "\\item 5\n",
       "\\item 3\n",
       "\\item 4\n",
       "\\end{enumerate*}\n"
      ],
      "text/markdown": [
       "1. 0\n",
       "2. 1\n",
       "3. 2\n",
       "4. 5\n",
       "5. 3\n",
       "6. 4\n",
       "\n",
       "\n"
      ],
      "text/plain": [
       "[1] 0 1 2 5 3 4"
      ]
     },
     "metadata": {},
     "output_type": "display_data"
    }
   ],
   "source": [
    "nombres1 = append(nombres1, 5, after=3) # En R on commence à compter à partir de 1. \n",
    "nombres1"
   ]
  },
  {
   "cell_type": "markdown",
   "id": "efea264b-e709-46ce-893b-f8926203b23f",
   "metadata": {
    "editable": true,
    "slideshow": {
     "slide_type": ""
    },
    "tags": []
   },
   "source": [
    "## La vectorisation.\n",
    "### On peut trouver le maximum, le minimum et la moyenne."
   ]
  },
  {
   "cell_type": "code",
   "execution_count": 24,
   "id": "dd2ca7d9-23ae-498c-a7e8-bf3286d180af",
   "metadata": {
    "editable": true,
    "slideshow": {
     "slide_type": ""
    },
    "tags": [
     "empty"
    ]
   },
   "outputs": [
    {
     "data": {
      "text/html": [
       "5"
      ],
      "text/latex": [
       "5"
      ],
      "text/markdown": [
       "5"
      ],
      "text/plain": [
       "[1] 5"
      ]
     },
     "metadata": {},
     "output_type": "display_data"
    },
    {
     "data": {
      "text/html": [
       "0"
      ],
      "text/latex": [
       "0"
      ],
      "text/markdown": [
       "0"
      ],
      "text/plain": [
       "[1] 0"
      ]
     },
     "metadata": {},
     "output_type": "display_data"
    },
    {
     "data": {
      "text/html": [
       "2.5"
      ],
      "text/latex": [
       "2.5"
      ],
      "text/markdown": [
       "2.5"
      ],
      "text/plain": [
       "[1] 2.5"
      ]
     },
     "metadata": {},
     "output_type": "display_data"
    }
   ],
   "source": [
    "max(nombres1) ; min(nombres1) ; mean(nombres1) "
   ]
  },
  {
   "cell_type": "markdown",
   "id": "60806930-8b67-41d3-89b6-fc015af62ecc",
   "metadata": {},
   "source": [
    "### On peut doubler les valeurs, additionner, multiplier...\n",
    "### Si les vecteurs ne sont pas de la même longeur il va recycler les valeurs."
   ]
  },
  {
   "cell_type": "code",
   "execution_count": 35,
   "id": "08c1060d-bc86-41c3-989b-2347a4b0f8fe",
   "metadata": {},
   "outputs": [
    {
     "data": {
      "text/html": [
       "<style>\n",
       ".list-inline {list-style: none; margin:0; padding: 0}\n",
       ".list-inline>li {display: inline-block}\n",
       ".list-inline>li:not(:last-child)::after {content: \"\\00b7\"; padding: 0 .5ex}\n",
       "</style>\n",
       "<ol class=list-inline><li>0</li><li>1</li><li>2</li><li>5</li><li>3</li><li>4</li></ol>\n"
      ],
      "text/latex": [
       "\\begin{enumerate*}\n",
       "\\item 0\n",
       "\\item 1\n",
       "\\item 2\n",
       "\\item 5\n",
       "\\item 3\n",
       "\\item 4\n",
       "\\end{enumerate*}\n"
      ],
      "text/markdown": [
       "1. 0\n",
       "2. 1\n",
       "3. 2\n",
       "4. 5\n",
       "5. 3\n",
       "6. 4\n",
       "\n",
       "\n"
      ],
      "text/plain": [
       "[1] 0 1 2 5 3 4"
      ]
     },
     "metadata": {},
     "output_type": "display_data"
    },
    {
     "data": {
      "text/html": [
       "<style>\n",
       ".list-inline {list-style: none; margin:0; padding: 0}\n",
       ".list-inline>li {display: inline-block}\n",
       ".list-inline>li:not(:last-child)::after {content: \"\\00b7\"; padding: 0 .5ex}\n",
       "</style>\n",
       "<ol class=list-inline><li>10</li><li>9</li><li>8</li><li>7</li></ol>\n"
      ],
      "text/latex": [
       "\\begin{enumerate*}\n",
       "\\item 10\n",
       "\\item 9\n",
       "\\item 8\n",
       "\\item 7\n",
       "\\end{enumerate*}\n"
      ],
      "text/markdown": [
       "1. 10\n",
       "2. 9\n",
       "3. 8\n",
       "4. 7\n",
       "\n",
       "\n"
      ],
      "text/plain": [
       "[1] 10  9  8  7"
      ]
     },
     "metadata": {},
     "output_type": "display_data"
    },
    {
     "data": {
      "text/html": [
       "<style>\n",
       ".list-inline {list-style: none; margin:0; padding: 0}\n",
       ".list-inline>li {display: inline-block}\n",
       ".list-inline>li:not(:last-child)::after {content: \"\\00b7\"; padding: 0 .5ex}\n",
       "</style>\n",
       "<ol class=list-inline><li>0</li><li>2</li><li>4</li><li>10</li><li>6</li><li>8</li></ol>\n"
      ],
      "text/latex": [
       "\\begin{enumerate*}\n",
       "\\item 0\n",
       "\\item 2\n",
       "\\item 4\n",
       "\\item 10\n",
       "\\item 6\n",
       "\\item 8\n",
       "\\end{enumerate*}\n"
      ],
      "text/markdown": [
       "1. 0\n",
       "2. 2\n",
       "3. 4\n",
       "4. 10\n",
       "5. 6\n",
       "6. 8\n",
       "\n",
       "\n"
      ],
      "text/plain": [
       "[1]  0  2  4 10  6  8"
      ]
     },
     "metadata": {},
     "output_type": "display_data"
    },
    {
     "name": "stderr",
     "output_type": "stream",
     "text": [
      "Warning message in nombres1 + nombres2:\n",
      "“la taille d'un objet plus long n'est pas multiple de la taille d'un objet plus court”\n"
     ]
    },
    {
     "data": {
      "text/html": [
       "<style>\n",
       ".list-inline {list-style: none; margin:0; padding: 0}\n",
       ".list-inline>li {display: inline-block}\n",
       ".list-inline>li:not(:last-child)::after {content: \"\\00b7\"; padding: 0 .5ex}\n",
       "</style>\n",
       "<ol class=list-inline><li>10</li><li>10</li><li>10</li><li>12</li><li>13</li><li>13</li></ol>\n"
      ],
      "text/latex": [
       "\\begin{enumerate*}\n",
       "\\item 10\n",
       "\\item 10\n",
       "\\item 10\n",
       "\\item 12\n",
       "\\item 13\n",
       "\\item 13\n",
       "\\end{enumerate*}\n"
      ],
      "text/markdown": [
       "1. 10\n",
       "2. 10\n",
       "3. 10\n",
       "4. 12\n",
       "5. 13\n",
       "6. 13\n",
       "\n",
       "\n"
      ],
      "text/plain": [
       "[1] 10 10 10 12 13 13"
      ]
     },
     "metadata": {},
     "output_type": "display_data"
    },
    {
     "name": "stderr",
     "output_type": "stream",
     "text": [
      "Warning message in nombres1 * nombres2:\n",
      "“la taille d'un objet plus long n'est pas multiple de la taille d'un objet plus court”\n"
     ]
    },
    {
     "data": {
      "text/html": [
       "<style>\n",
       ".list-inline {list-style: none; margin:0; padding: 0}\n",
       ".list-inline>li {display: inline-block}\n",
       ".list-inline>li:not(:last-child)::after {content: \"\\00b7\"; padding: 0 .5ex}\n",
       "</style>\n",
       "<ol class=list-inline><li>0</li><li>9</li><li>16</li><li>35</li><li>30</li><li>36</li></ol>\n"
      ],
      "text/latex": [
       "\\begin{enumerate*}\n",
       "\\item 0\n",
       "\\item 9\n",
       "\\item 16\n",
       "\\item 35\n",
       "\\item 30\n",
       "\\item 36\n",
       "\\end{enumerate*}\n"
      ],
      "text/markdown": [
       "1. 0\n",
       "2. 9\n",
       "3. 16\n",
       "4. 35\n",
       "5. 30\n",
       "6. 36\n",
       "\n",
       "\n"
      ],
      "text/plain": [
       "[1]  0  9 16 35 30 36"
      ]
     },
     "metadata": {},
     "output_type": "display_data"
    }
   ],
   "source": [
    "nombres1\n",
    "nombres2\n",
    "2 * nombres1\n",
    "nombres1 + nombres2\n",
    "nombres1 * nombres2"
   ]
  },
  {
   "cell_type": "code",
   "execution_count": 33,
   "id": "bea9ad48-926e-40ea-a714-e2b31d7cbb5f",
   "metadata": {},
   "outputs": [
    {
     "data": {
      "text/html": [
       "<style>\n",
       ".list-inline {list-style: none; margin:0; padding: 0}\n",
       ".list-inline>li {display: inline-block}\n",
       ".list-inline>li:not(:last-child)::after {content: \"\\00b7\"; padding: 0 .5ex}\n",
       "</style>\n",
       "<ol class=list-inline><li>4</li><li>10</li><li>18</li></ol>\n"
      ],
      "text/latex": [
       "\\begin{enumerate*}\n",
       "\\item 4\n",
       "\\item 10\n",
       "\\item 18\n",
       "\\end{enumerate*}\n"
      ],
      "text/markdown": [
       "1. 4\n",
       "2. 10\n",
       "3. 18\n",
       "\n",
       "\n"
      ],
      "text/plain": [
       "[1]  4 10 18"
      ]
     },
     "metadata": {},
     "output_type": "display_data"
    }
   ],
   "source": [
    "nombres3 = c(1,2,3)\n",
    "nombres4 = c(4,5,6)\n",
    "nombres3 * nombres4"
   ]
  },
  {
   "cell_type": "markdown",
   "id": "4c170420-10f2-4430-8430-f743042aa099",
   "metadata": {
    "editable": true,
    "slideshow": {
     "slide_type": ""
    },
    "tags": []
   },
   "source": [
    "## **Exercice:**  \n",
    "### Créer un vecteur avec des données entre 0 et 100 avec un bon de 0.5."
   ]
  },
  {
   "cell_type": "code",
   "execution_count": null,
   "id": "f110e833-f545-48c9-b621-e04026919fd7",
   "metadata": {
    "editable": true,
    "slideshow": {
     "slide_type": ""
    },
    "tags": [
     "empty"
    ]
   },
   "outputs": [],
   "source": [
    "vecteur = seq(0, 100, by=0.5)\n",
    "vecteur"
   ]
  },
  {
   "cell_type": "markdown",
   "id": "e92bbfff-05dd-4810-8c62-848c80b81a52",
   "metadata": {
    "editable": true,
    "slideshow": {
     "slide_type": ""
    },
    "tags": []
   },
   "source": [
    "---\n",
    "## **Les listes**"
   ]
  },
  {
   "cell_type": "markdown",
   "id": "c61a7d1d-1237-45af-8995-a8231b87cf2a",
   "metadata": {},
   "source": [
    "### Contrairement aux vecteurs atomiques, les listes ne sont pas restreintes à un seul mode."
   ]
  },
  {
   "cell_type": "code",
   "execution_count": 36,
   "id": "67a0e422-d06a-4664-8e5b-6e7266804c12",
   "metadata": {
    "editable": true,
    "slideshow": {
     "slide_type": ""
    },
    "tags": []
   },
   "outputs": [],
   "source": [
    "liste1 = list(1, \"a\", TRUE, 1+4i)"
   ]
  },
  {
   "cell_type": "code",
   "execution_count": 37,
   "id": "d040daff-167f-456c-bac5-f836b5b1f520",
   "metadata": {
    "editable": true,
    "slideshow": {
     "slide_type": ""
    },
    "tags": []
   },
   "outputs": [
    {
     "name": "stdout",
     "output_type": "stream",
     "text": [
      "List of 4\n",
      " $ : num 1\n",
      " $ : chr \"a\"\n",
      " $ : logi TRUE\n",
      " $ : cplx 1+4i\n"
     ]
    }
   ],
   "source": [
    "str(liste1)"
   ]
  },
  {
   "cell_type": "markdown",
   "id": "d77afb70-d9f8-4565-bf8d-8fae9ae8d69a",
   "metadata": {
    "editable": true,
    "slideshow": {
     "slide_type": ""
    },
    "tags": []
   },
   "source": [
    "### On peut créer une liste vide avec la fonction vector."
   ]
  },
  {
   "cell_type": "code",
   "execution_count": null,
   "id": "db92a8b2-550c-46fe-98a6-fbe56ded0139",
   "metadata": {
    "editable": true,
    "slideshow": {
     "slide_type": ""
    },
    "tags": []
   },
   "outputs": [],
   "source": [
    "liste2 = vector(\"list\", length = 5) # la liste sera vide\n",
    "length(liste2)"
   ]
  },
  {
   "cell_type": "markdown",
   "id": "0a9c6109-a84b-4aea-b739-e6421aaa483c",
   "metadata": {
    "editable": true,
    "slideshow": {
     "slide_type": ""
    },
    "tags": []
   },
   "source": [
    "### On peut aller chercher le contenu d'un élément de la liste."
   ]
  },
  {
   "cell_type": "code",
   "execution_count": null,
   "id": "b2a32d2a-bce8-4f01-8533-c3118731c794",
   "metadata": {
    "editable": true,
    "slideshow": {
     "slide_type": ""
    },
    "tags": [
     "empty"
    ]
   },
   "outputs": [],
   "source": [
    "liste1[[2]] ; liste2[[1]]"
   ]
  },
  {
   "cell_type": "markdown",
   "id": "fb6944c8-54f7-4ba5-bb38-14e37784bda2",
   "metadata": {
    "editable": true,
    "slideshow": {
     "slide_type": ""
    },
    "tags": []
   },
   "source": [
    "### On peut transformer un vecteur en liste avec la fonction `as.list`."
   ]
  },
  {
   "cell_type": "code",
   "execution_count": 38,
   "id": "89f92319-d30a-41f2-b097-71b99eecba88",
   "metadata": {
    "editable": true,
    "slideshow": {
     "slide_type": ""
    },
    "tags": []
   },
   "outputs": [
    {
     "data": {
      "text/html": [
       "'integer'"
      ],
      "text/latex": [
       "'integer'"
      ],
      "text/markdown": [
       "'integer'"
      ],
      "text/plain": [
       "[1] \"integer\""
      ]
     },
     "metadata": {},
     "output_type": "display_data"
    },
    {
     "data": {
      "text/html": [
       "'list'"
      ],
      "text/latex": [
       "'list'"
      ],
      "text/markdown": [
       "'list'"
      ],
      "text/plain": [
       "[1] \"list\""
      ]
     },
     "metadata": {},
     "output_type": "display_data"
    }
   ],
   "source": [
    "z = 1:10\n",
    "typeof(z)\n",
    "\n",
    "z = as.list(z)\n",
    "typeof(z)"
   ]
  },
  {
   "cell_type": "markdown",
   "id": "63245744-b4c1-4072-8811-7309c2587a37",
   "metadata": {
    "editable": true,
    "slideshow": {
     "slide_type": ""
    },
    "tags": []
   },
   "source": [
    "### Les éléments d'une liste peuvent être nommés. Ce sont les attributs."
   ]
  },
  {
   "cell_type": "code",
   "execution_count": null,
   "id": "597d9d9c-4b18-40b1-b1dd-a3c0a8adbf39",
   "metadata": {
    "editable": true,
    "slideshow": {
     "slide_type": ""
    },
    "tags": []
   },
   "outputs": [],
   "source": [
    "ma_liste = list(\"Helene\", 1:10, z)\n",
    "ma_liste"
   ]
  },
  {
   "cell_type": "code",
   "execution_count": null,
   "id": "b1d89db3-a0d1-49db-b5b5-1c1042c75a1a",
   "metadata": {
    "editable": true,
    "slideshow": {
     "slide_type": ""
    },
    "tags": [
     "empty"
    ]
   },
   "outputs": [],
   "source": [
    "ma_liste = list(nom = \"Helene\", intervalle = 1:10, liste = z)\n",
    "str(ma_liste)"
   ]
  },
  {
   "cell_type": "markdown",
   "id": "af7ec03a-d8c1-4a6d-a274-e1611fdb9498",
   "metadata": {},
   "source": [
    "### Je peux accéder à un élément par son nom:"
   ]
  },
  {
   "cell_type": "code",
   "execution_count": null,
   "id": "57ada7f7-a510-453f-880e-2cd47ed8f117",
   "metadata": {},
   "outputs": [],
   "source": [
    "ma_liste$intervalle"
   ]
  },
  {
   "cell_type": "markdown",
   "id": "0ee82f65-0a2b-49c4-9c2a-d61cce57001b",
   "metadata": {},
   "source": [
    "### Je peux accéder à un élément par un index:"
   ]
  },
  {
   "cell_type": "code",
   "execution_count": null,
   "id": "fc65a9c0-901c-4dda-acdb-d5802a1e5845",
   "metadata": {},
   "outputs": [],
   "source": [
    "ma_liste[c(1,2)]"
   ]
  },
  {
   "cell_type": "markdown",
   "id": "16564952-d5b8-47b9-8d63-90af599dd13e",
   "metadata": {
    "editable": true,
    "slideshow": {
     "slide_type": ""
    },
    "tags": []
   },
   "source": [
    "### On peut observer le retour des fonctions suivantes: `attributes()`, `names()`, `dim()`"
   ]
  },
  {
   "cell_type": "code",
   "execution_count": null,
   "id": "1c3fb0b7-7aaa-453d-b3f3-ba80383196e3",
   "metadata": {
    "editable": true,
    "slideshow": {
     "slide_type": ""
    },
    "tags": []
   },
   "outputs": [],
   "source": [
    "attributes(ma_liste)\n",
    "\n",
    "names(ma_liste)\n",
    "\n",
    "dim(ma_liste)"
   ]
  },
  {
   "cell_type": "markdown",
   "id": "7a8b73f4-4fa2-41fc-b7e8-0a279bada65c",
   "metadata": {
    "editable": true,
    "slideshow": {
     "slide_type": ""
    },
    "tags": []
   },
   "source": [
    "## **Exercice:** \n",
    "### Transformer le vecteur de l'exercice précédent en liste et afficher le type.\n",
    "vecteur = seq(0, 100, by=0.5)"
   ]
  },
  {
   "cell_type": "code",
   "execution_count": null,
   "id": "55495a3b-8b1d-42eb-8fad-93be215f8337",
   "metadata": {
    "editable": true,
    "slideshow": {
     "slide_type": ""
    },
    "tags": [
     "empty"
    ]
   },
   "outputs": [],
   "source": [
    "vecteur = as.list(vecteur)\n",
    "typeof(vecteur)"
   ]
  },
  {
   "cell_type": "markdown",
   "id": "74064cf3-cf91-4d1a-be85-1c1deee66440",
   "metadata": {
    "editable": true,
    "slideshow": {
     "slide_type": ""
    },
    "tags": []
   },
   "source": [
    "---\n",
    "## **La matrice**\n",
    "### Le R étant un langage spécialisé pour les calculs mathématiques, il supporte tout naturellement et de manière intuitive les matrices et, plus généralement, les tableaux à plusieurs dimensions.\n",
    "### C'est simplement un vecteur atomic avec dimensions (rangées et colonnes).\n",
    "### Les éléments doivent être de même type.\n",
    "### Les matrices et tableaux ne sont rien d’autre que des vecteurs dotés d’un attribut *dim*. \n",
    "### Ces objets sont donc stockés, et peuvent être manipulés, exactement comme des vecteurs simples."
   ]
  },
  {
   "cell_type": "code",
   "execution_count": 39,
   "id": "d147833a-13f5-4b8f-8fb0-57f26a39ec52",
   "metadata": {
    "editable": true,
    "slideshow": {
     "slide_type": ""
    },
    "tags": []
   },
   "outputs": [
    {
     "name": "stdout",
     "output_type": "stream",
     "text": [
      " [1]  1  2  3  4  5  6  7  8  9 10\n"
     ]
    },
    {
     "data": {
      "text/html": [
       "'integer'"
      ],
      "text/latex": [
       "'integer'"
      ],
      "text/markdown": [
       "'integer'"
      ],
      "text/plain": [
       "[1] \"integer\""
      ]
     },
     "metadata": {},
     "output_type": "display_data"
    }
   ],
   "source": [
    "v = 1:10\n",
    "\n",
    "print(v)\n",
    "class(v)"
   ]
  },
  {
   "cell_type": "code",
   "execution_count": 53,
   "id": "babeb528-f9fa-4d6d-a807-c27e1d2026a0",
   "metadata": {
    "editable": true,
    "slideshow": {
     "slide_type": ""
    },
    "tags": []
   },
   "outputs": [
    {
     "name": "stdout",
     "output_type": "stream",
     "text": [
      "     [,1] [,2] [,3] [,4] [,5]\n",
      "[1,]    1    3    5    7    9\n",
      "[2,]    2    4    6    8   10\n"
     ]
    }
   ],
   "source": [
    "dim(v) = c(2, 5) # On prend le vecteur m, on distribue les valeurs en 2 rangées, 5 colonnes\n",
    "\n",
    "print(v)"
   ]
  },
  {
   "cell_type": "code",
   "execution_count": 41,
   "id": "093ebf39-e468-4673-bb72-81588d79d162",
   "metadata": {
    "editable": true,
    "slideshow": {
     "slide_type": ""
    },
    "tags": []
   },
   "outputs": [
    {
     "data": {
      "text/html": [
       "<style>\n",
       ".list-inline {list-style: none; margin:0; padding: 0}\n",
       ".list-inline>li {display: inline-block}\n",
       ".list-inline>li:not(:last-child)::after {content: \"\\00b7\"; padding: 0 .5ex}\n",
       "</style>\n",
       "<ol class=list-inline><li>2</li><li>5</li></ol>\n"
      ],
      "text/latex": [
       "\\begin{enumerate*}\n",
       "\\item 2\n",
       "\\item 5\n",
       "\\end{enumerate*}\n"
      ],
      "text/markdown": [
       "1. 2\n",
       "2. 5\n",
       "\n",
       "\n"
      ],
      "text/plain": [
       "[1] 2 5"
      ]
     },
     "metadata": {},
     "output_type": "display_data"
    },
    {
     "data": {
      "text/html": [
       "<style>\n",
       ".list-inline {list-style: none; margin:0; padding: 0}\n",
       ".list-inline>li {display: inline-block}\n",
       ".list-inline>li:not(:last-child)::after {content: \"\\00b7\"; padding: 0 .5ex}\n",
       "</style>\n",
       "<ol class=list-inline><li>'matrix'</li><li>'array'</li></ol>\n"
      ],
      "text/latex": [
       "\\begin{enumerate*}\n",
       "\\item 'matrix'\n",
       "\\item 'array'\n",
       "\\end{enumerate*}\n"
      ],
      "text/markdown": [
       "1. 'matrix'\n",
       "2. 'array'\n",
       "\n",
       "\n"
      ],
      "text/plain": [
       "[1] \"matrix\" \"array\" "
      ]
     },
     "metadata": {},
     "output_type": "display_data"
    }
   ],
   "source": [
    "dim(v)\n",
    "class(v)"
   ]
  },
  {
   "cell_type": "code",
   "execution_count": 55,
   "id": "e3a1af47-a777-4ad3-a88e-8a7b3769e343",
   "metadata": {
    "editable": true,
    "slideshow": {
     "slide_type": ""
    },
    "tags": []
   },
   "outputs": [
    {
     "data": {
      "text/html": [
       "<style>\n",
       ".list-inline {list-style: none; margin:0; padding: 0}\n",
       ".list-inline>li {display: inline-block}\n",
       ".list-inline>li:not(:last-child)::after {content: \"\\00b7\"; padding: 0 .5ex}\n",
       "</style>\n",
       "<ol class=list-inline><li>'matrix'</li><li>'array'</li></ol>\n"
      ],
      "text/latex": [
       "\\begin{enumerate*}\n",
       "\\item 'matrix'\n",
       "\\item 'array'\n",
       "\\end{enumerate*}\n"
      ],
      "text/markdown": [
       "1. 'matrix'\n",
       "2. 'array'\n",
       "\n",
       "\n"
      ],
      "text/plain": [
       "[1] \"matrix\" \"array\" "
      ]
     },
     "metadata": {},
     "output_type": "display_data"
    },
    {
     "name": "stdout",
     "output_type": "stream",
     "text": [
      "     [,1] [,2]\n",
      "[1,]    1    3\n",
      "[2,]    2    4\n"
     ]
    }
   ],
   "source": [
    "n = matrix(c(1:4),2,2) # une dimention avec un interval 2 à 4.\n",
    "class(n)\n",
    "print(n)"
   ]
  },
  {
   "cell_type": "code",
   "execution_count": 56,
   "id": "2055120c-4aa3-4569-aee6-1f47924e52b2",
   "metadata": {},
   "outputs": [
    {
     "data": {
      "text/html": [
       "'integer'"
      ],
      "text/latex": [
       "'integer'"
      ],
      "text/markdown": [
       "'integer'"
      ],
      "text/plain": [
       "[1] \"integer\""
      ]
     },
     "metadata": {},
     "output_type": "display_data"
    }
   ],
   "source": [
    "typeof(n)"
   ]
  },
  {
   "cell_type": "markdown",
   "id": "5781ed79-fc9a-4023-beef-6246194e24da",
   "metadata": {
    "editable": true,
    "slideshow": {
     "slide_type": ""
    },
    "tags": []
   },
   "source": [
    "### On peut aller chercher un élément de la matrice: nom[rangée, colonne]"
   ]
  },
  {
   "cell_type": "code",
   "execution_count": 58,
   "id": "3d9c3db9-09e4-4353-a397-4a9dabab7fa2",
   "metadata": {
    "editable": true,
    "slideshow": {
     "slide_type": ""
    },
    "tags": [
     "empty"
    ]
   },
   "outputs": [
    {
     "data": {
      "text/html": [
       "6"
      ],
      "text/latex": [
       "6"
      ],
      "text/markdown": [
       "6"
      ],
      "text/plain": [
       "[1] 6"
      ]
     },
     "metadata": {},
     "output_type": "display_data"
    }
   ],
   "source": [
    "v[2,3] #rangée 2, colonne 2."
   ]
  },
  {
   "cell_type": "markdown",
   "id": "85e2ae33-a0ce-4c6a-b505-7a4ee08623ee",
   "metadata": {
    "editable": true,
    "slideshow": {
     "slide_type": ""
    },
    "tags": []
   },
   "source": [
    "### Autre façon de construire une matrice, la fonction `cbind` ou `rbind`. Pouvez-vous me dire la différence?"
   ]
  },
  {
   "cell_type": "code",
   "execution_count": null,
   "id": "367c7618-2fc1-48ec-8949-ee5af3132cfc",
   "metadata": {
    "editable": true,
    "slideshow": {
     "slide_type": ""
    },
    "tags": []
   },
   "outputs": [],
   "source": [
    "x = 1:3\n",
    "y = 10:12"
   ]
  },
  {
   "cell_type": "code",
   "execution_count": null,
   "id": "50286a2a-6840-4466-8e0a-00107e844dcf",
   "metadata": {
    "editable": true,
    "slideshow": {
     "slide_type": ""
    },
    "tags": []
   },
   "outputs": [],
   "source": [
    "print(cbind(x, y))"
   ]
  },
  {
   "cell_type": "code",
   "execution_count": null,
   "id": "58fc96ad-9c69-4f6a-b9a1-f371b29da3b8",
   "metadata": {},
   "outputs": [],
   "source": [
    "print(rbind(x, y))"
   ]
  },
  {
   "cell_type": "markdown",
   "id": "8891040a-1bf6-4ad9-afad-ad5cfb0eba3c",
   "metadata": {},
   "source": [
    "### Une matrice de plus de 2 dimensions est appelée tableau (*array*)."
   ]
  },
  {
   "cell_type": "code",
   "execution_count": 59,
   "id": "acbbd6b1-3386-4986-a7d7-b0412326431c",
   "metadata": {
    "editable": true,
    "slideshow": {
     "slide_type": ""
    },
    "tags": []
   },
   "outputs": [
    {
     "name": "stdout",
     "output_type": "stream",
     "text": [
      ", , 1\n",
      "\n",
      "     [,1] [,2] [,3]\n",
      "[1,]    5    3   10\n",
      "[2,]    9    4   11\n",
      "\n",
      ", , 2\n",
      "\n",
      "     [,1] [,2] [,3]\n",
      "[1,]   12   14    5\n",
      "[2,]   13   15    9\n",
      "\n",
      ", , 3\n",
      "\n",
      "     [,1] [,2] [,3]\n",
      "[1,]    3   10   12\n",
      "[2,]    4   11   13\n",
      "\n",
      ", , 4\n",
      "\n",
      "     [,1] [,2] [,3]\n",
      "[1,]   14    5    3\n",
      "[2,]   15    9    4\n",
      "\n"
     ]
    },
    {
     "data": {
      "text/html": [
       "<style>\n",
       ".list-inline {list-style: none; margin:0; padding: 0}\n",
       ".list-inline>li {display: inline-block}\n",
       ".list-inline>li:not(:last-child)::after {content: \"\\00b7\"; padding: 0 .5ex}\n",
       "</style>\n",
       "<ol class=list-inline><li>5</li><li>9</li><li>3</li><li>4</li><li>10</li><li>11</li><li>12</li><li>13</li><li>14</li><li>15</li><li>5</li><li>9</li><li>3</li><li>4</li><li>10</li><li>11</li><li>12</li><li>13</li><li>14</li><li>15</li><li>5</li><li>9</li><li>3</li><li>4</li></ol>\n"
      ],
      "text/latex": [
       "\\begin{enumerate*}\n",
       "\\item 5\n",
       "\\item 9\n",
       "\\item 3\n",
       "\\item 4\n",
       "\\item 10\n",
       "\\item 11\n",
       "\\item 12\n",
       "\\item 13\n",
       "\\item 14\n",
       "\\item 15\n",
       "\\item 5\n",
       "\\item 9\n",
       "\\item 3\n",
       "\\item 4\n",
       "\\item 10\n",
       "\\item 11\n",
       "\\item 12\n",
       "\\item 13\n",
       "\\item 14\n",
       "\\item 15\n",
       "\\item 5\n",
       "\\item 9\n",
       "\\item 3\n",
       "\\item 4\n",
       "\\end{enumerate*}\n"
      ],
      "text/markdown": [
       "1. 5\n",
       "2. 9\n",
       "3. 3\n",
       "4. 4\n",
       "5. 10\n",
       "6. 11\n",
       "7. 12\n",
       "8. 13\n",
       "9. 14\n",
       "10. 15\n",
       "11. 5\n",
       "12. 9\n",
       "13. 3\n",
       "14. 4\n",
       "15. 10\n",
       "16. 11\n",
       "17. 12\n",
       "18. 13\n",
       "19. 14\n",
       "20. 15\n",
       "21. 5\n",
       "22. 9\n",
       "23. 3\n",
       "24. 4\n",
       "\n",
       "\n"
      ],
      "text/plain": [
       ", , 1\n",
       "\n",
       "     [,1] [,2] [,3]\n",
       "[1,]    5    3   10\n",
       "[2,]    9    4   11\n",
       "\n",
       ", , 2\n",
       "\n",
       "     [,1] [,2] [,3]\n",
       "[1,]   12   14    5\n",
       "[2,]   13   15    9\n",
       "\n",
       ", , 3\n",
       "\n",
       "     [,1] [,2] [,3]\n",
       "[1,]    3   10   12\n",
       "[2,]    4   11   13\n",
       "\n",
       ", , 4\n",
       "\n",
       "     [,1] [,2] [,3]\n",
       "[1,]   14    5    3\n",
       "[2,]   15    9    4\n"
      ]
     },
     "metadata": {},
     "output_type": "display_data"
    }
   ],
   "source": [
    "vector1 = c(5, 9, 3, 4)\n",
    "vector2 = c(10, 11, 12, 13, 14, 15)\n",
    "resultat = array(c(vector1, vector2), dim = c(2, 3, 4)) # rangée, colonne, dimention\n",
    "print(resultat)\n",
    "resultat"
   ]
  },
  {
   "cell_type": "markdown",
   "id": "84d53d92-74ea-4f81-8534-2f6c9a0a7dad",
   "metadata": {
    "editable": true,
    "slideshow": {
     "slide_type": ""
    },
    "tags": []
   },
   "source": [
    "### On peut aller chercher un élément dans un tableau.\n",
    "### nom[rangée, colonne, dimention]"
   ]
  },
  {
   "cell_type": "code",
   "execution_count": null,
   "id": "c8e60bb6-be11-4efa-9c1b-bd846f9def17",
   "metadata": {
    "editable": true,
    "slideshow": {
     "slide_type": ""
    },
    "tags": [
     "empty"
    ]
   },
   "outputs": [],
   "source": [
    "resultat[1, 2, 1] # première rangée, deuxième colonne, première dimention ; resultat[1, 2, 2]"
   ]
  },
  {
   "cell_type": "markdown",
   "id": "7e019803-78ba-4055-b964-3517e2280fe5",
   "metadata": {
    "editable": true,
    "slideshow": {
     "slide_type": ""
    },
    "tags": []
   },
   "source": [
    "## **Exercice:** \n",
    "### Que doit-on modifier pour avoir une matrice en trois dimensions?"
   ]
  },
  {
   "cell_type": "code",
   "execution_count": null,
   "id": "e267792b-9c4f-43f7-87f8-f48d9a2c6c05",
   "metadata": {},
   "outputs": [],
   "source": [
    "vector1 = c(5, 9, 3, 4)\n",
    "vector2 = c(10, 11, 12, 13, 14, 15)\n",
    "resultat = array(c(vector1, vector2), dim = c(3, 3, 2))\n",
    "print(resultat)\n",
    "resultat"
   ]
  },
  {
   "cell_type": "markdown",
   "id": "67be94d3-e557-480f-9166-4576a2c1fa9c",
   "metadata": {
    "editable": true,
    "slideshow": {
     "slide_type": ""
    },
    "tags": []
   },
   "source": [
    "---\n",
    "## ***Data frame***\n",
    "### Le *Data frame* est une importante structure de donnée pour le R.\n",
    "### C'est le type de structure pour la plupart des données tabulées utilisées en statistique.\n",
    "### On peut créer un data frame avec les fonctions `read.csv()` ou `read.table()` quand on importe des données.\n",
    "### On peur créer un data frame avec la fonction `data.frame()`."
   ]
  },
  {
   "cell_type": "code",
   "execution_count": 60,
   "id": "b1c88c5c-0f32-49de-9322-dacd45f35f75",
   "metadata": {
    "editable": true,
    "slideshow": {
     "slide_type": ""
    },
    "tags": []
   },
   "outputs": [
    {
     "name": "stdout",
     "output_type": "stream",
     "text": [
      "   id  x  y\n",
      "1   a  1 11\n",
      "2   b  2 12\n",
      "3   c  3 13\n",
      "4   d  4 14\n",
      "5   e  5 15\n",
      "6   f  6 16\n",
      "7   g  7 17\n",
      "8   h  8 18\n",
      "9   i  9 19\n",
      "10  j 10 20\n"
     ]
    }
   ],
   "source": [
    "dat = data.frame(id = letters[1:10], x = 1:10, y = 11:20) # letters => constante vue plus haut.\n",
    "print(dat)"
   ]
  },
  {
   "cell_type": "markdown",
   "id": "3a22bd16-d325-489e-b058-96418baaf808",
   "metadata": {},
   "source": [
    "### Fonctions utiles pour le *data frame*.\n",
    "- #### `head()` - retourne les 6 premières rangées\n",
    "- #### `tail()` - retourne les 6 dernières rangées\n",
    "- #### `dim()` - retourne les dimensions du *data frame* (le nombre de rangées et de colonnes)\n",
    "- #### `nrow()` - retourne le nombre de rangées\n",
    "- #### `ncol()` - retourne le nombre de colonnes\n",
    "- #### `str()` - *structure of data frame* - retourne le nom et type de donnée avec un résumé de chaque colonne.\n",
    "- #### `names()` or `colnames()` - retourne les noms des attributs pour le *data frame*\n",
    "- #### `sapply(dataframe, class)` - retourne la classe de chaque colonne dans le *data frame*"
   ]
  },
  {
   "cell_type": "code",
   "execution_count": null,
   "id": "c92d8a6c-ba6f-4239-bed0-c16d5f36bbf5",
   "metadata": {},
   "outputs": [],
   "source": [
    "head(dat)"
   ]
  },
  {
   "cell_type": "code",
   "execution_count": null,
   "id": "88f94249-ae4f-46b5-946d-904b33eeedb4",
   "metadata": {
    "editable": true,
    "slideshow": {
     "slide_type": ""
    },
    "tags": []
   },
   "outputs": [],
   "source": [
    "str(dat)"
   ]
  },
  {
   "cell_type": "code",
   "execution_count": null,
   "id": "d5b38b20-e0b2-4bae-932a-5143ca91371e",
   "metadata": {},
   "outputs": [],
   "source": [
    "class(dat)"
   ]
  },
  {
   "cell_type": "markdown",
   "id": "36813a71-500e-416a-9a09-decd0298a46f",
   "metadata": {},
   "source": [
    "## **Exercice:** \n",
    "### Construire un *data frame* de 2 colonnes"
   ]
  },
  {
   "cell_type": "code",
   "execution_count": null,
   "id": "5974c067-2b55-4f1a-b65c-19ca9a3a4806",
   "metadata": {
    "editable": true,
    "slideshow": {
     "slide_type": ""
    },
    "tags": [
     "empty"
    ]
   },
   "outputs": [],
   "source": [
    "dat = data.frame(id = month.abb , numero = 1:12)\n",
    "dat"
   ]
  },
  {
   "cell_type": "markdown",
   "id": "71d82e1d-1580-4ddc-adc3-9b26654aef58",
   "metadata": {},
   "source": [
    "---\n",
    "## En Résumé :\n",
    "\n",
    "- #### Expression en ligne de commande.\n",
    "- #### Affectation d'une valeur à une variable.\n",
    "- #### Convention pour les noms d'objets.\n",
    "  \n",
    "### Les types de donnée de base sont:\n",
    "- #### *character*, *numeric*, *integer*, *logical*, *complex*\n",
    "### Les structures de donnée sont:\n",
    "\n",
    "\n",
    "| Dimensions  | Homogène  |  Hétérogène |   \n",
    "|---|---|---|\n",
    "| 1-D\t|  atomic vector | list  |     \n",
    "|  2-D\t | matrix  | data frame |\n",
    "\n",
    "### Les objets ont des attributs:\n",
    "- #### *name*, *dimention*, *class*"
   ]
  },
  {
   "cell_type": "markdown",
   "id": "c2bda4ce-6078-463e-9622-71d392e7ab83",
   "metadata": {},
   "source": [
    "### Fonctions pour aller chercher de l'information sur les vecteurs ou objets: \n",
    "- #### class() , typeof(), length(), attributes().\n",
    "### La vectorisation = options spécifiques de R, augmente la rapidité d'exécution p/r aux boucles.\n",
    "---"
   ]
  },
  {
   "cell_type": "code",
   "execution_count": null,
   "id": "385cda3c-285f-43b5-b771-cd8d81430b98",
   "metadata": {},
   "outputs": [],
   "source": []
  }
 ],
 "metadata": {
  "kernelspec": {
   "display_name": "R",
   "language": "R",
   "name": "ir"
  },
  "language_info": {
   "codemirror_mode": "r",
   "file_extension": ".r",
   "mimetype": "text/x-r-source",
   "name": "R",
   "pygments_lexer": "r",
   "version": "4.2.3"
  },
  "widgets": {
   "application/vnd.jupyter.widget-state+json": {
    "state": {},
    "version_major": 2,
    "version_minor": 0
   }
  }
 },
 "nbformat": 4,
 "nbformat_minor": 5
}
