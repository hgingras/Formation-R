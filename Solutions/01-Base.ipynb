{
 "cells": [
  {
   "cell_type": "markdown",
   "id": "485a5bbe-ac26-4bae-8c20-6e6d5f5c63ba",
   "metadata": {
    "editable": true,
    "slideshow": {
     "slide_type": ""
    },
    "tags": []
   },
   "source": [
    "# **Bases du langage R**\n",
    "## Objectifs\n",
    "- Expression en ligne de commande.\n",
    "- Affectation d'une valeur à une variable.\n",
    "- Convention pour les noms d'objets.\n",
    "- Types de données.\n",
    "- Structure de données.\n",
    "\n",
    "---\n",
    "Toute commande R est soit une **expression**, soit une **affectation**.\n",
    "\n",
    "**Une expression:**\n",
    "\n",
    "Normalement, une expression est immédiatement évaluée et le résultat est affiché à l’écran.\n",
    "\n",
    "\n",
    "On peut utiliser les opérateurs arithmétiques avec lesquels tout le monde est familier : `+`, `-`, `*` et `/` pour les quatre opérations de base. \n",
    "\n",
    "\n",
    "Il existe aussi `^` pour l’exponentiation, `%%` pour le reste et `%/%` pour la division entière."
   ]
  },
  {
   "cell_type": "code",
   "execution_count": null,
   "id": "b8357592-a6c5-4e4d-b4fc-778fb772e00e",
   "metadata": {
    "editable": true,
    "jp-MarkdownHeadingCollapsed": true,
    "slideshow": {
     "slide_type": ""
    },
    "tags": [
     "empty"
    ]
   },
   "outputs": [],
   "source": [
    "2 + 3"
   ]
  },
  {
   "cell_type": "code",
   "execution_count": null,
   "id": "64f91228-f1b9-4a74-8df3-51d5042e797e",
   "metadata": {
    "editable": true,
    "slideshow": {
     "slide_type": ""
    },
    "tags": [
     "empty"
    ]
   },
   "outputs": [],
   "source": [
    "3 * 6"
   ]
  },
  {
   "cell_type": "markdown",
   "id": "20da70a7-6a67-4373-ac5e-102234be84a6",
   "metadata": {
    "editable": true,
    "slideshow": {
     "slide_type": ""
    },
    "tags": []
   },
   "source": [
    "R peut reconnaitre certaines constantes intégrées. `pi`, `LETTERS`, `letters`, `month.abb`."
   ]
  },
  {
   "cell_type": "code",
   "execution_count": null,
   "id": "98f54171-42a5-4c63-96b9-2b08fe44c62e",
   "metadata": {
    "editable": true,
    "slideshow": {
     "slide_type": ""
    },
    "tags": [
     "empty"
    ]
   },
   "outputs": [],
   "source": [
    "pi ; LETTERS ; letters ; month.abb"
   ]
  },
  {
   "cell_type": "markdown",
   "id": "6425437b-d74d-4f55-9c73-b56fcd07c693",
   "metadata": {
    "editable": true,
    "slideshow": {
     "slide_type": ""
    },
    "tags": []
   },
   "source": [
    "---\n",
    "\n",
    "**Une affectation:**\n",
    "Deux signes sont acceptés en R pour affecter une valeur à une variable : `=` et `<-`\n",
    "\n",
    "\n",
    "Lors d’une affectation, une expression est évaluée, le résultat est enregistré dans un objet (variable) `a = 5` et rien n’est affiché à l’écran. \n",
    "\n",
    "Pour afficher ce que contient la variable à l'écran on a simplement à écrire le nom de la variable avec la fonction `print()`."
   ]
  },
  {
   "cell_type": "code",
   "execution_count": null,
   "id": "5892cab5-fcac-4378-9c7a-fa0537a4de34",
   "metadata": {
    "editable": true,
    "slideshow": {
     "slide_type": ""
    },
    "tags": []
   },
   "outputs": [],
   "source": [
    "a = 5 + 2"
   ]
  },
  {
   "cell_type": "code",
   "execution_count": null,
   "id": "092c44b1-6a23-4c3c-b6a0-531951ae90c6",
   "metadata": {
    "editable": true,
    "slideshow": {
     "slide_type": ""
    },
    "tags": []
   },
   "outputs": [],
   "source": [
    "print(a)"
   ]
  },
  {
   "cell_type": "code",
   "execution_count": null,
   "id": "327c2bae-d988-4aee-a6a1-aca28491a622",
   "metadata": {
    "editable": true,
    "slideshow": {
     "slide_type": ""
    },
    "tags": [
     "empty"
    ]
   },
   "outputs": [],
   "source": [
    "b = a"
   ]
  },
  {
   "cell_type": "code",
   "execution_count": null,
   "id": "5f0f1972-90c0-458c-be39-766fd75da3c7",
   "metadata": {
    "editable": true,
    "slideshow": {
     "slide_type": ""
    },
    "tags": [
     "empty"
    ]
   },
   "outputs": [],
   "source": [
    "print(b)"
   ]
  },
  {
   "cell_type": "markdown",
   "id": "4e71be15-5088-4fa7-a1a7-e559655049fb",
   "metadata": {
    "editable": true,
    "slideshow": {
     "slide_type": ""
    },
    "tags": []
   },
   "source": [
    "## Autres techniques pour afficher le résultat:\n",
    "1. On peut utiliser print(paste()) pour lier du texte et des variables.\n",
    "2. Pour afficher simultanément le résultat d'une affectation, on met le tout entre parenthèses.\n",
    "3. On peut aussi simplement écrire la variable.\n",
    "   \n",
    "Pour écrire un commentaire, on ajoute un #."
   ]
  },
  {
   "cell_type": "code",
   "execution_count": null,
   "id": "2b63ccff-8c94-4a6a-b435-ef4c22553750",
   "metadata": {
    "editable": true,
    "slideshow": {
     "slide_type": ""
    },
    "tags": []
   },
   "outputs": [],
   "source": [
    "print(paste(\"La valeur de a est:\", a)) # Exemple avec print(paste).\n",
    "(a = 2 + 3)\n",
    "a"
   ]
  },
  {
   "cell_type": "markdown",
   "id": "7877287b-742e-42dd-a1ab-f61d8ddce9a9",
   "metadata": {
    "editable": true,
    "slideshow": {
     "slide_type": ""
    },
    "tags": []
   },
   "source": [
    "---\n",
    "## Conventions pour les noms d’objets (variables).\n",
    "\n",
    "- On commence par une **lettre minuscule**.\n",
    "- On sépare les mots d'une variable avec un `_`.\n",
    "- On utilise seulement des lettres minuscules, le `_` et des chiffes.\n",
    "- Les noms d’objets ne peuvent commencer par un chiffre. \n",
    "- S’ils commencent par un point, le second caractère ne peut être un chiffre.\n",
    "\n",
    "Le R est sensible à la casse, ce qui signifie que `foo`, `Foo` et `FOO` sont trois objets distincts.\n",
    "\n",
    "\n",
    "Certains noms et mots sont utilisés par le système R, mais aussi vaut-il mieux éviter de les utiliser.\n",
    "\n",
    "\n",
    " `c`, `q`, `t`, `C`, `D`, `I`, `diff`, `length`, `mean`, `pi`, `range`, `var`, `break`, `else`, `for`, `function`, `if`, `in`, `next`, `repeat`, `return`, `while`, `TRUE`, `FALSE`, `Inf`, `NA`, `NaN`, `NULL`, `NA_integer_`, `NA_real_`, `NA_complex_`, `NA_character_`, `...`, `..1`, `..2`, etc."
   ]
  },
  {
   "cell_type": "code",
   "execution_count": null,
   "id": "04118e35-75c4-4772-8dfc-a4575de67873",
   "metadata": {
    "editable": true,
    "slideshow": {
     "slide_type": ""
    },
    "tags": []
   },
   "outputs": [],
   "source": [
    "weight0 = 0  # valide\n",
    "0weight = 1  # invalide"
   ]
  },
  {
   "cell_type": "markdown",
   "id": "fc5d59ca-42d5-46b3-afc2-bcd0214b1fc4",
   "metadata": {
    "editable": true,
    "slideshow": {
     "slide_type": ""
    },
    "tags": []
   },
   "source": [
    "---\n",
    "\n",
    "## **Exercice-1**: \n",
    "Affectez une opération numérique à une variable et l'afficher."
   ]
  },
  {
   "cell_type": "code",
   "execution_count": null,
   "id": "8470e8af-ec1f-4674-aac7-7e170b19c5c9",
   "metadata": {
    "editable": true,
    "slideshow": {
     "slide_type": ""
    },
    "tags": [
     "empty"
    ]
   },
   "outputs": [],
   "source": [
    "resultat = 2 * 9\n",
    "print(resultat)"
   ]
  },
  {
   "cell_type": "markdown",
   "id": "b14181f4-c762-4885-864a-2446e09a4b74",
   "metadata": {
    "editable": true,
    "slideshow": {
     "slide_type": ""
    },
    "tags": []
   },
   "source": [
    "---\n",
    "\n",
    "## **Exercice-2**: \n",
    "Après avoir exécuté les 4 lignes suivantes. Quelle valeur sera associée à `mass` et `âge`?"
   ]
  },
  {
   "cell_type": "code",
   "execution_count": null,
   "id": "6200ff12-d4a0-4a2a-ab29-8afa49f509c6",
   "metadata": {
    "editable": true,
    "slideshow": {
     "slide_type": ""
    },
    "tags": []
   },
   "outputs": [],
   "source": [
    "mass = 47.5\n",
    "age = 122\n",
    "mass = mass * 2.0\n",
    "age = age - 20\n",
    "print(mass)\n",
    "print(age)"
   ]
  },
  {
   "cell_type": "markdown",
   "id": "a1287c06-120b-4fa2-acbd-9ddda85a5d18",
   "metadata": {
    "editable": true,
    "slideshow": {
     "slide_type": ""
    },
    "tags": []
   },
   "source": [
    "---\n",
    "## **Les types de données.**\n",
    "Tout dans le langage R est un objet.\n",
    "R a 6 types de base. (Le type raw ne sera pas couvert ici.)\n",
    "- *character*: \"a\", 'swc'\n",
    "- *numeric*: 2, 15.5\n",
    "- *integer*: 2L (Le L indique à R de sauvegarder à titre de nombre entier (*integer*))\n",
    "- *logical*: TRUE, FALSE (booléen)\n",
    "- *complex*: 1+4i "
   ]
  },
  {
   "cell_type": "code",
   "execution_count": null,
   "id": "de62f77e-8ea3-4323-8746-20516e97c3bf",
   "metadata": {
    "editable": true,
    "slideshow": {
     "slide_type": ""
    },
    "tags": [
     "empty"
    ]
   },
   "outputs": [],
   "source": [
    "x = 'dataset'"
   ]
  },
  {
   "cell_type": "code",
   "execution_count": null,
   "id": "9e73fd41-3a83-4478-aa36-b3b4a5e8e006",
   "metadata": {
    "editable": true,
    "slideshow": {
     "slide_type": ""
    },
    "tags": [
     "empty"
    ]
   },
   "outputs": [],
   "source": [
    "y = 2L"
   ]
  },
  {
   "cell_type": "code",
   "execution_count": null,
   "id": "73d1fd05-c8b8-4518-8f78-23bdab1fad01",
   "metadata": {
    "editable": true,
    "slideshow": {
     "slide_type": ""
    },
    "tags": [
     "empty"
    ]
   },
   "outputs": [],
   "source": [
    "z = TRUE"
   ]
  },
  {
   "cell_type": "markdown",
   "id": "9beea79c-7bab-471d-b7b4-6310be71f356",
   "metadata": {
    "editable": true,
    "slideshow": {
     "slide_type": ""
    },
    "tags": []
   },
   "source": [
    "Le R possède plusieurs fonctions pour examiner les caractéristiques des vecteurs ou autres objets. \n",
    "- `class()` - quel est la classe de l'objet  ?\n",
    "- `typeof()` - quel est le type interne de l'objet  ?\n",
    "- `length()` - quelle est la longueur?\n",
    "- `attributes()` - retourne la liste des attributs, NULL si aucun."
   ]
  },
  {
   "cell_type": "code",
   "execution_count": null,
   "id": "189c2d64-feb1-4673-b667-e3367421c6a3",
   "metadata": {
    "editable": true,
    "slideshow": {
     "slide_type": ""
    },
    "tags": [
     "empty"
    ]
   },
   "outputs": [],
   "source": [
    "print(class(z))\n",
    "print(typeof(y))\n",
    "print(length(z))\n",
    "print(attributes(x))"
   ]
  },
  {
   "cell_type": "markdown",
   "id": "aeac6172-93b2-449e-9aba-ee930f2dd211",
   "metadata": {
    "editable": true,
    "slideshow": {
     "slide_type": ""
    },
    "tags": []
   },
   "source": [
    "---\n",
    "\n",
    "## **Exercice-3:** \n",
    "Affichez le type de la variable x."
   ]
  },
  {
   "cell_type": "code",
   "execution_count": null,
   "id": "4e7a215b-82b9-4b22-9566-1d67c5597a39",
   "metadata": {
    "editable": true,
    "slideshow": {
     "slide_type": ""
    },
    "tags": [
     "empty"
    ]
   },
   "outputs": [],
   "source": [
    "print(typeof(x))"
   ]
  },
  {
   "cell_type": "markdown",
   "id": "c0446a8e-d52c-4226-b23a-2834e9226bc5",
   "metadata": {
    "editable": true,
    "slideshow": {
     "slide_type": ""
    },
    "tags": []
   },
   "source": [
    "---\n",
    "## **Les structures de données.**\n",
    "\n",
    "- *atomic vector* (vecteur)\n",
    "- *list* (vecteur)\n",
    "- *matrix*\n",
    "- *data frame*\n",
    "- *factors* (pour les valeurs catégorielles (masculin, féminin), (type sanguin))"
   ]
  },
  {
   "cell_type": "markdown",
   "id": "45fdab24-493f-4218-b70e-70a8f0ed2fe7",
   "metadata": {
    "editable": true,
    "slideshow": {
     "slide_type": ""
    },
    "tags": []
   },
   "source": [
    "## **Deux types de vecteurs**:\n",
    "1. **Vecteurs atomiques** (*character*, *logical*, *integer* ou *numeric*)."
   ]
  },
  {
   "cell_type": "markdown",
   "id": "057cd0be-e29f-4799-9e3b-9fab45065586",
   "metadata": {},
   "source": [
    "On peut créer un vecteur en spécifiant directement son contenu.\n",
    "\n",
    "On utilise la fonction `c()` pour \"*combine*\" ou combiner."
   ]
  },
  {
   "cell_type": "code",
   "execution_count": null,
   "id": "de5671e3-217e-4970-8821-03b263b40999",
   "metadata": {
    "editable": true,
    "slideshow": {
     "slide_type": ""
    },
    "tags": []
   },
   "outputs": [],
   "source": [
    "nombres1 = c(0, 1, 2, 3)"
   ]
  },
  {
   "cell_type": "code",
   "execution_count": null,
   "id": "f6160c9b-cbbd-49a2-b110-3c342a747463",
   "metadata": {
    "editable": true,
    "slideshow": {
     "slide_type": ""
    },
    "tags": []
   },
   "outputs": [],
   "source": [
    "print(nombres1)"
   ]
  },
  {
   "cell_type": "code",
   "execution_count": null,
   "id": "162b3f53-c57d-4f9e-a683-798c897911f6",
   "metadata": {},
   "outputs": [],
   "source": [
    "print(length(nombres1))"
   ]
  },
  {
   "cell_type": "markdown",
   "id": "c678a9ab-6f32-4689-bfd9-c4f841427e62",
   "metadata": {},
   "source": [
    "On peut utiliser la fonction `vector()`:"
   ]
  },
  {
   "cell_type": "code",
   "execution_count": null,
   "id": "991a8cfe-bc6a-465d-b827-98cb656a5ef2",
   "metadata": {
    "editable": true,
    "slideshow": {
     "slide_type": ""
    },
    "tags": []
   },
   "outputs": [],
   "source": [
    "vecteur = (vector(\"character\", length = 5))"
   ]
  },
  {
   "cell_type": "code",
   "execution_count": null,
   "id": "5c509f50-f8e0-47c1-9caa-461c1156d213",
   "metadata": {},
   "outputs": [],
   "source": [
    "print(vecteur)"
   ]
  },
  {
   "cell_type": "code",
   "execution_count": null,
   "id": "08c06a62-4a61-405b-ad42-89714e2c389f",
   "metadata": {},
   "outputs": [],
   "source": [
    "print(typeof(vecteur))"
   ]
  },
  {
   "cell_type": "markdown",
   "id": "1ce099c5-bc55-4357-bae2-11957e9cceaa",
   "metadata": {},
   "source": [
    "Créer vecteur numérique avec la fonction `numeric()`:"
   ]
  },
  {
   "cell_type": "code",
   "execution_count": 3,
   "id": "0b3dd0a6-d2c2-4a59-936d-27bcf1376242",
   "metadata": {
    "editable": true,
    "slideshow": {
     "slide_type": ""
    },
    "tags": []
   },
   "outputs": [],
   "source": [
    "x = numeric(5) # Un vecteur numérique"
   ]
  },
  {
   "cell_type": "code",
   "execution_count": null,
   "id": "c2db45ba-e4e8-46eb-86b9-ca8f014bdf8a",
   "metadata": {},
   "outputs": [],
   "source": [
    "print(x)"
   ]
  },
  {
   "cell_type": "code",
   "execution_count": null,
   "id": "65c53649-0980-4935-9ff5-535dccf7857a",
   "metadata": {},
   "outputs": [],
   "source": [
    "print(class(x))"
   ]
  },
  {
   "cell_type": "code",
   "execution_count": null,
   "id": "cfa79db2-325d-4d76-8e89-961ccf2420fd",
   "metadata": {
    "editable": true,
    "slideshow": {
     "slide_type": ""
    },
    "tags": [
     "empty"
    ]
   },
   "outputs": [],
   "source": [
    "print(class(nombres1))"
   ]
  },
  {
   "cell_type": "code",
   "execution_count": null,
   "id": "de82b4c3-0b42-4a70-b777-d4496d1dc8b1",
   "metadata": {
    "editable": true,
    "slideshow": {
     "slide_type": ""
    },
    "tags": [
     "empty"
    ]
   },
   "outputs": [],
   "source": [
    "print(typeof(nombres1))"
   ]
  },
  {
   "cell_type": "markdown",
   "id": "3f765b5c-36c9-4af9-83c6-a04f8155b0a2",
   "metadata": {
    "editable": true,
    "slideshow": {
     "slide_type": ""
    },
    "tags": []
   },
   "source": [
    "On peut ajouter un élément à notre vecteur."
   ]
  },
  {
   "cell_type": "code",
   "execution_count": null,
   "id": "9c0ff833-4086-4b63-8fd0-3edd5d3d9f58",
   "metadata": {
    "editable": true,
    "slideshow": {
     "slide_type": ""
    },
    "tags": []
   },
   "outputs": [],
   "source": [
    "nombres1 = c(nombres1, 4)"
   ]
  },
  {
   "cell_type": "code",
   "execution_count": null,
   "id": "dab83abd-bd10-4487-b4e3-a2b6688e62d9",
   "metadata": {},
   "outputs": [],
   "source": [
    "print(nombres1)"
   ]
  },
  {
   "cell_type": "code",
   "execution_count": null,
   "id": "b18c4406-f498-487b-8367-9a84731debaf",
   "metadata": {
    "editable": true,
    "slideshow": {
     "slide_type": ""
    },
    "tags": []
   },
   "outputs": [],
   "source": [
    "nombres1 = append(nombres1, 5, after=3) # En R on commence à compter à partir de 1. "
   ]
  },
  {
   "cell_type": "code",
   "execution_count": null,
   "id": "ecbcb98a-712a-4a2b-8bc5-43bc893f841d",
   "metadata": {},
   "outputs": [],
   "source": [
    "print(nombres1)"
   ]
  },
  {
   "cell_type": "markdown",
   "id": "efea264b-e709-46ce-893b-f8926203b23f",
   "metadata": {
    "editable": true,
    "slideshow": {
     "slide_type": ""
    },
    "tags": []
   },
   "source": [
    "On peut trouver le maximum, le minimum et la moyenne."
   ]
  },
  {
   "cell_type": "code",
   "execution_count": null,
   "id": "dd2ca7d9-23ae-498c-a7e8-bf3286d180af",
   "metadata": {
    "editable": true,
    "slideshow": {
     "slide_type": ""
    },
    "tags": [
     "empty"
    ]
   },
   "outputs": [],
   "source": [
    "max(nombres1) ; min(nombres1) ; mean(nombres1) "
   ]
  },
  {
   "cell_type": "markdown",
   "id": "60806930-8b67-41d3-89b6-fc015af62ecc",
   "metadata": {
    "editable": true,
    "slideshow": {
     "slide_type": ""
    },
    "tags": []
   },
   "source": [
    "On peut utiliser des opérations arithmétiques: doubler les valeurs, additionner, multiplier..."
   ]
  },
  {
   "cell_type": "code",
   "execution_count": null,
   "id": "afa908a6-c869-452c-b2d0-5d6da00e8974",
   "metadata": {
    "editable": true,
    "slideshow": {
     "slide_type": ""
    },
    "tags": [
     "empty"
    ]
   },
   "outputs": [],
   "source": [
    "nombres1*2"
   ]
  },
  {
   "cell_type": "markdown",
   "id": "8bcc8da0-57d4-4fa3-b8b2-981c25ee09cd",
   "metadata": {
    "editable": true,
    "slideshow": {
     "slide_type": ""
    },
    "tags": []
   },
   "source": [
    "On peut créer un vecteur avec des séquences de nombres:"
   ]
  },
  {
   "cell_type": "code",
   "execution_count": null,
   "id": "2b63507b-8acb-4655-b883-49c904f9b810",
   "metadata": {
    "editable": true,
    "slideshow": {
     "slide_type": ""
    },
    "tags": []
   },
   "outputs": [],
   "source": [
    "series = 1:10"
   ]
  },
  {
   "cell_type": "code",
   "execution_count": null,
   "id": "87181615-23b0-4ee7-8d67-3b6c95d42b6a",
   "metadata": {},
   "outputs": [],
   "source": [
    "print(series)"
   ]
  },
  {
   "cell_type": "code",
   "execution_count": null,
   "id": "379da935-bb0e-45ae-9dda-d60619716b6f",
   "metadata": {},
   "outputs": [],
   "source": [
    "print(typeof(series))"
   ]
  },
  {
   "cell_type": "code",
   "execution_count": null,
   "id": "b1bbfea6-2049-412e-af97-198011118895",
   "metadata": {},
   "outputs": [],
   "source": [
    "print(class(series))"
   ]
  },
  {
   "cell_type": "markdown",
   "id": "8a6dbdee-190a-4df5-87fc-adfe9602b996",
   "metadata": {},
   "source": [
    "On peut vérifier si on a un vecteur avec la fonction `is.vector()`:"
   ]
  },
  {
   "cell_type": "code",
   "execution_count": null,
   "id": "67e53c8f-ffba-49eb-b898-e1cf141f651c",
   "metadata": {},
   "outputs": [],
   "source": [
    "print(is.vector(series))"
   ]
  },
  {
   "cell_type": "markdown",
   "id": "29bdfd28-844b-4261-8eff-95baca39ba91",
   "metadata": {},
   "source": [
    "Autre façon de créer un vecteur avec un séquence, la fonction `seq()`:"
   ]
  },
  {
   "cell_type": "code",
   "execution_count": null,
   "id": "ef948a79-398b-412a-9e42-b59810c6510d",
   "metadata": {},
   "outputs": [],
   "source": [
    "sequence = seq(10)"
   ]
  },
  {
   "cell_type": "code",
   "execution_count": null,
   "id": "e3b64343-a12a-4a07-87c6-fe205ef20178",
   "metadata": {},
   "outputs": [],
   "source": [
    "print(sequence)"
   ]
  },
  {
   "cell_type": "markdown",
   "id": "6d27ca62-ff82-4ec3-8313-e1606e7a334b",
   "metadata": {},
   "source": [
    "On peut aussi demander une séquence avec des bons:"
   ]
  },
  {
   "cell_type": "code",
   "execution_count": null,
   "id": "28498922-5cc5-4e92-a5db-ef4b152b512b",
   "metadata": {},
   "outputs": [],
   "source": [
    "sequence2 = seq(1, 10, by = 0.1)"
   ]
  },
  {
   "cell_type": "code",
   "execution_count": null,
   "id": "cc064666-82f1-4e59-b6f5-8b764394e692",
   "metadata": {},
   "outputs": [],
   "source": [
    "print(sequence2)"
   ]
  },
  {
   "cell_type": "markdown",
   "id": "d595a2c0-50f9-4076-b922-b25ec274391b",
   "metadata": {
    "editable": true,
    "raw_mimetype": "",
    "slideshow": {
     "slide_type": ""
    },
    "tags": []
   },
   "source": [
    "---\n",
    "\n",
    "## **Exercice-4:**  \n",
    "Créez un vecteur avec des données entre 0 et 100 avec un bon de 0.5."
   ]
  },
  {
   "cell_type": "code",
   "execution_count": null,
   "id": "f110e833-f545-48c9-b621-e04026919fd7",
   "metadata": {
    "editable": true,
    "slideshow": {
     "slide_type": ""
    },
    "tags": [
     "empty"
    ]
   },
   "outputs": [],
   "source": [
    "vecteur = seq(0, 100, by=0.5)\n",
    "print(vecteur)"
   ]
  },
  {
   "cell_type": "markdown",
   "id": "e92bbfff-05dd-4810-8c62-848c80b81a52",
   "metadata": {
    "editable": true,
    "slideshow": {
     "slide_type": ""
    },
    "tags": []
   },
   "source": [
    "---\n",
    "2. **Les listes**"
   ]
  },
  {
   "cell_type": "markdown",
   "id": "c61a7d1d-1237-45af-8995-a8231b87cf2a",
   "metadata": {
    "editable": true,
    "slideshow": {
     "slide_type": ""
    },
    "tags": []
   },
   "source": [
    "Contrairement aux vecteurs atomiques, les listes ne sont pas restreintes à un seul mode."
   ]
  },
  {
   "cell_type": "code",
   "execution_count": 1,
   "id": "67a0e422-d06a-4664-8e5b-6e7266804c12",
   "metadata": {
    "editable": true,
    "slideshow": {
     "slide_type": ""
    },
    "tags": []
   },
   "outputs": [],
   "source": [
    "liste1 = list(1, \"a\", TRUE, 1+4i)"
   ]
  },
  {
   "cell_type": "code",
   "execution_count": null,
   "id": "d040daff-167f-456c-bac5-f836b5b1f520",
   "metadata": {
    "editable": true,
    "slideshow": {
     "slide_type": ""
    },
    "tags": [
     "empty"
    ]
   },
   "outputs": [],
   "source": [
    "print(str(liste1))"
   ]
  },
  {
   "cell_type": "markdown",
   "id": "d77afb70-d9f8-4565-bf8d-8fae9ae8d69a",
   "metadata": {
    "editable": true,
    "slideshow": {
     "slide_type": ""
    },
    "tags": []
   },
   "source": [
    "On peut créer une liste vide avec la fonction `vector()`."
   ]
  },
  {
   "cell_type": "code",
   "execution_count": null,
   "id": "db92a8b2-550c-46fe-98a6-fbe56ded0139",
   "metadata": {
    "editable": true,
    "slideshow": {
     "slide_type": ""
    },
    "tags": []
   },
   "outputs": [],
   "source": [
    "liste2 = vector(\"list\", length = 5) # La liste sera vide."
   ]
  },
  {
   "cell_type": "code",
   "execution_count": null,
   "id": "ac038c2d-496f-42d4-ac33-22eb4d46a306",
   "metadata": {},
   "outputs": [],
   "source": [
    "print(length(liste2))"
   ]
  },
  {
   "cell_type": "markdown",
   "id": "0a9c6109-a84b-4aea-b739-e6421aaa483c",
   "metadata": {
    "editable": true,
    "slideshow": {
     "slide_type": ""
    },
    "tags": []
   },
   "source": [
    "On peut aller chercher le contenu d'un élément de la liste."
   ]
  },
  {
   "cell_type": "code",
   "execution_count": null,
   "id": "b2a32d2a-bce8-4f01-8533-c3118731c794",
   "metadata": {
    "editable": true,
    "slideshow": {
     "slide_type": ""
    },
    "tags": [
     "empty"
    ]
   },
   "outputs": [],
   "source": [
    "print(liste1[[2]])"
   ]
  },
  {
   "cell_type": "code",
   "execution_count": null,
   "id": "435d7949-eb18-4ae3-8480-dafca2b05b16",
   "metadata": {
    "editable": true,
    "slideshow": {
     "slide_type": ""
    },
    "tags": [
     "empty"
    ]
   },
   "outputs": [],
   "source": [
    "print(liste2[[1]])"
   ]
  },
  {
   "cell_type": "markdown",
   "id": "0ee82f65-0a2b-49c4-9c2a-d61cce57001b",
   "metadata": {
    "editable": true,
    "slideshow": {
     "slide_type": ""
    },
    "tags": []
   },
   "source": [
    "Je peux accéder à un ou plusieurs éléments avec un index:"
   ]
  },
  {
   "cell_type": "code",
   "execution_count": 2,
   "id": "fc65a9c0-901c-4dda-acdb-d5802a1e5845",
   "metadata": {
    "editable": true,
    "slideshow": {
     "slide_type": ""
    },
    "tags": []
   },
   "outputs": [
    {
     "name": "stdout",
     "output_type": "stream",
     "text": [
      "[[1]]\n",
      "[1] 1\n",
      "\n",
      "[[2]]\n",
      "[1] \"a\"\n",
      "\n"
     ]
    }
   ],
   "source": [
    "print(liste1[c(1,2)])"
   ]
  },
  {
   "cell_type": "markdown",
   "id": "7a8b73f4-4fa2-41fc-b7e8-0a279bada65c",
   "metadata": {
    "editable": true,
    "slideshow": {
     "slide_type": ""
    },
    "tags": []
   },
   "source": [
    "---\n",
    "\n",
    "## **Exercice-5:** \n",
    "Créez une liste avec 3 types de données: un intervalle, un character et un booléen.\n",
    "\n",
    "Imprimez l'index de la postition 3."
   ]
  },
  {
   "cell_type": "code",
   "execution_count": null,
   "id": "55495a3b-8b1d-42eb-8fad-93be215f8337",
   "metadata": {
    "editable": true,
    "slideshow": {
     "slide_type": ""
    },
    "tags": [
     "empty"
    ]
   },
   "outputs": [],
   "source": [
    "ma_liste_exercice = list(1:20, \"Nom\", TRUE)\n",
    "print(ma_liste_exercice[3])"
   ]
  },
  {
   "cell_type": "markdown",
   "id": "74064cf3-cf91-4d1a-be85-1c1deee66440",
   "metadata": {
    "editable": true,
    "slideshow": {
     "slide_type": ""
    },
    "tags": []
   },
   "source": [
    "---\n",
    "## **La matrice**\n",
    "Le R étant un langage spécialisé pour les calculs mathématiques, il supporte tout naturellement et de manière intuitive les matrices et, plus généralement, les tableaux à plusieurs dimensions.\n",
    "\n",
    "C'est simplement un vecteur atomic avec dimensions (rangées et colonnes).\n",
    "\n",
    "Les éléments doivent être de même type.\n",
    "\n",
    "Ces objets sont donc stockés, et peuvent être manipulés, exactement comme des vecteurs simples."
   ]
  },
  {
   "cell_type": "code",
   "execution_count": null,
   "id": "d147833a-13f5-4b8f-8fb0-57f26a39ec52",
   "metadata": {
    "editable": true,
    "slideshow": {
     "slide_type": ""
    },
    "tags": []
   },
   "outputs": [],
   "source": [
    "v = 1:10\n",
    "\n",
    "print(v)\n",
    "print(class(v))"
   ]
  },
  {
   "cell_type": "code",
   "execution_count": null,
   "id": "babeb528-f9fa-4d6d-a807-c27e1d2026a0",
   "metadata": {
    "editable": true,
    "slideshow": {
     "slide_type": ""
    },
    "tags": []
   },
   "outputs": [],
   "source": [
    "dim(v) = c(2, 5) # On prend le vecteur v, on distribue les valeurs en 2 rangées, 5 colonnes.\n",
    "\n",
    "print(v)"
   ]
  },
  {
   "cell_type": "code",
   "execution_count": null,
   "id": "093ebf39-e468-4673-bb72-81588d79d162",
   "metadata": {
    "editable": true,
    "slideshow": {
     "slide_type": ""
    },
    "tags": [
     "empty"
    ]
   },
   "outputs": [],
   "source": [
    "dim(v)"
   ]
  },
  {
   "cell_type": "code",
   "execution_count": null,
   "id": "221df5d4-c170-47aa-88c8-4d7cc2b7d912",
   "metadata": {
    "editable": true,
    "slideshow": {
     "slide_type": ""
    },
    "tags": [
     "empty"
    ]
   },
   "outputs": [],
   "source": [
    "print(class(v))"
   ]
  },
  {
   "cell_type": "code",
   "execution_count": null,
   "id": "e3a1af47-a777-4ad3-a88e-8a7b3769e343",
   "metadata": {
    "editable": true,
    "slideshow": {
     "slide_type": ""
    },
    "tags": []
   },
   "outputs": [],
   "source": [
    "n = matrix(c(1:4),2,2) # deux dimensions avec un intervalle 1 à 4.\n",
    "print(class(n))\n",
    "print(n)"
   ]
  },
  {
   "cell_type": "code",
   "execution_count": null,
   "id": "2055120c-4aa3-4569-aee6-1f47924e52b2",
   "metadata": {
    "editable": true,
    "slideshow": {
     "slide_type": ""
    },
    "tags": [
     "empty"
    ]
   },
   "outputs": [],
   "source": [
    "print(typeof(n))"
   ]
  },
  {
   "cell_type": "markdown",
   "id": "5781ed79-fc9a-4023-beef-6246194e24da",
   "metadata": {
    "editable": true,
    "slideshow": {
     "slide_type": ""
    },
    "tags": []
   },
   "source": [
    "On peut aller chercher un élément de la matrice: nom[rangée, colonne]"
   ]
  },
  {
   "cell_type": "code",
   "execution_count": null,
   "id": "3d9c3db9-09e4-4353-a397-4a9dabab7fa2",
   "metadata": {
    "editable": true,
    "slideshow": {
     "slide_type": ""
    },
    "tags": [
     "empty"
    ]
   },
   "outputs": [],
   "source": [
    "print(v[2,3]) #rangée 2, colonne 3."
   ]
  },
  {
   "cell_type": "markdown",
   "id": "8891040a-1bf6-4ad9-afad-ad5cfb0eba3c",
   "metadata": {
    "editable": true,
    "slideshow": {
     "slide_type": ""
    },
    "tags": []
   },
   "source": [
    "Une matrice de plus de 2 dimensions est appelée tableau (*array*)."
   ]
  },
  {
   "cell_type": "code",
   "execution_count": null,
   "id": "acbbd6b1-3386-4986-a7d7-b0412326431c",
   "metadata": {
    "editable": true,
    "slideshow": {
     "slide_type": ""
    },
    "tags": []
   },
   "outputs": [],
   "source": [
    "vector1 = c(5, 9, 3, 4)\n",
    "vector2 = c(10, 11, 12, 13, 14, 15)\n",
    "resultat = array(c(vector1, vector2), dim = c(2, 3, 4)) # rangée, colonne, dimension\n",
    "print(resultat)"
   ]
  },
  {
   "cell_type": "markdown",
   "id": "84d53d92-74ea-4f81-8534-2f6c9a0a7dad",
   "metadata": {
    "editable": true,
    "slideshow": {
     "slide_type": ""
    },
    "tags": []
   },
   "source": [
    "On peut aller chercher un élément dans un tableau.\n",
    "\n",
    "nom[rangée, colonne, dimension]"
   ]
  },
  {
   "cell_type": "code",
   "execution_count": null,
   "id": "c8e60bb6-be11-4efa-9c1b-bd846f9def17",
   "metadata": {
    "editable": true,
    "slideshow": {
     "slide_type": ""
    },
    "tags": [
     "empty"
    ]
   },
   "outputs": [],
   "source": [
    "print(resultat[1, 2, 1]) # première rangée, deuxième colonne, première dimension"
   ]
  },
  {
   "cell_type": "markdown",
   "id": "7e019803-78ba-4055-b964-3517e2280fe5",
   "metadata": {
    "editable": true,
    "slideshow": {
     "slide_type": ""
    },
    "tags": []
   },
   "source": [
    "---\n",
    "\n",
    "## **Exercice-6:** \n",
    "Que doit-on modifier pour avoir une matrice en trois dimensions?"
   ]
  },
  {
   "cell_type": "code",
   "execution_count": null,
   "id": "e267792b-9c4f-43f7-87f8-f48d9a2c6c05",
   "metadata": {
    "editable": true,
    "slideshow": {
     "slide_type": ""
    },
    "tags": []
   },
   "outputs": [],
   "source": [
    "vector1 = c(5, 9, 3, 4)\n",
    "vector2 = c(10, 11, 12, 13, 14, 15)\n",
    "resultat = array(c(vector1, vector2), dim = c(3, 3, 3))\n",
    "print(resultat)"
   ]
  },
  {
   "cell_type": "markdown",
   "id": "67be94d3-e557-480f-9166-4576a2c1fa9c",
   "metadata": {
    "editable": true,
    "slideshow": {
     "slide_type": ""
    },
    "tags": []
   },
   "source": [
    "---\n",
    "## ***Data frame***\n",
    "Le *data frame* est une importante structure de donnée pour le R.\n",
    "\n",
    "C'est le type de structure pour la plupart des données tabulées utilisées en statistique.\n",
    "\n",
    "On peut créer un *data frame* avec les fonctions `read.csv()` ou `read.table()` quand on importe des données.\n",
    "\n",
    "On peur créer un *data frame* avec la fonction `data.frame()`."
   ]
  },
  {
   "cell_type": "code",
   "execution_count": null,
   "id": "b1c88c5c-0f32-49de-9322-dacd45f35f75",
   "metadata": {
    "editable": true,
    "slideshow": {
     "slide_type": ""
    },
    "tags": []
   },
   "outputs": [],
   "source": [
    "dat = data.frame(id = letters[1:10], x = 1:10, y = 11:20) # letters => constante vue plus haut.\n",
    "print(dat)"
   ]
  },
  {
   "cell_type": "markdown",
   "id": "3a22bd16-d325-489e-b058-96418baaf808",
   "metadata": {
    "editable": true,
    "slideshow": {
     "slide_type": ""
    },
    "tags": []
   },
   "source": [
    "### Fonctions utiles pour le *data frame*.\n",
    "- `head()` - Retourne les 6 premières rangées.\n",
    "- `tail()` - Retourne les 6 dernières rangées.\n",
    "- `dim()` - Retourne les dimensions du *data frame* (le nombre de rangées et de colonnes).\n",
    "- `nrow()` - Retourne le nombre de rangées.\n",
    "- `ncol()` - Retourne le nombre de colonnes.\n",
    "- `str()` - Retourne le nom et type de donnée avec un résumé de chaque colonne.\n",
    "- `summary()` - Résume avec mean, max, median sur les colonnes.\n",
    "- `names()` or `colnames()` - Retourne les noms des attributs pour le *data frame*.\n",
    "- `sapply(dataframe, class)` - Retourne la classe de chaque colonne dans le *data frame*."
   ]
  },
  {
   "cell_type": "code",
   "execution_count": null,
   "id": "c92d8a6c-ba6f-4239-bed0-c16d5f36bbf5",
   "metadata": {
    "editable": true,
    "slideshow": {
     "slide_type": ""
    },
    "tags": [
     "empty"
    ]
   },
   "outputs": [],
   "source": [
    "print(head(dat))"
   ]
  },
  {
   "cell_type": "code",
   "execution_count": null,
   "id": "88f94249-ae4f-46b5-946d-904b33eeedb4",
   "metadata": {
    "editable": true,
    "slideshow": {
     "slide_type": ""
    },
    "tags": [
     "empty"
    ]
   },
   "outputs": [],
   "source": [
    "print(str(dat))"
   ]
  },
  {
   "cell_type": "code",
   "execution_count": null,
   "id": "d5b38b20-e0b2-4bae-932a-5143ca91371e",
   "metadata": {
    "editable": true,
    "slideshow": {
     "slide_type": ""
    },
    "tags": [
     "empty"
    ]
   },
   "outputs": [],
   "source": [
    "print(class(dat))"
   ]
  },
  {
   "cell_type": "markdown",
   "id": "36813a71-500e-416a-9a09-decd0298a46f",
   "metadata": {
    "editable": true,
    "slideshow": {
     "slide_type": ""
    },
    "tags": []
   },
   "source": [
    "---\n",
    "\n",
    "## **Exercice-7:** \n",
    "Construire un *data frame* de 2 colonnes."
   ]
  },
  {
   "cell_type": "code",
   "execution_count": null,
   "id": "5974c067-2b55-4f1a-b65c-19ca9a3a4806",
   "metadata": {
    "editable": true,
    "slideshow": {
     "slide_type": ""
    },
    "tags": [
     "empty"
    ]
   },
   "outputs": [],
   "source": [
    "dat = data.frame(id = month.abb , numero = 1:12)\n",
    "print(dat)"
   ]
  },
  {
   "cell_type": "markdown",
   "id": "71d82e1d-1580-4ddc-adc3-9b26654aef58",
   "metadata": {
    "editable": true,
    "slideshow": {
     "slide_type": ""
    },
    "tags": []
   },
   "source": [
    "---\n",
    "## En Résumé :\n",
    "\n",
    "- Expression en ligne de commande.\n",
    "- Affectation d'une valeur à une variable.\n",
    "- Convention pour les noms d'objets.\n",
    "  \n",
    "Les types de données de base sont:\n",
    "- *character*, *numeric*, *integer*, *logical*, *complex*\n",
    "\n",
    "Les structures de donnée sont:\n",
    "\n",
    "\n",
    "| Dimensions  | Homogène  |  Hétérogène |   \n",
    "|---|---|---|\n",
    "| 1-D\t|  atomic vector | list  |     \n",
    "|  2-D\t | matrix  | data frame |\n",
    "\n",
    " Les objets ont des attributs:\n",
    "-  *name*, *dimension*, *class*"
   ]
  },
  {
   "cell_type": "markdown",
   "id": "c2bda4ce-6078-463e-9622-71d392e7ab83",
   "metadata": {
    "editable": true,
    "slideshow": {
     "slide_type": ""
    },
    "tags": []
   },
   "source": [
    "Fonctions pour aller chercher de l'information sur les vecteurs ou objets: \n",
    "\n",
    "-  `class()` , `typeof()`, `length()`, `attributes()`.\n",
    "\n",
    "---"
   ]
  },
  {
   "cell_type": "markdown",
   "id": "c9cde459-b159-49ba-8f60-6d1f90200994",
   "metadata": {},
   "source": [
    "## Exercices supplémentaires :\n",
    "\n",
    "Les expressions.\n",
    "\n",
    "Entrez 3 différentes expressions en utilisant l’exponentiation, le reste et la division entière."
   ]
  },
  {
   "cell_type": "code",
   "execution_count": null,
   "id": "4bbcd97b-4d2d-49b3-a98c-6346892bed07",
   "metadata": {},
   "outputs": [],
   "source": [
    "3 ^ 3"
   ]
  },
  {
   "cell_type": "code",
   "execution_count": null,
   "id": "5c2fe369-72ff-48dc-836a-f21afd2d218b",
   "metadata": {},
   "outputs": [],
   "source": [
    "10 %% 2"
   ]
  },
  {
   "cell_type": "code",
   "execution_count": null,
   "id": "26c737cb-c9a8-4e14-a2cc-23b288e36c89",
   "metadata": {},
   "outputs": [],
   "source": [
    "10 %/% 2"
   ]
  },
  {
   "cell_type": "markdown",
   "id": "3c65bd3b-b984-41e9-91a5-f5f5446610a2",
   "metadata": {},
   "source": [
    "**Les affectations.**\n",
    "\n",
    "Entrez 3 différentes affectations avec des expressions différentes et afficher le résultat avec les 3 façons que nous avons vu."
   ]
  },
  {
   "cell_type": "code",
   "execution_count": null,
   "id": "acc7a55a-b27c-45a2-bf47-675a92f29525",
   "metadata": {},
   "outputs": [],
   "source": [
    "calcul = 2 * 9"
   ]
  },
  {
   "cell_type": "code",
   "execution_count": null,
   "id": "247d2580-c91d-4171-af06-c124d4d86b48",
   "metadata": {},
   "outputs": [],
   "source": [
    "print(calcul)"
   ]
  },
  {
   "cell_type": "code",
   "execution_count": null,
   "id": "cb5fd83c-471c-4cd1-8e13-4b54f5efc26c",
   "metadata": {},
   "outputs": [],
   "source": [
    "(nombre = 3 ^ 10)"
   ]
  },
  {
   "cell_type": "code",
   "execution_count": null,
   "id": "88bd1bd3-a22c-48a0-9975-c7d697d5c293",
   "metadata": {},
   "outputs": [],
   "source": []
  },
  {
   "cell_type": "code",
   "execution_count": null,
   "id": "fc1dde31-4361-4067-a910-0d0b7330ffcf",
   "metadata": {},
   "outputs": [],
   "source": [
    "operation = 8 / 4 "
   ]
  },
  {
   "cell_type": "code",
   "execution_count": null,
   "id": "5953293a-b4b8-4094-94ee-f4f387bad586",
   "metadata": {},
   "outputs": [],
   "source": [
    "operation"
   ]
  },
  {
   "cell_type": "markdown",
   "id": "f75f15ad-103d-437e-b431-956fdc4a089a",
   "metadata": {},
   "source": [
    "**Type de données**\n",
    "\n",
    "Entrez 5 affectations avec les types de données suivant:\n",
    "\n",
    "- *character*\n",
    "- *numeric*\n",
    "- *integer*\n",
    "- *logical*\n",
    "- *complex*"
   ]
  },
  {
   "cell_type": "code",
   "execution_count": null,
   "id": "9854f4a0-7afb-45b2-9e3a-00d060805630",
   "metadata": {},
   "outputs": [],
   "source": [
    "nom = 'Mélanie'"
   ]
  },
  {
   "cell_type": "code",
   "execution_count": null,
   "id": "059d1bab-4fa0-425e-b8e8-504215fe7f7d",
   "metadata": {},
   "outputs": [],
   "source": [
    "chiffre = 2.15"
   ]
  },
  {
   "cell_type": "code",
   "execution_count": null,
   "id": "5ab047d7-8c9f-454c-88d0-855b34a438f4",
   "metadata": {},
   "outputs": [],
   "source": [
    "entier = 2"
   ]
  },
  {
   "cell_type": "code",
   "execution_count": null,
   "id": "b43a1805-6c57-4440-9852-f92590affa87",
   "metadata": {},
   "outputs": [],
   "source": [
    "logique = TRUE"
   ]
  },
  {
   "cell_type": "code",
   "execution_count": null,
   "id": "f15a0c93-cfba-45b5-be44-ad7c30b24ecb",
   "metadata": {},
   "outputs": [],
   "source": [
    "nombre_complexe = i+2i"
   ]
  },
  {
   "cell_type": "markdown",
   "id": "62f9934f-046b-48f2-96d3-daf2e49e83f3",
   "metadata": {},
   "source": [
    "**Vecteur numérique**\n",
    "\n",
    "Créez un vecteur contenant les nombres de 1 à 10.\n",
    "\n",
    "Calculez la somme de tous les éléments du vecteur."
   ]
  },
  {
   "cell_type": "code",
   "execution_count": null,
   "id": "5b14135e-860f-45f6-9ad8-df92b42d1726",
   "metadata": {},
   "outputs": [],
   "source": [
    "numeric_vector = 1:10\n",
    "sum_numeric = sum(numeric_vector)\n",
    "print(sum_numeric)"
   ]
  },
  {
   "cell_type": "markdown",
   "id": "5a6c16a8-2a86-4a14-b53d-bb8dae632c08",
   "metadata": {},
   "source": [
    "**Vecteur de caractères**\n",
    "\n",
    "Créez un vecteur contenant les noms de cinq fruits.\n",
    "\n",
    "Affichez le troisième fruit du vecteur."
   ]
  },
  {
   "cell_type": "code",
   "execution_count": null,
   "id": "7bbd75a1-4be1-4c48-a20c-f693115d22d1",
   "metadata": {},
   "outputs": [],
   "source": [
    "fruits = c(\"Pomme\", \"Banane\", \"Cerise\", \"Datte\", \"Fraise\")\n",
    "print(fruits[3])"
   ]
  },
  {
   "cell_type": "markdown",
   "id": "caab801d-6662-4214-9764-ad350e21608a",
   "metadata": {},
   "source": [
    "Ajoutez un fruit après la position 4."
   ]
  },
  {
   "cell_type": "code",
   "execution_count": null,
   "id": "c2d2bbde-0f35-4446-9ea0-3153ac8b68ad",
   "metadata": {},
   "outputs": [],
   "source": [
    "fruits = append(fruits, \"Bleuet\", after=4)\n",
    "print(fruits)"
   ]
  },
  {
   "cell_type": "markdown",
   "id": "424ce30d-1a22-40a8-8f6e-a189e7fa24e2",
   "metadata": {},
   "source": [
    "**Les listes**\n",
    "\n",
    "Création d'une liste simple :\n",
    "\n",
    "Créez une liste contenant un vecteur numérique, un vecteur de caractères et un vecteur logique.\n",
    "\n",
    "Affichez la liste. Affichez chaque élément de la liste."
   ]
  },
  {
   "cell_type": "code",
   "execution_count": null,
   "id": "01b75b6a-f270-4a30-8b39-424583bd26b5",
   "metadata": {},
   "outputs": [],
   "source": [
    "ma_liste <- list(vector_numerique = c(1, 2, 3), \n",
    "                vector_caractere = c(\"a\", \"b\", \"c\"), \n",
    "                vector_logique = c(TRUE, FALSE, TRUE))"
   ]
  },
  {
   "cell_type": "code",
   "execution_count": null,
   "id": "f7e26b08-f3a0-41a0-8052-09a4607d30e2",
   "metadata": {},
   "outputs": [],
   "source": [
    "print(ma_liste)"
   ]
  },
  {
   "cell_type": "code",
   "execution_count": null,
   "id": "ae5b3680-d680-4654-a0c0-a01fb6d4d404",
   "metadata": {},
   "outputs": [],
   "source": [
    "print(ma_liste$vector_numerique)\n",
    "print(ma_liste$vector_caractere)\n",
    "print(ma_liste$vector_logique)"
   ]
  },
  {
   "cell_type": "markdown",
   "id": "d7c2175f-3a7c-4ee7-9f2c-5a11438eb355",
   "metadata": {},
   "source": [
    "Modification d'un élément d'une liste :\n",
    "\n",
    "Créez une liste contenant un vecteur numérique et un vecteur de caractères.\n",
    "\n",
    "Modifiez le premier élément du vecteur numérique.\n",
    "\n",
    "Affichez la liste."
   ]
  },
  {
   "cell_type": "code",
   "execution_count": null,
   "id": "7895ab01-af43-4375-a8e9-57dcb3816315",
   "metadata": {},
   "outputs": [],
   "source": [
    "ma_liste <- list(vector_num = c(1, 2, 3), vector_char = c(\"a\", \"b\", \"c\"))"
   ]
  },
  {
   "cell_type": "code",
   "execution_count": null,
   "id": "dd15212b-d7dd-48ad-aba2-766f989b0b19",
   "metadata": {},
   "outputs": [],
   "source": [
    "ma_liste$vector_num[1] = 10"
   ]
  },
  {
   "cell_type": "code",
   "execution_count": null,
   "id": "ff7ffb3d-4079-4370-9c27-58516bcdc4b0",
   "metadata": {},
   "outputs": [],
   "source": [
    "print(ma_liste)"
   ]
  },
  {
   "cell_type": "markdown",
   "id": "cbaa2a7f-47c1-4bc9-9b09-67ff1efe0cc9",
   "metadata": {},
   "source": [
    "**Les matrices**\n",
    "\n",
    "Création et affichage d'une matrice :\n",
    "\n",
    "Créez une matrice 3x3 contenant les nombres de 1 à 9.\n",
    "\n",
    "Affichez la matrice."
   ]
  },
  {
   "cell_type": "code",
   "execution_count": null,
   "id": "36a36f0e-7937-457d-b9d9-d193eeafaf40",
   "metadata": {},
   "outputs": [],
   "source": [
    "# Création de la matrice\n",
    "mat = matrix(1:9,3,3)\n",
    "# Affichage de la matrice\n",
    "print(mat)"
   ]
  },
  {
   "cell_type": "markdown",
   "id": "8160d4db-6ed6-46c0-aa7c-730403a3e2ac",
   "metadata": {},
   "source": [
    "Accès aux éléments d'une matrice :\n",
    "\n",
    "Créez une matrice 2x4 contenant les nombres de 1 à 8.\n",
    "\n",
    "Affichez l'élément de la deuxième ligne et troisième colonne."
   ]
  },
  {
   "cell_type": "code",
   "execution_count": null,
   "id": "257ab09e-583a-43bb-8bf6-0333554b4fd5",
   "metadata": {},
   "outputs": [],
   "source": [
    "# Création de la matrice\n",
    "mat = matrix(1:8, nrow = 2, ncol = 4)\n",
    "# Accès à l'élément\n",
    "element = mat[2, 3]\n",
    "print(mat)\n",
    "print(element)"
   ]
  },
  {
   "cell_type": "code",
   "execution_count": null,
   "id": "f0a5c73f-8e4e-47e3-a579-42a5d5bdabeb",
   "metadata": {},
   "outputs": [],
   "source": []
  },
  {
   "cell_type": "markdown",
   "id": "d218649d-d848-4e50-ae17-69b259956e76",
   "metadata": {},
   "source": [
    "**Les tableaux (array)**\n",
    "\n",
    "Créez un tableau 3x3x2 contenant les nombres de 1 à 18.\n",
    "\n",
    "Affichez le tableau."
   ]
  },
  {
   "cell_type": "code",
   "execution_count": null,
   "id": "b60bac2a-3a3f-462d-9ea0-7f891e1ec650",
   "metadata": {},
   "outputs": [],
   "source": [
    "# Création de l'array\n",
    "my_array = array(1:18, dim = c(3, 3, 2))\n",
    "# Affichage de l'array\n",
    "print(my_array)"
   ]
  },
  {
   "cell_type": "code",
   "execution_count": null,
   "id": "475e40a6-12a5-4f9d-948f-1a0da0f5ea7b",
   "metadata": {},
   "outputs": [],
   "source": []
  },
  {
   "cell_type": "markdown",
   "id": "b3578fb4-bef0-4317-97d7-6d3dd7b63587",
   "metadata": {},
   "source": [
    "Accès aux éléments d'un tableau :\n",
    "\n",
    "Utilisez le tableau créé dans l'exercice précédant.\n",
    "\n",
    "Affichez l'élément de la première ligne, deuxième colonne, et première couche.\n",
    "\n",
    "Affichez la deuxième couche entière du tableau."
   ]
  },
  {
   "cell_type": "code",
   "execution_count": null,
   "id": "9097ad1f-b9a7-485d-a35e-5c0dd63bb634",
   "metadata": {},
   "outputs": [],
   "source": [
    "# Accès à un élément spécifique\n",
    "element = my_array[1, 2, 1]\n",
    "print(element)"
   ]
  },
  {
   "cell_type": "code",
   "execution_count": null,
   "id": "98ca9164-48e9-436f-b2b6-d1d1d287e93b",
   "metadata": {},
   "outputs": [],
   "source": [
    "# Affichage de la deuxième couche\n",
    "second_layer <- my_array[, , 2]\n",
    "print(second_layer)"
   ]
  },
  {
   "cell_type": "code",
   "execution_count": null,
   "id": "b7def1dc-fcb4-4f08-ae92-c34095ac7afc",
   "metadata": {},
   "outputs": [],
   "source": []
  },
  {
   "cell_type": "markdown",
   "id": "d6f7de7a-e6c8-487b-a22d-52d3d6dc8247",
   "metadata": {},
   "source": [
    "**Le data frame**\n",
    "\n",
    "Création et affichage d'un data frame :\n",
    "\n",
    "Créez un data frame avec trois colonnes : \"Nom\" (caractères), \"Âge\" (numérique) et \"Ville\" (caractères).\n",
    "\n",
    "Ajoutez trois lignes de données.\n",
    "\n",
    "Affichez le data frame."
   ]
  },
  {
   "cell_type": "code",
   "execution_count": null,
   "id": "a84e4fe0-8e53-4686-81fa-725daa0d82c8",
   "metadata": {},
   "outputs": [],
   "source": [
    "# Création du data frame\n",
    "df <- data.frame(Nom = c(\"Alice\", \"Bob\", \"Charlie\"),\n",
    "                 Âge = c(25, 30, 35),\n",
    "                 Ville = c(\"Paris\", \"Lyon\", \"Marseille\"))"
   ]
  },
  {
   "cell_type": "code",
   "execution_count": null,
   "id": "c7e32247-276c-4f84-9634-75ae21e3a11e",
   "metadata": {},
   "outputs": [],
   "source": [
    "# Affichage du data frame\n",
    "print(df)"
   ]
  },
  {
   "cell_type": "markdown",
   "id": "096139fc-729e-4437-8203-3f5afc94db75",
   "metadata": {},
   "source": [
    "Accès aux éléments d'un data frame :\n",
    "\n",
    "Utilisez le data frame créé dans l'exercice précédent.\n",
    "\n",
    "Affichez la colonne \"Âge\".\n",
    "\n",
    "Affichez la deuxième ligne du data frame."
   ]
  },
  {
   "cell_type": "code",
   "execution_count": null,
   "id": "f91b2625-07f5-4933-9e17-c839c2bfb17f",
   "metadata": {},
   "outputs": [],
   "source": [
    "# Affichage de la colonne \"Âge\"\n",
    "print(df$Âge)"
   ]
  },
  {
   "cell_type": "code",
   "execution_count": null,
   "id": "4d20b962-b360-4a82-a33c-7666151e56d3",
   "metadata": {},
   "outputs": [],
   "source": [
    "# Affichage de la deuxième ligne\n",
    "print(df[2, ])"
   ]
  },
  {
   "cell_type": "markdown",
   "id": "8df04fa7-fc4c-478d-ae09-02333b55c479",
   "metadata": {},
   "source": [
    "Ajout d'une nouvelle colonne :\n",
    "\n",
    "Utilisez le data frame créé dans l'exercice précédant.\n",
    "\n",
    "Ajoutez une nouvelle colonne \"Profession\" avec les valeurs \"Ingénieur\", \"Médecin\" et \"Artiste\".\n",
    "\n",
    "Affichez le data frame mis à jour."
   ]
  },
  {
   "cell_type": "code",
   "execution_count": null,
   "id": "ee575fee-5689-4823-ab1f-1cd23a4018c3",
   "metadata": {},
   "outputs": [],
   "source": [
    "# Ajout de la colonne \"Profession\"\n",
    "df$Profession <- c(\"Ingénieur\", \"Médecin\", \"Artiste\")"
   ]
  },
  {
   "cell_type": "code",
   "execution_count": null,
   "id": "6340ce68-dd5b-4ad2-98ea-c2a3c8b4f39a",
   "metadata": {},
   "outputs": [],
   "source": [
    "# Affichage du data frame mis à jour\n",
    "print(df)"
   ]
  },
  {
   "cell_type": "code",
   "execution_count": null,
   "id": "3009e464-5c2c-47cd-b338-3c1aaac4e105",
   "metadata": {},
   "outputs": [],
   "source": []
  }
 ],
 "metadata": {
  "kernelspec": {
   "display_name": "R",
   "language": "R",
   "name": "ir"
  },
  "language_info": {
   "codemirror_mode": "r",
   "file_extension": ".r",
   "mimetype": "text/x-r-source",
   "name": "R",
   "pygments_lexer": "r",
   "version": "4.2.3"
  },
  "widgets": {
   "application/vnd.jupyter.widget-state+json": {
    "state": {},
    "version_major": 2,
    "version_minor": 0
   }
  }
 },
 "nbformat": 4,
 "nbformat_minor": 5
}
