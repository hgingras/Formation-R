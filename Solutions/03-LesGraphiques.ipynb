{
 "cells": [
  {
   "cell_type": "markdown",
   "id": "219aef01-020d-4f07-9439-d2412a76be3f",
   "metadata": {
    "editable": true,
    "slideshow": {
     "slide_type": ""
    },
    "tags": []
   },
   "source": [
    "# **Les graphiques**\n",
    "## Objectifs\n",
    "\n",
    "- Comment faire un `heatmap()`.\n",
    "---"
   ]
  },
  {
   "cell_type": "markdown",
   "id": "4a198b1f-4ba2-4023-a390-f3ff6e1b90d6",
   "metadata": {},
   "source": [
    "## Un graphique heatmap:\n",
    "\n",
    "![image](../images/lesson-overview.svg)"
   ]
  },
  {
   "cell_type": "markdown",
   "id": "498dc526-b8d2-48f0-9d64-e1cc883470e1",
   "metadata": {},
   "source": [
    "On va charger nos données:"
   ]
  },
  {
   "cell_type": "code",
   "execution_count": null,
   "id": "b8e6f48c-f05f-42e5-92d6-3468b175dcd1",
   "metadata": {
    "editable": true,
    "slideshow": {
     "slide_type": ""
    },
    "tags": []
   },
   "outputs": [],
   "source": [
    "dat = read.csv(file = \"../data/inflammation-01.csv\", header = FALSE)"
   ]
  },
  {
   "cell_type": "markdown",
   "id": "1e9d52e6-4b0e-461e-8050-bb393e59f92f",
   "metadata": {},
   "source": [
    "La docummentation d'un heatmap:"
   ]
  },
  {
   "cell_type": "code",
   "execution_count": null,
   "id": "d14a29e6-20ff-497c-8b44-62794a9d399d",
   "metadata": {
    "editable": true,
    "slideshow": {
     "slide_type": ""
    },
    "tags": [
     "scrolled=True"
    ]
   },
   "outputs": [],
   "source": [
    "help(heatmap)"
   ]
  },
  {
   "cell_type": "markdown",
   "id": "97214783-e745-4b23-800c-af2e899cfd24",
   "metadata": {},
   "source": [
    "Avons nous une matrice ou un dataframe?"
   ]
  },
  {
   "cell_type": "code",
   "execution_count": null,
   "id": "2ee4ea10-371b-4156-9170-8fde4c00a68e",
   "metadata": {},
   "outputs": [],
   "source": [
    "class(dat)"
   ]
  },
  {
   "cell_type": "code",
   "execution_count": null,
   "id": "4e827a7b-f271-44d3-83e3-e10059bf9eab",
   "metadata": {},
   "outputs": [],
   "source": [
    "head(dat)"
   ]
  },
  {
   "cell_type": "markdown",
   "id": "1425f6bc-5c39-4f6c-a3f3-265de254c090",
   "metadata": {},
   "source": [
    "Voici comment passer de data frame à une matrice:"
   ]
  },
  {
   "cell_type": "code",
   "execution_count": null,
   "id": "276607d3-ab32-4697-84cd-cdb34d9eb549",
   "metadata": {},
   "outputs": [],
   "source": [
    "dat_matrice = as.matrix(dat)"
   ]
  },
  {
   "cell_type": "markdown",
   "id": "1afe50e3-9847-48d6-a60e-7c33432a3f51",
   "metadata": {},
   "source": [
    "Voir le changement de classe de notre objet dat:"
   ]
  },
  {
   "cell_type": "code",
   "execution_count": null,
   "id": "4c7b9232-8b7d-457c-8a9d-fc58ef96e985",
   "metadata": {},
   "outputs": [],
   "source": [
    "class(dat_matrice)"
   ]
  },
  {
   "cell_type": "code",
   "execution_count": null,
   "id": "4f035a82-a6cf-4136-b7c0-792be843ef35",
   "metadata": {},
   "outputs": [],
   "source": [
    "head(dat_matrice)"
   ]
  },
  {
   "cell_type": "markdown",
   "id": "8d825833-ddfc-4682-b691-3f3f061b28a9",
   "metadata": {},
   "source": [
    "Lance le graphique heatmap:"
   ]
  },
  {
   "cell_type": "markdown",
   "id": "569e0b7e-3992-4cd8-ac13-1d4d9bd15748",
   "metadata": {},
   "source": [
    "Que ce passe-il si on lance le heatmap avec le dataframe au lieu de la matrice?"
   ]
  },
  {
   "cell_type": "code",
   "execution_count": null,
   "id": "df6ec789-b1a5-4eeb-b4c9-7d805c79ed5f",
   "metadata": {
    "editable": true,
    "slideshow": {
     "slide_type": ""
    },
    "tags": [
     "empty"
    ]
   },
   "outputs": [],
   "source": [
    "heatmap(dat)"
   ]
  },
  {
   "cell_type": "markdown",
   "id": "4bf89917-c66d-4b34-aa77-af0cd29df759",
   "metadata": {},
   "source": [
    "On lance maintenant le heatmap avec la matrice:"
   ]
  },
  {
   "cell_type": "code",
   "execution_count": null,
   "id": "754405eb-21f7-4dbc-89a7-cd8dd7b3e1b3",
   "metadata": {},
   "outputs": [],
   "source": [
    "heatmap(dat_matrice)"
   ]
  },
  {
   "cell_type": "markdown",
   "id": "3f9a40f0-bf2d-4ccd-a011-9905fa1593cb",
   "metadata": {},
   "source": [
    "On veut enlever le dendrogram:"
   ]
  },
  {
   "cell_type": "code",
   "execution_count": null,
   "id": "5af3d313-10cd-4291-9769-2dbbef555c7f",
   "metadata": {},
   "outputs": [],
   "source": [
    "heatmap(dat_matrice, Colv = NA, Rowv = NA)"
   ]
  },
  {
   "cell_type": "markdown",
   "id": "e87ce5a8-7fa4-465c-802b-e1e44e33d003",
   "metadata": {},
   "source": [
    "Changer la couleur avec la fonction colorRampPalette():"
   ]
  },
  {
   "cell_type": "code",
   "execution_count": null,
   "id": "b33e4bce-c0ac-45e3-8289-49a565426c75",
   "metadata": {},
   "outputs": [],
   "source": [
    "palette_couleur = colorRampPalette(c(\"blue\", \"yellow\"))(n = 200)"
   ]
  },
  {
   "cell_type": "code",
   "execution_count": null,
   "id": "900b4225-ea12-43c8-ae13-b87ab0ad564e",
   "metadata": {},
   "outputs": [],
   "source": [
    "heatmap(dat_matrice, Colv = NA, Rowv = NA, col = palette_couleur)"
   ]
  },
  {
   "cell_type": "markdown",
   "id": "1d55bf38-30a0-4dd9-bfa5-c759ecd58400",
   "metadata": {},
   "source": [
    "---\n",
    "## Autres graphiques:\n",
    "\n",
    "https://r-graph-gallery.com"
   ]
  },
  {
   "cell_type": "markdown",
   "id": "6377c567-92a7-4980-aa79-b572240746a3",
   "metadata": {},
   "source": [
    "---\n",
    "## **En résumé:**\n",
    "\n",
    "À retenir quand on réalise un graphique:\n",
    "\n",
    "- Assurez-vous de bien lire la documentation.\n",
    "- Vérifiez si vous avez bien le bon type (classe) de donnée.\n",
    "- Ne pas avoir peur des messages d'erreur, la solution s'y retrouve habituellement.\n",
    "- Faites des recherches au besoin pour vous aider à solutionner votre problème, vous n'êtes probablement pas le premier à qui cela arrive.\n",
    "\n",
    "---"
   ]
  },
  {
   "cell_type": "markdown",
   "id": "8351703c-80be-4032-9be4-aed3e1aa4a71",
   "metadata": {
    "editable": true,
    "scrolled": true,
    "slideshow": {
     "slide_type": ""
    },
    "tags": [
     "scrolled=True",
     "empty"
    ]
   },
   "source": [
    "## **Exercices supplémentaires**\n",
    "\n",
    "## La fonction `apply()` et le graphique `plot()`\n",
    "\n",
    "La fonction `apply()` nous permet d'appeler une fonction sur un ensemble de données. \n",
    "\n",
    "On transforme nos données avant d'afficher avec un graphique.\n",
    "\n",
    "---\n",
    "\n",
    "```R\n",
    "\n",
    "apply(X, MARGIN, FUN) \n",
    "\n",
    "On a 3 arguments:\n",
    "\n",
    "X : array\n",
    "\n",
    "MARGIN : (1=rangée 2=colonne, c(1,2))\n",
    "\n",
    "FUN : fonction.\n",
    "\n",
    "```\n",
    "\n",
    "---\n",
    "\n",
    "![image](../images/r-operations-across-margins.svg)"
   ]
  },
  {
   "cell_type": "code",
   "execution_count": null,
   "id": "4946a6fa-5688-4964-88f7-17d7851a7f50",
   "metadata": {},
   "outputs": [],
   "source": []
  },
  {
   "cell_type": "markdown",
   "id": "51505909-b349-4b74-8fa7-ef046392f308",
   "metadata": {
    "editable": true,
    "slideshow": {
     "slide_type": ""
    },
    "tags": []
   },
   "source": [
    "La fonction `apply()` nous permet d'appeler une fonction sur un ensemble de données. \n",
    "\n",
    "On transforme nos données avant d'afficher avec un graphique."
   ]
  },
  {
   "cell_type": "markdown",
   "id": "c7054851-a801-412b-b886-f3ccc9539cd3",
   "metadata": {
    "editable": true,
    "slideshow": {
     "slide_type": ""
    },
    "tags": []
   },
   "source": [
    "---\n",
    "\n",
    "```R\n",
    "\n",
    "apply(X, MARGIN, FUN) \n",
    "\n",
    "On a 3 arguments:\n",
    "\n",
    "X : array\n",
    "\n",
    "MARGIN : (1=rangée 2=colonne, c(1,2))\n",
    "\n",
    "FUN : fonction.\n",
    "\n",
    "```\n",
    "\n",
    "---\n",
    "\n",
    "![image](../images/r-operations-across-margins.svg)\n",
    "\n"
   ]
  },
  {
   "cell_type": "markdown",
   "id": "8e58cd8c-1d95-49af-89d4-18ac4c0597a1",
   "metadata": {
    "editable": true,
    "slideshow": {
     "slide_type": ""
    },
    "tags": []
   },
   "source": [
    "Moyenne d'inflammation de chaque patient pour toutes les journées."
   ]
  },
  {
   "cell_type": "code",
   "execution_count": null,
   "id": "d64166f6-b9cb-46d3-b6d7-67f50ffdaa48",
   "metadata": {
    "editable": true,
    "slideshow": {
     "slide_type": ""
    },
    "tags": [
     "scrolled=True"
    ]
   },
   "outputs": [],
   "source": [
    "help(apply)"
   ]
  },
  {
   "cell_type": "markdown",
   "id": "7cf291d0-296d-4c14-a00d-4af794c900e4",
   "metadata": {},
   "source": [
    "On importe nos données."
   ]
  },
  {
   "cell_type": "code",
   "execution_count": null,
   "id": "8577a2db-b811-4c54-9705-3d2e80ed4473",
   "metadata": {},
   "outputs": [],
   "source": [
    "dat = read.csv(file = \"../data/inflammation-01.csv\", header = FALSE)"
   ]
  },
  {
   "cell_type": "markdown",
   "id": "e326b537-7654-41c8-979b-695dc6392ead",
   "metadata": {},
   "source": [
    "Moyenne d'inflammation de chaque patient pour toutes les journées."
   ]
  },
  {
   "cell_type": "code",
   "execution_count": null,
   "id": "6b46d17f-90d4-4e69-84d0-bbb362b52dff",
   "metadata": {},
   "outputs": [],
   "source": [
    "moyenne_patient = apply(dat, 1, mean)"
   ]
  },
  {
   "cell_type": "code",
   "execution_count": null,
   "id": "119c887b-ce9e-42f1-bb65-c2c4db4e66c3",
   "metadata": {},
   "outputs": [],
   "source": [
    "print(moyenne_patient)"
   ]
  },
  {
   "cell_type": "markdown",
   "id": "ff075229-e19f-4cd7-9198-2316ff60cf09",
   "metadata": {},
   "source": [
    "On va utiliser la fonction plot() pour visualiser sous forme de graphique."
   ]
  },
  {
   "cell_type": "code",
   "execution_count": null,
   "id": "044fd265-ea20-40da-9f8a-4f3792718c03",
   "metadata": {
    "editable": true,
    "slideshow": {
     "slide_type": ""
    },
    "tags": [
     "scrolled=True"
    ]
   },
   "outputs": [],
   "source": [
    "help(plot) # Graphique nuage de points."
   ]
  },
  {
   "cell_type": "code",
   "execution_count": null,
   "id": "3d5e461c-2225-43df-a503-10cee6feb44a",
   "metadata": {},
   "outputs": [],
   "source": [
    "plot(moyenne_patient, main=\"Moyenne d'inflammation pour toutes les journées de chaque patient\", xlab=\"Patients\", ylab=\"Moyenne d'inflammation de chaque patient\")"
   ]
  },
  {
   "cell_type": "markdown",
   "id": "a2f9d0e8-7350-4c42-9196-eee9cf722b5f",
   "metadata": {},
   "source": [
    "Avec la fonction `apply()` et `plot()`, affichez sous forme de graphique la valeur d'inflammation maximum pour chaque journée."
   ]
  },
  {
   "cell_type": "code",
   "execution_count": null,
   "id": "ccba4730-6935-4a43-b3d1-77c2a6fb213e",
   "metadata": {},
   "outputs": [],
   "source": [
    "max_patient = apply(dat, 1, max)"
   ]
  },
  {
   "cell_type": "code",
   "execution_count": null,
   "id": "326711da-1ed8-498b-b928-0366fb0b04eb",
   "metadata": {},
   "outputs": [],
   "source": [
    "plot(max_patient)"
   ]
  },
  {
   "cell_type": "markdown",
   "id": "9eff246f-9d36-4873-b4a7-17c378de703a",
   "metadata": {},
   "source": [
    "Avec la fonction `apply()` et `plot()`, affichez sous forme de graphique la valeur d'inflammation minimum pour chaque journée."
   ]
  },
  {
   "cell_type": "code",
   "execution_count": null,
   "id": "66ccdf1f-b711-44d4-b2cf-95be7217b08c",
   "metadata": {},
   "outputs": [],
   "source": [
    "min_patient = apply(dat, 2, min)"
   ]
  },
  {
   "cell_type": "code",
   "execution_count": null,
   "id": "729525fb-332d-4588-b94f-856acdbb69c6",
   "metadata": {},
   "outputs": [],
   "source": [
    "plot(min_patient)"
   ]
  },
  {
   "cell_type": "markdown",
   "id": "4cd076ee-1085-4785-9a69-72c3d66db869",
   "metadata": {},
   "source": [
    "Avec la fonction `apply()` et `plot()`, mettre en graphique la moyenne d'inflammation des patients 1 à 5 pour les 40 journées. Ajouter un titre et le nom des axes."
   ]
  },
  {
   "cell_type": "code",
   "execution_count": null,
   "id": "61e61b4c-93d3-4e64-b185-c42959b0d93d",
   "metadata": {},
   "outputs": [],
   "source": [
    "mean_patient_1_5 = apply(dat[1:5,], 2, mean)"
   ]
  },
  {
   "cell_type": "markdown",
   "id": "84b81112-478c-4930-9d3b-5d62b03b7731",
   "metadata": {},
   "source": [
    "plot(mean_patient_1_5)"
   ]
  },
  {
   "cell_type": "markdown",
   "id": "b5f82635-7444-46bd-a115-a17edf432bfd",
   "metadata": {},
   "source": [
    "## Comment faire un graphique `boxplot()`."
   ]
  },
  {
   "cell_type": "code",
   "execution_count": null,
   "id": "e261e9b9-d9c4-464c-89c7-b4aa69f4ff36",
   "metadata": {
    "editable": true,
    "slideshow": {
     "slide_type": ""
    },
    "tags": [
     "scrolled=True"
    ]
   },
   "outputs": [],
   "source": [
    "help(boxplot)"
   ]
  },
  {
   "cell_type": "markdown",
   "id": "27caf891-ad8d-460c-a801-da31ebc0ba71",
   "metadata": {},
   "source": [
    "Par défaut, le boxplot va prendre les colonnes pour les données."
   ]
  },
  {
   "cell_type": "markdown",
   "id": "271adf5e-1f58-4493-a6ae-b59d1bc79c77",
   "metadata": {},
   "source": [
    "On importe nos données:"
   ]
  },
  {
   "cell_type": "code",
   "execution_count": null,
   "id": "aef8e623-c20b-48b4-807b-087aed73133a",
   "metadata": {},
   "outputs": [],
   "source": [
    "dat = read.csv(file = \"../data/inflammation-01.csv\", header = FALSE)"
   ]
  },
  {
   "cell_type": "markdown",
   "id": "efb80efe-a764-45e6-9299-8b3e1c1990c1",
   "metadata": {},
   "source": [
    "Boxpot représentant toutes les journées avec la distribution des valeurs d'inflammation."
   ]
  },
  {
   "cell_type": "code",
   "execution_count": null,
   "id": "88b08a74-3fd5-4faf-ab93-ec471dbe128c",
   "metadata": {},
   "outputs": [],
   "source": [
    "boxplot(dat, ylab = \"Journées\", horizontal=TRUE, col = \"blue\", main = \"Titre\")"
   ]
  },
  {
   "cell_type": "markdown",
   "id": "15878701-f9d9-479f-a31a-17d3b8ec6b28",
   "metadata": {},
   "source": [
    "Boxplot pour les dix premiers patients et pour toutes les journées."
   ]
  },
  {
   "cell_type": "code",
   "execution_count": null,
   "id": "0da89008-0e65-43fe-a48d-5f91eb057f6d",
   "metadata": {},
   "outputs": [],
   "source": [
    "boxplot(dat[1:10,]) # [rangée, conlonne]"
   ]
  },
  {
   "cell_type": "markdown",
   "id": "4bad896a-59fc-4fdf-9a86-2334224e9a6a",
   "metadata": {},
   "source": [
    "Boxplot pour les dix premiers patients et pour les journées 5 à 10."
   ]
  },
  {
   "cell_type": "code",
   "execution_count": null,
   "id": "eb10685b-eea0-4742-bb7f-f7700e2a28c9",
   "metadata": {},
   "outputs": [],
   "source": [
    "boxplot(dat[1:10,5:10])"
   ]
  },
  {
   "cell_type": "markdown",
   "id": "0b77c8ec-decf-4738-9071-0a1dbc892344",
   "metadata": {},
   "source": [
    "Réalisez un boxplot pour les 40 premiers patients et pour les journées 5,4,8,40."
   ]
  },
  {
   "cell_type": "code",
   "execution_count": null,
   "id": "54f8de25-5514-490a-85ae-b13258846de2",
   "metadata": {},
   "outputs": [],
   "source": [
    "boxplot(dat[1:40,c[5,4,8,40])"
   ]
  },
  {
   "cell_type": "markdown",
   "id": "0d6b1e91-bb1a-4c31-9845-d895ebacc2dd",
   "metadata": {},
   "source": [
    "---\n",
    "\n",
    "Pour avoir le boxplot avec les rangées (pour chaque patient) on ajoute la lettre `t` en avant des données."
   ]
  },
  {
   "cell_type": "code",
   "execution_count": null,
   "id": "ac38067e-131d-4e31-8cf1-19d5457450a5",
   "metadata": {},
   "outputs": [],
   "source": [
    "boxplot(t(dat), ylab = \"Patients\", horizontal=TRUE, col = \"blue\", main = \"Titre\")"
   ]
  },
  {
   "cell_type": "code",
   "execution_count": null,
   "id": "e557115b-641f-44c6-b2ab-db705c818ed6",
   "metadata": {},
   "outputs": [],
   "source": []
  }
 ],
 "metadata": {
  "kernelspec": {
   "display_name": "R",
   "language": "R",
   "name": "ir"
  },
  "language_info": {
   "codemirror_mode": "r",
   "file_extension": ".r",
   "mimetype": "text/x-r-source",
   "name": "R",
   "pygments_lexer": "r",
   "version": "4.2.3"
  },
  "widgets": {
   "application/vnd.jupyter.widget-state+json": {
    "state": {},
    "version_major": 2,
    "version_minor": 0
   }
  }
 },
 "nbformat": 4,
 "nbformat_minor": 5
}
