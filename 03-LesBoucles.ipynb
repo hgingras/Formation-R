{
 "cells": [
  {
   "cell_type": "markdown",
   "id": "b0dc59db-27a0-4c78-ac67-c29f1a1e73cf",
   "metadata": {
    "editable": true,
    "slideshow": {
     "slide_type": ""
    },
    "tags": []
   },
   "source": [
    "# **Les Boucles**"
   ]
  },
  {
   "cell_type": "markdown",
   "id": "9b677de9-696d-4205-bc84-9563b2dfe618",
   "metadata": {},
   "source": [
    "## Objectif\n",
    "- #### Qu'est qu'une boucle *for*?\n",
    "- #### Qu'est qu'une boucle *while*?"
   ]
  },
  {
   "cell_type": "markdown",
   "id": "445f51b3-f5d9-42f0-876f-a0e13bc12dc7",
   "metadata": {},
   "source": [
    "---\n",
    "### Les boucles permettent la répétition d’un ensemble de commandes.\n",
    "### En R nous avons deux formes : ***for*** et ***while***. "
   ]
  },
  {
   "cell_type": "markdown",
   "id": "c104bc8f-488a-49f5-b6e3-90e8a5a11996",
   "metadata": {},
   "source": [
    "### Le pourquoi du comment. Et s'il n'y avait pas les bouches?"
   ]
  },
  {
   "cell_type": "markdown",
   "id": "46f7fcca-b700-4117-99b7-45345ad2f1f9",
   "metadata": {},
   "source": [
    "### On veut accéder aux éléments d'un vecteur un à un."
   ]
  },
  {
   "cell_type": "code",
   "execution_count": 11,
   "id": "06c88c76-485a-45bf-a285-9902f2ba768f",
   "metadata": {},
   "outputs": [
    {
     "data": {
      "text/html": [
       "0"
      ],
      "text/latex": [
       "0"
      ],
      "text/markdown": [
       "0"
      ],
      "text/plain": [
       "[1] 0"
      ]
     },
     "metadata": {},
     "output_type": "display_data"
    },
    {
     "data": {
      "text/html": [
       "1"
      ],
      "text/latex": [
       "1"
      ],
      "text/markdown": [
       "1"
      ],
      "text/plain": [
       "[1] 1"
      ]
     },
     "metadata": {},
     "output_type": "display_data"
    },
    {
     "data": {
      "text/html": [
       "2"
      ],
      "text/latex": [
       "2"
      ],
      "text/markdown": [
       "2"
      ],
      "text/plain": [
       "[1] 2"
      ]
     },
     "metadata": {},
     "output_type": "display_data"
    },
    {
     "data": {
      "text/html": [
       "3"
      ],
      "text/latex": [
       "3"
      ],
      "text/markdown": [
       "3"
      ],
      "text/plain": [
       "[1] 3"
      ]
     },
     "metadata": {},
     "output_type": "display_data"
    }
   ],
   "source": [
    "x = c(0, 1, 2, 3)    # c = combine\n",
    "x[1]\n",
    "x[2]\n",
    "x[3]\n",
    "x[4]"
   ]
  },
  {
   "cell_type": "markdown",
   "id": "151abd7d-6c8d-4c4e-82f4-dab7bc555d7d",
   "metadata": {},
   "source": [
    "### Et si notre vecteur change..."
   ]
  },
  {
   "cell_type": "code",
   "execution_count": 1,
   "id": "87736f01-5755-44fd-8e79-3a64529c1428",
   "metadata": {},
   "outputs": [
    {
     "data": {
      "text/html": [
       "0"
      ],
      "text/latex": [
       "0"
      ],
      "text/markdown": [
       "0"
      ],
      "text/plain": [
       "[1] 0"
      ]
     },
     "metadata": {},
     "output_type": "display_data"
    },
    {
     "data": {
      "text/html": [
       "1"
      ],
      "text/latex": [
       "1"
      ],
      "text/markdown": [
       "1"
      ],
      "text/plain": [
       "[1] 1"
      ]
     },
     "metadata": {},
     "output_type": "display_data"
    },
    {
     "data": {
      "text/html": [
       "2"
      ],
      "text/latex": [
       "2"
      ],
      "text/markdown": [
       "2"
      ],
      "text/plain": [
       "[1] 2"
      ]
     },
     "metadata": {},
     "output_type": "display_data"
    },
    {
     "data": {
      "text/html": [
       "&lt;NA&gt;"
      ],
      "text/latex": [
       "<NA>"
      ],
      "text/markdown": [
       "&lt;NA&gt;"
      ],
      "text/plain": [
       "[1] NA"
      ]
     },
     "metadata": {},
     "output_type": "display_data"
    }
   ],
   "source": [
    "x = c(0, 1, 2)\n",
    "x[1]\n",
    "x[2]\n",
    "x[3]\n",
    "x[4]"
   ]
  },
  {
   "cell_type": "markdown",
   "id": "5921bf21-4953-4c94-944d-9d9c1334f782",
   "metadata": {},
   "source": [
    "### Pourquoi cette approche n'est pas optimale:\n",
    "- #### **Non transposable à grande échelle**. Imaginez le temps pour imprimer une liste avec des centaines d'éléments.\n",
    "- #### **Difficile à maintenir**. Avec de grandes listes, il devient difficile d'effectuer des modifications au niveau de l'affichage. Comme l'ajout d'un caractère.\n",
    "- #### **Fragile**. Si la liste est plus grande, on perd de l'information. Si la liste est plus petite, on va rechercher de l'information qui n'existe pas."
   ]
  },
  {
   "cell_type": "markdown",
   "id": "a453429c-1288-4b0a-9dcd-a958f63ad000",
   "metadata": {},
   "source": [
    "## **Utiliser une boucle pour répéter une opération c'est la meilleure approche.**\n",
    "### Syntaxe de la boucle ***for***:"
   ]
  },
  {
   "cell_type": "code",
   "execution_count": null,
   "id": "7d8c3034-9993-44a2-af77-225be1e7f06e",
   "metadata": {},
   "outputs": [],
   "source": [
    "for (element in vector)\n",
    "{\n",
    "    statement(s)   \n",
    "}"
   ]
  },
  {
   "cell_type": "markdown",
   "id": "48137f74-9b90-48ab-b403-d5bee4f482d7",
   "metadata": {},
   "source": [
    "### On peut faire notre itération sur un **range**, un **vecteur**, une **liste**, une **matrice** un ***data frame***. "
   ]
  },
  {
   "cell_type": "markdown",
   "id": "60ff247b-8bcf-4b12-ae80-e6d5d905228e",
   "metadata": {},
   "source": [
    "### Itération avec un range:"
   ]
  },
  {
   "cell_type": "code",
   "execution_count": 1,
   "id": "6a6f2e9f-f533-42ec-af1a-ca8d5486ffc8",
   "metadata": {},
   "outputs": [
    {
     "name": "stdout",
     "output_type": "stream",
     "text": [
      "[1] 1\n",
      "[1] 2\n",
      "[1] 3\n",
      "[1] 4\n",
      "[1] 5\n",
      "[1] 6\n",
      "[1] 7\n",
      "[1] 8\n",
      "[1] 9\n",
      "[1] 10\n"
     ]
    }
   ],
   "source": [
    "for(element in 1:10) { #range 1 à 10\n",
    "  print(element)\n",
    "}"
   ]
  },
  {
   "cell_type": "markdown",
   "id": "5397ec73-ab45-46af-abbd-3d0b5635ccfc",
   "metadata": {},
   "source": [
    "### Itération avec un vecteur à l'extérieur de la boucle:"
   ]
  },
  {
   "cell_type": "code",
   "execution_count": 3,
   "id": "11e64907-a87d-43fb-9502-70c8efec7922",
   "metadata": {},
   "outputs": [
    {
     "name": "stdout",
     "output_type": "stream",
     "text": [
      "[1] \"Voila\"\n",
      "[1] \"quelques\"\n",
      "[1] \"petits\"\n",
      "[1] \"mots\"\n"
     ]
    }
   ],
   "source": [
    "mots = c(\"Voila\",\"quelques\",\"petits\",\"mots\")\n",
    "for(m in mots) {\n",
    "  print(m)\n",
    "}"
   ]
  },
  {
   "cell_type": "markdown",
   "id": "eaf30bee-e6fb-4891-a295-8f10927567f4",
   "metadata": {},
   "source": [
    "### Itération avec un vecteur à l'intérieur de la boucle:"
   ]
  },
  {
   "cell_type": "code",
   "execution_count": 5,
   "id": "cfcb2d32-73bd-40fd-b149-227e50f0f338",
   "metadata": {},
   "outputs": [
    {
     "name": "stdout",
     "output_type": "stream",
     "text": [
      "[1] -8\n",
      "[1] 9\n",
      "[1] 11\n",
      "[1] 45\n"
     ]
    }
   ],
   "source": [
    "for(m in c(-8, 9, 11, 45)) {\n",
    "  print(m)\n",
    "}"
   ]
  },
  {
   "cell_type": "markdown",
   "id": "f81ef596-9f41-4da0-ae06-6d8eadf9c417",
   "metadata": {},
   "source": [
    "### Itération dans un ***data frame***, on veut imprimer chaque ligne."
   ]
  },
  {
   "cell_type": "code",
   "execution_count": 10,
   "id": "6d204171-4ec0-493c-ae39-6f67d53ce480",
   "metadata": {},
   "outputs": [
    {
     "name": "stdout",
     "output_type": "stream",
     "text": [
      "[1] \"data.frame\"\n",
      "[1] \"La ligne actuelle est: Julie, 40, F\"\n",
      "[1] \"data.frame\"\n",
      "[1] \"La ligne actuelle est: Jeff, 23, M\"\n",
      "[1] \"data.frame\"\n",
      "[1] \"La ligne actuelle est: Marc, 15, M\"\n",
      "[1] \"data.frame\"\n",
      "[1] \"La ligne actuelle est: Sophie, 18, F\"\n"
     ]
    }
   ],
   "source": [
    "# On construit le dataframe:\n",
    "dataframe = data.frame(\n",
    "    Nom = c(\"Julie\", \"Jeff\", \"Marc\", \"Sophie\"),\n",
    "    Age = c(40, 23, 15, 18),\n",
    "    Sexe = c(\"F\", \"M\", \"M\", \"F\")\n",
    ")\n",
    "\n",
    "# On itère sur le dataframe ligne par ligne\n",
    "\n",
    "for (i in seq_len(nrow(dataframe))){\n",
    "    ligne_actuelle = dataframe[i,]\n",
    "    # print(class(ligne_actuelle))\n",
    "    print(paste(\"La ligne actuelle est:\", toString(ligne_actuelle)))\n",
    "}"
   ]
  },
  {
   "cell_type": "markdown",
   "id": "de5091ad-7959-4f07-bd1f-19f15abc4ed1",
   "metadata": {},
   "source": [
    "### Pour la boucle ***while***, on va exécuter une série de tâches tant que la condition est vraie.\n",
    "### Syntaxe de la boucle ***while***:"
   ]
  },
  {
   "cell_type": "code",
   "execution_count": null,
   "id": "4455a604-ac0c-4850-8808-7972cd79c6f7",
   "metadata": {},
   "outputs": [],
   "source": [
    "while (condition) {\n",
    "    \n",
    "   ce_que_je_veux_faire\n",
    "    \n",
    "   mise_à_jour_condition\n",
    "} "
   ]
  },
  {
   "cell_type": "code",
   "execution_count": 15,
   "id": "646d822a-89fc-4d4b-9817-80fb786d38bb",
   "metadata": {},
   "outputs": [
    {
     "name": "stdout",
     "output_type": "stream",
     "text": [
      "[1] 1\n",
      "[1] 2\n",
      "[1] 3\n",
      "[1] 4\n",
      "[1] 5\n"
     ]
    }
   ],
   "source": [
    "i = 1\n",
    "while (i < 6) {    # condition\n",
    "   print(i)        # ce_que_je_veux_faire\n",
    "   i = i + 1       # mise_à_jour_condition\n",
    "}"
   ]
  },
  {
   "cell_type": "markdown",
   "id": "b6be390c-d4ec-422d-83e4-60590e365127",
   "metadata": {},
   "source": [
    "## **Exercice**:"
   ]
  },
  {
   "cell_type": "markdown",
   "id": "76f15ff7-08e6-4f14-ba4d-9f62a84ad1a7",
   "metadata": {},
   "source": [
    "### Calculer avec une loop ***for*** le carré de chaque élément d'un range et enregistrer le résultat dans un vecteur.\n",
    "#### 1. Créer un vecteur vide\n",
    "#### 2. Initiation de la boucle ***for*** avec itération de type range\n",
    "#### 3. Enregistrer les éléments dans un vecteur."
   ]
  },
  {
   "cell_type": "code",
   "execution_count": 3,
   "id": "8d8d23bc-9040-4a29-9a9e-30ebd8efbc3b",
   "metadata": {
    "editable": true,
    "slideshow": {
     "slide_type": ""
    },
    "tags": [
     "empty"
    ]
   },
   "outputs": [
    {
     "data": {
      "text/html": [
       "<style>\n",
       ".list-inline {list-style: none; margin:0; padding: 0}\n",
       ".list-inline>li {display: inline-block}\n",
       ".list-inline>li:not(:last-child)::after {content: \"\\00b7\"; padding: 0 .5ex}\n",
       "</style>\n",
       "<ol class=list-inline><li>1</li><li>4</li><li>9</li><li>16</li><li>25</li><li>36</li><li>49</li><li>64</li><li>81</li><li>100</li></ol>\n"
      ],
      "text/latex": [
       "\\begin{enumerate*}\n",
       "\\item 1\n",
       "\\item 4\n",
       "\\item 9\n",
       "\\item 16\n",
       "\\item 25\n",
       "\\item 36\n",
       "\\item 49\n",
       "\\item 64\n",
       "\\item 81\n",
       "\\item 100\n",
       "\\end{enumerate*}\n"
      ],
      "text/markdown": [
       "1. 1\n",
       "2. 4\n",
       "3. 9\n",
       "4. 16\n",
       "5. 25\n",
       "6. 36\n",
       "7. 49\n",
       "8. 64\n",
       "9. 81\n",
       "10. 100\n",
       "\n",
       "\n"
      ],
      "text/plain": [
       " [1]   1   4   9  16  25  36  49  64  81 100"
      ]
     },
     "metadata": {},
     "output_type": "display_data"
    }
   ],
   "source": [
    "vecteur = c()\n",
    "\n",
    "for(element in 1:10){\n",
    "\n",
    "    vecteur = append(vecteur, element^2)\n",
    "}\n",
    "vecteur"
   ]
  },
  {
   "cell_type": "markdown",
   "id": "3146b081-00b2-4a89-abcf-5019002b40af",
   "metadata": {},
   "source": [
    "---\n",
    "## **En résumé:**"
   ]
  },
  {
   "cell_type": "markdown",
   "id": "108d87ba-561e-463e-9f6a-c6232bb4d78c",
   "metadata": {},
   "source": [
    "### On utilise la boucle ***for*** pour itérer sur les éléments d'une séquence. \n",
    "- #### un *range*\n",
    "- #### un vecteur\n",
    "- #### une liste\n",
    "- #### une matrice\n",
    "- #### un *dataframe*\n",
    "### On utilise la boucle ***while*** pour itérer tant qu'une condition est vraie."
   ]
  },
  {
   "cell_type": "code",
   "execution_count": null,
   "id": "ddadab1c-0b89-4368-8cb8-1baae0f043db",
   "metadata": {},
   "outputs": [],
   "source": []
  }
 ],
 "metadata": {
  "kernelspec": {
   "display_name": "R",
   "language": "R",
   "name": "ir"
  },
  "language_info": {
   "codemirror_mode": "r",
   "file_extension": ".r",
   "mimetype": "text/x-r-source",
   "name": "R",
   "pygments_lexer": "r",
   "version": "4.2.3"
  },
  "widgets": {
   "application/vnd.jupyter.widget-state+json": {
    "state": {},
    "version_major": 2,
    "version_minor": 0
   }
  }
 },
 "nbformat": 4,
 "nbformat_minor": 5
}
