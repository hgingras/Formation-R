{
 "cells": [
  {
   "cell_type": "markdown",
   "id": "c9c38049-c0ee-4c08-9f32-42f84a6635fc",
   "metadata": {},
   "source": [
    "## Comment sauvegarder un script.\n",
    "## Lancer un script dans ligne de commande.\n",
    "## Charger un module.\n",
    "## Accéder a RStudio\n",
    "\n",
    "## Page wiki de référence.\n",
    "\n",
    "## Faire un démo."
   ]
  },
  {
   "cell_type": "code",
   "execution_count": null,
   "id": "6bb1b89b-adca-4637-8e7c-8cd447df4576",
   "metadata": {},
   "outputs": [],
   "source": []
  }
 ],
 "metadata": {
  "kernelspec": {
   "display_name": "R",
   "language": "R",
   "name": "ir"
  },
  "language_info": {
   "codemirror_mode": "r",
   "file_extension": ".r",
   "mimetype": "text/x-r-source",
   "name": "R",
   "pygments_lexer": "r",
   "version": "4.2.3"
  }
 },
 "nbformat": 4,
 "nbformat_minor": 5
}
