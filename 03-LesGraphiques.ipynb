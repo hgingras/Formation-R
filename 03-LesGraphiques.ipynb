{
 "cells": [
  {
   "cell_type": "markdown",
   "id": "219aef01-020d-4f07-9439-d2412a76be3f",
   "metadata": {
    "editable": true,
    "slideshow": {
     "slide_type": ""
    },
    "tags": []
   },
   "source": [
    "# **Les graphiques**\n",
    "## Objectifs\n",
    "- Comment utiliser la fonction `apply`.\n",
    "- Comment utiliser la fonction `plot`.\n",
    "- Comment faire un `boxplot`."
   ]
  },
  {
   "cell_type": "markdown",
   "id": "4a198b1f-4ba2-4023-a390-f3ff6e1b90d6",
   "metadata": {},
   "source": [
    "---\n",
    "## La fonction `apply`"
   ]
  },
  {
   "cell_type": "markdown",
   "id": "498dc526-b8d2-48f0-9d64-e1cc883470e1",
   "metadata": {},
   "source": [
    "On importe nos données."
   ]
  },
  {
   "cell_type": "code",
   "execution_count": null,
   "id": "b8e6f48c-f05f-42e5-92d6-3468b175dcd1",
   "metadata": {
    "editable": true,
    "slideshow": {
     "slide_type": ""
    },
    "tags": []
   },
   "outputs": [],
   "source": [
    "dat <- read.csv(file = \"../data/inflammation-01.csv\", header = FALSE)"
   ]
  },
  {
   "cell_type": "code",
   "execution_count": null,
   "id": "df6ec789-b1a5-4eeb-b4c9-7d805c79ed5f",
   "metadata": {
    "editable": true,
    "slideshow": {
     "slide_type": ""
    },
    "tags": []
   },
   "outputs": [],
   "source": [
    "print(head(dat)) # On veut voir les premières rangées (Patients)."
   ]
  },
  {
   "cell_type": "code",
   "execution_count": null,
   "id": "6e2dbde3-2506-4b9c-99dc-595486fd79a2",
   "metadata": {
    "editable": true,
    "slideshow": {
     "slide_type": ""
    },
    "tags": [
     "scrolled=True"
    ]
   },
   "outputs": [],
   "source": [
    "help(apply)"
   ]
  },
  {
   "cell_type": "markdown",
   "id": "51505909-b349-4b74-8fa7-ef046392f308",
   "metadata": {
    "editable": true,
    "slideshow": {
     "slide_type": ""
    },
    "tags": []
   },
   "source": [
    "La fonction `apply` nous permet d'appeler une fonction sur un ensemble de données. \n",
    "\n",
    "On transforme nos données avant d'afficher avec un graphique."
   ]
  },
  {
   "cell_type": "markdown",
   "id": "c7054851-a801-412b-b886-f3ccc9539cd3",
   "metadata": {
    "editable": true,
    "slideshow": {
     "slide_type": ""
    },
    "tags": []
   },
   "source": [
    "---\n",
    "\n",
    "```R\n",
    "\n",
    "apply(X, MARGIN, FUN) \n",
    "\n",
    "On a 3 arguments:\n",
    "\n",
    "X : array\n",
    "\n",
    "MARGIN : (1=rangée 2=colonne, c(1,2))\n",
    "\n",
    "FUN : fonction.\n",
    "\n",
    "```\n",
    "\n",
    "---\n",
    "\n",
    "![image](../images/r-operations-across-margins.svg)\n",
    "\n"
   ]
  },
  {
   "cell_type": "markdown",
   "id": "8e58cd8c-1d95-49af-89d4-18ac4c0597a1",
   "metadata": {
    "editable": true,
    "slideshow": {
     "slide_type": ""
    },
    "tags": []
   },
   "source": [
    "Moyenne d'inflammation de chaque patient pour toutes les journées."
   ]
  },
  {
   "cell_type": "code",
   "execution_count": null,
   "id": "d64166f6-b9cb-46d3-b6d7-67f50ffdaa48",
   "metadata": {
    "editable": true,
    "slideshow": {
     "slide_type": ""
    },
    "tags": []
   },
   "outputs": [],
   "source": [
    "moyenne_patient = apply(dat, 1, mean)\n",
    "print(moyenne_patient)"
   ]
  },
  {
   "cell_type": "markdown",
   "id": "e3d5060a-5137-482f-ae35-c5750ee1acff",
   "metadata": {},
   "source": [
    "On va utiliser la foncion `plot` pour visualiser sous forme de graphique."
   ]
  },
  {
   "cell_type": "code",
   "execution_count": null,
   "id": "ddb52ff6-5674-4ae6-96f0-c990f72bea4c",
   "metadata": {
    "editable": true,
    "slideshow": {
     "slide_type": ""
    },
    "tags": []
   },
   "outputs": [],
   "source": [
    "help(plot) # Graphique nuage de points."
   ]
  },
  {
   "cell_type": "code",
   "execution_count": null,
   "id": "11a03509-d1f0-4069-bf2a-db4ae835eb0a",
   "metadata": {
    "editable": true,
    "slideshow": {
     "slide_type": ""
    },
    "tags": []
   },
   "outputs": [],
   "source": [
    "plot(moyenne_patient, main=\"Moyenne d'inflammation pour toutes les journées de chaque patient\", xlab=\"Patients\", ylab=\"Moyenne d'inflammation de chaque patient\")"
   ]
  },
  {
   "cell_type": "markdown",
   "id": "b1deb7db-f686-4782-87b6-dda66ca15630",
   "metadata": {},
   "source": [
    "La valeur d'inflammation maximum pour chaque journée."
   ]
  },
  {
   "cell_type": "code",
   "execution_count": null,
   "id": "e24c2250-f47a-4d66-9c73-cb1216c8bdac",
   "metadata": {
    "editable": true,
    "slideshow": {
     "slide_type": ""
    },
    "tags": []
   },
   "outputs": [],
   "source": [
    "max_day_inflammation = apply(dat, 2, max)\n",
    "plot(max_day_inflammation)"
   ]
  },
  {
   "cell_type": "markdown",
   "id": "3a32938b-40a2-423f-ba3a-7938d3c2afe6",
   "metadata": {},
   "source": [
    "La valeur d'inflammation minimum pour chaque journée."
   ]
  },
  {
   "cell_type": "code",
   "execution_count": null,
   "id": "339dfcbd-1710-49b1-aa37-4d9e25c8522d",
   "metadata": {
    "editable": true,
    "slideshow": {
     "slide_type": ""
    },
    "tags": []
   },
   "outputs": [],
   "source": [
    "min_day_inflammation = apply(dat, 2, min)\n",
    "plot(min_day_inflammation)"
   ]
  },
  {
   "cell_type": "markdown",
   "id": "eb14b10d-00bc-4d84-a3e6-ffdbe7a05162",
   "metadata": {},
   "source": [
    "## **Exercice-1**\n",
    "Mettre en graphique la moyenne d'inflammation des patients 1 à 5 pour les 40 journées.\n",
    "Ajouter un titre et le nom des axes."
   ]
  },
  {
   "cell_type": "code",
   "execution_count": null,
   "id": "c23ea4dc-2ffb-45ca-8a8c-e4959b0825ec",
   "metadata": {
    "editable": true,
    "slideshow": {
     "slide_type": ""
    },
    "tags": [
     "empty"
    ]
   },
   "outputs": [],
   "source": []
  },
  {
   "cell_type": "markdown",
   "id": "9da0695c-9583-4c0f-8d87-48be1b1ecf21",
   "metadata": {},
   "source": [
    "## Comment réaliser un boxplot."
   ]
  },
  {
   "cell_type": "code",
   "execution_count": null,
   "id": "b04fe6e6-2776-4dbb-8c37-8856e5b2a3cf",
   "metadata": {
    "editable": true,
    "slideshow": {
     "slide_type": ""
    },
    "tags": []
   },
   "outputs": [],
   "source": [
    "help(boxplot)"
   ]
  },
  {
   "cell_type": "markdown",
   "id": "c1ec65f0-ee08-42db-a976-45b756d48938",
   "metadata": {
    "editable": true,
    "slideshow": {
     "slide_type": ""
    },
    "tags": []
   },
   "source": [
    "Par défaut, le boxplot va prendre les colonnes pour les données."
   ]
  },
  {
   "cell_type": "markdown",
   "id": "811c8f7c-83ef-4c5e-bca2-e7f3b0d17e9d",
   "metadata": {
    "editable": true,
    "slideshow": {
     "slide_type": ""
    },
    "tags": []
   },
   "source": [
    "Boxpot représentant toutes les journées avec la distribution des valeurs d'inflammation."
   ]
  },
  {
   "cell_type": "code",
   "execution_count": null,
   "id": "6d130acd-d954-47a2-a66e-0c2da01c4b83",
   "metadata": {
    "editable": true,
    "slideshow": {
     "slide_type": ""
    },
    "tags": []
   },
   "outputs": [],
   "source": [
    "boxplot(dat, ylab = \"Journées\", horizontal=TRUE, col = \"blue\", main = \"Titre\")"
   ]
  },
  {
   "cell_type": "markdown",
   "id": "29cca294-8fb0-4e33-b741-01e73d8da774",
   "metadata": {
    "editable": true,
    "slideshow": {
     "slide_type": ""
    },
    "tags": []
   },
   "source": [
    "Pour les dix premiers patients et pour toutes les journées."
   ]
  },
  {
   "cell_type": "code",
   "execution_count": null,
   "id": "76f2f75e-3b5d-4fe2-bc28-93a386794db0",
   "metadata": {
    "editable": true,
    "slideshow": {
     "slide_type": ""
    },
    "tags": []
   },
   "outputs": [],
   "source": [
    "boxplot(dat[1:10,]) # [rangée, conlonne]"
   ]
  },
  {
   "cell_type": "markdown",
   "id": "36ef7535-4ac0-4501-8f2b-7e33759fa2a2",
   "metadata": {
    "editable": true,
    "slideshow": {
     "slide_type": ""
    },
    "tags": []
   },
   "source": [
    "Pour les dix premiers patients et pour les journées 5 à 10."
   ]
  },
  {
   "cell_type": "code",
   "execution_count": null,
   "id": "e77f5f11-bd83-44c3-84a5-b771079ce3a1",
   "metadata": {
    "editable": true,
    "slideshow": {
     "slide_type": ""
    },
    "tags": []
   },
   "outputs": [],
   "source": [
    "boxplot(dat[1:10,5:10])"
   ]
  },
  {
   "cell_type": "markdown",
   "id": "cdcc3572-d336-4009-ab65-b11416ec7975",
   "metadata": {
    "editable": true,
    "slideshow": {
     "slide_type": ""
    },
    "tags": []
   },
   "source": [
    "## **Exercice-2**:"
   ]
  },
  {
   "cell_type": "markdown",
   "id": "7af44819-2552-4a3c-b3c4-43c22c0f5cc3",
   "metadata": {
    "editable": true,
    "slideshow": {
     "slide_type": ""
    },
    "tags": []
   },
   "source": [
    "Réaliser un Boxplot pour les 40 premiers patients et pour les journées 5,4,8,40."
   ]
  },
  {
   "cell_type": "code",
   "execution_count": null,
   "id": "bcc75b5e-6fcc-4e47-a945-eca0bc78ae0c",
   "metadata": {
    "editable": true,
    "slideshow": {
     "slide_type": ""
    },
    "tags": [
     "empty"
    ]
   },
   "outputs": [],
   "source": []
  },
  {
   "cell_type": "markdown",
   "id": "23d6a1ab-7ea4-46e2-8442-82dd20c71eb3",
   "metadata": {
    "editable": true,
    "slideshow": {
     "slide_type": ""
    },
    "tags": []
   },
   "source": [
    "Pour avoir le boxplot avec les rangées (pour chaque patient)."
   ]
  },
  {
   "cell_type": "code",
   "execution_count": null,
   "id": "cfdde9e9-d656-42af-a34a-f358a6cb5198",
   "metadata": {
    "editable": true,
    "slideshow": {
     "slide_type": ""
    },
    "tags": []
   },
   "outputs": [],
   "source": [
    "boxplot(t(dat), ylab = \"Patients\", horizontal=TRUE, col = \"blue\", main = \"Titre\")"
   ]
  },
  {
   "cell_type": "markdown",
   "id": "a65cdfc2-3208-47f3-a8e1-68396310a049",
   "metadata": {
    "editable": true,
    "slideshow": {
     "slide_type": ""
    },
    "tags": []
   },
   "source": [
    "---\n",
    "## **En résumé:**\n",
    "- La fonction `apply` sert à préparer les données en effectuant une fonction sur une sélection de données.\n",
    "  \n",
    "- Visualiser des données avec `plot` et `boxplot`.\n",
    "  \n",
    "- Utiliser `help` pour explorer toutes les options possibles.\n"
   ]
  },
  {
   "cell_type": "code",
   "execution_count": null,
   "id": "a3b3a14a-0a13-4cc1-96a7-d8b844ac5fbc",
   "metadata": {},
   "outputs": [],
   "source": []
  }
 ],
 "metadata": {
  "kernelspec": {
   "display_name": "R",
   "language": "R",
   "name": "ir"
  },
  "language_info": {
   "codemirror_mode": "r",
   "file_extension": ".r",
   "mimetype": "text/x-r-source",
   "name": "R",
   "pygments_lexer": "r",
   "version": "4.2.3"
  },
  "widgets": {
   "application/vnd.jupyter.widget-state+json": {
    "state": {},
    "version_major": 2,
    "version_minor": 0
   }
  }
 },
 "nbformat": 4,
 "nbformat_minor": 5
}