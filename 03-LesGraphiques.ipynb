{
 "cells": [
  {
   "cell_type": "markdown",
   "id": "219aef01-020d-4f07-9439-d2412a76be3f",
   "metadata": {
    "editable": true,
    "slideshow": {
     "slide_type": ""
    },
    "tags": []
   },
   "source": [
    "# **Les graphiques**\n",
    "## Objectifs\n",
    "\n",
    "- Comment faire un `heatmap()`."
   ]
  },
  {
   "cell_type": "markdown",
   "id": "2131f298-e76a-4fc3-8e5b-05eec503d840",
   "metadata": {},
   "source": [
    "## Un graphique heatmap:\n",
    "\n",
    "![image](images/lesson-overview.svg)"
   ]
  },
  {
   "cell_type": "markdown",
   "id": "8f8010eb-135c-410c-9c77-0c1282909e3d",
   "metadata": {},
   "source": [
    "On va charger nos données:"
   ]
  },
  {
   "cell_type": "code",
   "execution_count": null,
   "id": "b8e6f48c-f05f-42e5-92d6-3468b175dcd1",
   "metadata": {
    "editable": true,
    "slideshow": {
     "slide_type": ""
    },
    "tags": []
   },
   "outputs": [],
   "source": [
    "dat = read.csv(file = \"data/inflammation-01.csv\", header = FALSE)"
   ]
  },
  {
   "cell_type": "markdown",
   "id": "d7df9dc9-b95e-4be9-86c1-58b9f517feeb",
   "metadata": {
    "editable": true,
    "slideshow": {
     "slide_type": ""
    },
    "tags": []
   },
   "source": [
    "La docummentation d'un heatmap:"
   ]
  },
  {
   "cell_type": "code",
   "execution_count": null,
   "id": "7b794c35-268d-4ddb-b9f4-abfac5436bfb",
   "metadata": {
    "editable": true,
    "slideshow": {
     "slide_type": ""
    },
    "tags": [
     "scrolled=True",
     "empty"
    ]
   },
   "outputs": [],
   "source": []
  },
  {
   "cell_type": "markdown",
   "id": "b08f811b-8439-4028-8bae-f7d9b68d4b4d",
   "metadata": {},
   "source": [
    "Avons nous une matrice ou un dataframe?"
   ]
  },
  {
   "cell_type": "code",
   "execution_count": null,
   "id": "4657e2bd-d522-4521-b0e5-e7b31a69c41a",
   "metadata": {
    "editable": true,
    "slideshow": {
     "slide_type": ""
    },
    "tags": []
   },
   "outputs": [],
   "source": [
    "class(dat)"
   ]
  },
  {
   "cell_type": "code",
   "execution_count": null,
   "id": "cd34ece5-6846-4e0f-baab-021e695410e8",
   "metadata": {
    "editable": true,
    "slideshow": {
     "slide_type": ""
    },
    "tags": [
     "empty"
    ]
   },
   "outputs": [],
   "source": []
  },
  {
   "cell_type": "markdown",
   "id": "c3e7167a-1c6c-4934-beb0-98e4d97d95e5",
   "metadata": {},
   "source": [
    "Voici comment passer de data frame à une matrice:"
   ]
  },
  {
   "cell_type": "code",
   "execution_count": null,
   "id": "0af0f190-d7a2-43db-96a4-294a40efe8e1",
   "metadata": {},
   "outputs": [],
   "source": [
    "dat_matrice = as.matrix(dat)"
   ]
  },
  {
   "cell_type": "markdown",
   "id": "df909f0a-ee77-4011-a9e2-51d8c56cae7a",
   "metadata": {},
   "source": [
    "Voir le changement de classe de notre objet dat:"
   ]
  },
  {
   "cell_type": "code",
   "execution_count": null,
   "id": "8beb9f80-6968-4d7e-9a2a-452564cac094",
   "metadata": {},
   "outputs": [],
   "source": [
    "class(dat_matrice)"
   ]
  },
  {
   "cell_type": "code",
   "execution_count": null,
   "id": "acefd6bb-2762-49ca-b3ec-fd2a1cf9b590",
   "metadata": {},
   "outputs": [],
   "source": [
    "head(dat_matrice)"
   ]
  },
  {
   "cell_type": "markdown",
   "id": "71593879-d581-4270-b5aa-5310f7f90a71",
   "metadata": {},
   "source": [
    "Lance le graphique heatmap:"
   ]
  },
  {
   "cell_type": "markdown",
   "id": "9a7f5b89-f2db-496d-bda6-42a8ba0cebb4",
   "metadata": {},
   "source": [
    "Que ce passe-il si on lance le heatmap avec le dataframe au lieu de la matrice?"
   ]
  },
  {
   "cell_type": "code",
   "execution_count": null,
   "id": "bbe4ee88-ed8c-4684-b795-fe7a14e70d50",
   "metadata": {
    "editable": true,
    "slideshow": {
     "slide_type": ""
    },
    "tags": [
     "empty"
    ]
   },
   "outputs": [],
   "source": []
  },
  {
   "cell_type": "markdown",
   "id": "94ee5af0-b390-4852-aab7-4e72e1b13d21",
   "metadata": {},
   "source": [
    "On lance maintenant le heatmap avec la matrice:"
   ]
  },
  {
   "cell_type": "code",
   "execution_count": null,
   "id": "1ddfdcc9-57ba-4f67-8ccb-437181f14027",
   "metadata": {
    "editable": true,
    "slideshow": {
     "slide_type": ""
    },
    "tags": [
     "empty"
    ]
   },
   "outputs": [],
   "source": []
  },
  {
   "cell_type": "markdown",
   "id": "64051761-7863-4821-8fdc-e74ff12ec97e",
   "metadata": {
    "editable": true,
    "slideshow": {
     "slide_type": ""
    },
    "tags": []
   },
   "source": [
    "On veut enlever le dendrogram:"
   ]
  },
  {
   "cell_type": "code",
   "execution_count": null,
   "id": "e3f0ed3c-6a85-4319-b9c3-16ed831e32cc",
   "metadata": {
    "editable": true,
    "slideshow": {
     "slide_type": ""
    },
    "tags": []
   },
   "outputs": [],
   "source": [
    "heatmap(dat_matrice, Colv = NA, Rowv = NA)"
   ]
  },
  {
   "cell_type": "markdown",
   "id": "afde5f9d-184d-4be5-b13e-4376ade65b3d",
   "metadata": {},
   "source": [
    "Changer la couleur avec la fonction `colorRampPalette()`:"
   ]
  },
  {
   "cell_type": "code",
   "execution_count": null,
   "id": "46287f97-0d96-4f4d-bce2-39139f87a144",
   "metadata": {},
   "outputs": [],
   "source": [
    "palette_couleur = colorRampPalette(c(\"blue\", \"yellow\"))(n = 200)"
   ]
  },
  {
   "cell_type": "code",
   "execution_count": null,
   "id": "073529f3-0b6c-4feb-ba82-cbb1a08c3c20",
   "metadata": {},
   "outputs": [],
   "source": [
    "heatmap(dat_matrice, Colv = NA, Rowv = NA, col = palette_couleur)"
   ]
  },
  {
   "cell_type": "markdown",
   "id": "ecc39bb1-98b0-4474-a26e-a84b977ffd7a",
   "metadata": {
    "editable": true,
    "slideshow": {
     "slide_type": ""
    },
    "tags": []
   },
   "source": [
    "---\n",
    "## Autres graphiques:\n",
    "\n",
    "https://r-graph-gallery.com"
   ]
  },
  {
   "cell_type": "markdown",
   "id": "a65cdfc2-3208-47f3-a8e1-68396310a049",
   "metadata": {
    "editable": true,
    "slideshow": {
     "slide_type": ""
    },
    "tags": []
   },
   "source": [
    "---\n",
    "## **En résumé:**\n",
    "\n",
    "À retenir quand on réalise un graphique:\n",
    "\n",
    "- Assurez-vous de bien lire la documentation.\n",
    "- Vérifiez si vous avez bien le bon type (classe) de donnée.\n",
    "- Ne pas avoir peur des messages d'erreur, la solution s'y retrouve habituellement.\n",
    "- Faites des recherches au besoin pour vous aider à solutionner votre problème, vous n'êtes probablement pas le premier à qui cela arrive.\n",
    "\n",
    "---"
   ]
  },
  {
   "cell_type": "markdown",
   "id": "a9fb54b9-8f63-4ff4-9447-2546b32192f8",
   "metadata": {},
   "source": [
    "## **Exercices supplémentaires**\n",
    "\n",
    "## La fonction `apply()` et le graphique `plot()`\n",
    "\n",
    "La fonction `apply()` nous permet d'appeler une fonction sur un ensemble de données. \n",
    "\n",
    "On transforme nos données avant d'afficher avec un graphique.\n",
    "\n",
    "---\n",
    "\n",
    "```R\n",
    "\n",
    "apply(X, MARGIN, FUN) \n",
    "\n",
    "On a 3 arguments:\n",
    "\n",
    "X : array\n",
    "\n",
    "MARGIN : (1=rangée 2=colonne, c(1,2))\n",
    "\n",
    "FUN : fonction.\n",
    "\n",
    "```\n",
    "\n",
    "---\n",
    "\n",
    "![image](images/r-operations-across-margins.svg)\n"
   ]
  },
  {
   "cell_type": "code",
   "execution_count": null,
   "id": "d638f5aa-82e4-4b34-a6c8-d3a126b47a7b",
   "metadata": {
    "editable": true,
    "slideshow": {
     "slide_type": ""
    },
    "tags": [
     "scrolled=True"
    ]
   },
   "outputs": [],
   "source": [
    "help(apply)"
   ]
  },
  {
   "cell_type": "markdown",
   "id": "97bcbcd1-5a71-4376-ba93-69b3b2a799eb",
   "metadata": {},
   "source": [
    "On importe nos données."
   ]
  },
  {
   "cell_type": "code",
   "execution_count": null,
   "id": "033e6329-ba32-4c7b-82f8-7220c7c08b27",
   "metadata": {},
   "outputs": [],
   "source": [
    "dat = read.csv(file = \"data/inflammation-01.csv\", header = FALSE)"
   ]
  },
  {
   "cell_type": "markdown",
   "id": "bd7ccca0-f96c-4946-bab9-e2a050a26846",
   "metadata": {},
   "source": [
    "Moyenne d'inflammation de chaque patient pour toutes les journées."
   ]
  },
  {
   "cell_type": "code",
   "execution_count": null,
   "id": "0c88ed8c-b942-48fd-a94b-e98e28597eb8",
   "metadata": {},
   "outputs": [],
   "source": [
    "moyenne_patient = apply(dat, 1, mean)"
   ]
  },
  {
   "cell_type": "code",
   "execution_count": null,
   "id": "cd7b6cf8-017b-423e-9475-231e1be01039",
   "metadata": {},
   "outputs": [],
   "source": [
    "print(moyenne_patient)"
   ]
  },
  {
   "cell_type": "markdown",
   "id": "e91408c1-a1f9-47cf-b913-1e2d0dff9ba9",
   "metadata": {},
   "source": [
    "On va utiliser la fonction `plot()` pour visualiser sous forme de graphique."
   ]
  },
  {
   "cell_type": "code",
   "execution_count": null,
   "id": "5cc35c97-bd16-4889-8264-43f3484d79a6",
   "metadata": {
    "editable": true,
    "slideshow": {
     "slide_type": ""
    },
    "tags": [
     "scrolled=True"
    ]
   },
   "outputs": [],
   "source": [
    "help(plot) # Graphique nuage de points."
   ]
  },
  {
   "cell_type": "code",
   "execution_count": null,
   "id": "2563880c-9a4d-4cea-9aa0-69da122d4952",
   "metadata": {},
   "outputs": [],
   "source": [
    "plot(moyenne_patient, main=\"Moyenne d'inflammation pour toutes les journées de chaque patient\", xlab=\"Patients\", ylab=\"Moyenne d'inflammation de chaque patient\")"
   ]
  },
  {
   "cell_type": "markdown",
   "id": "63e9cf44-c964-4e94-b4f1-29b31e72b6f9",
   "metadata": {},
   "source": [
    "Avec la fonction `apply()` et `plot()`, affichez sous forme de graphique la valeur d'inflammation maximum pour chaque journée."
   ]
  },
  {
   "cell_type": "code",
   "execution_count": null,
   "id": "4a27cd0c-740e-4ea2-9416-4c4371fe78af",
   "metadata": {
    "editable": true,
    "slideshow": {
     "slide_type": ""
    },
    "tags": [
     "empty"
    ]
   },
   "outputs": [],
   "source": []
  },
  {
   "cell_type": "code",
   "execution_count": null,
   "id": "47379ac5-0873-40df-9364-93a23f8211a1",
   "metadata": {
    "editable": true,
    "slideshow": {
     "slide_type": ""
    },
    "tags": [
     "empty"
    ]
   },
   "outputs": [],
   "source": []
  },
  {
   "cell_type": "markdown",
   "id": "9c31557d-3e00-47fb-8339-8dbd76b90203",
   "metadata": {},
   "source": [
    "Avec la fonction `apply()` et `plot()`, affichez sous forme de graphique la valeur d'inflammation minimum pour chaque journée."
   ]
  },
  {
   "cell_type": "code",
   "execution_count": null,
   "id": "c9c677bd-d433-4f35-a7ed-f2210c69cdea",
   "metadata": {
    "editable": true,
    "slideshow": {
     "slide_type": ""
    },
    "tags": [
     "empty"
    ]
   },
   "outputs": [],
   "source": []
  },
  {
   "cell_type": "code",
   "execution_count": null,
   "id": "56fb2172-fc90-4807-b68d-3e4037c86372",
   "metadata": {
    "editable": true,
    "slideshow": {
     "slide_type": ""
    },
    "tags": [
     "empty"
    ]
   },
   "outputs": [],
   "source": []
  },
  {
   "cell_type": "markdown",
   "id": "7f32588d-b566-40eb-b82f-c33271410749",
   "metadata": {},
   "source": [
    "Avec la fonction `apply()` et `plot()`, mettre en graphique la moyenne d'inflammation des patients 1 à 5 pour les 40 journées. Ajouter un titre et le nom des axes."
   ]
  },
  {
   "cell_type": "code",
   "execution_count": null,
   "id": "5ebf3467-d05d-43d8-8058-817ca38af339",
   "metadata": {
    "editable": true,
    "slideshow": {
     "slide_type": ""
    },
    "tags": [
     "empty"
    ]
   },
   "outputs": [],
   "source": []
  },
  {
   "cell_type": "code",
   "execution_count": null,
   "id": "de77bedd-19e6-4a0a-a41a-0454c5b334eb",
   "metadata": {
    "editable": true,
    "slideshow": {
     "slide_type": ""
    },
    "tags": [
     "empty"
    ]
   },
   "outputs": [],
   "source": []
  },
  {
   "cell_type": "markdown",
   "id": "9e53fe37-707c-47c7-b3ee-3f15696279f4",
   "metadata": {},
   "source": [
    "## Comment faire un graphique `boxplot()`."
   ]
  },
  {
   "cell_type": "code",
   "execution_count": null,
   "id": "a7cc27b9-7c0a-4b0a-8e62-ac6e031730d0",
   "metadata": {
    "editable": true,
    "slideshow": {
     "slide_type": ""
    },
    "tags": [
     "scrolled=True"
    ]
   },
   "outputs": [],
   "source": [
    "help(boxplot)"
   ]
  },
  {
   "cell_type": "markdown",
   "id": "29bf3c54-47b0-4ac1-9e09-283c080d3f0e",
   "metadata": {},
   "source": [
    "Par défaut, le boxplot va prendre les colonnes pour les données."
   ]
  },
  {
   "cell_type": "markdown",
   "id": "41a9f045-dbe1-41fd-a8a3-1c35ae6ef540",
   "metadata": {},
   "source": [
    "On importe nos données:"
   ]
  },
  {
   "cell_type": "code",
   "execution_count": null,
   "id": "ec907e7f-2ff0-4a8b-aecf-1f68e933e663",
   "metadata": {},
   "outputs": [],
   "source": [
    "dat = read.csv(file = \"data/inflammation-01.csv\", header = FALSE)"
   ]
  },
  {
   "cell_type": "markdown",
   "id": "951360ed-c1bd-450f-a3e8-a01cfa8ca920",
   "metadata": {},
   "source": [
    "Boxpot représentant toutes les journées avec la distribution des valeurs d'inflammation."
   ]
  },
  {
   "cell_type": "code",
   "execution_count": null,
   "id": "dcde97f3-ea70-4805-b745-dcd786c23a2e",
   "metadata": {},
   "outputs": [],
   "source": [
    "boxplot(dat, ylab = \"Journées\", horizontal=TRUE, col = \"blue\", main = \"Titre\")"
   ]
  },
  {
   "cell_type": "markdown",
   "id": "b69f01cb-efb6-453c-a002-07043d0958ef",
   "metadata": {},
   "source": [
    "Boxplot pour les dix premiers patients et pour toutes les journées."
   ]
  },
  {
   "cell_type": "code",
   "execution_count": null,
   "id": "2a2f77bd-6f38-4268-af8f-012796f65e60",
   "metadata": {},
   "outputs": [],
   "source": [
    "boxplot(dat[1:10,]) # [rangée, conlonne]"
   ]
  },
  {
   "cell_type": "markdown",
   "id": "c8fd5ab6-a771-4d67-af34-cac554ba4f9d",
   "metadata": {},
   "source": [
    "Boxplot pour les dix premiers patients et pour les journées 5 à 10."
   ]
  },
  {
   "cell_type": "code",
   "execution_count": null,
   "id": "19e21434-96cb-4b94-90c8-12f9a26240e8",
   "metadata": {},
   "outputs": [],
   "source": [
    "boxplot(dat[1:10,5:10])"
   ]
  },
  {
   "cell_type": "markdown",
   "id": "58dfcfce-2f78-4a25-ac1b-33acb25e16b5",
   "metadata": {},
   "source": [
    "Réalisez un boxplot pour les 40 premiers patients et pour les journées 5,4,8,40."
   ]
  },
  {
   "cell_type": "code",
   "execution_count": null,
   "id": "379d0cf9-e3b4-4408-9883-87db934696b3",
   "metadata": {
    "editable": true,
    "slideshow": {
     "slide_type": ""
    },
    "tags": [
     "empty"
    ]
   },
   "outputs": [],
   "source": []
  },
  {
   "cell_type": "markdown",
   "id": "5dec62fe-9c96-46a1-ad8f-7b8c2b6a8b81",
   "metadata": {},
   "source": [
    "---\n",
    "\n",
    "Pour avoir le boxplot avec les rangées (pour chaque patient) on ajoute la lettre `t` en avant des données."
   ]
  },
  {
   "cell_type": "code",
   "execution_count": null,
   "id": "560ebe0a-8d1f-4fa2-933e-108f53c10565",
   "metadata": {},
   "outputs": [],
   "source": [
    "boxplot(t(dat), ylab = \"Patients\", horizontal=TRUE, col = \"blue\", main = \"Titre\")"
   ]
  },
  {
   "cell_type": "code",
   "execution_count": null,
   "id": "a4a7d3af-22b3-4c2b-a758-5cd2c88ec6a2",
   "metadata": {
    "editable": true,
    "slideshow": {
     "slide_type": ""
    },
    "tags": [
     "empty"
    ]
   },
   "outputs": [],
   "source": []
  }
 ],
 "metadata": {
  "kernelspec": {
   "display_name": "R",
   "language": "R",
   "name": "ir"
  },
  "language_info": {
   "codemirror_mode": "r",
   "file_extension": ".r",
   "mimetype": "text/x-r-source",
   "name": "R",
   "pygments_lexer": "r",
   "version": "4.2.3"
  },
  "widgets": {
   "application/vnd.jupyter.widget-state+json": {
    "state": {},
    "version_major": 2,
    "version_minor": 0
   }
  }
 },
 "nbformat": 4,
 "nbformat_minor": 5
}
