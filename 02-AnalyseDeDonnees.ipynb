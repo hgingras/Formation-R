{
 "cells": [
  {
   "cell_type": "markdown",
   "id": "485a5bbe-ac26-4bae-8c20-6e6d5f5c63ba",
   "metadata": {
    "editable": true,
    "slideshow": {
     "slide_type": ""
    },
    "tags": []
   },
   "source": [
    "# **Analyse de données**\n",
    "## Objectifs\n",
    "- #### Importer des données.\n",
    "- #### Recherche d'éléments."
   ]
  },
  {
   "cell_type": "markdown",
   "id": "bf574eb6-2211-4cd7-a552-62beda7e7f63",
   "metadata": {},
   "source": [
    "---\n",
    "## Comment importer nos données.\n",
    "![image](../images/lesson-overview.svg)"
   ]
  },
  {
   "cell_type": "markdown",
   "id": "a89f6d1c-6776-4f4a-9cb4-76a2906325c2",
   "metadata": {},
   "source": [
    "#### On va travailler avec un fichier CSV (*comma-separated values*)"
   ]
  },
  {
   "cell_type": "code",
   "execution_count": 1,
   "id": "11bead24-406d-40a7-a3ea-34c87ac99339",
   "metadata": {},
   "outputs": [],
   "source": [
    "dat = read.csv(file = 'data/inflammation-01.csv', header = FALSE, stringsAsFactors = FALSE)"
   ]
  },
  {
   "cell_type": "markdown",
   "id": "fd90b08c-51c8-44d6-a9f9-a67c60e95d8b",
   "metadata": {},
   "source": [
    "### Fonctions utiles pour le data frame.\n",
    "- #### `head()` - retourne les 6 premières rangées\n",
    "- #### `tail()` - retourne les 6 dernières rangées\n",
    "- #### `dim()` - retourne les dimensions du *data frame* (le nombre de rangées et de colonnes)\n",
    "- #### `nrow()` - retourne le nombre de rangées\n",
    "- #### `ncol()` - retourne le nombre de colonnes\n",
    "- #### `str()` - *structure of data frame* - retourne le nom et type de donnée avec un résumé de chaque colonne.\n",
    "- #### `names()` or `colnames()` - retourne les noms des attributs pour le *data frame*\n",
    "- #### `sapply(dataframe, class)` - retourne la classe de chaque colonne dans le *data frame*"
   ]
  },
  {
   "cell_type": "code",
   "execution_count": 3,
   "id": "64f91228-f1b9-4a74-8df3-51d5042e797e",
   "metadata": {},
   "outputs": [
    {
     "data": {
      "text/html": [
       "'data.frame'"
      ],
      "text/latex": [
       "'data.frame'"
      ],
      "text/markdown": [
       "'data.frame'"
      ],
      "text/plain": [
       "[1] \"data.frame\""
      ]
     },
     "metadata": {},
     "output_type": "display_data"
    }
   ],
   "source": [
    "class(dat)"
   ]
  },
  {
   "cell_type": "code",
   "execution_count": 12,
   "id": "e09c475c-9947-4f46-bae5-6fb9e1e79b24",
   "metadata": {},
   "outputs": [
    {
     "data": {
      "text/html": [
       "<table class=\"dataframe\">\n",
       "<caption>A data.frame: 6 × 40</caption>\n",
       "<thead>\n",
       "\t<tr><th></th><th scope=col>V1</th><th scope=col>V2</th><th scope=col>V3</th><th scope=col>V4</th><th scope=col>V5</th><th scope=col>V6</th><th scope=col>V7</th><th scope=col>V8</th><th scope=col>V9</th><th scope=col>V10</th><th scope=col>⋯</th><th scope=col>V31</th><th scope=col>V32</th><th scope=col>V33</th><th scope=col>V34</th><th scope=col>V35</th><th scope=col>V36</th><th scope=col>V37</th><th scope=col>V38</th><th scope=col>V39</th><th scope=col>V40</th></tr>\n",
       "\t<tr><th></th><th scope=col>&lt;int&gt;</th><th scope=col>&lt;int&gt;</th><th scope=col>&lt;int&gt;</th><th scope=col>&lt;int&gt;</th><th scope=col>&lt;int&gt;</th><th scope=col>&lt;int&gt;</th><th scope=col>&lt;int&gt;</th><th scope=col>&lt;int&gt;</th><th scope=col>&lt;int&gt;</th><th scope=col>&lt;int&gt;</th><th scope=col>⋯</th><th scope=col>&lt;int&gt;</th><th scope=col>&lt;int&gt;</th><th scope=col>&lt;int&gt;</th><th scope=col>&lt;int&gt;</th><th scope=col>&lt;int&gt;</th><th scope=col>&lt;int&gt;</th><th scope=col>&lt;int&gt;</th><th scope=col>&lt;int&gt;</th><th scope=col>&lt;int&gt;</th><th scope=col>&lt;int&gt;</th></tr>\n",
       "</thead>\n",
       "<tbody>\n",
       "\t<tr><th scope=row>1</th><td>0</td><td>0</td><td>1</td><td>3</td><td>1</td><td>2</td><td>4</td><td>7</td><td>8</td><td>3</td><td>⋯</td><td> 4</td><td>4</td><td>5</td><td>7</td><td>3</td><td>4</td><td>2</td><td>3</td><td>0</td><td>0</td></tr>\n",
       "\t<tr><th scope=row>2</th><td>0</td><td>1</td><td>2</td><td>1</td><td>2</td><td>1</td><td>3</td><td>2</td><td>2</td><td>6</td><td>⋯</td><td> 3</td><td>5</td><td>4</td><td>4</td><td>5</td><td>5</td><td>1</td><td>1</td><td>0</td><td>1</td></tr>\n",
       "\t<tr><th scope=row>3</th><td>0</td><td>1</td><td>1</td><td>3</td><td>3</td><td>2</td><td>6</td><td>2</td><td>5</td><td>9</td><td>⋯</td><td>10</td><td>5</td><td>4</td><td>2</td><td>2</td><td>3</td><td>2</td><td>2</td><td>1</td><td>1</td></tr>\n",
       "\t<tr><th scope=row>4</th><td>0</td><td>0</td><td>2</td><td>0</td><td>4</td><td>2</td><td>2</td><td>1</td><td>6</td><td>7</td><td>⋯</td><td> 3</td><td>5</td><td>6</td><td>3</td><td>3</td><td>4</td><td>2</td><td>3</td><td>2</td><td>1</td></tr>\n",
       "\t<tr><th scope=row>5</th><td>0</td><td>1</td><td>1</td><td>3</td><td>3</td><td>1</td><td>3</td><td>5</td><td>2</td><td>4</td><td>⋯</td><td> 9</td><td>6</td><td>3</td><td>2</td><td>2</td><td>4</td><td>2</td><td>0</td><td>1</td><td>1</td></tr>\n",
       "\t<tr><th scope=row>6</th><td>0</td><td>0</td><td>1</td><td>2</td><td>2</td><td>4</td><td>2</td><td>1</td><td>6</td><td>4</td><td>⋯</td><td> 8</td><td>4</td><td>7</td><td>3</td><td>5</td><td>4</td><td>4</td><td>3</td><td>2</td><td>1</td></tr>\n",
       "</tbody>\n",
       "</table>\n"
      ],
      "text/latex": [
       "A data.frame: 6 × 40\n",
       "\\begin{tabular}{r|lllllllllllllllllllll}\n",
       "  & V1 & V2 & V3 & V4 & V5 & V6 & V7 & V8 & V9 & V10 & ⋯ & V31 & V32 & V33 & V34 & V35 & V36 & V37 & V38 & V39 & V40\\\\\n",
       "  & <int> & <int> & <int> & <int> & <int> & <int> & <int> & <int> & <int> & <int> & ⋯ & <int> & <int> & <int> & <int> & <int> & <int> & <int> & <int> & <int> & <int>\\\\\n",
       "\\hline\n",
       "\t1 & 0 & 0 & 1 & 3 & 1 & 2 & 4 & 7 & 8 & 3 & ⋯ &  4 & 4 & 5 & 7 & 3 & 4 & 2 & 3 & 0 & 0\\\\\n",
       "\t2 & 0 & 1 & 2 & 1 & 2 & 1 & 3 & 2 & 2 & 6 & ⋯ &  3 & 5 & 4 & 4 & 5 & 5 & 1 & 1 & 0 & 1\\\\\n",
       "\t3 & 0 & 1 & 1 & 3 & 3 & 2 & 6 & 2 & 5 & 9 & ⋯ & 10 & 5 & 4 & 2 & 2 & 3 & 2 & 2 & 1 & 1\\\\\n",
       "\t4 & 0 & 0 & 2 & 0 & 4 & 2 & 2 & 1 & 6 & 7 & ⋯ &  3 & 5 & 6 & 3 & 3 & 4 & 2 & 3 & 2 & 1\\\\\n",
       "\t5 & 0 & 1 & 1 & 3 & 3 & 1 & 3 & 5 & 2 & 4 & ⋯ &  9 & 6 & 3 & 2 & 2 & 4 & 2 & 0 & 1 & 1\\\\\n",
       "\t6 & 0 & 0 & 1 & 2 & 2 & 4 & 2 & 1 & 6 & 4 & ⋯ &  8 & 4 & 7 & 3 & 5 & 4 & 4 & 3 & 2 & 1\\\\\n",
       "\\end{tabular}\n"
      ],
      "text/markdown": [
       "\n",
       "A data.frame: 6 × 40\n",
       "\n",
       "| <!--/--> | V1 &lt;int&gt; | V2 &lt;int&gt; | V3 &lt;int&gt; | V4 &lt;int&gt; | V5 &lt;int&gt; | V6 &lt;int&gt; | V7 &lt;int&gt; | V8 &lt;int&gt; | V9 &lt;int&gt; | V10 &lt;int&gt; | ⋯ ⋯ | V31 &lt;int&gt; | V32 &lt;int&gt; | V33 &lt;int&gt; | V34 &lt;int&gt; | V35 &lt;int&gt; | V36 &lt;int&gt; | V37 &lt;int&gt; | V38 &lt;int&gt; | V39 &lt;int&gt; | V40 &lt;int&gt; |\n",
       "|---|---|---|---|---|---|---|---|---|---|---|---|---|---|---|---|---|---|---|---|---|---|\n",
       "| 1 | 0 | 0 | 1 | 3 | 1 | 2 | 4 | 7 | 8 | 3 | ⋯ |  4 | 4 | 5 | 7 | 3 | 4 | 2 | 3 | 0 | 0 |\n",
       "| 2 | 0 | 1 | 2 | 1 | 2 | 1 | 3 | 2 | 2 | 6 | ⋯ |  3 | 5 | 4 | 4 | 5 | 5 | 1 | 1 | 0 | 1 |\n",
       "| 3 | 0 | 1 | 1 | 3 | 3 | 2 | 6 | 2 | 5 | 9 | ⋯ | 10 | 5 | 4 | 2 | 2 | 3 | 2 | 2 | 1 | 1 |\n",
       "| 4 | 0 | 0 | 2 | 0 | 4 | 2 | 2 | 1 | 6 | 7 | ⋯ |  3 | 5 | 6 | 3 | 3 | 4 | 2 | 3 | 2 | 1 |\n",
       "| 5 | 0 | 1 | 1 | 3 | 3 | 1 | 3 | 5 | 2 | 4 | ⋯ |  9 | 6 | 3 | 2 | 2 | 4 | 2 | 0 | 1 | 1 |\n",
       "| 6 | 0 | 0 | 1 | 2 | 2 | 4 | 2 | 1 | 6 | 4 | ⋯ |  8 | 4 | 7 | 3 | 5 | 4 | 4 | 3 | 2 | 1 |\n",
       "\n"
      ],
      "text/plain": [
       "  V1 V2 V3 V4 V5 V6 V7 V8 V9 V10 ⋯ V31 V32 V33 V34 V35 V36 V37 V38 V39 V40\n",
       "1 0  0  1  3  1  2  4  7  8  3   ⋯  4  4   5   7   3   4   2   3   0   0  \n",
       "2 0  1  2  1  2  1  3  2  2  6   ⋯  3  5   4   4   5   5   1   1   0   1  \n",
       "3 0  1  1  3  3  2  6  2  5  9   ⋯ 10  5   4   2   2   3   2   2   1   1  \n",
       "4 0  0  2  0  4  2  2  1  6  7   ⋯  3  5   6   3   3   4   2   3   2   1  \n",
       "5 0  1  1  3  3  1  3  5  2  4   ⋯  9  6   3   2   2   4   2   0   1   1  \n",
       "6 0  0  1  2  2  4  2  1  6  4   ⋯  8  4   7   3   5   4   4   3   2   1  "
      ]
     },
     "metadata": {},
     "output_type": "display_data"
    }
   ],
   "source": [
    "head(dat)"
   ]
  },
  {
   "cell_type": "markdown",
   "id": "c6cb2d32-abc1-4b32-b0bf-5393f68d3ea9",
   "metadata": {},
   "source": [
    "### Recherche d'un élément par index (*slicing*)."
   ]
  },
  {
   "cell_type": "code",
   "execution_count": 5,
   "id": "ecb8e95b-bfc4-4523-8e91-15265268e744",
   "metadata": {},
   "outputs": [
    {
     "data": {
      "text/html": [
       "0"
      ],
      "text/latex": [
       "0"
      ],
      "text/markdown": [
       "0"
      ],
      "text/plain": [
       "[1] 0"
      ]
     },
     "metadata": {},
     "output_type": "display_data"
    }
   ],
   "source": [
    "dat[1, 1] # Quel élément on va chercher?"
   ]
  },
  {
   "cell_type": "markdown",
   "id": "c9511130-ba41-4e1e-b513-16736c2db296",
   "metadata": {},
   "source": [
    "### On va chercher la colonne numéro 2."
   ]
  },
  {
   "cell_type": "code",
   "execution_count": 14,
   "id": "7851e7f6-8b82-4a7c-abbe-f1ed18eff836",
   "metadata": {},
   "outputs": [
    {
     "data": {
      "text/html": [
       "<style>\n",
       ".list-inline {list-style: none; margin:0; padding: 0}\n",
       ".list-inline>li {display: inline-block}\n",
       ".list-inline>li:not(:last-child)::after {content: \"\\00b7\"; padding: 0 .5ex}\n",
       "</style>\n",
       "<ol class=list-inline><li>0</li><li>1</li><li>1</li><li>0</li><li>1</li><li>0</li><li>0</li><li>0</li><li>0</li><li>1</li><li>1</li><li>1</li><li>0</li><li>0</li><li>1</li><li>1</li><li>0</li><li>0</li><li>0</li><li>1</li><li>1</li><li>0</li><li>0</li><li>1</li><li>1</li><li>0</li><li>0</li><li>0</li><li>0</li><li>0</li><li>1</li><li>0</li><li>1</li><li>0</li><li>0</li><li>0</li><li>1</li><li>1</li><li>1</li><li>1</li><li>0</li><li>0</li><li>1</li><li>0</li><li>1</li><li>1</li><li>0</li><li>1</li><li>0</li><li>0</li><li>1</li><li>1</li><li>0</li><li>0</li><li>1</li><li>0</li><li>1</li><li>1</li><li>0</li><li>0</li></ol>\n"
      ],
      "text/latex": [
       "\\begin{enumerate*}\n",
       "\\item 0\n",
       "\\item 1\n",
       "\\item 1\n",
       "\\item 0\n",
       "\\item 1\n",
       "\\item 0\n",
       "\\item 0\n",
       "\\item 0\n",
       "\\item 0\n",
       "\\item 1\n",
       "\\item 1\n",
       "\\item 1\n",
       "\\item 0\n",
       "\\item 0\n",
       "\\item 1\n",
       "\\item 1\n",
       "\\item 0\n",
       "\\item 0\n",
       "\\item 0\n",
       "\\item 1\n",
       "\\item 1\n",
       "\\item 0\n",
       "\\item 0\n",
       "\\item 1\n",
       "\\item 1\n",
       "\\item 0\n",
       "\\item 0\n",
       "\\item 0\n",
       "\\item 0\n",
       "\\item 0\n",
       "\\item 1\n",
       "\\item 0\n",
       "\\item 1\n",
       "\\item 0\n",
       "\\item 0\n",
       "\\item 0\n",
       "\\item 1\n",
       "\\item 1\n",
       "\\item 1\n",
       "\\item 1\n",
       "\\item 0\n",
       "\\item 0\n",
       "\\item 1\n",
       "\\item 0\n",
       "\\item 1\n",
       "\\item 1\n",
       "\\item 0\n",
       "\\item 1\n",
       "\\item 0\n",
       "\\item 0\n",
       "\\item 1\n",
       "\\item 1\n",
       "\\item 0\n",
       "\\item 0\n",
       "\\item 1\n",
       "\\item 0\n",
       "\\item 1\n",
       "\\item 1\n",
       "\\item 0\n",
       "\\item 0\n",
       "\\end{enumerate*}\n"
      ],
      "text/markdown": [
       "1. 0\n",
       "2. 1\n",
       "3. 1\n",
       "4. 0\n",
       "5. 1\n",
       "6. 0\n",
       "7. 0\n",
       "8. 0\n",
       "9. 0\n",
       "10. 1\n",
       "11. 1\n",
       "12. 1\n",
       "13. 0\n",
       "14. 0\n",
       "15. 1\n",
       "16. 1\n",
       "17. 0\n",
       "18. 0\n",
       "19. 0\n",
       "20. 1\n",
       "21. 1\n",
       "22. 0\n",
       "23. 0\n",
       "24. 1\n",
       "25. 1\n",
       "26. 0\n",
       "27. 0\n",
       "28. 0\n",
       "29. 0\n",
       "30. 0\n",
       "31. 1\n",
       "32. 0\n",
       "33. 1\n",
       "34. 0\n",
       "35. 0\n",
       "36. 0\n",
       "37. 1\n",
       "38. 1\n",
       "39. 1\n",
       "40. 1\n",
       "41. 0\n",
       "42. 0\n",
       "43. 1\n",
       "44. 0\n",
       "45. 1\n",
       "46. 1\n",
       "47. 0\n",
       "48. 1\n",
       "49. 0\n",
       "50. 0\n",
       "51. 1\n",
       "52. 1\n",
       "53. 0\n",
       "54. 0\n",
       "55. 1\n",
       "56. 0\n",
       "57. 1\n",
       "58. 1\n",
       "59. 0\n",
       "60. 0\n",
       "\n",
       "\n"
      ],
      "text/plain": [
       " [1] 0 1 1 0 1 0 0 0 0 1 1 1 0 0 1 1 0 0 0 1 1 0 0 1 1 0 0 0 0 0 1 0 1 0 0 0 1 1\n",
       "[39] 1 1 0 0 1 0 1 1 0 1 0 0 1 1 0 0 1 0 1 1 0 0"
      ]
     },
     "metadata": {},
     "output_type": "display_data"
    }
   ],
   "source": [
    "dat[, 2] # Encore plus de valeurs"
   ]
  },
  {
   "cell_type": "markdown",
   "id": "4dc435bb-8960-4562-971e-e25efa2d646f",
   "metadata": {},
   "source": [
    "### On va chercher les colonnes 6 à 9."
   ]
  },
  {
   "cell_type": "code",
   "execution_count": 6,
   "id": "f52457a9-5567-42f6-9134-a1e78e31288d",
   "metadata": {},
   "outputs": [
    {
     "data": {
      "text/html": [
       "<table class=\"dataframe\">\n",
       "<caption>A data.frame: 6 × 4</caption>\n",
       "<thead>\n",
       "\t<tr><th></th><th scope=col>V6</th><th scope=col>V7</th><th scope=col>V8</th><th scope=col>V9</th></tr>\n",
       "\t<tr><th></th><th scope=col>&lt;int&gt;</th><th scope=col>&lt;int&gt;</th><th scope=col>&lt;int&gt;</th><th scope=col>&lt;int&gt;</th></tr>\n",
       "</thead>\n",
       "<tbody>\n",
       "\t<tr><th scope=row>1</th><td>2</td><td>4</td><td>7</td><td>8</td></tr>\n",
       "\t<tr><th scope=row>2</th><td>1</td><td>3</td><td>2</td><td>2</td></tr>\n",
       "\t<tr><th scope=row>3</th><td>2</td><td>6</td><td>2</td><td>5</td></tr>\n",
       "\t<tr><th scope=row>4</th><td>2</td><td>2</td><td>1</td><td>6</td></tr>\n",
       "\t<tr><th scope=row>5</th><td>1</td><td>3</td><td>5</td><td>2</td></tr>\n",
       "\t<tr><th scope=row>6</th><td>4</td><td>2</td><td>1</td><td>6</td></tr>\n",
       "</tbody>\n",
       "</table>\n"
      ],
      "text/latex": [
       "A data.frame: 6 × 4\n",
       "\\begin{tabular}{r|llll}\n",
       "  & V6 & V7 & V8 & V9\\\\\n",
       "  & <int> & <int> & <int> & <int>\\\\\n",
       "\\hline\n",
       "\t1 & 2 & 4 & 7 & 8\\\\\n",
       "\t2 & 1 & 3 & 2 & 2\\\\\n",
       "\t3 & 2 & 6 & 2 & 5\\\\\n",
       "\t4 & 2 & 2 & 1 & 6\\\\\n",
       "\t5 & 1 & 3 & 5 & 2\\\\\n",
       "\t6 & 4 & 2 & 1 & 6\\\\\n",
       "\\end{tabular}\n"
      ],
      "text/markdown": [
       "\n",
       "A data.frame: 6 × 4\n",
       "\n",
       "| <!--/--> | V6 &lt;int&gt; | V7 &lt;int&gt; | V8 &lt;int&gt; | V9 &lt;int&gt; |\n",
       "|---|---|---|---|---|\n",
       "| 1 | 2 | 4 | 7 | 8 |\n",
       "| 2 | 1 | 3 | 2 | 2 |\n",
       "| 3 | 2 | 6 | 2 | 5 |\n",
       "| 4 | 2 | 2 | 1 | 6 |\n",
       "| 5 | 1 | 3 | 5 | 2 |\n",
       "| 6 | 4 | 2 | 1 | 6 |\n",
       "\n"
      ],
      "text/plain": [
       "  V6 V7 V8 V9\n",
       "1 2  4  7  8 \n",
       "2 1  3  2  2 \n",
       "3 2  6  2  5 \n",
       "4 2  2  1  6 \n",
       "5 1  3  5  2 \n",
       "6 4  2  1  6 "
      ]
     },
     "metadata": {},
     "output_type": "display_data"
    }
   ],
   "source": [
    "head(dat[, 6:9])"
   ]
  },
  {
   "cell_type": "markdown",
   "id": "b35a0dca-93be-4cb8-83da-7bc2035841fd",
   "metadata": {},
   "source": [
    "### On utilise la fonction combine c() pour rechercher des éléments non continus, rangées et colonnes."
   ]
  },
  {
   "cell_type": "code",
   "execution_count": 16,
   "id": "0d91e0d7-3f48-4226-8752-49ecea0878cd",
   "metadata": {},
   "outputs": [
    {
     "data": {
      "text/html": [
       "<table class=\"dataframe\">\n",
       "<caption>A data.frame: 4 × 5</caption>\n",
       "<thead>\n",
       "\t<tr><th></th><th scope=col>V1</th><th scope=col>V2</th><th scope=col>V3</th><th scope=col>V4</th><th scope=col>V5</th></tr>\n",
       "\t<tr><th></th><th scope=col>&lt;int&gt;</th><th scope=col>&lt;int&gt;</th><th scope=col>&lt;int&gt;</th><th scope=col>&lt;int&gt;</th><th scope=col>&lt;int&gt;</th></tr>\n",
       "</thead>\n",
       "<tbody>\n",
       "\t<tr><th scope=row>1</th><td>0</td><td>0</td><td>1</td><td>3</td><td>1</td></tr>\n",
       "\t<tr><th scope=row>5</th><td>0</td><td>1</td><td>1</td><td>3</td><td>3</td></tr>\n",
       "\t<tr><th scope=row>7</th><td>0</td><td>0</td><td>2</td><td>2</td><td>4</td></tr>\n",
       "\t<tr><th scope=row>9</th><td>0</td><td>0</td><td>0</td><td>3</td><td>1</td></tr>\n",
       "</tbody>\n",
       "</table>\n"
      ],
      "text/latex": [
       "A data.frame: 4 × 5\n",
       "\\begin{tabular}{r|lllll}\n",
       "  & V1 & V2 & V3 & V4 & V5\\\\\n",
       "  & <int> & <int> & <int> & <int> & <int>\\\\\n",
       "\\hline\n",
       "\t1 & 0 & 0 & 1 & 3 & 1\\\\\n",
       "\t5 & 0 & 1 & 1 & 3 & 3\\\\\n",
       "\t7 & 0 & 0 & 2 & 2 & 4\\\\\n",
       "\t9 & 0 & 0 & 0 & 3 & 1\\\\\n",
       "\\end{tabular}\n"
      ],
      "text/markdown": [
       "\n",
       "A data.frame: 4 × 5\n",
       "\n",
       "| <!--/--> | V1 &lt;int&gt; | V2 &lt;int&gt; | V3 &lt;int&gt; | V4 &lt;int&gt; | V5 &lt;int&gt; |\n",
       "|---|---|---|---|---|---|\n",
       "| 1 | 0 | 0 | 1 | 3 | 1 |\n",
       "| 5 | 0 | 1 | 1 | 3 | 3 |\n",
       "| 7 | 0 | 0 | 2 | 2 | 4 |\n",
       "| 9 | 0 | 0 | 0 | 3 | 1 |\n",
       "\n"
      ],
      "text/plain": [
       "  V1 V2 V3 V4 V5\n",
       "1 0  0  1  3  1 \n",
       "5 0  1  1  3  3 \n",
       "7 0  0  2  2  4 \n",
       "9 0  0  0  3  1 "
      ]
     },
     "metadata": {},
     "output_type": "display_data"
    }
   ],
   "source": [
    "dat[c(1, 5, 7, 9), 1:5] # dat[c(rangée, colonne)] Ici on aura les patients 1, 5, 7 et 9 pour les journées 1 à 5."
   ]
  },
  {
   "cell_type": "markdown",
   "id": "206958f1-1281-4faf-9308-cbacfd2e0bb0",
   "metadata": {},
   "source": [
    "### On va chercher le nom des colonnes."
   ]
  },
  {
   "cell_type": "code",
   "execution_count": 7,
   "id": "14a5f8b5-9e09-4b07-9034-cd2ecdfa38d9",
   "metadata": {},
   "outputs": [
    {
     "data": {
      "text/html": [
       "<style>\n",
       ".list-inline {list-style: none; margin:0; padding: 0}\n",
       ".list-inline>li {display: inline-block}\n",
       ".list-inline>li:not(:last-child)::after {content: \"\\00b7\"; padding: 0 .5ex}\n",
       "</style>\n",
       "<ol class=list-inline><li>'V1'</li><li>'V2'</li><li>'V3'</li><li>'V4'</li><li>'V5'</li><li>'V6'</li><li>'V7'</li><li>'V8'</li><li>'V9'</li><li>'V10'</li><li>'V11'</li><li>'V12'</li><li>'V13'</li><li>'V14'</li><li>'V15'</li><li>'V16'</li><li>'V17'</li><li>'V18'</li><li>'V19'</li><li>'V20'</li><li>'V21'</li><li>'V22'</li><li>'V23'</li><li>'V24'</li><li>'V25'</li><li>'V26'</li><li>'V27'</li><li>'V28'</li><li>'V29'</li><li>'V30'</li><li>'V31'</li><li>'V32'</li><li>'V33'</li><li>'V34'</li><li>'V35'</li><li>'V36'</li><li>'V37'</li><li>'V38'</li><li>'V39'</li><li>'V40'</li></ol>\n"
      ],
      "text/latex": [
       "\\begin{enumerate*}\n",
       "\\item 'V1'\n",
       "\\item 'V2'\n",
       "\\item 'V3'\n",
       "\\item 'V4'\n",
       "\\item 'V5'\n",
       "\\item 'V6'\n",
       "\\item 'V7'\n",
       "\\item 'V8'\n",
       "\\item 'V9'\n",
       "\\item 'V10'\n",
       "\\item 'V11'\n",
       "\\item 'V12'\n",
       "\\item 'V13'\n",
       "\\item 'V14'\n",
       "\\item 'V15'\n",
       "\\item 'V16'\n",
       "\\item 'V17'\n",
       "\\item 'V18'\n",
       "\\item 'V19'\n",
       "\\item 'V20'\n",
       "\\item 'V21'\n",
       "\\item 'V22'\n",
       "\\item 'V23'\n",
       "\\item 'V24'\n",
       "\\item 'V25'\n",
       "\\item 'V26'\n",
       "\\item 'V27'\n",
       "\\item 'V28'\n",
       "\\item 'V29'\n",
       "\\item 'V30'\n",
       "\\item 'V31'\n",
       "\\item 'V32'\n",
       "\\item 'V33'\n",
       "\\item 'V34'\n",
       "\\item 'V35'\n",
       "\\item 'V36'\n",
       "\\item 'V37'\n",
       "\\item 'V38'\n",
       "\\item 'V39'\n",
       "\\item 'V40'\n",
       "\\end{enumerate*}\n"
      ],
      "text/markdown": [
       "1. 'V1'\n",
       "2. 'V2'\n",
       "3. 'V3'\n",
       "4. 'V4'\n",
       "5. 'V5'\n",
       "6. 'V6'\n",
       "7. 'V7'\n",
       "8. 'V8'\n",
       "9. 'V9'\n",
       "10. 'V10'\n",
       "11. 'V11'\n",
       "12. 'V12'\n",
       "13. 'V13'\n",
       "14. 'V14'\n",
       "15. 'V15'\n",
       "16. 'V16'\n",
       "17. 'V17'\n",
       "18. 'V18'\n",
       "19. 'V19'\n",
       "20. 'V20'\n",
       "21. 'V21'\n",
       "22. 'V22'\n",
       "23. 'V23'\n",
       "24. 'V24'\n",
       "25. 'V25'\n",
       "26. 'V26'\n",
       "27. 'V27'\n",
       "28. 'V28'\n",
       "29. 'V29'\n",
       "30. 'V30'\n",
       "31. 'V31'\n",
       "32. 'V32'\n",
       "33. 'V33'\n",
       "34. 'V34'\n",
       "35. 'V35'\n",
       "36. 'V36'\n",
       "37. 'V37'\n",
       "38. 'V38'\n",
       "39. 'V39'\n",
       "40. 'V40'\n",
       "\n",
       "\n"
      ],
      "text/plain": [
       " [1] \"V1\"  \"V2\"  \"V3\"  \"V4\"  \"V5\"  \"V6\"  \"V7\"  \"V8\"  \"V9\"  \"V10\" \"V11\" \"V12\"\n",
       "[13] \"V13\" \"V14\" \"V15\" \"V16\" \"V17\" \"V18\" \"V19\" \"V20\" \"V21\" \"V22\" \"V23\" \"V24\"\n",
       "[25] \"V25\" \"V26\" \"V27\" \"V28\" \"V29\" \"V30\" \"V31\" \"V32\" \"V33\" \"V34\" \"V35\" \"V36\"\n",
       "[37] \"V37\" \"V38\" \"V39\" \"V40\""
      ]
     },
     "metadata": {},
     "output_type": "display_data"
    }
   ],
   "source": [
    "colnames(dat)"
   ]
  },
  {
   "cell_type": "markdown",
   "id": "8c6033a6-3a53-4c6c-a76f-f0a4037ee644",
   "metadata": {},
   "source": [
    "### Pour faire une recherche par colonne on peut utiliser le signe $."
   ]
  },
  {
   "cell_type": "code",
   "execution_count": 18,
   "id": "b0323537-abdc-421b-8d1a-91823ce20d91",
   "metadata": {},
   "outputs": [
    {
     "data": {
      "text/html": [
       "<style>\n",
       ".list-inline {list-style: none; margin:0; padding: 0}\n",
       ".list-inline>li {display: inline-block}\n",
       ".list-inline>li:not(:last-child)::after {content: \"\\00b7\"; padding: 0 .5ex}\n",
       "</style>\n",
       "<ol class=list-inline><li>0</li><li>0</li><li>0</li><li>0</li><li>0</li><li>0</li><li>0</li><li>0</li><li>0</li><li>0</li><li>0</li><li>0</li><li>0</li><li>0</li><li>0</li><li>0</li><li>0</li><li>0</li><li>0</li><li>0</li><li>0</li><li>0</li><li>0</li><li>0</li><li>0</li><li>0</li><li>0</li><li>0</li><li>0</li><li>0</li><li>0</li><li>0</li><li>0</li><li>0</li><li>0</li><li>0</li><li>0</li><li>0</li><li>0</li><li>0</li><li>0</li><li>0</li><li>0</li><li>0</li><li>0</li><li>0</li><li>0</li><li>0</li><li>0</li><li>0</li><li>0</li><li>0</li><li>0</li><li>0</li><li>0</li><li>0</li><li>0</li><li>0</li><li>0</li><li>0</li></ol>\n"
      ],
      "text/latex": [
       "\\begin{enumerate*}\n",
       "\\item 0\n",
       "\\item 0\n",
       "\\item 0\n",
       "\\item 0\n",
       "\\item 0\n",
       "\\item 0\n",
       "\\item 0\n",
       "\\item 0\n",
       "\\item 0\n",
       "\\item 0\n",
       "\\item 0\n",
       "\\item 0\n",
       "\\item 0\n",
       "\\item 0\n",
       "\\item 0\n",
       "\\item 0\n",
       "\\item 0\n",
       "\\item 0\n",
       "\\item 0\n",
       "\\item 0\n",
       "\\item 0\n",
       "\\item 0\n",
       "\\item 0\n",
       "\\item 0\n",
       "\\item 0\n",
       "\\item 0\n",
       "\\item 0\n",
       "\\item 0\n",
       "\\item 0\n",
       "\\item 0\n",
       "\\item 0\n",
       "\\item 0\n",
       "\\item 0\n",
       "\\item 0\n",
       "\\item 0\n",
       "\\item 0\n",
       "\\item 0\n",
       "\\item 0\n",
       "\\item 0\n",
       "\\item 0\n",
       "\\item 0\n",
       "\\item 0\n",
       "\\item 0\n",
       "\\item 0\n",
       "\\item 0\n",
       "\\item 0\n",
       "\\item 0\n",
       "\\item 0\n",
       "\\item 0\n",
       "\\item 0\n",
       "\\item 0\n",
       "\\item 0\n",
       "\\item 0\n",
       "\\item 0\n",
       "\\item 0\n",
       "\\item 0\n",
       "\\item 0\n",
       "\\item 0\n",
       "\\item 0\n",
       "\\item 0\n",
       "\\end{enumerate*}\n"
      ],
      "text/markdown": [
       "1. 0\n",
       "2. 0\n",
       "3. 0\n",
       "4. 0\n",
       "5. 0\n",
       "6. 0\n",
       "7. 0\n",
       "8. 0\n",
       "9. 0\n",
       "10. 0\n",
       "11. 0\n",
       "12. 0\n",
       "13. 0\n",
       "14. 0\n",
       "15. 0\n",
       "16. 0\n",
       "17. 0\n",
       "18. 0\n",
       "19. 0\n",
       "20. 0\n",
       "21. 0\n",
       "22. 0\n",
       "23. 0\n",
       "24. 0\n",
       "25. 0\n",
       "26. 0\n",
       "27. 0\n",
       "28. 0\n",
       "29. 0\n",
       "30. 0\n",
       "31. 0\n",
       "32. 0\n",
       "33. 0\n",
       "34. 0\n",
       "35. 0\n",
       "36. 0\n",
       "37. 0\n",
       "38. 0\n",
       "39. 0\n",
       "40. 0\n",
       "41. 0\n",
       "42. 0\n",
       "43. 0\n",
       "44. 0\n",
       "45. 0\n",
       "46. 0\n",
       "47. 0\n",
       "48. 0\n",
       "49. 0\n",
       "50. 0\n",
       "51. 0\n",
       "52. 0\n",
       "53. 0\n",
       "54. 0\n",
       "55. 0\n",
       "56. 0\n",
       "57. 0\n",
       "58. 0\n",
       "59. 0\n",
       "60. 0\n",
       "\n",
       "\n"
      ],
      "text/plain": [
       " [1] 0 0 0 0 0 0 0 0 0 0 0 0 0 0 0 0 0 0 0 0 0 0 0 0 0 0 0 0 0 0 0 0 0 0 0 0 0 0\n",
       "[39] 0 0 0 0 0 0 0 0 0 0 0 0 0 0 0 0 0 0 0 0 0 0"
      ]
     },
     "metadata": {},
     "output_type": "display_data"
    }
   ],
   "source": [
    "dat$V1"
   ]
  },
  {
   "cell_type": "markdown",
   "id": "994f41bb-92af-45d4-be34-0430987a7577",
   "metadata": {},
   "source": [
    "### Savoir la classe d'une colonne."
   ]
  },
  {
   "cell_type": "code",
   "execution_count": 19,
   "id": "ab12a882-5c1e-4fb6-bc7b-f2be45540a2d",
   "metadata": {},
   "outputs": [
    {
     "data": {
      "text/html": [
       "'integer'"
      ],
      "text/latex": [
       "'integer'"
      ],
      "text/markdown": [
       "'integer'"
      ],
      "text/plain": [
       "[1] \"integer\""
      ]
     },
     "metadata": {},
     "output_type": "display_data"
    },
    {
     "data": {
      "text/html": [
       "'integer'"
      ],
      "text/latex": [
       "'integer'"
      ],
      "text/markdown": [
       "'integer'"
      ],
      "text/plain": [
       "[1] \"integer\""
      ]
     },
     "metadata": {},
     "output_type": "display_data"
    }
   ],
   "source": [
    "class(dat$V1) ; class(dat$V30)"
   ]
  },
  {
   "cell_type": "markdown",
   "id": "e729e428-1b00-476d-ab72-0887a23cad6e",
   "metadata": {},
   "source": [
    "### Autre terminologie pour chercher une ou des colonnes."
   ]
  },
  {
   "cell_type": "code",
   "execution_count": 20,
   "id": "f130a2de-c271-44da-82cc-93062d644de9",
   "metadata": {},
   "outputs": [
    {
     "data": {
      "text/html": [
       "<table class=\"dataframe\">\n",
       "<caption>A data.frame: 6 × 2</caption>\n",
       "<thead>\n",
       "\t<tr><th></th><th scope=col>V2</th><th scope=col>V13</th></tr>\n",
       "\t<tr><th></th><th scope=col>&lt;int&gt;</th><th scope=col>&lt;int&gt;</th></tr>\n",
       "</thead>\n",
       "<tbody>\n",
       "\t<tr><th scope=row>1</th><td>0</td><td>10</td></tr>\n",
       "\t<tr><th scope=row>2</th><td>1</td><td> 5</td></tr>\n",
       "\t<tr><th scope=row>3</th><td>1</td><td> 4</td></tr>\n",
       "\t<tr><th scope=row>4</th><td>0</td><td> 9</td></tr>\n",
       "\t<tr><th scope=row>5</th><td>1</td><td> 6</td></tr>\n",
       "\t<tr><th scope=row>6</th><td>0</td><td> 6</td></tr>\n",
       "</tbody>\n",
       "</table>\n"
      ],
      "text/latex": [
       "A data.frame: 6 × 2\n",
       "\\begin{tabular}{r|ll}\n",
       "  & V2 & V13\\\\\n",
       "  & <int> & <int>\\\\\n",
       "\\hline\n",
       "\t1 & 0 & 10\\\\\n",
       "\t2 & 1 &  5\\\\\n",
       "\t3 & 1 &  4\\\\\n",
       "\t4 & 0 &  9\\\\\n",
       "\t5 & 1 &  6\\\\\n",
       "\t6 & 0 &  6\\\\\n",
       "\\end{tabular}\n"
      ],
      "text/markdown": [
       "\n",
       "A data.frame: 6 × 2\n",
       "\n",
       "| <!--/--> | V2 &lt;int&gt; | V13 &lt;int&gt; |\n",
       "|---|---|---|\n",
       "| 1 | 0 | 10 |\n",
       "| 2 | 1 |  5 |\n",
       "| 3 | 1 |  4 |\n",
       "| 4 | 0 |  9 |\n",
       "| 5 | 1 |  6 |\n",
       "| 6 | 0 |  6 |\n",
       "\n"
      ],
      "text/plain": [
       "  V2 V13\n",
       "1 0  10 \n",
       "2 1   5 \n",
       "3 1   4 \n",
       "4 0   9 \n",
       "5 1   6 \n",
       "6 0   6 "
      ]
     },
     "metadata": {},
     "output_type": "display_data"
    }
   ],
   "source": [
    "head(dat[, c('V2', 'V13')])"
   ]
  },
  {
   "cell_type": "markdown",
   "id": "216c696f-3541-4327-b7ef-2bf85ed5caa5",
   "metadata": {},
   "source": [
    "### On peut faire une recherche par rangée."
   ]
  },
  {
   "cell_type": "code",
   "execution_count": 8,
   "id": "22d00cf3-0c92-4d7b-bf4b-16006cbb29d3",
   "metadata": {},
   "outputs": [
    {
     "data": {
      "text/html": [
       "<style>\n",
       ".list-inline {list-style: none; margin:0; padding: 0}\n",
       ".list-inline>li {display: inline-block}\n",
       ".list-inline>li:not(:last-child)::after {content: \"\\00b7\"; padding: 0 .5ex}\n",
       "</style>\n",
       "<ol class=list-inline><li>'1'</li><li>'2'</li><li>'3'</li><li>'4'</li><li>'5'</li><li>'6'</li><li>'7'</li><li>'8'</li><li>'9'</li><li>'10'</li><li>'11'</li><li>'12'</li><li>'13'</li><li>'14'</li><li>'15'</li><li>'16'</li><li>'17'</li><li>'18'</li><li>'19'</li><li>'20'</li><li>'21'</li><li>'22'</li><li>'23'</li><li>'24'</li><li>'25'</li><li>'26'</li><li>'27'</li><li>'28'</li><li>'29'</li><li>'30'</li><li>'31'</li><li>'32'</li><li>'33'</li><li>'34'</li><li>'35'</li><li>'36'</li><li>'37'</li><li>'38'</li><li>'39'</li><li>'40'</li><li>'41'</li><li>'42'</li><li>'43'</li><li>'44'</li><li>'45'</li><li>'46'</li><li>'47'</li><li>'48'</li><li>'49'</li><li>'50'</li><li>'51'</li><li>'52'</li><li>'53'</li><li>'54'</li><li>'55'</li><li>'56'</li><li>'57'</li><li>'58'</li><li>'59'</li><li>'60'</li></ol>\n"
      ],
      "text/latex": [
       "\\begin{enumerate*}\n",
       "\\item '1'\n",
       "\\item '2'\n",
       "\\item '3'\n",
       "\\item '4'\n",
       "\\item '5'\n",
       "\\item '6'\n",
       "\\item '7'\n",
       "\\item '8'\n",
       "\\item '9'\n",
       "\\item '10'\n",
       "\\item '11'\n",
       "\\item '12'\n",
       "\\item '13'\n",
       "\\item '14'\n",
       "\\item '15'\n",
       "\\item '16'\n",
       "\\item '17'\n",
       "\\item '18'\n",
       "\\item '19'\n",
       "\\item '20'\n",
       "\\item '21'\n",
       "\\item '22'\n",
       "\\item '23'\n",
       "\\item '24'\n",
       "\\item '25'\n",
       "\\item '26'\n",
       "\\item '27'\n",
       "\\item '28'\n",
       "\\item '29'\n",
       "\\item '30'\n",
       "\\item '31'\n",
       "\\item '32'\n",
       "\\item '33'\n",
       "\\item '34'\n",
       "\\item '35'\n",
       "\\item '36'\n",
       "\\item '37'\n",
       "\\item '38'\n",
       "\\item '39'\n",
       "\\item '40'\n",
       "\\item '41'\n",
       "\\item '42'\n",
       "\\item '43'\n",
       "\\item '44'\n",
       "\\item '45'\n",
       "\\item '46'\n",
       "\\item '47'\n",
       "\\item '48'\n",
       "\\item '49'\n",
       "\\item '50'\n",
       "\\item '51'\n",
       "\\item '52'\n",
       "\\item '53'\n",
       "\\item '54'\n",
       "\\item '55'\n",
       "\\item '56'\n",
       "\\item '57'\n",
       "\\item '58'\n",
       "\\item '59'\n",
       "\\item '60'\n",
       "\\end{enumerate*}\n"
      ],
      "text/markdown": [
       "1. '1'\n",
       "2. '2'\n",
       "3. '3'\n",
       "4. '4'\n",
       "5. '5'\n",
       "6. '6'\n",
       "7. '7'\n",
       "8. '8'\n",
       "9. '9'\n",
       "10. '10'\n",
       "11. '11'\n",
       "12. '12'\n",
       "13. '13'\n",
       "14. '14'\n",
       "15. '15'\n",
       "16. '16'\n",
       "17. '17'\n",
       "18. '18'\n",
       "19. '19'\n",
       "20. '20'\n",
       "21. '21'\n",
       "22. '22'\n",
       "23. '23'\n",
       "24. '24'\n",
       "25. '25'\n",
       "26. '26'\n",
       "27. '27'\n",
       "28. '28'\n",
       "29. '29'\n",
       "30. '30'\n",
       "31. '31'\n",
       "32. '32'\n",
       "33. '33'\n",
       "34. '34'\n",
       "35. '35'\n",
       "36. '36'\n",
       "37. '37'\n",
       "38. '38'\n",
       "39. '39'\n",
       "40. '40'\n",
       "41. '41'\n",
       "42. '42'\n",
       "43. '43'\n",
       "44. '44'\n",
       "45. '45'\n",
       "46. '46'\n",
       "47. '47'\n",
       "48. '48'\n",
       "49. '49'\n",
       "50. '50'\n",
       "51. '51'\n",
       "52. '52'\n",
       "53. '53'\n",
       "54. '54'\n",
       "55. '55'\n",
       "56. '56'\n",
       "57. '57'\n",
       "58. '58'\n",
       "59. '59'\n",
       "60. '60'\n",
       "\n",
       "\n"
      ],
      "text/plain": [
       " [1] \"1\"  \"2\"  \"3\"  \"4\"  \"5\"  \"6\"  \"7\"  \"8\"  \"9\"  \"10\" \"11\" \"12\" \"13\" \"14\" \"15\"\n",
       "[16] \"16\" \"17\" \"18\" \"19\" \"20\" \"21\" \"22\" \"23\" \"24\" \"25\" \"26\" \"27\" \"28\" \"29\" \"30\"\n",
       "[31] \"31\" \"32\" \"33\" \"34\" \"35\" \"36\" \"37\" \"38\" \"39\" \"40\" \"41\" \"42\" \"43\" \"44\" \"45\"\n",
       "[46] \"46\" \"47\" \"48\" \"49\" \"50\" \"51\" \"52\" \"53\" \"54\" \"55\" \"56\" \"57\" \"58\" \"59\" \"60\""
      ]
     },
     "metadata": {},
     "output_type": "display_data"
    }
   ],
   "source": [
    "rownames(dat)"
   ]
  },
  {
   "cell_type": "markdown",
   "id": "1a93ecc5-70a6-4935-a730-8b458606923b",
   "metadata": {},
   "source": [
    "### Sélectionner une rangée."
   ]
  },
  {
   "cell_type": "code",
   "execution_count": 29,
   "id": "9abf107e-ceb3-4f07-acbf-105e191e79ce",
   "metadata": {
    "editable": true,
    "slideshow": {
     "slide_type": ""
    },
    "tags": []
   },
   "outputs": [
    {
     "data": {
      "text/html": [
       "<table class=\"dataframe\">\n",
       "<caption>A data.frame: 1 × 40</caption>\n",
       "<thead>\n",
       "\t<tr><th></th><th scope=col>V1</th><th scope=col>V2</th><th scope=col>V3</th><th scope=col>V4</th><th scope=col>V5</th><th scope=col>V6</th><th scope=col>V7</th><th scope=col>V8</th><th scope=col>V9</th><th scope=col>V10</th><th scope=col>⋯</th><th scope=col>V31</th><th scope=col>V32</th><th scope=col>V33</th><th scope=col>V34</th><th scope=col>V35</th><th scope=col>V36</th><th scope=col>V37</th><th scope=col>V38</th><th scope=col>V39</th><th scope=col>V40</th></tr>\n",
       "\t<tr><th></th><th scope=col>&lt;int&gt;</th><th scope=col>&lt;int&gt;</th><th scope=col>&lt;int&gt;</th><th scope=col>&lt;int&gt;</th><th scope=col>&lt;int&gt;</th><th scope=col>&lt;int&gt;</th><th scope=col>&lt;int&gt;</th><th scope=col>&lt;int&gt;</th><th scope=col>&lt;int&gt;</th><th scope=col>&lt;int&gt;</th><th scope=col>⋯</th><th scope=col>&lt;int&gt;</th><th scope=col>&lt;int&gt;</th><th scope=col>&lt;int&gt;</th><th scope=col>&lt;int&gt;</th><th scope=col>&lt;int&gt;</th><th scope=col>&lt;int&gt;</th><th scope=col>&lt;int&gt;</th><th scope=col>&lt;int&gt;</th><th scope=col>&lt;int&gt;</th><th scope=col>&lt;int&gt;</th></tr>\n",
       "</thead>\n",
       "<tbody>\n",
       "\t<tr><th scope=row>2</th><td>0</td><td>1</td><td>2</td><td>1</td><td>2</td><td>1</td><td>3</td><td>2</td><td>2</td><td>6</td><td>⋯</td><td>3</td><td>5</td><td>4</td><td>4</td><td>5</td><td>5</td><td>1</td><td>1</td><td>0</td><td>1</td></tr>\n",
       "</tbody>\n",
       "</table>\n"
      ],
      "text/latex": [
       "A data.frame: 1 × 40\n",
       "\\begin{tabular}{r|lllllllllllllllllllll}\n",
       "  & V1 & V2 & V3 & V4 & V5 & V6 & V7 & V8 & V9 & V10 & ⋯ & V31 & V32 & V33 & V34 & V35 & V36 & V37 & V38 & V39 & V40\\\\\n",
       "  & <int> & <int> & <int> & <int> & <int> & <int> & <int> & <int> & <int> & <int> & ⋯ & <int> & <int> & <int> & <int> & <int> & <int> & <int> & <int> & <int> & <int>\\\\\n",
       "\\hline\n",
       "\t2 & 0 & 1 & 2 & 1 & 2 & 1 & 3 & 2 & 2 & 6 & ⋯ & 3 & 5 & 4 & 4 & 5 & 5 & 1 & 1 & 0 & 1\\\\\n",
       "\\end{tabular}\n"
      ],
      "text/markdown": [
       "\n",
       "A data.frame: 1 × 40\n",
       "\n",
       "| <!--/--> | V1 &lt;int&gt; | V2 &lt;int&gt; | V3 &lt;int&gt; | V4 &lt;int&gt; | V5 &lt;int&gt; | V6 &lt;int&gt; | V7 &lt;int&gt; | V8 &lt;int&gt; | V9 &lt;int&gt; | V10 &lt;int&gt; | ⋯ ⋯ | V31 &lt;int&gt; | V32 &lt;int&gt; | V33 &lt;int&gt; | V34 &lt;int&gt; | V35 &lt;int&gt; | V36 &lt;int&gt; | V37 &lt;int&gt; | V38 &lt;int&gt; | V39 &lt;int&gt; | V40 &lt;int&gt; |\n",
       "|---|---|---|---|---|---|---|---|---|---|---|---|---|---|---|---|---|---|---|---|---|---|\n",
       "| 2 | 0 | 1 | 2 | 1 | 2 | 1 | 3 | 2 | 2 | 6 | ⋯ | 3 | 5 | 4 | 4 | 5 | 5 | 1 | 1 | 0 | 1 |\n",
       "\n"
      ],
      "text/plain": [
       "  V1 V2 V3 V4 V5 V6 V7 V8 V9 V10 ⋯ V31 V32 V33 V34 V35 V36 V37 V38 V39 V40\n",
       "2 0  1  2  1  2  1  3  2  2  6   ⋯ 3   5   4   4   5   5   1   1   0   1  "
      ]
     },
     "metadata": {},
     "output_type": "display_data"
    }
   ],
   "source": [
    "dat[2, ]"
   ]
  },
  {
   "cell_type": "markdown",
   "id": "ba86128b-50d6-4b69-9465-82c917d410bf",
   "metadata": {},
   "source": [
    "## **Exercice:**\n",
    "### Écrire une sélection de trois rangées spécifiques avec la fonction combine."
   ]
  },
  {
   "cell_type": "code",
   "execution_count": 3,
   "id": "5e46e5ae-a363-4a7a-80ea-894310aa42bb",
   "metadata": {
    "editable": true,
    "slideshow": {
     "slide_type": ""
    },
    "tags": [
     "empty"
    ]
   },
   "outputs": [
    {
     "data": {
      "text/html": [
       "<table class=\"dataframe\">\n",
       "<caption>A data.frame: 3 × 40</caption>\n",
       "<thead>\n",
       "\t<tr><th></th><th scope=col>V1</th><th scope=col>V2</th><th scope=col>V3</th><th scope=col>V4</th><th scope=col>V5</th><th scope=col>V6</th><th scope=col>V7</th><th scope=col>V8</th><th scope=col>V9</th><th scope=col>V10</th><th scope=col>⋯</th><th scope=col>V31</th><th scope=col>V32</th><th scope=col>V33</th><th scope=col>V34</th><th scope=col>V35</th><th scope=col>V36</th><th scope=col>V37</th><th scope=col>V38</th><th scope=col>V39</th><th scope=col>V40</th></tr>\n",
       "\t<tr><th></th><th scope=col>&lt;int&gt;</th><th scope=col>&lt;int&gt;</th><th scope=col>&lt;int&gt;</th><th scope=col>&lt;int&gt;</th><th scope=col>&lt;int&gt;</th><th scope=col>&lt;int&gt;</th><th scope=col>&lt;int&gt;</th><th scope=col>&lt;int&gt;</th><th scope=col>&lt;int&gt;</th><th scope=col>&lt;int&gt;</th><th scope=col>⋯</th><th scope=col>&lt;int&gt;</th><th scope=col>&lt;int&gt;</th><th scope=col>&lt;int&gt;</th><th scope=col>&lt;int&gt;</th><th scope=col>&lt;int&gt;</th><th scope=col>&lt;int&gt;</th><th scope=col>&lt;int&gt;</th><th scope=col>&lt;int&gt;</th><th scope=col>&lt;int&gt;</th><th scope=col>&lt;int&gt;</th></tr>\n",
       "</thead>\n",
       "<tbody>\n",
       "\t<tr><th scope=row>15</th><td>0</td><td>1</td><td>2</td><td>1</td><td>1</td><td>1</td><td>4</td><td>1</td><td>5</td><td>2</td><td>⋯</td><td>8</td><td>2</td><td>5</td><td>1</td><td>3</td><td>4</td><td>2</td><td>0</td><td>2</td><td>0</td></tr>\n",
       "\t<tr><th scope=row>20</th><td>0</td><td>1</td><td>2</td><td>0</td><td>1</td><td>4</td><td>3</td><td>2</td><td>2</td><td>7</td><td>⋯</td><td>6</td><td>6</td><td>6</td><td>1</td><td>1</td><td>2</td><td>4</td><td>3</td><td>1</td><td>1</td></tr>\n",
       "\t<tr><th scope=row>30</th><td>0</td><td>0</td><td>0</td><td>1</td><td>4</td><td>4</td><td>6</td><td>3</td><td>8</td><td>6</td><td>⋯</td><td>6</td><td>9</td><td>5</td><td>5</td><td>2</td><td>5</td><td>2</td><td>1</td><td>0</td><td>1</td></tr>\n",
       "</tbody>\n",
       "</table>\n"
      ],
      "text/latex": [
       "A data.frame: 3 × 40\n",
       "\\begin{tabular}{r|lllllllllllllllllllll}\n",
       "  & V1 & V2 & V3 & V4 & V5 & V6 & V7 & V8 & V9 & V10 & ⋯ & V31 & V32 & V33 & V34 & V35 & V36 & V37 & V38 & V39 & V40\\\\\n",
       "  & <int> & <int> & <int> & <int> & <int> & <int> & <int> & <int> & <int> & <int> & ⋯ & <int> & <int> & <int> & <int> & <int> & <int> & <int> & <int> & <int> & <int>\\\\\n",
       "\\hline\n",
       "\t15 & 0 & 1 & 2 & 1 & 1 & 1 & 4 & 1 & 5 & 2 & ⋯ & 8 & 2 & 5 & 1 & 3 & 4 & 2 & 0 & 2 & 0\\\\\n",
       "\t20 & 0 & 1 & 2 & 0 & 1 & 4 & 3 & 2 & 2 & 7 & ⋯ & 6 & 6 & 6 & 1 & 1 & 2 & 4 & 3 & 1 & 1\\\\\n",
       "\t30 & 0 & 0 & 0 & 1 & 4 & 4 & 6 & 3 & 8 & 6 & ⋯ & 6 & 9 & 5 & 5 & 2 & 5 & 2 & 1 & 0 & 1\\\\\n",
       "\\end{tabular}\n"
      ],
      "text/markdown": [
       "\n",
       "A data.frame: 3 × 40\n",
       "\n",
       "| <!--/--> | V1 &lt;int&gt; | V2 &lt;int&gt; | V3 &lt;int&gt; | V4 &lt;int&gt; | V5 &lt;int&gt; | V6 &lt;int&gt; | V7 &lt;int&gt; | V8 &lt;int&gt; | V9 &lt;int&gt; | V10 &lt;int&gt; | ⋯ ⋯ | V31 &lt;int&gt; | V32 &lt;int&gt; | V33 &lt;int&gt; | V34 &lt;int&gt; | V35 &lt;int&gt; | V36 &lt;int&gt; | V37 &lt;int&gt; | V38 &lt;int&gt; | V39 &lt;int&gt; | V40 &lt;int&gt; |\n",
       "|---|---|---|---|---|---|---|---|---|---|---|---|---|---|---|---|---|---|---|---|---|---|\n",
       "| 15 | 0 | 1 | 2 | 1 | 1 | 1 | 4 | 1 | 5 | 2 | ⋯ | 8 | 2 | 5 | 1 | 3 | 4 | 2 | 0 | 2 | 0 |\n",
       "| 20 | 0 | 1 | 2 | 0 | 1 | 4 | 3 | 2 | 2 | 7 | ⋯ | 6 | 6 | 6 | 1 | 1 | 2 | 4 | 3 | 1 | 1 |\n",
       "| 30 | 0 | 0 | 0 | 1 | 4 | 4 | 6 | 3 | 8 | 6 | ⋯ | 6 | 9 | 5 | 5 | 2 | 5 | 2 | 1 | 0 | 1 |\n",
       "\n"
      ],
      "text/plain": [
       "   V1 V2 V3 V4 V5 V6 V7 V8 V9 V10 ⋯ V31 V32 V33 V34 V35 V36 V37 V38 V39 V40\n",
       "15 0  1  2  1  1  1  4  1  5  2   ⋯ 8   2   5   1   3   4   2   0   2   0  \n",
       "20 0  1  2  0  1  4  3  2  2  7   ⋯ 6   6   6   1   1   2   4   3   1   1  \n",
       "30 0  0  0  1  4  4  6  3  8  6   ⋯ 6   9   5   5   2   5   2   1   0   1  "
      ]
     },
     "metadata": {},
     "output_type": "display_data"
    }
   ],
   "source": []
  },
  {
   "cell_type": "markdown",
   "id": "ac4fbc7d-e22a-4c76-85d6-59c8ec972398",
   "metadata": {},
   "source": [
    "## **En résumé**:\n",
    "### On importe nos données avec `read.csv()`."
   ]
  },
  {
   "cell_type": "code",
   "execution_count": null,
   "id": "4120bf94-6aee-4025-a50f-cf87a6a1c9f7",
   "metadata": {
    "editable": true,
    "slideshow": {
     "slide_type": ""
    },
    "tags": []
   },
   "outputs": [],
   "source": [
    "dat = read.csv(file = 'data/inflammation-01.csv', header = TRUE, stringsAsFactors = FALSE)"
   ]
  },
  {
   "cell_type": "markdown",
   "id": "f94562e5-72a9-4065-bda7-05a2592df415",
   "metadata": {},
   "source": [
    "### On peut rechercher dans un data frame en utilisant:\n",
    "#### Un index [rangée, colonne]:\n",
    "- #### dat[1, 1]\n",
    "- #### dat[, 2]\n",
    "- #### dat[, 6:9]\n",
    "### On sélectionne avec un vecteur pour avoir des données non continues:\n",
    "- #### dat[c(1, 5, 7, 9), 1:5]\n",
    "### On peut rechercher de l'information avec le nom de la colonne:\n",
    "- #### colnames(dat) ; dat$Age\n",
    "---"
   ]
  },
  {
   "cell_type": "code",
   "execution_count": null,
   "id": "4c2358ef-b268-4e54-89dd-d3db6da7e2db",
   "metadata": {},
   "outputs": [],
   "source": []
  }
 ],
 "metadata": {
  "kernelspec": {
   "display_name": "R",
   "language": "R",
   "name": "ir"
  },
  "language_info": {
   "codemirror_mode": "r",
   "file_extension": ".r",
   "mimetype": "text/x-r-source",
   "name": "R",
   "pygments_lexer": "r",
   "version": "4.2.3"
  },
  "widgets": {
   "application/vnd.jupyter.widget-state+json": {
    "state": {},
    "version_major": 2,
    "version_minor": 0
   }
  }
 },
 "nbformat": 4,
 "nbformat_minor": 5
}
