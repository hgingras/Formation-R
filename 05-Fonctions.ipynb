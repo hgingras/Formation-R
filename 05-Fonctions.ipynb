{
 "cells": [
  {
   "cell_type": "markdown",
   "id": "123567b9-cc30-4755-9e5f-176d3bbe32e1",
   "metadata": {},
   "source": [
    "# **Les fonctions**\n",
    "## Objectifs \n",
    "- #### Définir une fonction.\n",
    "- #### Une fonction qui retrourne une donnée.\n",
    "\n",
    "\n",
    "Explain why we should divide programs into small, single-purpose functions."
   ]
  },
  {
   "cell_type": "markdown",
   "id": "0c89b72e-9d87-4e17-8928-afddbfa7178e",
   "metadata": {},
   "source": [
    "## Comment créer une fonction?\n",
    "- #### Les fonctions créées par l'usager sont traitées par le système comme les fonctions internes.\n",
    "- #### On définit une nouvelle fonction avec la syntaxe suivante :"
   ]
  },
  {
   "cell_type": "code",
   "execution_count": 1,
   "id": "62c4dd56-78e4-4cbf-9b59-d8b5bb8a4960",
   "metadata": {},
   "outputs": [],
   "source": [
    "fun = function(arguments) expression"
   ]
  },
  {
   "cell_type": "markdown",
   "id": "00585e3c-f32c-416f-8f88-33e4932c0317",
   "metadata": {},
   "source": [
    "- #### fun = Nom de la fonction. (même règles que le nom d'une variables).\n",
    "- #### function = mot clé pour une fonction.\n",
    "- #### arguments = Liste des arguments séparés par des virgules.\n",
    "- #### expression = Corps de la fonction. Entre accolades.\n",
    "### Fonction fahrenheit_a_celsius qui prend en argument une température en fahrenheit et retourne la conversion en celsius."
   ]
  },
  {
   "cell_type": "code",
   "execution_count": 2,
   "id": "43b4eb8c-e451-4249-8679-f61e4db3d4de",
   "metadata": {},
   "outputs": [],
   "source": [
    "fahrenheit_a_celsius = function(temp_F) {\n",
    "    # Cette fonction prend en valeur une température en fahrenheit et retoune l'équivalent en celcius.\n",
    "  temp_C = (temp_F - 32) * 5 / 9\n",
    "  return(temp_C)\n",
    "}"
   ]
  },
  {
   "cell_type": "markdown",
   "id": "d3cc13cf-1d6b-476f-bb9d-02a436cc373b",
   "metadata": {},
   "source": [
    "### On appelle la fonction comme on le ferait avec n'importe quelle fonction:"
   ]
  },
  {
   "cell_type": "code",
   "execution_count": 8,
   "id": "2ad091c6-f4a0-4e07-83bf-de016986c355",
   "metadata": {},
   "outputs": [
    {
     "data": {
      "text/html": [
       "0"
      ],
      "text/latex": [
       "0"
      ],
      "text/markdown": [
       "0"
      ],
      "text/plain": [
       "[1] 0"
      ]
     },
     "metadata": {},
     "output_type": "display_data"
    }
   ],
   "source": [
    "fahrenheit_a_celsius(32) # Point de congélation."
   ]
  },
  {
   "cell_type": "code",
   "execution_count": 7,
   "id": "4e61b104-8c5e-4a9a-9f87-6f0f8300c5a1",
   "metadata": {},
   "outputs": [
    {
     "data": {
      "text/html": [
       "100"
      ],
      "text/latex": [
       "100"
      ],
      "text/markdown": [
       "100"
      ],
      "text/plain": [
       "[1] 100"
      ]
     },
     "metadata": {},
     "output_type": "display_data"
    }
   ],
   "source": [
    "fahrenheit_a_celsius(212) # Point d'ébulition."
   ]
  },
  {
   "cell_type": "markdown",
   "id": "921d3b52-87f9-4821-bc78-2c16e64a0769",
   "metadata": {},
   "source": [
    "### Maintenant on peut passer de celsius à kelvin."
   ]
  },
  {
   "cell_type": "code",
   "execution_count": 8,
   "id": "03165f24-bdc6-4eb0-a27d-b2ef5b7cdbfd",
   "metadata": {},
   "outputs": [],
   "source": [
    "celsius_a_kelvin = function(temp_C) {\n",
    "  temp_K = temp_C + 273.15\n",
    "  return(temp_K)\n",
    "}"
   ]
  },
  {
   "cell_type": "code",
   "execution_count": 12,
   "id": "81443afd-a017-4c01-adb4-fba234a24dc7",
   "metadata": {},
   "outputs": [
    {
     "data": {
      "text/html": [
       "273.15"
      ],
      "text/latex": [
       "273.15"
      ],
      "text/markdown": [
       "273.15"
      ],
      "text/plain": [
       "[1] 273.15"
      ]
     },
     "metadata": {},
     "output_type": "display_data"
    }
   ],
   "source": [
    "celsius_a_kelvin(0) # Point de congélation de l'eau en kelvin."
   ]
  },
  {
   "cell_type": "markdown",
   "id": "9bac3e29-1f9e-40d2-8786-e5cb4b8ed72e",
   "metadata": {},
   "source": [
    "### Pour passer de Fahrenheit à Kelvin, on réutilisation le code."
   ]
  },
  {
   "cell_type": "code",
   "execution_count": 9,
   "id": "a7e34d9a-6c29-482b-8cb4-fa8aeee0f31f",
   "metadata": {},
   "outputs": [],
   "source": [
    "fahrenheit_a_kelvin = function(temp_F) {\n",
    "  temp_C = fahrenheit_a_celsius(temp_F)\n",
    "  temp_K = celsius_a_kelvin(temp_C)\n",
    "  return(temp_K)\n",
    "}"
   ]
  },
  {
   "cell_type": "code",
   "execution_count": 10,
   "id": "a20e5890-fcb2-4809-8720-eb84144345b1",
   "metadata": {},
   "outputs": [
    {
     "data": {
      "text/html": [
       "273.15"
      ],
      "text/latex": [
       "273.15"
      ],
      "text/markdown": [
       "273.15"
      ],
      "text/plain": [
       "[1] 273.15"
      ]
     },
     "metadata": {},
     "output_type": "display_data"
    }
   ],
   "source": [
    "fahrenheit_a_kelvin(32.0) # Point de congélation de l'eau en kelvin."
   ]
  },
  {
   "cell_type": "markdown",
   "id": "f9a7911b-4d78-407a-8018-78bfb42ff863",
   "metadata": {},
   "source": [
    "## Un peu plus loin : Imbrication de fonctions."
   ]
  },
  {
   "cell_type": "code",
   "execution_count": 13,
   "id": "8483f718-680e-4e5b-9729-422d9e37a0ec",
   "metadata": {},
   "outputs": [
    {
     "data": {
      "text/html": [
       "273.15"
      ],
      "text/latex": [
       "273.15"
      ],
      "text/markdown": [
       "273.15"
      ],
      "text/plain": [
       "[1] 273.15"
      ]
     },
     "metadata": {},
     "output_type": "display_data"
    }
   ],
   "source": [
    "celsius_a_kelvin(fahrenheit_a_celsius(32.0))"
   ]
  },
  {
   "cell_type": "markdown",
   "id": "bf289bf2-4a04-4fa0-8c3d-b8426aa28643",
   "metadata": {},
   "source": [
    "## **Autre exemple:**\n",
    "### On veut créer une fonction qui nous retourne un vecteur qui contient le premier et le dernier élément du vecteur principal."
   ]
  },
  {
   "cell_type": "code",
   "execution_count": 14,
   "id": "14f6ff22-61bd-451e-91f6-a85727caef93",
   "metadata": {},
   "outputs": [],
   "source": [
    "limites = function(v) {\n",
    "   premier = v[1]\n",
    "   dernier = v[length(v)]\n",
    "   reponse = c(premier, dernier)\n",
    "   return(reponse)\n",
    "}"
   ]
  },
  {
   "cell_type": "code",
   "execution_count": 15,
   "id": "5084bfd0-c087-4c38-bf2e-fcb78a127e9f",
   "metadata": {},
   "outputs": [
    {
     "data": {
      "text/html": [
       "<style>\n",
       ".list-inline {list-style: none; margin:0; padding: 0}\n",
       ".list-inline>li {display: inline-block}\n",
       ".list-inline>li:not(:last-child)::after {content: \"\\00b7\"; padding: 0 .5ex}\n",
       "</style>\n",
       "<ol class=list-inline><li>1</li><li>10</li></ol>\n"
      ],
      "text/latex": [
       "\\begin{enumerate*}\n",
       "\\item 1\n",
       "\\item 10\n",
       "\\end{enumerate*}\n"
      ],
      "text/markdown": [
       "1. 1\n",
       "2. 10\n",
       "\n",
       "\n"
      ],
      "text/plain": [
       "[1]  1 10"
      ]
     },
     "metadata": {},
     "output_type": "display_data"
    }
   ],
   "source": [
    "vecteur = 1:10\n",
    "limites(vecteur)"
   ]
  },
  {
   "cell_type": "code",
   "execution_count": 16,
   "id": "d7dad8ec-09cf-44c8-9382-6b840207c07e",
   "metadata": {},
   "outputs": [
    {
     "data": {
      "text/html": [
       "<style>\n",
       ".list-inline {list-style: none; margin:0; padding: 0}\n",
       ".list-inline>li {display: inline-block}\n",
       ".list-inline>li:not(:last-child)::after {content: \"\\00b7\"; padding: 0 .5ex}\n",
       "</style>\n",
       "<ol class=list-inline><li>5</li><li>4</li></ol>\n"
      ],
      "text/latex": [
       "\\begin{enumerate*}\n",
       "\\item 5\n",
       "\\item 4\n",
       "\\end{enumerate*}\n"
      ],
      "text/markdown": [
       "1. 5\n",
       "2. 4\n",
       "\n",
       "\n"
      ],
      "text/plain": [
       "[1] 5 4"
      ]
     },
     "metadata": {},
     "output_type": "display_data"
    }
   ],
   "source": [
    "limites(c(5, 9, 3, 4))"
   ]
  },
  {
   "cell_type": "markdown",
   "id": "68029208-6309-4683-8e17-314327e8b829",
   "metadata": {},
   "source": [
    "## Un argument avec une valeur par défaut."
   ]
  },
  {
   "cell_type": "code",
   "execution_count": 17,
   "id": "1efca932-a39d-4262-9610-dd7b32715e67",
   "metadata": {},
   "outputs": [],
   "source": [
    "puissance = function(x, y = 2) {\n",
    "return(x^y)\n",
    "}"
   ]
  },
  {
   "cell_type": "code",
   "execution_count": 18,
   "id": "681cd891-b6cd-410a-ab9d-1967a600e8c6",
   "metadata": {},
   "outputs": [
    {
     "data": {
      "text/html": [
       "8"
      ],
      "text/latex": [
       "8"
      ],
      "text/markdown": [
       "8"
      ],
      "text/plain": [
       "[1] 8"
      ]
     },
     "metadata": {},
     "output_type": "display_data"
    },
    {
     "data": {
      "text/html": [
       "4"
      ],
      "text/latex": [
       "4"
      ],
      "text/markdown": [
       "4"
      ],
      "text/plain": [
       "[1] 4"
      ]
     },
     "metadata": {},
     "output_type": "display_data"
    }
   ],
   "source": [
    "puissance(2,3)\n",
    "puissance(2)"
   ]
  },
  {
   "cell_type": "markdown",
   "id": "409eb662-4994-4de3-9e80-e79a96f46802",
   "metadata": {},
   "source": [
    "## Exercice:\n",
    "### Écrire une fonction qui retourne une liste avec l'aire et le périmètre d'un rectangle. La fonction prend en paramètre la longueur et la largeur. Ajouter l'aire et le périmètre comme attribut de la liste."
   ]
  },
  {
   "cell_type": "code",
   "execution_count": 29,
   "id": "206abc33-3d99-4300-bd3b-0d6fb9175a15",
   "metadata": {},
   "outputs": [],
   "source": [
    "Rectangle = function(longeur, largeur){\n",
    "  aire = longeur * largeur\n",
    "  perimetre = 2 * (longeur + largeur)\n",
    "  resultat = list(\"Aire\" = aire, \"Perimetre\" = perimetre)\n",
    "  return(resultat)\n",
    "}"
   ]
  },
  {
   "cell_type": "code",
   "execution_count": 30,
   "id": "333e9d91-d134-4ae6-b5d1-cb112a570510",
   "metadata": {},
   "outputs": [
    {
     "data": {
      "text/html": [
       "<dl>\n",
       "\t<dt>$Aire</dt>\n",
       "\t\t<dd>8</dd>\n",
       "\t<dt>$Perimetre</dt>\n",
       "\t\t<dd>12</dd>\n",
       "</dl>\n"
      ],
      "text/latex": [
       "\\begin{description}\n",
       "\\item[\\$Aire] 8\n",
       "\\item[\\$Perimetre] 12\n",
       "\\end{description}\n"
      ],
      "text/markdown": [
       "$Aire\n",
       ":   8\n",
       "$Perimetre\n",
       ":   12\n",
       "\n",
       "\n"
      ],
      "text/plain": [
       "$Aire\n",
       "[1] 8\n",
       "\n",
       "$Perimetre\n",
       "[1] 12\n"
      ]
     },
     "metadata": {},
     "output_type": "display_data"
    }
   ],
   "source": [
    "Rectangle(2,4)"
   ]
  },
  {
   "cell_type": "markdown",
   "id": "5096a37d-387c-45af-bae5-9fd6b11ef1ac",
   "metadata": {},
   "source": [
    "## En résumé:"
   ]
  },
  {
   "cell_type": "markdown",
   "id": "0d765197-287e-4c7a-a650-83b003521cdf",
   "metadata": {},
   "source": [
    "- ## Important de garder notre fonction le plus simple possible.\n",
    "- ## Ajouter une courte description au début de la fonction.\n",
    "- ## On défini une fonction de cette façon : name <- function(...args...) {...body...}\n",
    "- ## On appelle une fonction de cette façon : name(...values...)\n",
    "- ## On peut spécifier une valeur par défaut."
   ]
  }
 ],
 "metadata": {
  "kernelspec": {
   "display_name": "R",
   "language": "R",
   "name": "ir"
  },
  "language_info": {
   "codemirror_mode": "r",
   "file_extension": ".r",
   "mimetype": "text/x-r-source",
   "name": "R",
   "pygments_lexer": "r",
   "version": "4.2.3"
  }
 },
 "nbformat": 4,
 "nbformat_minor": 5
}
